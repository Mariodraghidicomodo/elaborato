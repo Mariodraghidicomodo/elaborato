{
 "cells": [
  {
   "cell_type": "code",
   "execution_count": 3,
   "metadata": {},
   "outputs": [
    {
     "name": "stderr",
     "output_type": "stream",
     "text": [
      "c:\\Users\\elped\\OneDrive\\Desktop\\git_vs_code\\prova-elab-ing\\.venv\\Lib\\site-packages\\urllib3\\connectionpool.py:1103: InsecureRequestWarning: Unverified HTTPS request is being made to host 'gatherer.wizards.com'. Adding certificate verification is strongly advised. See: https://urllib3.readthedocs.io/en/latest/advanced-usage.html#tls-warnings\n",
      "  warnings.warn(\n"
     ]
    }
   ],
   "source": [
    "import requests\n",
    "\n",
    "#TEST DOWLOAD ONLY ONE IMAGE!!\n",
    "\n",
    "#f'http://gatherer.wizards.com/Handlers/Image.ashx?multiverseid={list_card_info[0]}&type=card'\n",
    "#http://gatherer.wizards.com/Handlers/Image.ashx?multiverseid=383020&type=card\n",
    "\n",
    "image_url = 'http://gatherer.wizards.com/Handlers/Image.ashx?multiverseid=383020&type=card'\n",
    "\n",
    "img_data = requests.get(image_url, verify = False).content\n",
    "with open('db_image_mtg/image_name.jpg','wb') as handler:\n",
    "    handler.write(img_data)"
   ]
  },
  {
   "cell_type": "code",
   "execution_count": 5,
   "metadata": {},
   "outputs": [],
   "source": [
    "import pandas as pd"
   ]
  },
  {
   "cell_type": "markdown",
   "metadata": {},
   "source": [
    "#DOWNLOAD MULTIPLE IMAGES, NAME = NAME OF THE CARDS"
   ]
  },
  {
   "cell_type": "code",
   "execution_count": 6,
   "metadata": {},
   "outputs": [],
   "source": [
    "#apro il database:\n",
    "final_df = pd.read_json(\"final_json.json\")"
   ]
  },
  {
   "cell_type": "code",
   "execution_count": 9,
   "metadata": {},
   "outputs": [],
   "source": [
    "#scrorro data set per multi id and name and set\n",
    "df_name_id_set= final_df[['name','multiverse_ids','set_name']]"
   ]
  },
  {
   "cell_type": "code",
   "execution_count": 18,
   "metadata": {},
   "outputs": [
    {
     "data": {
      "text/html": [
       "<div>\n",
       "<style scoped>\n",
       "    .dataframe tbody tr th:only-of-type {\n",
       "        vertical-align: middle;\n",
       "    }\n",
       "\n",
       "    .dataframe tbody tr th {\n",
       "        vertical-align: top;\n",
       "    }\n",
       "\n",
       "    .dataframe thead th {\n",
       "        text-align: right;\n",
       "    }\n",
       "</style>\n",
       "<table border=\"1\" class=\"dataframe\">\n",
       "  <thead>\n",
       "    <tr style=\"text-align: right;\">\n",
       "      <th></th>\n",
       "      <th>name</th>\n",
       "      <th>multiverse_ids</th>\n",
       "      <th>set_name</th>\n",
       "    </tr>\n",
       "  </thead>\n",
       "  <tbody>\n",
       "    <tr>\n",
       "      <th>0</th>\n",
       "      <td>Earthshaker Giant</td>\n",
       "      <td>[-1]</td>\n",
       "      <td>Game Night 2019</td>\n",
       "    </tr>\n",
       "    <tr>\n",
       "      <th>1</th>\n",
       "      <td>Fiendish Duo</td>\n",
       "      <td>[-1]</td>\n",
       "      <td>Game Night 2019</td>\n",
       "    </tr>\n",
       "    <tr>\n",
       "      <th>2</th>\n",
       "      <td>Calculating Lich</td>\n",
       "      <td>[-1]</td>\n",
       "      <td>Game Night 2019</td>\n",
       "    </tr>\n",
       "    <tr>\n",
       "      <th>3</th>\n",
       "      <td>Sphinx of Enlightenment</td>\n",
       "      <td>[-1]</td>\n",
       "      <td>Game Night 2019</td>\n",
       "    </tr>\n",
       "    <tr>\n",
       "      <th>4</th>\n",
       "      <td>Highcliff Felidar</td>\n",
       "      <td>[-1]</td>\n",
       "      <td>Game Night 2019</td>\n",
       "    </tr>\n",
       "    <tr>\n",
       "      <th>5</th>\n",
       "      <td>Mox Jet</td>\n",
       "      <td>[-1]</td>\n",
       "      <td>Vintage Championship</td>\n",
       "    </tr>\n",
       "    <tr>\n",
       "      <th>6</th>\n",
       "      <td>Mox Jet</td>\n",
       "      <td>[-1]</td>\n",
       "      <td>Vintage Championship</td>\n",
       "    </tr>\n",
       "    <tr>\n",
       "      <th>7</th>\n",
       "      <td>Mox Jet</td>\n",
       "      <td>[383020]</td>\n",
       "      <td>Vintage Masters</td>\n",
       "    </tr>\n",
       "    <tr>\n",
       "      <th>8</th>\n",
       "      <td>Mox Jet</td>\n",
       "      <td>[33]</td>\n",
       "      <td>Limited Edition Alpha</td>\n",
       "    </tr>\n",
       "    <tr>\n",
       "      <th>9</th>\n",
       "      <td>City of Traitors</td>\n",
       "      <td>[-1]</td>\n",
       "      <td>Legacy Championship</td>\n",
       "    </tr>\n",
       "  </tbody>\n",
       "</table>\n",
       "</div>"
      ],
      "text/plain": [
       "                      name multiverse_ids               set_name\n",
       "0        Earthshaker Giant           [-1]        Game Night 2019\n",
       "1             Fiendish Duo           [-1]        Game Night 2019\n",
       "2         Calculating Lich           [-1]        Game Night 2019\n",
       "3  Sphinx of Enlightenment           [-1]        Game Night 2019\n",
       "4        Highcliff Felidar           [-1]        Game Night 2019\n",
       "5                  Mox Jet           [-1]   Vintage Championship\n",
       "6                  Mox Jet           [-1]   Vintage Championship\n",
       "7                  Mox Jet       [383020]        Vintage Masters\n",
       "8                  Mox Jet           [33]  Limited Edition Alpha\n",
       "9         City of Traitors           [-1]    Legacy Championship"
      ]
     },
     "execution_count": 18,
     "metadata": {},
     "output_type": "execute_result"
    }
   ],
   "source": [
    "df_name_id_set.head(10)"
   ]
  },
  {
   "cell_type": "code",
   "execution_count": null,
   "metadata": {},
   "outputs": [],
   "source": [
    "for index, row in df_name_id_set.iterrows():\n",
    "    #print(row['name'])\n",
    "    if row['multiverse_ids'][0] != -1: #se esiste una immagine\n",
    "        #print('a')\n",
    "        image_url = f'http://gatherer.wizards.com/Handlers/Image.ashx?multiverseid={row['multiverse_ids'][0]}&type=card'\n",
    "\n",
    "        img_data = requests.get(image_url, verify = False).content\n",
    "        with open(f'db_image_mtg/{row['name']} from {row['set_name']}.jpg','wb') as handler:\n",
    "            handler.write(img_data)"
   ]
  },
  {
   "cell_type": "code",
   "execution_count": null,
   "metadata": {},
   "outputs": [],
   "source": []
  }
 ],
 "metadata": {
  "kernelspec": {
   "display_name": ".venv",
   "language": "python",
   "name": "python3"
  },
  "language_info": {
   "codemirror_mode": {
    "name": "ipython",
    "version": 3
   },
   "file_extension": ".py",
   "mimetype": "text/x-python",
   "name": "python",
   "nbconvert_exporter": "python",
   "pygments_lexer": "ipython3",
   "version": "3.12.1"
  }
 },
 "nbformat": 4,
 "nbformat_minor": 2
}
