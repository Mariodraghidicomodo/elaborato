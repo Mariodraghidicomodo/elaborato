{
 "cells": [
  {
   "cell_type": "code",
   "execution_count": 345,
   "metadata": {},
   "outputs": [],
   "source": [
    "import numpy as np\n",
    "import matplotlib.pyplot as plt\n",
    "import pandas as pd"
   ]
  },
  {
   "cell_type": "code",
   "execution_count": 2,
   "metadata": {},
   "outputs": [],
   "source": [
    "%store -r final_df"
   ]
  },
  {
   "cell_type": "code",
   "execution_count": 3,
   "metadata": {},
   "outputs": [
    {
     "data": {
      "text/plain": [
       "Index(['object', 'id', 'oracle_id', 'multiverse_ids', 'name_x', 'lang',\n",
       "       'released_at', 'uri', 'scryfall_uri', 'layout_x', 'highres_image',\n",
       "       'image_uris', 'mana_cost', 'cmc', 'type_line', 'oracle_text', 'power_x',\n",
       "       'toughness_x', 'colors_x', 'color_identity', 'legalities_x', 'games',\n",
       "       'reserved', 'foil', 'nonfoil', 'oversized', 'promo', 'reprint',\n",
       "       'variation', 'set', 'set_name', 'set_type', 'set_uri', 'set_search_uri',\n",
       "       'scryfall_set_uri', 'rulings_uri', 'prints_search_uri',\n",
       "       'collector_number', 'digital', 'rarity', 'flavor_text', 'card_back_id',\n",
       "       'artist', 'artist_ids', 'illustration_id', 'border_color', 'frame',\n",
       "       'full_art', 'textless', 'booster', 'story_spotlight', 'related_uris',\n",
       "       'edhrec_rank', 'card_faces', 'all_parts', 'loyalty_x', 'colorIdentity',\n",
       "       'colors_y', 'convertedManaCost', 'foreignData', 'layout_y',\n",
       "       'legalities_y', 'manaCost', 'name_y', 'printings', 'rulings',\n",
       "       'scryfallOracleId', 'subtypes', 'supertypes', 'text', 'type', 'types',\n",
       "       'uuid', 'edhrecRank', 'power_y', 'toughness_y', 'isReserved',\n",
       "       'leadershipSkills', 'loyalty_y', 'prices'],\n",
       "      dtype='object')"
      ]
     },
     "execution_count": 3,
     "metadata": {},
     "output_type": "execute_result"
    }
   ],
   "source": [
    "final_df.columns"
   ]
  },
  {
   "cell_type": "markdown",
   "metadata": {},
   "source": [
    "# Value null and column"
   ]
  },
  {
   "cell_type": "code",
   "execution_count": 348,
   "metadata": {},
   "outputs": [],
   "source": [
    "final_df_bu = final_df"
   ]
  },
  {
   "cell_type": "code",
   "execution_count": 349,
   "metadata": {},
   "outputs": [
    {
     "data": {
      "text/plain": [
       "Index(['object', 'id', 'oracle_id', 'multiverse_ids', 'name_x', 'lang',\n",
       "       'released_at', 'uri', 'scryfall_uri', 'layout_x', 'highres_image',\n",
       "       'image_uris', 'mana_cost', 'cmc', 'type_line', 'oracle_text', 'power_x',\n",
       "       'toughness_x', 'colors_x', 'color_identity', 'legalities_x', 'games',\n",
       "       'reserved', 'foil', 'nonfoil', 'oversized', 'promo', 'reprint',\n",
       "       'variation', 'set', 'set_name', 'set_type', 'set_uri', 'set_search_uri',\n",
       "       'scryfall_set_uri', 'rulings_uri', 'prints_search_uri',\n",
       "       'collector_number', 'digital', 'rarity', 'flavor_text', 'card_back_id',\n",
       "       'artist', 'artist_ids', 'illustration_id', 'border_color', 'frame',\n",
       "       'full_art', 'textless', 'booster', 'story_spotlight', 'related_uris',\n",
       "       'edhrec_rank', 'card_faces', 'all_parts', 'loyalty_x', 'colorIdentity',\n",
       "       'colors_y', 'convertedManaCost', 'foreignData', 'layout_y',\n",
       "       'legalities_y', 'manaCost', 'name_y', 'printings', 'rulings',\n",
       "       'scryfallOracleId', 'subtypes', 'supertypes', 'text', 'type', 'types',\n",
       "       'uuid', 'edhrecRank', 'power_y', 'toughness_y', 'isReserved',\n",
       "       'leadershipSkills', 'loyalty_y', 'prices'],\n",
       "      dtype='object')"
      ]
     },
     "execution_count": 349,
     "metadata": {},
     "output_type": "execute_result"
    }
   ],
   "source": [
    "final_df.columns"
   ]
  },
  {
   "cell_type": "code",
   "execution_count": 350,
   "metadata": {},
   "outputs": [
    {
     "data": {
      "text/html": [
       "<div>\n",
       "<style scoped>\n",
       "    .dataframe tbody tr th:only-of-type {\n",
       "        vertical-align: middle;\n",
       "    }\n",
       "\n",
       "    .dataframe tbody tr th {\n",
       "        vertical-align: top;\n",
       "    }\n",
       "\n",
       "    .dataframe thead th {\n",
       "        text-align: right;\n",
       "    }\n",
       "</style>\n",
       "<table border=\"1\" class=\"dataframe\">\n",
       "  <thead>\n",
       "    <tr style=\"text-align: right;\">\n",
       "      <th></th>\n",
       "      <th>name_x</th>\n",
       "      <th>name_y</th>\n",
       "    </tr>\n",
       "  </thead>\n",
       "  <tbody>\n",
       "    <tr>\n",
       "      <th>13</th>\n",
       "      <td>Nightmare Moon // Princess Luna</td>\n",
       "      <td>Nightmare Moon</td>\n",
       "    </tr>\n",
       "    <tr>\n",
       "      <th>14</th>\n",
       "      <td>Nightmare Moon // Princess Luna</td>\n",
       "      <td>Princess Luna</td>\n",
       "    </tr>\n",
       "    <tr>\n",
       "      <th>58</th>\n",
       "      <td>Oakhame Ranger // Bring Back</td>\n",
       "      <td>Bring Back</td>\n",
       "    </tr>\n",
       "    <tr>\n",
       "      <th>59</th>\n",
       "      <td>Oakhame Ranger // Bring Back</td>\n",
       "      <td>Bring Back</td>\n",
       "    </tr>\n",
       "    <tr>\n",
       "      <th>60</th>\n",
       "      <td>Oakhame Ranger // Bring Back</td>\n",
       "      <td>Bring Back</td>\n",
       "    </tr>\n",
       "    <tr>\n",
       "      <th>...</th>\n",
       "      <td>...</td>\n",
       "      <td>...</td>\n",
       "    </tr>\n",
       "    <tr>\n",
       "      <th>20712</th>\n",
       "      <td>Spite // Malice</td>\n",
       "      <td>Malice</td>\n",
       "    </tr>\n",
       "    <tr>\n",
       "      <th>20713</th>\n",
       "      <td>Spite // Malice</td>\n",
       "      <td>Spite</td>\n",
       "    </tr>\n",
       "    <tr>\n",
       "      <th>20714</th>\n",
       "      <td>Stand // Deliver</td>\n",
       "      <td>Deliver</td>\n",
       "    </tr>\n",
       "    <tr>\n",
       "      <th>20715</th>\n",
       "      <td>Stand // Deliver</td>\n",
       "      <td>Stand</td>\n",
       "    </tr>\n",
       "    <tr>\n",
       "      <th>22238</th>\n",
       "      <td>B.F.M. (Big Furry Monster)</td>\n",
       "      <td>B.F.M. (Big Furry Monster) (b)</td>\n",
       "    </tr>\n",
       "  </tbody>\n",
       "</table>\n",
       "<p>685 rows × 2 columns</p>\n",
       "</div>"
      ],
      "text/plain": [
       "                                name_x                          name_y\n",
       "13     Nightmare Moon // Princess Luna                  Nightmare Moon\n",
       "14     Nightmare Moon // Princess Luna                   Princess Luna\n",
       "58        Oakhame Ranger // Bring Back                      Bring Back\n",
       "59        Oakhame Ranger // Bring Back                      Bring Back\n",
       "60        Oakhame Ranger // Bring Back                      Bring Back\n",
       "...                                ...                             ...\n",
       "20712                  Spite // Malice                          Malice\n",
       "20713                  Spite // Malice                           Spite\n",
       "20714                 Stand // Deliver                         Deliver\n",
       "20715                 Stand // Deliver                           Stand\n",
       "22238       B.F.M. (Big Furry Monster)  B.F.M. (Big Furry Monster) (b)\n",
       "\n",
       "[685 rows x 2 columns]"
      ]
     },
     "execution_count": 350,
     "metadata": {},
     "output_type": "execute_result"
    }
   ],
   "source": [
    "prova = final_df[final_df.name_x != final_df.name_y] #ci sono delle righe che hanno nomi diversi\n",
    "#prova.loc[:'name_x':'name_y']\n",
    "prova[['name_x','name_y']]  #ok il problema è con le carte con doppia faccia; LE RIMUOVO TUTTE (685)"
   ]
  },
  {
   "cell_type": "markdown",
   "metadata": {},
   "source": [
    "droppo le righe che hanno name_x e name_y diversi"
   ]
  },
  {
   "cell_type": "code",
   "execution_count": 351,
   "metadata": {},
   "outputs": [],
   "source": [
    "final_df.drop(final_df[final_df.name_x != final_df.name_y].index, inplace=True)"
   ]
  },
  {
   "cell_type": "markdown",
   "metadata": {},
   "source": [
    "testo e tolgo le colonne con _y"
   ]
  },
  {
   "cell_type": "code",
   "execution_count": 352,
   "metadata": {},
   "outputs": [
    {
     "data": {
      "text/plain": [
       "Index(['object', 'id', 'oracle_id', 'multiverse_ids', 'name_x', 'lang',\n",
       "       'released_at', 'uri', 'scryfall_uri', 'layout_x', 'highres_image',\n",
       "       'image_uris', 'mana_cost', 'cmc', 'type_line', 'oracle_text', 'power_x',\n",
       "       'toughness_x', 'colors_x', 'color_identity', 'legalities_x', 'games',\n",
       "       'reserved', 'foil', 'nonfoil', 'oversized', 'promo', 'reprint',\n",
       "       'variation', 'set', 'set_name', 'set_type', 'set_uri', 'set_search_uri',\n",
       "       'scryfall_set_uri', 'rulings_uri', 'prints_search_uri',\n",
       "       'collector_number', 'digital', 'rarity', 'flavor_text', 'card_back_id',\n",
       "       'artist', 'artist_ids', 'illustration_id', 'border_color', 'frame',\n",
       "       'full_art', 'textless', 'booster', 'story_spotlight', 'related_uris',\n",
       "       'edhrec_rank', 'card_faces', 'all_parts', 'loyalty_x', 'colorIdentity',\n",
       "       'colors_y', 'convertedManaCost', 'foreignData', 'layout_y',\n",
       "       'legalities_y', 'manaCost', 'name_y', 'printings', 'rulings',\n",
       "       'scryfallOracleId', 'subtypes', 'supertypes', 'text', 'type', 'types',\n",
       "       'uuid', 'edhrecRank', 'power_y', 'toughness_y', 'isReserved',\n",
       "       'leadershipSkills', 'loyalty_y', 'prices'],\n",
       "      dtype='object')"
      ]
     },
     "execution_count": 352,
     "metadata": {},
     "output_type": "execute_result"
    }
   ],
   "source": [
    "final_df.columns"
   ]
  },
  {
   "cell_type": "code",
   "execution_count": 353,
   "metadata": {},
   "outputs": [
    {
     "data": {
      "text/html": [
       "<div>\n",
       "<style scoped>\n",
       "    .dataframe tbody tr th:only-of-type {\n",
       "        vertical-align: middle;\n",
       "    }\n",
       "\n",
       "    .dataframe tbody tr th {\n",
       "        vertical-align: top;\n",
       "    }\n",
       "\n",
       "    .dataframe thead th {\n",
       "        text-align: right;\n",
       "    }\n",
       "</style>\n",
       "<table border=\"1\" class=\"dataframe\">\n",
       "  <thead>\n",
       "    <tr style=\"text-align: right;\">\n",
       "      <th></th>\n",
       "      <th>object</th>\n",
       "      <th>id</th>\n",
       "      <th>oracle_id</th>\n",
       "      <th>multiverse_ids</th>\n",
       "      <th>name_x</th>\n",
       "      <th>lang</th>\n",
       "      <th>released_at</th>\n",
       "      <th>uri</th>\n",
       "      <th>scryfall_uri</th>\n",
       "      <th>layout_x</th>\n",
       "      <th>...</th>\n",
       "      <th>type</th>\n",
       "      <th>types</th>\n",
       "      <th>uuid</th>\n",
       "      <th>edhrecRank</th>\n",
       "      <th>power_y</th>\n",
       "      <th>toughness_y</th>\n",
       "      <th>isReserved</th>\n",
       "      <th>leadershipSkills</th>\n",
       "      <th>loyalty_y</th>\n",
       "      <th>prices</th>\n",
       "    </tr>\n",
       "  </thead>\n",
       "  <tbody>\n",
       "  </tbody>\n",
       "</table>\n",
       "<p>0 rows × 80 columns</p>\n",
       "</div>"
      ],
      "text/plain": [
       "Empty DataFrame\n",
       "Columns: [object, id, oracle_id, multiverse_ids, name_x, lang, released_at, uri, scryfall_uri, layout_x, highres_image, image_uris, mana_cost, cmc, type_line, oracle_text, power_x, toughness_x, colors_x, color_identity, legalities_x, games, reserved, foil, nonfoil, oversized, promo, reprint, variation, set, set_name, set_type, set_uri, set_search_uri, scryfall_set_uri, rulings_uri, prints_search_uri, collector_number, digital, rarity, flavor_text, card_back_id, artist, artist_ids, illustration_id, border_color, frame, full_art, textless, booster, story_spotlight, related_uris, edhrec_rank, card_faces, all_parts, loyalty_x, colorIdentity, colors_y, convertedManaCost, foreignData, layout_y, legalities_y, manaCost, name_y, printings, rulings, scryfallOracleId, subtypes, supertypes, text, type, types, uuid, edhrecRank, power_y, toughness_y, isReserved, leadershipSkills, loyalty_y, prices]\n",
       "Index: []\n",
       "\n",
       "[0 rows x 80 columns]"
      ]
     },
     "execution_count": 353,
     "metadata": {},
     "output_type": "execute_result"
    }
   ],
   "source": [
    "final_df[final_df.name_x != final_df.name_y]"
   ]
  },
  {
   "cell_type": "code",
   "execution_count": 354,
   "metadata": {},
   "outputs": [],
   "source": [
    "final_df.drop('name_y',axis=1,inplace=True)"
   ]
  },
  {
   "cell_type": "code",
   "execution_count": 355,
   "metadata": {},
   "outputs": [
    {
     "data": {
      "text/html": [
       "<div>\n",
       "<style scoped>\n",
       "    .dataframe tbody tr th:only-of-type {\n",
       "        vertical-align: middle;\n",
       "    }\n",
       "\n",
       "    .dataframe tbody tr th {\n",
       "        vertical-align: top;\n",
       "    }\n",
       "\n",
       "    .dataframe thead th {\n",
       "        text-align: right;\n",
       "    }\n",
       "</style>\n",
       "<table border=\"1\" class=\"dataframe\">\n",
       "  <thead>\n",
       "    <tr style=\"text-align: right;\">\n",
       "      <th></th>\n",
       "      <th>object</th>\n",
       "      <th>id</th>\n",
       "      <th>oracle_id</th>\n",
       "      <th>multiverse_ids</th>\n",
       "      <th>name_x</th>\n",
       "      <th>lang</th>\n",
       "      <th>released_at</th>\n",
       "      <th>uri</th>\n",
       "      <th>scryfall_uri</th>\n",
       "      <th>layout_x</th>\n",
       "      <th>...</th>\n",
       "      <th>type</th>\n",
       "      <th>types</th>\n",
       "      <th>uuid</th>\n",
       "      <th>edhrecRank</th>\n",
       "      <th>power_y</th>\n",
       "      <th>toughness_y</th>\n",
       "      <th>isReserved</th>\n",
       "      <th>leadershipSkills</th>\n",
       "      <th>loyalty_y</th>\n",
       "      <th>prices</th>\n",
       "    </tr>\n",
       "  </thead>\n",
       "  <tbody>\n",
       "  </tbody>\n",
       "</table>\n",
       "<p>0 rows × 79 columns</p>\n",
       "</div>"
      ],
      "text/plain": [
       "Empty DataFrame\n",
       "Columns: [object, id, oracle_id, multiverse_ids, name_x, lang, released_at, uri, scryfall_uri, layout_x, highres_image, image_uris, mana_cost, cmc, type_line, oracle_text, power_x, toughness_x, colors_x, color_identity, legalities_x, games, reserved, foil, nonfoil, oversized, promo, reprint, variation, set, set_name, set_type, set_uri, set_search_uri, scryfall_set_uri, rulings_uri, prints_search_uri, collector_number, digital, rarity, flavor_text, card_back_id, artist, artist_ids, illustration_id, border_color, frame, full_art, textless, booster, story_spotlight, related_uris, edhrec_rank, card_faces, all_parts, loyalty_x, colorIdentity, colors_y, convertedManaCost, foreignData, layout_y, legalities_y, manaCost, printings, rulings, scryfallOracleId, subtypes, supertypes, text, type, types, uuid, edhrecRank, power_y, toughness_y, isReserved, leadershipSkills, loyalty_y, prices]\n",
       "Index: []\n",
       "\n",
       "[0 rows x 79 columns]"
      ]
     },
     "execution_count": 355,
     "metadata": {},
     "output_type": "execute_result"
    }
   ],
   "source": [
    "final_df[final_df.layout_x != final_df.layout_y]"
   ]
  },
  {
   "cell_type": "code",
   "execution_count": 356,
   "metadata": {},
   "outputs": [],
   "source": [
    "final_df.drop('layout_y',axis=1,inplace=True)"
   ]
  },
  {
   "cell_type": "code",
   "execution_count": 357,
   "metadata": {},
   "outputs": [
    {
     "data": {
      "text/html": [
       "<div>\n",
       "<style scoped>\n",
       "    .dataframe tbody tr th:only-of-type {\n",
       "        vertical-align: middle;\n",
       "    }\n",
       "\n",
       "    .dataframe tbody tr th {\n",
       "        vertical-align: top;\n",
       "    }\n",
       "\n",
       "    .dataframe thead th {\n",
       "        text-align: right;\n",
       "    }\n",
       "</style>\n",
       "<table border=\"1\" class=\"dataframe\">\n",
       "  <thead>\n",
       "    <tr style=\"text-align: right;\">\n",
       "      <th></th>\n",
       "      <th>power_x</th>\n",
       "      <th>power_y</th>\n",
       "    </tr>\n",
       "  </thead>\n",
       "  <tbody>\n",
       "    <tr>\n",
       "      <th>5</th>\n",
       "      <td>NaN</td>\n",
       "      <td>NaN</td>\n",
       "    </tr>\n",
       "    <tr>\n",
       "      <th>6</th>\n",
       "      <td>NaN</td>\n",
       "      <td>NaN</td>\n",
       "    </tr>\n",
       "    <tr>\n",
       "      <th>7</th>\n",
       "      <td>NaN</td>\n",
       "      <td>NaN</td>\n",
       "    </tr>\n",
       "    <tr>\n",
       "      <th>8</th>\n",
       "      <td>NaN</td>\n",
       "      <td>NaN</td>\n",
       "    </tr>\n",
       "    <tr>\n",
       "      <th>9</th>\n",
       "      <td>NaN</td>\n",
       "      <td>NaN</td>\n",
       "    </tr>\n",
       "    <tr>\n",
       "      <th>...</th>\n",
       "      <td>...</td>\n",
       "      <td>...</td>\n",
       "    </tr>\n",
       "    <tr>\n",
       "      <th>24978</th>\n",
       "      <td>NaN</td>\n",
       "      <td>NaN</td>\n",
       "    </tr>\n",
       "    <tr>\n",
       "      <th>24979</th>\n",
       "      <td>NaN</td>\n",
       "      <td>NaN</td>\n",
       "    </tr>\n",
       "    <tr>\n",
       "      <th>24980</th>\n",
       "      <td>NaN</td>\n",
       "      <td>NaN</td>\n",
       "    </tr>\n",
       "    <tr>\n",
       "      <th>24981</th>\n",
       "      <td>NaN</td>\n",
       "      <td>NaN</td>\n",
       "    </tr>\n",
       "    <tr>\n",
       "      <th>24982</th>\n",
       "      <td>NaN</td>\n",
       "      <td>NaN</td>\n",
       "    </tr>\n",
       "  </tbody>\n",
       "</table>\n",
       "<p>12577 rows × 2 columns</p>\n",
       "</div>"
      ],
      "text/plain": [
       "      power_x power_y\n",
       "5         NaN     NaN\n",
       "6         NaN     NaN\n",
       "7         NaN     NaN\n",
       "8         NaN     NaN\n",
       "9         NaN     NaN\n",
       "...       ...     ...\n",
       "24978     NaN     NaN\n",
       "24979     NaN     NaN\n",
       "24980     NaN     NaN\n",
       "24981     NaN     NaN\n",
       "24982     NaN     NaN\n",
       "\n",
       "[12577 rows x 2 columns]"
      ]
     },
     "execution_count": 357,
     "metadata": {},
     "output_type": "execute_result"
    }
   ],
   "source": [
    "prova = final_df[final_df.power_x != final_df.power_y] #OK SONO SOLO NAN\n",
    "prova[['power_x','power_y']]"
   ]
  },
  {
   "cell_type": "code",
   "execution_count": 358,
   "metadata": {},
   "outputs": [],
   "source": [
    "final_df.drop('power_y',axis=1,inplace=True)"
   ]
  },
  {
   "cell_type": "code",
   "execution_count": 359,
   "metadata": {},
   "outputs": [
    {
     "data": {
      "text/html": [
       "<div>\n",
       "<style scoped>\n",
       "    .dataframe tbody tr th:only-of-type {\n",
       "        vertical-align: middle;\n",
       "    }\n",
       "\n",
       "    .dataframe tbody tr th {\n",
       "        vertical-align: top;\n",
       "    }\n",
       "\n",
       "    .dataframe thead th {\n",
       "        text-align: right;\n",
       "    }\n",
       "</style>\n",
       "<table border=\"1\" class=\"dataframe\">\n",
       "  <thead>\n",
       "    <tr style=\"text-align: right;\">\n",
       "      <th></th>\n",
       "      <th>toughness_x</th>\n",
       "      <th>toughness_y</th>\n",
       "    </tr>\n",
       "  </thead>\n",
       "  <tbody>\n",
       "    <tr>\n",
       "      <th>5</th>\n",
       "      <td>NaN</td>\n",
       "      <td>NaN</td>\n",
       "    </tr>\n",
       "    <tr>\n",
       "      <th>6</th>\n",
       "      <td>NaN</td>\n",
       "      <td>NaN</td>\n",
       "    </tr>\n",
       "    <tr>\n",
       "      <th>7</th>\n",
       "      <td>NaN</td>\n",
       "      <td>NaN</td>\n",
       "    </tr>\n",
       "    <tr>\n",
       "      <th>8</th>\n",
       "      <td>NaN</td>\n",
       "      <td>NaN</td>\n",
       "    </tr>\n",
       "    <tr>\n",
       "      <th>9</th>\n",
       "      <td>NaN</td>\n",
       "      <td>NaN</td>\n",
       "    </tr>\n",
       "    <tr>\n",
       "      <th>...</th>\n",
       "      <td>...</td>\n",
       "      <td>...</td>\n",
       "    </tr>\n",
       "    <tr>\n",
       "      <th>24978</th>\n",
       "      <td>NaN</td>\n",
       "      <td>NaN</td>\n",
       "    </tr>\n",
       "    <tr>\n",
       "      <th>24979</th>\n",
       "      <td>NaN</td>\n",
       "      <td>NaN</td>\n",
       "    </tr>\n",
       "    <tr>\n",
       "      <th>24980</th>\n",
       "      <td>NaN</td>\n",
       "      <td>NaN</td>\n",
       "    </tr>\n",
       "    <tr>\n",
       "      <th>24981</th>\n",
       "      <td>NaN</td>\n",
       "      <td>NaN</td>\n",
       "    </tr>\n",
       "    <tr>\n",
       "      <th>24982</th>\n",
       "      <td>NaN</td>\n",
       "      <td>NaN</td>\n",
       "    </tr>\n",
       "  </tbody>\n",
       "</table>\n",
       "<p>12577 rows × 2 columns</p>\n",
       "</div>"
      ],
      "text/plain": [
       "      toughness_x toughness_y\n",
       "5             NaN         NaN\n",
       "6             NaN         NaN\n",
       "7             NaN         NaN\n",
       "8             NaN         NaN\n",
       "9             NaN         NaN\n",
       "...           ...         ...\n",
       "24978         NaN         NaN\n",
       "24979         NaN         NaN\n",
       "24980         NaN         NaN\n",
       "24981         NaN         NaN\n",
       "24982         NaN         NaN\n",
       "\n",
       "[12577 rows x 2 columns]"
      ]
     },
     "execution_count": 359,
     "metadata": {},
     "output_type": "execute_result"
    }
   ],
   "source": [
    "prova = final_df[final_df.toughness_x != final_df.toughness_y] #OK SONO SOLO NAN\n",
    "prova[['toughness_x','toughness_y']]"
   ]
  },
  {
   "cell_type": "code",
   "execution_count": 360,
   "metadata": {},
   "outputs": [],
   "source": [
    "final_df.drop('toughness_y',axis=1,inplace=True)"
   ]
  },
  {
   "cell_type": "code",
   "execution_count": 361,
   "metadata": {},
   "outputs": [
    {
     "data": {
      "text/html": [
       "<div>\n",
       "<style scoped>\n",
       "    .dataframe tbody tr th:only-of-type {\n",
       "        vertical-align: middle;\n",
       "    }\n",
       "\n",
       "    .dataframe tbody tr th {\n",
       "        vertical-align: top;\n",
       "    }\n",
       "\n",
       "    .dataframe thead th {\n",
       "        text-align: right;\n",
       "    }\n",
       "</style>\n",
       "<table border=\"1\" class=\"dataframe\">\n",
       "  <thead>\n",
       "    <tr style=\"text-align: right;\">\n",
       "      <th></th>\n",
       "      <th>object</th>\n",
       "      <th>id</th>\n",
       "      <th>oracle_id</th>\n",
       "      <th>multiverse_ids</th>\n",
       "      <th>name_x</th>\n",
       "      <th>lang</th>\n",
       "      <th>released_at</th>\n",
       "      <th>uri</th>\n",
       "      <th>scryfall_uri</th>\n",
       "      <th>layout_x</th>\n",
       "      <th>...</th>\n",
       "      <th>supertypes</th>\n",
       "      <th>text</th>\n",
       "      <th>type</th>\n",
       "      <th>types</th>\n",
       "      <th>uuid</th>\n",
       "      <th>edhrecRank</th>\n",
       "      <th>isReserved</th>\n",
       "      <th>leadershipSkills</th>\n",
       "      <th>loyalty_y</th>\n",
       "      <th>prices</th>\n",
       "    </tr>\n",
       "  </thead>\n",
       "  <tbody>\n",
       "  </tbody>\n",
       "</table>\n",
       "<p>0 rows × 76 columns</p>\n",
       "</div>"
      ],
      "text/plain": [
       "Empty DataFrame\n",
       "Columns: [object, id, oracle_id, multiverse_ids, name_x, lang, released_at, uri, scryfall_uri, layout_x, highres_image, image_uris, mana_cost, cmc, type_line, oracle_text, power_x, toughness_x, colors_x, color_identity, legalities_x, games, reserved, foil, nonfoil, oversized, promo, reprint, variation, set, set_name, set_type, set_uri, set_search_uri, scryfall_set_uri, rulings_uri, prints_search_uri, collector_number, digital, rarity, flavor_text, card_back_id, artist, artist_ids, illustration_id, border_color, frame, full_art, textless, booster, story_spotlight, related_uris, edhrec_rank, card_faces, all_parts, loyalty_x, colorIdentity, colors_y, convertedManaCost, foreignData, legalities_y, manaCost, printings, rulings, scryfallOracleId, subtypes, supertypes, text, type, types, uuid, edhrecRank, isReserved, leadershipSkills, loyalty_y, prices]\n",
       "Index: []\n",
       "\n",
       "[0 rows x 76 columns]"
      ]
     },
     "execution_count": 361,
     "metadata": {},
     "output_type": "execute_result"
    }
   ],
   "source": [
    "final_df[final_df.colors_x != final_df.colors_y]"
   ]
  },
  {
   "cell_type": "code",
   "execution_count": 362,
   "metadata": {},
   "outputs": [],
   "source": [
    "final_df.drop('colors_y',axis=1,inplace=True)"
   ]
  },
  {
   "cell_type": "code",
   "execution_count": 363,
   "metadata": {},
   "outputs": [
    {
     "data": {
      "text/html": [
       "<div>\n",
       "<style scoped>\n",
       "    .dataframe tbody tr th:only-of-type {\n",
       "        vertical-align: middle;\n",
       "    }\n",
       "\n",
       "    .dataframe tbody tr th {\n",
       "        vertical-align: top;\n",
       "    }\n",
       "\n",
       "    .dataframe thead th {\n",
       "        text-align: right;\n",
       "    }\n",
       "</style>\n",
       "<table border=\"1\" class=\"dataframe\">\n",
       "  <thead>\n",
       "    <tr style=\"text-align: right;\">\n",
       "      <th></th>\n",
       "      <th>legalities_x</th>\n",
       "      <th>legalities_y</th>\n",
       "    </tr>\n",
       "  </thead>\n",
       "  <tbody>\n",
       "    <tr>\n",
       "      <th>0</th>\n",
       "      <td>{'standard': 'not_legal', 'future': 'not_legal...</td>\n",
       "      <td>{}</td>\n",
       "    </tr>\n",
       "    <tr>\n",
       "      <th>1</th>\n",
       "      <td>{'standard': 'not_legal', 'future': 'not_legal...</td>\n",
       "      <td>{}</td>\n",
       "    </tr>\n",
       "    <tr>\n",
       "      <th>2</th>\n",
       "      <td>{'standard': 'not_legal', 'future': 'not_legal...</td>\n",
       "      <td>{}</td>\n",
       "    </tr>\n",
       "    <tr>\n",
       "      <th>3</th>\n",
       "      <td>{'standard': 'not_legal', 'future': 'not_legal...</td>\n",
       "      <td>{}</td>\n",
       "    </tr>\n",
       "    <tr>\n",
       "      <th>4</th>\n",
       "      <td>{'standard': 'not_legal', 'future': 'not_legal...</td>\n",
       "      <td>{}</td>\n",
       "    </tr>\n",
       "    <tr>\n",
       "      <th>...</th>\n",
       "      <td>...</td>\n",
       "      <td>...</td>\n",
       "    </tr>\n",
       "    <tr>\n",
       "      <th>24979</th>\n",
       "      <td>{'standard': 'not_legal', 'future': 'not_legal...</td>\n",
       "      <td>{'commander': 'Legal', 'duel': 'Legal', 'legac...</td>\n",
       "    </tr>\n",
       "    <tr>\n",
       "      <th>24980</th>\n",
       "      <td>{'standard': 'not_legal', 'future': 'not_legal...</td>\n",
       "      <td>{'commander': 'Legal', 'duel': 'Legal', 'legac...</td>\n",
       "    </tr>\n",
       "    <tr>\n",
       "      <th>24981</th>\n",
       "      <td>{'standard': 'not_legal', 'future': 'not_legal...</td>\n",
       "      <td>{'commander': 'Legal', 'duel': 'Legal', 'legac...</td>\n",
       "    </tr>\n",
       "    <tr>\n",
       "      <th>24982</th>\n",
       "      <td>{'standard': 'not_legal', 'future': 'not_legal...</td>\n",
       "      <td>{'commander': 'Legal', 'duel': 'Legal', 'legac...</td>\n",
       "    </tr>\n",
       "    <tr>\n",
       "      <th>24983</th>\n",
       "      <td>{'standard': 'not_legal', 'future': 'not_legal...</td>\n",
       "      <td>{'commander': 'Legal', 'duel': 'Legal', 'legac...</td>\n",
       "    </tr>\n",
       "  </tbody>\n",
       "</table>\n",
       "<p>24299 rows × 2 columns</p>\n",
       "</div>"
      ],
      "text/plain": [
       "                                            legalities_x  \\\n",
       "0      {'standard': 'not_legal', 'future': 'not_legal...   \n",
       "1      {'standard': 'not_legal', 'future': 'not_legal...   \n",
       "2      {'standard': 'not_legal', 'future': 'not_legal...   \n",
       "3      {'standard': 'not_legal', 'future': 'not_legal...   \n",
       "4      {'standard': 'not_legal', 'future': 'not_legal...   \n",
       "...                                                  ...   \n",
       "24979  {'standard': 'not_legal', 'future': 'not_legal...   \n",
       "24980  {'standard': 'not_legal', 'future': 'not_legal...   \n",
       "24981  {'standard': 'not_legal', 'future': 'not_legal...   \n",
       "24982  {'standard': 'not_legal', 'future': 'not_legal...   \n",
       "24983  {'standard': 'not_legal', 'future': 'not_legal...   \n",
       "\n",
       "                                            legalities_y  \n",
       "0                                                     {}  \n",
       "1                                                     {}  \n",
       "2                                                     {}  \n",
       "3                                                     {}  \n",
       "4                                                     {}  \n",
       "...                                                  ...  \n",
       "24979  {'commander': 'Legal', 'duel': 'Legal', 'legac...  \n",
       "24980  {'commander': 'Legal', 'duel': 'Legal', 'legac...  \n",
       "24981  {'commander': 'Legal', 'duel': 'Legal', 'legac...  \n",
       "24982  {'commander': 'Legal', 'duel': 'Legal', 'legac...  \n",
       "24983  {'commander': 'Legal', 'duel': 'Legal', 'legac...  \n",
       "\n",
       "[24299 rows x 2 columns]"
      ]
     },
     "execution_count": 363,
     "metadata": {},
     "output_type": "execute_result"
    }
   ],
   "source": [
    "prova = final_df[final_df.legalities_x != final_df.legalities_y] #praticamente tutti, perchè??\n",
    "prova[['legalities_x','legalities_y']]\n",
    "#ok, sono strutturati in maniera diversa, tengo solo legalities_x"
   ]
  },
  {
   "cell_type": "code",
   "execution_count": 364,
   "metadata": {},
   "outputs": [
    {
     "data": {
      "text/plain": [
       "legalities_x    {'standard': 'legal', 'future': 'legal', 'hist...\n",
       "legalities_y    {'brawl': 'Legal', 'commander': 'Legal', 'duel...\n",
       "Name: 32, dtype: object"
      ]
     },
     "execution_count": 364,
     "metadata": {},
     "output_type": "execute_result"
    }
   ],
   "source": [
    "final_df[['legalities_x','legalities_y']].iloc[30]"
   ]
  },
  {
   "cell_type": "code",
   "execution_count": 365,
   "metadata": {},
   "outputs": [],
   "source": [
    "final_df.drop('legalities_y',axis=1,inplace=True)"
   ]
  },
  {
   "cell_type": "code",
   "execution_count": 366,
   "metadata": {},
   "outputs": [
    {
     "data": {
      "text/html": [
       "<div>\n",
       "<style scoped>\n",
       "    .dataframe tbody tr th:only-of-type {\n",
       "        vertical-align: middle;\n",
       "    }\n",
       "\n",
       "    .dataframe tbody tr th {\n",
       "        vertical-align: top;\n",
       "    }\n",
       "\n",
       "    .dataframe thead th {\n",
       "        text-align: right;\n",
       "    }\n",
       "</style>\n",
       "<table border=\"1\" class=\"dataframe\">\n",
       "  <thead>\n",
       "    <tr style=\"text-align: right;\">\n",
       "      <th></th>\n",
       "      <th>loyalty_x</th>\n",
       "      <th>loyalty_y</th>\n",
       "    </tr>\n",
       "  </thead>\n",
       "  <tbody>\n",
       "    <tr>\n",
       "      <th>0</th>\n",
       "      <td>NaN</td>\n",
       "      <td>NaN</td>\n",
       "    </tr>\n",
       "    <tr>\n",
       "      <th>1</th>\n",
       "      <td>NaN</td>\n",
       "      <td>NaN</td>\n",
       "    </tr>\n",
       "    <tr>\n",
       "      <th>2</th>\n",
       "      <td>NaN</td>\n",
       "      <td>NaN</td>\n",
       "    </tr>\n",
       "    <tr>\n",
       "      <th>3</th>\n",
       "      <td>NaN</td>\n",
       "      <td>NaN</td>\n",
       "    </tr>\n",
       "    <tr>\n",
       "      <th>4</th>\n",
       "      <td>NaN</td>\n",
       "      <td>NaN</td>\n",
       "    </tr>\n",
       "    <tr>\n",
       "      <th>...</th>\n",
       "      <td>...</td>\n",
       "      <td>...</td>\n",
       "    </tr>\n",
       "    <tr>\n",
       "      <th>24979</th>\n",
       "      <td>NaN</td>\n",
       "      <td>NaN</td>\n",
       "    </tr>\n",
       "    <tr>\n",
       "      <th>24980</th>\n",
       "      <td>NaN</td>\n",
       "      <td>NaN</td>\n",
       "    </tr>\n",
       "    <tr>\n",
       "      <th>24981</th>\n",
       "      <td>NaN</td>\n",
       "      <td>NaN</td>\n",
       "    </tr>\n",
       "    <tr>\n",
       "      <th>24982</th>\n",
       "      <td>NaN</td>\n",
       "      <td>NaN</td>\n",
       "    </tr>\n",
       "    <tr>\n",
       "      <th>24983</th>\n",
       "      <td>NaN</td>\n",
       "      <td>NaN</td>\n",
       "    </tr>\n",
       "  </tbody>\n",
       "</table>\n",
       "<p>23983 rows × 2 columns</p>\n",
       "</div>"
      ],
      "text/plain": [
       "      loyalty_x loyalty_y\n",
       "0           NaN       NaN\n",
       "1           NaN       NaN\n",
       "2           NaN       NaN\n",
       "3           NaN       NaN\n",
       "4           NaN       NaN\n",
       "...         ...       ...\n",
       "24979       NaN       NaN\n",
       "24980       NaN       NaN\n",
       "24981       NaN       NaN\n",
       "24982       NaN       NaN\n",
       "24983       NaN       NaN\n",
       "\n",
       "[23983 rows x 2 columns]"
      ]
     },
     "execution_count": 366,
     "metadata": {},
     "output_type": "execute_result"
    }
   ],
   "source": [
    "prova = final_df[final_df.loyalty_x != final_df.loyalty_y] #sono quasi tutti diversi\n",
    "prova[['loyalty_x','loyalty_y']] #ok sono tutti i Nan"
   ]
  },
  {
   "cell_type": "code",
   "execution_count": 367,
   "metadata": {},
   "outputs": [],
   "source": [
    "final_df.drop('loyalty_y',axis = 1, inplace = True)"
   ]
  },
  {
   "cell_type": "code",
   "execution_count": 368,
   "metadata": {},
   "outputs": [
    {
     "data": {
      "text/plain": [
       "flavor_text              0\n",
       "card_back_id             0\n",
       "artist                   0\n",
       "artist_ids               1\n",
       "illustration_id          0\n",
       "border_color             0\n",
       "frame                    0\n",
       "full_art                 0\n",
       "textless                 0\n",
       "booster                  0\n",
       "story_spotlight          0\n",
       "related_uris             0\n",
       "edhrec_rank              0\n",
       "card_faces           24299\n",
       "all_parts                0\n",
       "loyalty_x            23983\n",
       "colorIdentity            0\n",
       "convertedManaCost        0\n",
       "foreignData              0\n",
       "manaCost              2415\n",
       "printings                0\n",
       "rulings                  0\n",
       "scryfallOracleId         0\n",
       "subtypes                 0\n",
       "supertypes               0\n",
       "text                     0\n",
       "type                     0\n",
       "types                    0\n",
       "uuid                     0\n",
       "edhrecRank               0\n",
       "isReserved               0\n",
       "leadershipSkills         0\n",
       "prices                   0\n",
       "dtype: int64"
      ]
     },
     "execution_count": 368,
     "metadata": {},
     "output_type": "execute_result"
    }
   ],
   "source": [
    "final_df.isna().sum()[40:]"
   ]
  },
  {
   "cell_type": "markdown",
   "metadata": {},
   "source": [
    "# tolgo le colonne doppie es: edhrec_rank e edhrecRank"
   ]
  },
  {
   "cell_type": "code",
   "execution_count": 369,
   "metadata": {},
   "outputs": [
    {
     "data": {
      "text/html": [
       "<div>\n",
       "<style scoped>\n",
       "    .dataframe tbody tr th:only-of-type {\n",
       "        vertical-align: middle;\n",
       "    }\n",
       "\n",
       "    .dataframe tbody tr th {\n",
       "        vertical-align: top;\n",
       "    }\n",
       "\n",
       "    .dataframe thead th {\n",
       "        text-align: right;\n",
       "    }\n",
       "</style>\n",
       "<table border=\"1\" class=\"dataframe\">\n",
       "  <thead>\n",
       "    <tr style=\"text-align: right;\">\n",
       "      <th></th>\n",
       "      <th>manaCost</th>\n",
       "      <th>mana_cost</th>\n",
       "    </tr>\n",
       "  </thead>\n",
       "  <tbody>\n",
       "    <tr>\n",
       "      <th>9</th>\n",
       "      <td>NaN</td>\n",
       "      <td></td>\n",
       "    </tr>\n",
       "    <tr>\n",
       "      <th>10</th>\n",
       "      <td>NaN</td>\n",
       "      <td></td>\n",
       "    </tr>\n",
       "    <tr>\n",
       "      <th>21</th>\n",
       "      <td>NaN</td>\n",
       "      <td></td>\n",
       "    </tr>\n",
       "    <tr>\n",
       "      <th>22</th>\n",
       "      <td>NaN</td>\n",
       "      <td></td>\n",
       "    </tr>\n",
       "    <tr>\n",
       "      <th>23</th>\n",
       "      <td>NaN</td>\n",
       "      <td></td>\n",
       "    </tr>\n",
       "    <tr>\n",
       "      <th>...</th>\n",
       "      <td>...</td>\n",
       "      <td>...</td>\n",
       "    </tr>\n",
       "    <tr>\n",
       "      <th>24550</th>\n",
       "      <td>NaN</td>\n",
       "      <td></td>\n",
       "    </tr>\n",
       "    <tr>\n",
       "      <th>24840</th>\n",
       "      <td>NaN</td>\n",
       "      <td></td>\n",
       "    </tr>\n",
       "    <tr>\n",
       "      <th>24841</th>\n",
       "      <td>NaN</td>\n",
       "      <td></td>\n",
       "    </tr>\n",
       "    <tr>\n",
       "      <th>24842</th>\n",
       "      <td>NaN</td>\n",
       "      <td></td>\n",
       "    </tr>\n",
       "    <tr>\n",
       "      <th>24843</th>\n",
       "      <td>NaN</td>\n",
       "      <td></td>\n",
       "    </tr>\n",
       "  </tbody>\n",
       "</table>\n",
       "<p>2415 rows × 2 columns</p>\n",
       "</div>"
      ],
      "text/plain": [
       "      manaCost mana_cost\n",
       "9          NaN          \n",
       "10         NaN          \n",
       "21         NaN          \n",
       "22         NaN          \n",
       "23         NaN          \n",
       "...        ...       ...\n",
       "24550      NaN          \n",
       "24840      NaN          \n",
       "24841      NaN          \n",
       "24842      NaN          \n",
       "24843      NaN          \n",
       "\n",
       "[2415 rows x 2 columns]"
      ]
     },
     "execution_count": 369,
     "metadata": {},
     "output_type": "execute_result"
    }
   ],
   "source": [
    "#mana_cost con manaCost\n",
    "final_df[['mana_cost','manaCost']] #ok, sono scritti nello stesso modo (str)\n",
    "#cerco se ce ne sono di diversi\n",
    "final_df[final_df.mana_cost != final_df.manaCost] #è uguale al numero dei valori nulli\n",
    "#testo\n",
    "prova = final_df[final_df.mana_cost != final_df.manaCost]\n",
    "prova[['manaCost','mana_cost']] #ok sono solo Nan"
   ]
  },
  {
   "cell_type": "code",
   "execution_count": 370,
   "metadata": {},
   "outputs": [],
   "source": [
    "final_df.drop('manaCost',axis=1,inplace=True)"
   ]
  },
  {
   "cell_type": "code",
   "execution_count": 371,
   "metadata": {},
   "outputs": [
    {
     "data": {
      "text/html": [
       "<div>\n",
       "<style scoped>\n",
       "    .dataframe tbody tr th:only-of-type {\n",
       "        vertical-align: middle;\n",
       "    }\n",
       "\n",
       "    .dataframe tbody tr th {\n",
       "        vertical-align: top;\n",
       "    }\n",
       "\n",
       "    .dataframe thead th {\n",
       "        text-align: right;\n",
       "    }\n",
       "</style>\n",
       "<table border=\"1\" class=\"dataframe\">\n",
       "  <thead>\n",
       "    <tr style=\"text-align: right;\">\n",
       "      <th></th>\n",
       "      <th>object</th>\n",
       "      <th>id</th>\n",
       "      <th>oracle_id</th>\n",
       "      <th>multiverse_ids</th>\n",
       "      <th>name_x</th>\n",
       "      <th>lang</th>\n",
       "      <th>released_at</th>\n",
       "      <th>uri</th>\n",
       "      <th>scryfall_uri</th>\n",
       "      <th>layout_x</th>\n",
       "      <th>...</th>\n",
       "      <th>subtypes</th>\n",
       "      <th>supertypes</th>\n",
       "      <th>text</th>\n",
       "      <th>type</th>\n",
       "      <th>types</th>\n",
       "      <th>uuid</th>\n",
       "      <th>edhrecRank</th>\n",
       "      <th>isReserved</th>\n",
       "      <th>leadershipSkills</th>\n",
       "      <th>prices</th>\n",
       "    </tr>\n",
       "  </thead>\n",
       "  <tbody>\n",
       "  </tbody>\n",
       "</table>\n",
       "<p>0 rows × 72 columns</p>\n",
       "</div>"
      ],
      "text/plain": [
       "Empty DataFrame\n",
       "Columns: [object, id, oracle_id, multiverse_ids, name_x, lang, released_at, uri, scryfall_uri, layout_x, highres_image, image_uris, mana_cost, cmc, type_line, oracle_text, power_x, toughness_x, colors_x, color_identity, legalities_x, games, reserved, foil, nonfoil, oversized, promo, reprint, variation, set, set_name, set_type, set_uri, set_search_uri, scryfall_set_uri, rulings_uri, prints_search_uri, collector_number, digital, rarity, flavor_text, card_back_id, artist, artist_ids, illustration_id, border_color, frame, full_art, textless, booster, story_spotlight, related_uris, edhrec_rank, card_faces, all_parts, loyalty_x, colorIdentity, convertedManaCost, foreignData, printings, rulings, scryfallOracleId, subtypes, supertypes, text, type, types, uuid, edhrecRank, isReserved, leadershipSkills, prices]\n",
       "Index: []\n",
       "\n",
       "[0 rows x 72 columns]"
      ]
     },
     "execution_count": 371,
     "metadata": {},
     "output_type": "execute_result"
    }
   ],
   "source": [
    "#cmc con convertedManaCost\n",
    "final_df[final_df.cmc != final_df.convertedManaCost]"
   ]
  },
  {
   "cell_type": "code",
   "execution_count": 372,
   "metadata": {},
   "outputs": [],
   "source": [
    "final_df.drop('convertedManaCost',axis=1,inplace=True)"
   ]
  },
  {
   "cell_type": "code",
   "execution_count": 373,
   "metadata": {},
   "outputs": [
    {
     "data": {
      "text/html": [
       "<div>\n",
       "<style scoped>\n",
       "    .dataframe tbody tr th:only-of-type {\n",
       "        vertical-align: middle;\n",
       "    }\n",
       "\n",
       "    .dataframe tbody tr th {\n",
       "        vertical-align: top;\n",
       "    }\n",
       "\n",
       "    .dataframe thead th {\n",
       "        text-align: right;\n",
       "    }\n",
       "</style>\n",
       "<table border=\"1\" class=\"dataframe\">\n",
       "  <thead>\n",
       "    <tr style=\"text-align: right;\">\n",
       "      <th></th>\n",
       "      <th>object</th>\n",
       "      <th>id</th>\n",
       "      <th>oracle_id</th>\n",
       "      <th>multiverse_ids</th>\n",
       "      <th>name_x</th>\n",
       "      <th>lang</th>\n",
       "      <th>released_at</th>\n",
       "      <th>uri</th>\n",
       "      <th>scryfall_uri</th>\n",
       "      <th>layout_x</th>\n",
       "      <th>...</th>\n",
       "      <th>subtypes</th>\n",
       "      <th>supertypes</th>\n",
       "      <th>text</th>\n",
       "      <th>type</th>\n",
       "      <th>types</th>\n",
       "      <th>uuid</th>\n",
       "      <th>edhrecRank</th>\n",
       "      <th>isReserved</th>\n",
       "      <th>leadershipSkills</th>\n",
       "      <th>prices</th>\n",
       "    </tr>\n",
       "  </thead>\n",
       "  <tbody>\n",
       "  </tbody>\n",
       "</table>\n",
       "<p>0 rows × 71 columns</p>\n",
       "</div>"
      ],
      "text/plain": [
       "Empty DataFrame\n",
       "Columns: [object, id, oracle_id, multiverse_ids, name_x, lang, released_at, uri, scryfall_uri, layout_x, highres_image, image_uris, mana_cost, cmc, type_line, oracle_text, power_x, toughness_x, colors_x, color_identity, legalities_x, games, reserved, foil, nonfoil, oversized, promo, reprint, variation, set, set_name, set_type, set_uri, set_search_uri, scryfall_set_uri, rulings_uri, prints_search_uri, collector_number, digital, rarity, flavor_text, card_back_id, artist, artist_ids, illustration_id, border_color, frame, full_art, textless, booster, story_spotlight, related_uris, edhrec_rank, card_faces, all_parts, loyalty_x, colorIdentity, foreignData, printings, rulings, scryfallOracleId, subtypes, supertypes, text, type, types, uuid, edhrecRank, isReserved, leadershipSkills, prices]\n",
       "Index: []\n",
       "\n",
       "[0 rows x 71 columns]"
      ]
     },
     "execution_count": 373,
     "metadata": {},
     "output_type": "execute_result"
    }
   ],
   "source": [
    "#oracle_id con scryfallOracleId , quello utilizzato per merge scry e allcards\n",
    "final_df[final_df.oracle_id != final_df.scryfallOracleId]"
   ]
  },
  {
   "cell_type": "code",
   "execution_count": 374,
   "metadata": {},
   "outputs": [],
   "source": [
    "final_df.drop('scryfallOracleId',axis=1,inplace=True)"
   ]
  },
  {
   "cell_type": "code",
   "execution_count": 375,
   "metadata": {},
   "outputs": [
    {
     "data": {
      "text/html": [
       "<div>\n",
       "<style scoped>\n",
       "    .dataframe tbody tr th:only-of-type {\n",
       "        vertical-align: middle;\n",
       "    }\n",
       "\n",
       "    .dataframe tbody tr th {\n",
       "        vertical-align: top;\n",
       "    }\n",
       "\n",
       "    .dataframe thead th {\n",
       "        text-align: right;\n",
       "    }\n",
       "</style>\n",
       "<table border=\"1\" class=\"dataframe\">\n",
       "  <thead>\n",
       "    <tr style=\"text-align: right;\">\n",
       "      <th></th>\n",
       "      <th>text</th>\n",
       "      <th>oracle_text</th>\n",
       "    </tr>\n",
       "  </thead>\n",
       "  <tbody>\n",
       "    <tr>\n",
       "      <th>49</th>\n",
       "      <td>[+1]: Put two +1/+1 counters on up to one targ...</td>\n",
       "      <td>+1: Put two +1/+1 counters on up to one target...</td>\n",
       "    </tr>\n",
       "    <tr>\n",
       "      <th>56</th>\n",
       "      <td>[+1]: Up to one target creature gets +3/+0 and...</td>\n",
       "      <td>+1: Up to one target creature gets +3/+0 and g...</td>\n",
       "    </tr>\n",
       "    <tr>\n",
       "      <th>180</th>\n",
       "      <td>[+1]: Draw a card, then discard a card.\\n[+1]:...</td>\n",
       "      <td>+1: Draw a card, then discard a card.\\n+1: Tar...</td>\n",
       "    </tr>\n",
       "    <tr>\n",
       "      <th>181</th>\n",
       "      <td>[+1]: Draw a card, then discard a card.\\n[+1]:...</td>\n",
       "      <td>+1: Draw a card, then discard a card.\\n+1: Tar...</td>\n",
       "    </tr>\n",
       "    <tr>\n",
       "      <th>182</th>\n",
       "      <td>[+2]: Create a Food token. (It's an artifact w...</td>\n",
       "      <td>+2: Create a Food token. (It's an artifact wit...</td>\n",
       "    </tr>\n",
       "    <tr>\n",
       "      <th>...</th>\n",
       "      <td>...</td>\n",
       "      <td>...</td>\n",
       "    </tr>\n",
       "    <tr>\n",
       "      <th>24771</th>\n",
       "      <td>no text</td>\n",
       "      <td></td>\n",
       "    </tr>\n",
       "    <tr>\n",
       "      <th>24893</th>\n",
       "      <td>no text</td>\n",
       "      <td></td>\n",
       "    </tr>\n",
       "    <tr>\n",
       "      <th>24929</th>\n",
       "      <td>no text</td>\n",
       "      <td></td>\n",
       "    </tr>\n",
       "    <tr>\n",
       "      <th>24930</th>\n",
       "      <td>no text</td>\n",
       "      <td></td>\n",
       "    </tr>\n",
       "    <tr>\n",
       "      <th>24953</th>\n",
       "      <td>no text</td>\n",
       "      <td></td>\n",
       "    </tr>\n",
       "  </tbody>\n",
       "</table>\n",
       "<p>698 rows × 2 columns</p>\n",
       "</div>"
      ],
      "text/plain": [
       "                                                    text  \\\n",
       "49     [+1]: Put two +1/+1 counters on up to one targ...   \n",
       "56     [+1]: Up to one target creature gets +3/+0 and...   \n",
       "180    [+1]: Draw a card, then discard a card.\\n[+1]:...   \n",
       "181    [+1]: Draw a card, then discard a card.\\n[+1]:...   \n",
       "182    [+2]: Create a Food token. (It's an artifact w...   \n",
       "...                                                  ...   \n",
       "24771                                            no text   \n",
       "24893                                            no text   \n",
       "24929                                            no text   \n",
       "24930                                            no text   \n",
       "24953                                            no text   \n",
       "\n",
       "                                             oracle_text  \n",
       "49     +1: Put two +1/+1 counters on up to one target...  \n",
       "56     +1: Up to one target creature gets +3/+0 and g...  \n",
       "180    +1: Draw a card, then discard a card.\\n+1: Tar...  \n",
       "181    +1: Draw a card, then discard a card.\\n+1: Tar...  \n",
       "182    +2: Create a Food token. (It's an artifact wit...  \n",
       "...                                                  ...  \n",
       "24771                                                     \n",
       "24893                                                     \n",
       "24929                                                     \n",
       "24930                                                     \n",
       "24953                                                     \n",
       "\n",
       "[698 rows x 2 columns]"
      ]
     },
     "execution_count": 375,
     "metadata": {},
     "output_type": "execute_result"
    }
   ],
   "source": [
    "#text con oracle_text\n",
    "final_df[final_df.text != final_df.oracle_text] #ok alcuni sono diversi, capiamo\n",
    "prova = final_df[final_df.text != final_df.oracle_text]\n",
    "prova[['text', 'oracle_text']] #ok sono 'uguali' cambia la stringa per i plainswalker (in text ce [+loyalty] e non solo +loyalty), e i valori no text con Nan\n",
    "#tengo text"
   ]
  },
  {
   "cell_type": "code",
   "execution_count": 376,
   "metadata": {},
   "outputs": [],
   "source": [
    "final_df.drop('oracle_text',axis=1,inplace=True)"
   ]
  },
  {
   "cell_type": "code",
   "execution_count": 377,
   "metadata": {},
   "outputs": [
    {
     "data": {
      "text/html": [
       "<div>\n",
       "<style scoped>\n",
       "    .dataframe tbody tr th:only-of-type {\n",
       "        vertical-align: middle;\n",
       "    }\n",
       "\n",
       "    .dataframe tbody tr th {\n",
       "        vertical-align: top;\n",
       "    }\n",
       "\n",
       "    .dataframe thead th {\n",
       "        text-align: right;\n",
       "    }\n",
       "</style>\n",
       "<table border=\"1\" class=\"dataframe\">\n",
       "  <thead>\n",
       "    <tr style=\"text-align: right;\">\n",
       "      <th></th>\n",
       "      <th>object</th>\n",
       "      <th>id</th>\n",
       "      <th>oracle_id</th>\n",
       "      <th>multiverse_ids</th>\n",
       "      <th>name_x</th>\n",
       "      <th>lang</th>\n",
       "      <th>released_at</th>\n",
       "      <th>uri</th>\n",
       "      <th>scryfall_uri</th>\n",
       "      <th>layout_x</th>\n",
       "      <th>...</th>\n",
       "      <th>subtypes</th>\n",
       "      <th>supertypes</th>\n",
       "      <th>text</th>\n",
       "      <th>type</th>\n",
       "      <th>types</th>\n",
       "      <th>uuid</th>\n",
       "      <th>edhrecRank</th>\n",
       "      <th>isReserved</th>\n",
       "      <th>leadershipSkills</th>\n",
       "      <th>prices</th>\n",
       "    </tr>\n",
       "  </thead>\n",
       "  <tbody>\n",
       "  </tbody>\n",
       "</table>\n",
       "<p>0 rows × 69 columns</p>\n",
       "</div>"
      ],
      "text/plain": [
       "Empty DataFrame\n",
       "Columns: [object, id, oracle_id, multiverse_ids, name_x, lang, released_at, uri, scryfall_uri, layout_x, highres_image, image_uris, mana_cost, cmc, type_line, power_x, toughness_x, colors_x, color_identity, legalities_x, games, reserved, foil, nonfoil, oversized, promo, reprint, variation, set, set_name, set_type, set_uri, set_search_uri, scryfall_set_uri, rulings_uri, prints_search_uri, collector_number, digital, rarity, flavor_text, card_back_id, artist, artist_ids, illustration_id, border_color, frame, full_art, textless, booster, story_spotlight, related_uris, edhrec_rank, card_faces, all_parts, loyalty_x, colorIdentity, foreignData, printings, rulings, subtypes, supertypes, text, type, types, uuid, edhrecRank, isReserved, leadershipSkills, prices]\n",
       "Index: []\n",
       "\n",
       "[0 rows x 69 columns]"
      ]
     },
     "execution_count": 377,
     "metadata": {},
     "output_type": "execute_result"
    }
   ],
   "source": [
    "#type_line con type (in ogni caso tengo types che è type sotto forma fi lista)\n",
    "final_df[final_df.type_line != final_df.type]"
   ]
  },
  {
   "cell_type": "code",
   "execution_count": 378,
   "metadata": {},
   "outputs": [],
   "source": [
    "final_df.drop('type_line',axis=1,inplace=True)"
   ]
  },
  {
   "cell_type": "code",
   "execution_count": 379,
   "metadata": {},
   "outputs": [
    {
     "data": {
      "text/html": [
       "<div>\n",
       "<style scoped>\n",
       "    .dataframe tbody tr th:only-of-type {\n",
       "        vertical-align: middle;\n",
       "    }\n",
       "\n",
       "    .dataframe tbody tr th {\n",
       "        vertical-align: top;\n",
       "    }\n",
       "\n",
       "    .dataframe thead th {\n",
       "        text-align: right;\n",
       "    }\n",
       "</style>\n",
       "<table border=\"1\" class=\"dataframe\">\n",
       "  <thead>\n",
       "    <tr style=\"text-align: right;\">\n",
       "      <th></th>\n",
       "      <th>edhrec_rank</th>\n",
       "      <th>edhrecRank</th>\n",
       "    </tr>\n",
       "  </thead>\n",
       "  <tbody>\n",
       "    <tr>\n",
       "      <th>5</th>\n",
       "      <td>19267.0</td>\n",
       "      <td>19159</td>\n",
       "    </tr>\n",
       "    <tr>\n",
       "      <th>6</th>\n",
       "      <td>19267.0</td>\n",
       "      <td>19159</td>\n",
       "    </tr>\n",
       "    <tr>\n",
       "      <th>7</th>\n",
       "      <td>19267.0</td>\n",
       "      <td>19159</td>\n",
       "    </tr>\n",
       "    <tr>\n",
       "      <th>8</th>\n",
       "      <td>19267.0</td>\n",
       "      <td>19159</td>\n",
       "    </tr>\n",
       "    <tr>\n",
       "      <th>9</th>\n",
       "      <td>4474.0</td>\n",
       "      <td>4535</td>\n",
       "    </tr>\n",
       "    <tr>\n",
       "      <th>...</th>\n",
       "      <td>...</td>\n",
       "      <td>...</td>\n",
       "    </tr>\n",
       "    <tr>\n",
       "      <th>24979</th>\n",
       "      <td>13440.0</td>\n",
       "      <td>13595</td>\n",
       "    </tr>\n",
       "    <tr>\n",
       "      <th>24980</th>\n",
       "      <td>12617.0</td>\n",
       "      <td>12313</td>\n",
       "    </tr>\n",
       "    <tr>\n",
       "      <th>24981</th>\n",
       "      <td>15645.0</td>\n",
       "      <td>16228</td>\n",
       "    </tr>\n",
       "    <tr>\n",
       "      <th>24982</th>\n",
       "      <td>12500.0</td>\n",
       "      <td>12255</td>\n",
       "    </tr>\n",
       "    <tr>\n",
       "      <th>24983</th>\n",
       "      <td>13755.0</td>\n",
       "      <td>14576</td>\n",
       "    </tr>\n",
       "  </tbody>\n",
       "</table>\n",
       "<p>22243 rows × 2 columns</p>\n",
       "</div>"
      ],
      "text/plain": [
       "      edhrec_rank edhrecRank\n",
       "5         19267.0      19159\n",
       "6         19267.0      19159\n",
       "7         19267.0      19159\n",
       "8         19267.0      19159\n",
       "9          4474.0       4535\n",
       "...           ...        ...\n",
       "24979     13440.0      13595\n",
       "24980     12617.0      12313\n",
       "24981     15645.0      16228\n",
       "24982     12500.0      12255\n",
       "24983     13755.0      14576\n",
       "\n",
       "[22243 rows x 2 columns]"
      ]
     },
     "execution_count": 379,
     "metadata": {},
     "output_type": "execute_result"
    }
   ],
   "source": [
    "#edhrec_rank con edhrecRank\n",
    "final_df[final_df.edhrec_rank != final_df.edhrecRank] #ok, tanti diversi, capiamo\n",
    "prova = final_df[final_df.edhrec_rank != final_df.edhrecRank]\n",
    "prova[['edhrec_rank','edhrecRank']] #AIUTO, NON SO QUALE SIA PIù RECENTE, DEVO CHIEDERE!!!!\n",
    "#DA FINIRE"
   ]
  },
  {
   "cell_type": "markdown",
   "metadata": {},
   "source": [
    "#decidere ancora quale droppare, dropperei edhrec_rank"
   ]
  },
  {
   "cell_type": "code",
   "execution_count": 380,
   "metadata": {},
   "outputs": [],
   "source": [
    "final_df.drop('edhrec_rank',axis=1,inplace=True)"
   ]
  },
  {
   "cell_type": "code",
   "execution_count": 381,
   "metadata": {},
   "outputs": [
    {
     "data": {
      "text/html": [
       "<div>\n",
       "<style scoped>\n",
       "    .dataframe tbody tr th:only-of-type {\n",
       "        vertical-align: middle;\n",
       "    }\n",
       "\n",
       "    .dataframe tbody tr th {\n",
       "        vertical-align: top;\n",
       "    }\n",
       "\n",
       "    .dataframe thead th {\n",
       "        text-align: right;\n",
       "    }\n",
       "</style>\n",
       "<table border=\"1\" class=\"dataframe\">\n",
       "  <thead>\n",
       "    <tr style=\"text-align: right;\">\n",
       "      <th></th>\n",
       "      <th>reserved</th>\n",
       "      <th>isReserved</th>\n",
       "    </tr>\n",
       "  </thead>\n",
       "  <tbody>\n",
       "    <tr>\n",
       "      <th>0</th>\n",
       "      <td>False</td>\n",
       "      <td>false</td>\n",
       "    </tr>\n",
       "    <tr>\n",
       "      <th>1</th>\n",
       "      <td>False</td>\n",
       "      <td>false</td>\n",
       "    </tr>\n",
       "    <tr>\n",
       "      <th>2</th>\n",
       "      <td>False</td>\n",
       "      <td>false</td>\n",
       "    </tr>\n",
       "    <tr>\n",
       "      <th>3</th>\n",
       "      <td>False</td>\n",
       "      <td>false</td>\n",
       "    </tr>\n",
       "    <tr>\n",
       "      <th>4</th>\n",
       "      <td>False</td>\n",
       "      <td>false</td>\n",
       "    </tr>\n",
       "    <tr>\n",
       "      <th>...</th>\n",
       "      <td>...</td>\n",
       "      <td>...</td>\n",
       "    </tr>\n",
       "    <tr>\n",
       "      <th>24978</th>\n",
       "      <td>False</td>\n",
       "      <td>false</td>\n",
       "    </tr>\n",
       "    <tr>\n",
       "      <th>24979</th>\n",
       "      <td>False</td>\n",
       "      <td>false</td>\n",
       "    </tr>\n",
       "    <tr>\n",
       "      <th>24980</th>\n",
       "      <td>False</td>\n",
       "      <td>false</td>\n",
       "    </tr>\n",
       "    <tr>\n",
       "      <th>24982</th>\n",
       "      <td>False</td>\n",
       "      <td>false</td>\n",
       "    </tr>\n",
       "    <tr>\n",
       "      <th>24983</th>\n",
       "      <td>False</td>\n",
       "      <td>false</td>\n",
       "    </tr>\n",
       "  </tbody>\n",
       "</table>\n",
       "<p>23650 rows × 2 columns</p>\n",
       "</div>"
      ],
      "text/plain": [
       "       reserved isReserved\n",
       "0         False      false\n",
       "1         False      false\n",
       "2         False      false\n",
       "3         False      false\n",
       "4         False      false\n",
       "...         ...        ...\n",
       "24978     False      false\n",
       "24979     False      false\n",
       "24980     False      false\n",
       "24982     False      false\n",
       "24983     False      false\n",
       "\n",
       "[23650 rows x 2 columns]"
      ]
     },
     "execution_count": 381,
     "metadata": {},
     "output_type": "execute_result"
    }
   ],
   "source": [
    "#reserved con isReserved\n",
    "final_df[final_df.reserved != final_df.isReserved] #ok, sono tanti, capiamo\n",
    "prova= final_df[final_df.reserved != final_df.isReserved]\n",
    "prova[['reserved','isReserved']] #ok è solo scritto in maniera diversa\n",
    "#tendo reserved (bool)"
   ]
  },
  {
   "cell_type": "code",
   "execution_count": 382,
   "metadata": {},
   "outputs": [],
   "source": [
    "final_df.drop('isReserved',axis=1,inplace=True)"
   ]
  },
  {
   "cell_type": "code",
   "execution_count": 383,
   "metadata": {},
   "outputs": [
    {
     "data": {
      "text/plain": [
       "0                                                       []\n",
       "1                                                       []\n",
       "2                                                       []\n",
       "3                                                       []\n",
       "4                                                       []\n",
       "                               ...                        \n",
       "24979    [{'date': '2005-04-01', 'text': 'The land can ...\n",
       "24980                                                   []\n",
       "24981    [{'date': '2004-10-04', 'text': 'Does not allo...\n",
       "24982                                                   []\n",
       "24983    [{'date': '2008-10-01', 'text': 'If a creature...\n",
       "Name: rulings, Length: 24299, dtype: object"
      ]
     },
     "execution_count": 383,
     "metadata": {},
     "output_type": "execute_result"
    }
   ],
   "source": [
    "final_df.rulings[final_df.rulings != '']\n",
    "final_df.rulings #ok "
   ]
  },
  {
   "cell_type": "code",
   "execution_count": 384,
   "metadata": {},
   "outputs": [
    {
     "data": {
      "text/plain": [
       "[{'date': '2019-10-04',\n",
       "  'text': 'Chulane’s triggered ability resolves before the spell that caused it to trigger. It resolves even if that spell is countered.'},\n",
       " {'date': '2019-10-04',\n",
       "  'text': 'Chulane’s triggered ability doesn’t count as playing a land. It can put a land card onto the battlefield even if you’ve already played your land for the turn, and even if it’s not your turn.'}]"
      ]
     },
     "execution_count": 384,
     "metadata": {},
     "output_type": "execute_result"
    }
   ],
   "source": [
    "final_df.rulings[30]"
   ]
  },
  {
   "cell_type": "code",
   "execution_count": 385,
   "metadata": {},
   "outputs": [
    {
     "data": {
      "text/plain": [
       "0        []\n",
       "1        []\n",
       "2        []\n",
       "3        []\n",
       "4        []\n",
       "         ..\n",
       "24975    []\n",
       "24976    []\n",
       "24977    []\n",
       "24980    []\n",
       "24982    []\n",
       "Name: rulings, Length: 11699, dtype: object"
      ]
     },
     "execution_count": 385,
     "metadata": {},
     "output_type": "execute_result"
    }
   ],
   "source": [
    "final_df[final_df.rulings.str.len() == 0].rulings"
   ]
  },
  {
   "cell_type": "code",
   "execution_count": 386,
   "metadata": {},
   "outputs": [],
   "source": [
    "#final_df.rulings[0]\n",
    "#lista_rule = ['no additional rules']\n",
    "#final_df.loc[final_df.rulings.str.len() == 0, 'rulings'] = lista_rule #non funziona\n"
   ]
  },
  {
   "cell_type": "code",
   "execution_count": 387,
   "metadata": {},
   "outputs": [
    {
     "data": {
      "text/html": [
       "<div>\n",
       "<style scoped>\n",
       "    .dataframe tbody tr th:only-of-type {\n",
       "        vertical-align: middle;\n",
       "    }\n",
       "\n",
       "    .dataframe tbody tr th {\n",
       "        vertical-align: top;\n",
       "    }\n",
       "\n",
       "    .dataframe thead th {\n",
       "        text-align: right;\n",
       "    }\n",
       "</style>\n",
       "<table border=\"1\" class=\"dataframe\">\n",
       "  <thead>\n",
       "    <tr style=\"text-align: right;\">\n",
       "      <th></th>\n",
       "      <th>object</th>\n",
       "      <th>id</th>\n",
       "      <th>oracle_id</th>\n",
       "      <th>multiverse_ids</th>\n",
       "      <th>name_x</th>\n",
       "      <th>lang</th>\n",
       "      <th>released_at</th>\n",
       "      <th>uri</th>\n",
       "      <th>scryfall_uri</th>\n",
       "      <th>layout_x</th>\n",
       "      <th>...</th>\n",
       "      <th>rulings</th>\n",
       "      <th>subtypes</th>\n",
       "      <th>supertypes</th>\n",
       "      <th>text</th>\n",
       "      <th>type</th>\n",
       "      <th>types</th>\n",
       "      <th>uuid</th>\n",
       "      <th>edhrecRank</th>\n",
       "      <th>leadershipSkills</th>\n",
       "      <th>prices</th>\n",
       "    </tr>\n",
       "  </thead>\n",
       "  <tbody>\n",
       "  </tbody>\n",
       "</table>\n",
       "<p>0 rows × 66 columns</p>\n",
       "</div>"
      ],
      "text/plain": [
       "Empty DataFrame\n",
       "Columns: [object, id, oracle_id, multiverse_ids, name_x, lang, released_at, uri, scryfall_uri, layout_x, highres_image, image_uris, mana_cost, cmc, power_x, toughness_x, colors_x, color_identity, legalities_x, games, reserved, foil, nonfoil, oversized, promo, reprint, variation, set, set_name, set_type, set_uri, set_search_uri, scryfall_set_uri, rulings_uri, prints_search_uri, collector_number, digital, rarity, flavor_text, card_back_id, artist, artist_ids, illustration_id, border_color, frame, full_art, textless, booster, story_spotlight, related_uris, card_faces, all_parts, loyalty_x, colorIdentity, foreignData, printings, rulings, subtypes, supertypes, text, type, types, uuid, edhrecRank, leadershipSkills, prices]\n",
       "Index: []\n",
       "\n",
       "[0 rows x 66 columns]"
      ]
     },
     "execution_count": 387,
     "metadata": {},
     "output_type": "execute_result"
    }
   ],
   "source": [
    "#color_identity con colorIdentity\n",
    "final_df[final_df.color_identity != final_df.colorIdentity]"
   ]
  },
  {
   "cell_type": "code",
   "execution_count": 388,
   "metadata": {},
   "outputs": [],
   "source": [
    "final_df.drop('colorIdentity',axis=1,inplace=True)"
   ]
  },
  {
   "cell_type": "code",
   "execution_count": 389,
   "metadata": {},
   "outputs": [
    {
     "data": {
      "text/plain": [
       "Index(['object', 'id', 'oracle_id', 'multiverse_ids', 'name_x', 'lang',\n",
       "       'released_at', 'uri', 'scryfall_uri', 'layout_x', 'highres_image',\n",
       "       'image_uris', 'mana_cost', 'cmc', 'power_x', 'toughness_x', 'colors_x',\n",
       "       'color_identity', 'legalities_x', 'games', 'reserved', 'foil',\n",
       "       'nonfoil', 'oversized', 'promo', 'reprint', 'variation', 'set',\n",
       "       'set_name', 'set_type', 'set_uri', 'set_search_uri', 'scryfall_set_uri',\n",
       "       'rulings_uri', 'prints_search_uri', 'collector_number', 'digital',\n",
       "       'rarity', 'flavor_text', 'card_back_id', 'artist', 'artist_ids',\n",
       "       'illustration_id', 'border_color', 'frame', 'full_art', 'textless',\n",
       "       'booster', 'story_spotlight', 'related_uris', 'card_faces', 'all_parts',\n",
       "       'loyalty_x', 'foreignData', 'printings', 'rulings', 'subtypes',\n",
       "       'supertypes', 'text', 'type', 'types', 'uuid', 'edhrecRank',\n",
       "       'leadershipSkills', 'prices'],\n",
       "      dtype='object')"
      ]
     },
     "execution_count": 389,
     "metadata": {},
     "output_type": "execute_result"
    }
   ],
   "source": [
    "final_df.columns"
   ]
  },
  {
   "cell_type": "code",
   "execution_count": 390,
   "metadata": {},
   "outputs": [],
   "source": [
    "#printing e set sono simili, printing contiene dove la carta è stata anche ristampata"
   ]
  },
  {
   "cell_type": "code",
   "execution_count": 391,
   "metadata": {},
   "outputs": [],
   "source": [
    "#cardfaces lo elimino\n",
    "final_df.drop('card_faces',axis=1,inplace=True)"
   ]
  },
  {
   "cell_type": "markdown",
   "metadata": {},
   "source": [
    "modifico le colonne, tolgo la _x"
   ]
  },
  {
   "cell_type": "code",
   "execution_count": 392,
   "metadata": {},
   "outputs": [
    {
     "data": {
      "text/plain": [
       "Index(['object', 'id', 'oracle_id', 'multiverse_ids', 'name_x', 'lang',\n",
       "       'released_at', 'uri', 'scryfall_uri', 'layout_x', 'highres_image',\n",
       "       'image_uris', 'mana_cost', 'cmc', 'power_x', 'toughness_x', 'colors_x',\n",
       "       'color_identity', 'legalities_x', 'games', 'reserved', 'foil',\n",
       "       'nonfoil', 'oversized', 'promo', 'reprint', 'variation', 'set',\n",
       "       'set_name', 'set_type', 'set_uri', 'set_search_uri', 'scryfall_set_uri',\n",
       "       'rulings_uri', 'prints_search_uri', 'collector_number', 'digital',\n",
       "       'rarity', 'flavor_text', 'card_back_id', 'artist', 'artist_ids',\n",
       "       'illustration_id', 'border_color', 'frame', 'full_art', 'textless',\n",
       "       'booster', 'story_spotlight', 'related_uris', 'all_parts', 'loyalty_x',\n",
       "       'foreignData', 'printings', 'rulings', 'subtypes', 'supertypes', 'text',\n",
       "       'type', 'types', 'uuid', 'edhrecRank', 'leadershipSkills', 'prices'],\n",
       "      dtype='object')"
      ]
     },
     "execution_count": 392,
     "metadata": {},
     "output_type": "execute_result"
    }
   ],
   "source": [
    "final_df.columns"
   ]
  },
  {
   "cell_type": "code",
   "execution_count": 393,
   "metadata": {},
   "outputs": [
    {
     "data": {
      "text/plain": [
       "['object',\n",
       " 'id',\n",
       " 'oracle_id',\n",
       " 'multiverse_ids',\n",
       " 'name',\n",
       " 'lang',\n",
       " 'released_at',\n",
       " 'uri',\n",
       " 'scryfall_uri',\n",
       " 'layout',\n",
       " 'highres_image',\n",
       " 'image_uris',\n",
       " 'mana_cost',\n",
       " 'cmc',\n",
       " 'power',\n",
       " 'toughness',\n",
       " 'colors',\n",
       " 'color_identity',\n",
       " 'legalities',\n",
       " 'games',\n",
       " 'reserved',\n",
       " 'foil',\n",
       " 'nonfoil',\n",
       " 'oversized',\n",
       " 'promo',\n",
       " 'reprint',\n",
       " 'variation',\n",
       " 'set',\n",
       " 'set_name',\n",
       " 'set_type',\n",
       " 'set_uri',\n",
       " 'set_search_uri',\n",
       " 'scryfall_set_uri',\n",
       " 'rulings_uri',\n",
       " 'prints_search_uri',\n",
       " 'collector_number',\n",
       " 'digital',\n",
       " 'rarity',\n",
       " 'flavor_text',\n",
       " 'card_back_id',\n",
       " 'artist',\n",
       " 'artist_ids',\n",
       " 'illustration_id',\n",
       " 'border_color',\n",
       " 'frame',\n",
       " 'full_art',\n",
       " 'textless',\n",
       " 'booster',\n",
       " 'story_spotlight',\n",
       " 'related_uris',\n",
       " 'all_parts',\n",
       " 'loyalty',\n",
       " 'foreignData',\n",
       " 'printings',\n",
       " 'rulings',\n",
       " 'subtypes',\n",
       " 'supertypes',\n",
       " 'text',\n",
       " 'type',\n",
       " 'types',\n",
       " 'uuid',\n",
       " 'edhrecRank',\n",
       " 'leadershipSkills',\n",
       " 'prices']"
      ]
     },
     "execution_count": 393,
     "metadata": {},
     "output_type": "execute_result"
    }
   ],
   "source": [
    "colonne_originali = final_df.columns\n",
    "#test\n",
    "colonne_nuove = list(map(lambda x : x[:len(x)-2] if x[len(x)-2:] =='_x' else x , colonne_originali))\n",
    "colonne_nuove\n",
    "#tes = colonne_originali[4]\n",
    "#tes[len(tes)-2:]\n",
    "#APPLICARE I NOMI ALLE COLONNE PERFETTO!!!!!!!!!!!!!!"
   ]
  },
  {
   "cell_type": "code",
   "execution_count": 394,
   "metadata": {},
   "outputs": [
    {
     "data": {
      "text/plain": [
       "Index(['object', 'id', 'oracle_id', 'multiverse_ids', 'name_x', 'lang',\n",
       "       'released_at', 'uri', 'scryfall_uri', 'layout_x', 'highres_image',\n",
       "       'image_uris', 'mana_cost', 'cmc', 'power_x', 'toughness_x', 'colors_x',\n",
       "       'color_identity', 'legalities_x', 'games', 'reserved', 'foil',\n",
       "       'nonfoil', 'oversized', 'promo', 'reprint', 'variation', 'set',\n",
       "       'set_name', 'set_type', 'set_uri', 'set_search_uri', 'scryfall_set_uri',\n",
       "       'rulings_uri', 'prints_search_uri', 'collector_number', 'digital',\n",
       "       'rarity', 'flavor_text', 'card_back_id', 'artist', 'artist_ids',\n",
       "       'illustration_id', 'border_color', 'frame', 'full_art', 'textless',\n",
       "       'booster', 'story_spotlight', 'related_uris', 'all_parts', 'loyalty_x',\n",
       "       'foreignData', 'printings', 'rulings', 'subtypes', 'supertypes', 'text',\n",
       "       'type', 'types', 'uuid', 'edhrecRank', 'leadershipSkills', 'prices'],\n",
       "      dtype='object')"
      ]
     },
     "execution_count": 394,
     "metadata": {},
     "output_type": "execute_result"
    }
   ],
   "source": [
    "final_df.columns"
   ]
  },
  {
   "cell_type": "code",
   "execution_count": 395,
   "metadata": {},
   "outputs": [],
   "source": [
    "final_df.columns = colonne_nuove"
   ]
  },
  {
   "cell_type": "code",
   "execution_count": 396,
   "metadata": {},
   "outputs": [
    {
     "data": {
      "text/plain": [
       "object                                                           card\n",
       "id                               a47357be-9e4b-4581-94f5-0574754e2977\n",
       "oracle_id                        78124cd1-2658-43f3-a339-0755d84154d2\n",
       "multiverse_ids                                                     []\n",
       "name                                                Stonecoil Serpent\n",
       "                                          ...                        \n",
       "types                                            [Artifact, Creature]\n",
       "uuid                             b2f57541-313b-511c-8403-4792e335c042\n",
       "edhrecRank                                                       6925\n",
       "leadershipSkills                                             unusable\n",
       "prices              {'mtgo': {}, 'mtgoFoil': {}, 'paper': {}, 'pap...\n",
       "Name: 17, Length: 64, dtype: object"
      ]
     },
     "execution_count": 396,
     "metadata": {},
     "output_type": "execute_result"
    }
   ],
   "source": [
    "#attenzione forse ce un problema con gli indici capire come si comporta con iloc\n",
    "final_df.iloc[15] #OK INDEX è DIVERSO DALLA POSIZIONE EFFETTIVA, DIREI CHE LI AGGIORno\n",
    "#no elimino la colonna index\n",
    "#final_df.drop('index',axis=1,inplace=True) #ok non è una colonna, semplicemente gli index sono sfasati e se voglio usre iloc mi crea probelmi"
   ]
  },
  {
   "cell_type": "code",
   "execution_count": 397,
   "metadata": {},
   "outputs": [],
   "source": [
    "#final_clean_df = final_df"
   ]
  },
  {
   "cell_type": "code",
   "execution_count": 398,
   "metadata": {},
   "outputs": [
    {
     "data": {
      "text/plain": [
       "Index([0, 1, 2, 3, 4, 5, 6, 7, 8, 9, 10, 11, 12, 15, 16, 17, 18, 19, 20, 21], dtype='int64')"
      ]
     },
     "execution_count": 398,
     "metadata": {},
     "output_type": "execute_result"
    }
   ],
   "source": [
    "final_df.index[:20] #salto tra 12 e 15"
   ]
  },
  {
   "cell_type": "code",
   "execution_count": 399,
   "metadata": {},
   "outputs": [],
   "source": [
    "#test_a = final_df[0:20]\n",
    "#for indice,id in test_a.id.items():\n",
    "#    print(f'indice:{indice}, id:{id}')\n",
    "#    #quidi se faccio iloc[index] mi ritorna un valore diverso da quello che voglio\n",
    "#    print(f'test_a.iloc[{indice}] = {test_a.id.iloc[indice]}') \n",
    "\n",
    "#vedere indice 15 e iloc[15]"
   ]
  },
  {
   "cell_type": "code",
   "execution_count": 400,
   "metadata": {},
   "outputs": [],
   "source": [
    "#resetto gli indici\n",
    "#final_clean_df.columns\n",
    "final_df.reset_index(drop=True,inplace=True)"
   ]
  },
  {
   "cell_type": "code",
   "execution_count": 401,
   "metadata": {},
   "outputs": [
    {
     "name": "stdout",
     "output_type": "stream",
     "text": [
      "indice:0, id:dbcdbf7a-9294-47ad-9f93-c16b78c7463a\n",
      "test_a.iloc[0] = dbcdbf7a-9294-47ad-9f93-c16b78c7463a\n",
      "indice:1, id:acb3ce9b-ee4f-410a-8db3-e87aeb0a4444\n",
      "test_a.iloc[1] = acb3ce9b-ee4f-410a-8db3-e87aeb0a4444\n",
      "indice:2, id:17b2ed72-d0f0-4d8d-bb5e-dce08d157466\n",
      "test_a.iloc[2] = 17b2ed72-d0f0-4d8d-bb5e-dce08d157466\n",
      "indice:3, id:0faa9eea-fbf1-41f7-9def-1ec3d5134a53\n",
      "test_a.iloc[3] = 0faa9eea-fbf1-41f7-9def-1ec3d5134a53\n",
      "indice:4, id:ecbeac44-9392-4522-8ff5-87079386bd0a\n",
      "test_a.iloc[4] = ecbeac44-9392-4522-8ff5-87079386bd0a\n",
      "indice:5, id:2b8285b7-bd88-4a6c-bd2e-9798a1c661f8\n",
      "test_a.iloc[5] = 2b8285b7-bd88-4a6c-bd2e-9798a1c661f8\n",
      "indice:6, id:1f5a1578-d5fe-4b31-bb71-3253be8775a1\n",
      "test_a.iloc[6] = 1f5a1578-d5fe-4b31-bb71-3253be8775a1\n",
      "indice:7, id:5f6927e1-c580-483a-8e2a-6e2deb74800e\n",
      "test_a.iloc[7] = 5f6927e1-c580-483a-8e2a-6e2deb74800e\n",
      "indice:8, id:92bcd1ce-19b1-4d78-8b09-95242ca08d76\n",
      "test_a.iloc[8] = 92bcd1ce-19b1-4d78-8b09-95242ca08d76\n",
      "indice:9, id:4c19926a-7792-4e0f-8418-a44f0cf5eeea\n",
      "test_a.iloc[9] = 4c19926a-7792-4e0f-8418-a44f0cf5eeea\n",
      "indice:10, id:a7a8b6b8-b95f-4014-b17a-a6d44d965995\n",
      "test_a.iloc[10] = a7a8b6b8-b95f-4014-b17a-a6d44d965995\n",
      "indice:11, id:9ad30de4-8299-4252-99f9-866719ec047d\n",
      "test_a.iloc[11] = 9ad30de4-8299-4252-99f9-866719ec047d\n",
      "indice:12, id:9a4e07b3-b095-4335-b636-2d1c34c7db9b\n",
      "test_a.iloc[12] = 9a4e07b3-b095-4335-b636-2d1c34c7db9b\n",
      "indice:13, id:1e3dee73-b220-4da9-82ef-e3f551dccb17\n",
      "test_a.iloc[13] = 1e3dee73-b220-4da9-82ef-e3f551dccb17\n",
      "indice:14, id:ee235810-078e-4208-91e2-b559c277eb86\n",
      "test_a.iloc[14] = ee235810-078e-4208-91e2-b559c277eb86\n",
      "indice:15, id:a47357be-9e4b-4581-94f5-0574754e2977\n",
      "test_a.iloc[15] = a47357be-9e4b-4581-94f5-0574754e2977\n",
      "indice:16, id:d2804de2-5b13-493c-87ac-e59b3bb569a4\n",
      "test_a.iloc[16] = d2804de2-5b13-493c-87ac-e59b3bb569a4\n",
      "indice:17, id:5e66e70e-354e-4c3c-9d5d-90f0bf1b857d\n",
      "test_a.iloc[17] = 5e66e70e-354e-4c3c-9d5d-90f0bf1b857d\n",
      "indice:18, id:35538cb0-813a-46a1-9c2b-0a1eda866ed0\n",
      "test_a.iloc[18] = 35538cb0-813a-46a1-9c2b-0a1eda866ed0\n",
      "indice:19, id:ec1f1041-f667-4b73-b1f2-e5bcae84095e\n",
      "test_a.iloc[19] = ec1f1041-f667-4b73-b1f2-e5bcae84095e\n"
     ]
    }
   ],
   "source": [
    "test_a = final_df[0:20]\n",
    "for indice,id in test_a.id.items():\n",
    "    print(f'indice:{indice}, id:{id}')\n",
    "    #quidi se faccio iloc[index] mi ritorna un valore diverso da quello che voglio\n",
    "    print(f'test_a.iloc[{indice}] = {test_a.id.iloc[indice]}') "
   ]
  },
  {
   "cell_type": "code",
   "execution_count": 402,
   "metadata": {},
   "outputs": [],
   "source": [
    "#type(final_clean_df.power.iloc[30])\n",
    "#ok power è una stringa, per i nan metto, no power!!!\n",
    "#FINIRE"
   ]
  },
  {
   "cell_type": "code",
   "execution_count": 403,
   "metadata": {},
   "outputs": [],
   "source": [
    "#è  E NORMALE CHE ALCUNE CARTE COME LE TERRE NON ABBBIANO (CI SONO ALTRI TIPI DI CARTE)\n",
    "#MANA COST OR COLOR "
   ]
  },
  {
   "cell_type": "code",
   "execution_count": 404,
   "metadata": {},
   "outputs": [],
   "source": [
    "#PER SEMPLICITà TRASFORMARE MULTIVERSE_IDS NON COM UNA LISTA MA COME STRINGA"
   ]
  },
  {
   "cell_type": "markdown",
   "metadata": {},
   "source": [
    "replace empty value"
   ]
  },
  {
   "cell_type": "code",
   "execution_count": 405,
   "metadata": {},
   "outputs": [
    {
     "data": {
      "text/plain": [
       "str"
      ]
     },
     "execution_count": 405,
     "metadata": {},
     "output_type": "execute_result"
    }
   ],
   "source": [
    "# power\n",
    "type(final_df.power.iloc[30])\n",
    "#ok power è una stringa, per i nan metto, no power!!!\n",
    "#FINIRE\n"
   ]
  },
  {
   "cell_type": "code",
   "execution_count": 406,
   "metadata": {},
   "outputs": [],
   "source": [
    "final_df.loc[final_df.power.isna() == True, 'power'] = 'no power'"
   ]
  },
  {
   "cell_type": "code",
   "execution_count": 407,
   "metadata": {},
   "outputs": [
    {
     "data": {
      "text/plain": [
       "0               6\n",
       "1               5\n",
       "2               5\n",
       "3               5\n",
       "4               5\n",
       "           ...   \n",
       "24294    no power\n",
       "24295    no power\n",
       "24296    no power\n",
       "24297    no power\n",
       "24298           1\n",
       "Name: power, Length: 24299, dtype: object"
      ]
     },
     "execution_count": 407,
     "metadata": {},
     "output_type": "execute_result"
    }
   ],
   "source": [
    "final_df.power"
   ]
  },
  {
   "cell_type": "code",
   "execution_count": 408,
   "metadata": {},
   "outputs": [
    {
     "data": {
      "text/plain": [
       "str"
      ]
     },
     "execution_count": 408,
     "metadata": {},
     "output_type": "execute_result"
    }
   ],
   "source": [
    "# toughness\n",
    "type(final_df.toughness.iloc[30])\n",
    "#ok toughness è una stringa, per i nan metto, no power!!!"
   ]
  },
  {
   "cell_type": "code",
   "execution_count": 409,
   "metadata": {},
   "outputs": [],
   "source": [
    "final_df.loc[final_df.toughness.isna() == True, 'toughness'] = 'no toughness'"
   ]
  },
  {
   "cell_type": "code",
   "execution_count": 410,
   "metadata": {},
   "outputs": [
    {
     "data": {
      "text/plain": [
       "0                   6\n",
       "1                   5\n",
       "2                   5\n",
       "3                   5\n",
       "4                   5\n",
       "             ...     \n",
       "24294    no toughness\n",
       "24295    no toughness\n",
       "24296    no toughness\n",
       "24297    no toughness\n",
       "24298               1\n",
       "Name: toughness, Length: 24299, dtype: object"
      ]
     },
     "execution_count": 410,
     "metadata": {},
     "output_type": "execute_result"
    }
   ],
   "source": [
    "final_df.toughness"
   ]
  },
  {
   "cell_type": "code",
   "execution_count": 5,
   "metadata": {},
   "outputs": [
    {
     "data": {
      "text/plain": [
       "[6168]"
      ]
     },
     "execution_count": 5,
     "metadata": {},
     "output_type": "execute_result"
    }
   ],
   "source": [
    "#riempire multiverseids con -> no image\n",
    "c = final_df.multiverse_ids[10]\n",
    "c"
   ]
  },
  {
   "cell_type": "code",
   "execution_count": 7,
   "metadata": {},
   "outputs": [
    {
     "data": {
      "text/plain": [
       "int"
      ]
     },
     "execution_count": 7,
     "metadata": {},
     "output_type": "execute_result"
    }
   ],
   "source": [
    "type(c[0]) #ok è un intero, se gli passo una stringa dopo potrebbe dare problemi, forse si (VERO STREAMLIT FA CASINI, DEVO USARE ASTYPE)"
   ]
  },
  {
   "cell_type": "code",
   "execution_count": 411,
   "metadata": {},
   "outputs": [],
   "source": [
    "#riempire multiverseids con -> no image\n",
    "#final_df.loc[final_df.multiverse_ids.str.len() == 0, 'multiverse_ids'] = 'no image' #attenzione non potevo passare una lista, non capisco perchè funziona\n",
    "#quindi passo solo una stringa\n",
    "\n",
    "#final_df.replace([],['no image']) #da provare\n",
    "final_df.multiverse_ids = final_df.multiverse_ids.apply(lambda y: ['no image'] if len(y)==0 else y) #da provare #dovrebbe funzionare\n",
    "#final_df.multiverse_ids = final_df.multiverse_ids.apply(lambda y: [-1] if len(y)==0 else y) #provare, !!!!!!!!! altrimneti problemi con stremlit"
   ]
  },
  {
   "cell_type": "code",
   "execution_count": 412,
   "metadata": {},
   "outputs": [
    {
     "data": {
      "text/plain": [
       "0        [no image]\n",
       "1        [no image]\n",
       "2        [no image]\n",
       "3        [no image]\n",
       "4        [no image]\n",
       "            ...    \n",
       "24294         [245]\n",
       "24295         [239]\n",
       "24296         [237]\n",
       "24297         [236]\n",
       "24298         [235]\n",
       "Name: multiverse_ids, Length: 24299, dtype: object"
      ]
     },
     "execution_count": 412,
     "metadata": {},
     "output_type": "execute_result"
    }
   ],
   "source": [
    "final_df.multiverse_ids"
   ]
  },
  {
   "cell_type": "code",
   "execution_count": 413,
   "metadata": {},
   "outputs": [
    {
     "data": {
      "text/plain": [
       "str"
      ]
     },
     "execution_count": 413,
     "metadata": {},
     "output_type": "execute_result"
    }
   ],
   "source": [
    "#replace empty manacost\n",
    "type(final_df.mana_cost[0])"
   ]
  },
  {
   "cell_type": "code",
   "execution_count": 414,
   "metadata": {},
   "outputs": [
    {
     "data": {
      "text/plain": [
       "9         \n",
       "10        \n",
       "19        \n",
       "20        \n",
       "21        \n",
       "        ..\n",
       "23865     \n",
       "24155     \n",
       "24156     \n",
       "24157     \n",
       "24158     \n",
       "Name: mana_cost, Length: 2415, dtype: object"
      ]
     },
     "execution_count": 414,
     "metadata": {},
     "output_type": "execute_result"
    }
   ],
   "source": [
    "final_df[final_df.mana_cost == ''].mana_cost"
   ]
  },
  {
   "cell_type": "code",
   "execution_count": 415,
   "metadata": {},
   "outputs": [],
   "source": [
    "final_df.mana_cost.replace('','no mana cost',inplace = True)"
   ]
  },
  {
   "cell_type": "code",
   "execution_count": 416,
   "metadata": {},
   "outputs": [
    {
     "data": {
      "text/plain": [
       "list"
      ]
     },
     "execution_count": 416,
     "metadata": {},
     "output_type": "execute_result"
    }
   ],
   "source": [
    "#replace empty colors\n",
    "type(final_df.colors[0])"
   ]
  },
  {
   "cell_type": "code",
   "execution_count": 417,
   "metadata": {},
   "outputs": [
    {
     "data": {
      "text/plain": [
       "[]"
      ]
     },
     "execution_count": 417,
     "metadata": {},
     "output_type": "execute_result"
    }
   ],
   "source": [
    "final_df.colors[6]"
   ]
  },
  {
   "cell_type": "code",
   "execution_count": 418,
   "metadata": {},
   "outputs": [
    {
     "data": {
      "text/plain": [
       "['G']"
      ]
     },
     "execution_count": 418,
     "metadata": {},
     "output_type": "execute_result"
    }
   ],
   "source": [
    "final_df.colors[0]"
   ]
  },
  {
   "cell_type": "code",
   "execution_count": 419,
   "metadata": {},
   "outputs": [
    {
     "data": {
      "text/plain": [
       "5        []\n",
       "6        []\n",
       "7        []\n",
       "8        []\n",
       "9        []\n",
       "         ..\n",
       "24216    []\n",
       "24217    []\n",
       "24218    []\n",
       "24219    []\n",
       "24220    []\n",
       "Name: colors, Length: 4734, dtype: object"
      ]
     },
     "execution_count": 419,
     "metadata": {},
     "output_type": "execute_result"
    }
   ],
   "source": [
    "final_df[final_df.colors.str.len() == 0].colors"
   ]
  },
  {
   "cell_type": "code",
   "execution_count": 420,
   "metadata": {},
   "outputs": [],
   "source": [
    "#final_df.colors.replace([],['no color'], inplace = True)\n",
    "final_df.colors = final_df.colors.apply(lambda y: ['no colors'] if len(y)==0 else y) #funziona"
   ]
  },
  {
   "cell_type": "code",
   "execution_count": 421,
   "metadata": {},
   "outputs": [
    {
     "data": {
      "text/plain": [
       "list"
      ]
     },
     "execution_count": 421,
     "metadata": {},
     "output_type": "execute_result"
    }
   ],
   "source": [
    "#replace empty color identiti (usaully land), i don't know why but command tower doesn't have\n",
    "type(final_df.color_identity[0])"
   ]
  },
  {
   "cell_type": "code",
   "execution_count": 422,
   "metadata": {},
   "outputs": [
    {
     "data": {
      "text/plain": [
       "9        []\n",
       "10       []\n",
       "15       []\n",
       "19       []\n",
       "20       []\n",
       "         ..\n",
       "24216    []\n",
       "24217    []\n",
       "24218    []\n",
       "24219    []\n",
       "24220    []\n",
       "Name: color_identity, Length: 2679, dtype: object"
      ]
     },
     "execution_count": 422,
     "metadata": {},
     "output_type": "execute_result"
    }
   ],
   "source": [
    "final_df[final_df.color_identity.str.len() == 0].color_identity"
   ]
  },
  {
   "cell_type": "code",
   "execution_count": 423,
   "metadata": {},
   "outputs": [],
   "source": [
    "final_df.color_identity = final_df.color_identity.apply(lambda y: ['no color identity'] if len(y)==0 else y)"
   ]
  },
  {
   "cell_type": "code",
   "execution_count": 424,
   "metadata": {},
   "outputs": [
    {
     "data": {
      "text/plain": [
       "list"
      ]
     },
     "execution_count": 424,
     "metadata": {},
     "output_type": "execute_result"
    }
   ],
   "source": [
    "#replace empty games with paper\n",
    "type(final_df.games[0])"
   ]
  },
  {
   "cell_type": "code",
   "execution_count": 425,
   "metadata": {},
   "outputs": [
    {
     "data": {
      "text/plain": [
       "5        []\n",
       "6        []\n",
       "9        []\n",
       "262      []\n",
       "464      []\n",
       "663      []\n",
       "664      []\n",
       "1385     []\n",
       "1388     []\n",
       "1389     []\n",
       "2732     []\n",
       "2735     []\n",
       "3077     []\n",
       "3081     []\n",
       "3083     []\n",
       "3569     []\n",
       "3571     []\n",
       "3573     []\n",
       "4547     []\n",
       "4549     []\n",
       "4551     []\n",
       "5619     []\n",
       "5622     []\n",
       "6055     []\n",
       "6060     []\n",
       "7731     []\n",
       "7734     []\n",
       "8468     []\n",
       "8565     []\n",
       "12944    []\n",
       "21250    []\n",
       "22176    []\n",
       "23102    []\n",
       "23244    []\n",
       "24206    []\n",
       "Name: games, dtype: object"
      ]
     },
     "execution_count": 425,
     "metadata": {},
     "output_type": "execute_result"
    }
   ],
   "source": [
    "final_df[final_df.games.str.len() == 0].games"
   ]
  },
  {
   "cell_type": "code",
   "execution_count": 426,
   "metadata": {},
   "outputs": [],
   "source": [
    "final_df.games = final_df.games.apply(lambda y: ['paper'] if len(y)==0 else y)"
   ]
  },
  {
   "cell_type": "code",
   "execution_count": 427,
   "metadata": {},
   "outputs": [
    {
     "data": {
      "text/plain": [
       "list"
      ]
     },
     "execution_count": 427,
     "metadata": {},
     "output_type": "execute_result"
    }
   ],
   "source": [
    "#replace the only id artist nan\n",
    "type(final_df.artist_ids[0])"
   ]
  },
  {
   "cell_type": "code",
   "execution_count": 428,
   "metadata": {},
   "outputs": [
    {
     "data": {
      "text/html": [
       "<div>\n",
       "<style scoped>\n",
       "    .dataframe tbody tr th:only-of-type {\n",
       "        vertical-align: middle;\n",
       "    }\n",
       "\n",
       "    .dataframe tbody tr th {\n",
       "        vertical-align: top;\n",
       "    }\n",
       "\n",
       "    .dataframe thead th {\n",
       "        text-align: right;\n",
       "    }\n",
       "</style>\n",
       "<table border=\"1\" class=\"dataframe\">\n",
       "  <thead>\n",
       "    <tr style=\"text-align: right;\">\n",
       "      <th></th>\n",
       "      <th>object</th>\n",
       "      <th>id</th>\n",
       "      <th>oracle_id</th>\n",
       "      <th>multiverse_ids</th>\n",
       "      <th>name</th>\n",
       "      <th>lang</th>\n",
       "      <th>released_at</th>\n",
       "      <th>uri</th>\n",
       "      <th>scryfall_uri</th>\n",
       "      <th>layout</th>\n",
       "      <th>...</th>\n",
       "      <th>rulings</th>\n",
       "      <th>subtypes</th>\n",
       "      <th>supertypes</th>\n",
       "      <th>text</th>\n",
       "      <th>type</th>\n",
       "      <th>types</th>\n",
       "      <th>uuid</th>\n",
       "      <th>edhrecRank</th>\n",
       "      <th>leadershipSkills</th>\n",
       "      <th>prices</th>\n",
       "    </tr>\n",
       "  </thead>\n",
       "  <tbody>\n",
       "    <tr>\n",
       "      <th>17120</th>\n",
       "      <td>card</td>\n",
       "      <td>c1f9c8f9-dbb4-408f-835a-4b6c6abfdc74</td>\n",
       "      <td>464daad1-5877-4612-8eb5-7e581317f03d</td>\n",
       "      <td>[74360]</td>\n",
       "      <td>Look at Me, I'm R&amp;D</td>\n",
       "      <td>en</td>\n",
       "      <td>2004-11-19</td>\n",
       "      <td>https://api.scryfall.com/cards/c1f9c8f9-dbb4-4...</td>\n",
       "      <td>https://scryfall.com/card/unh/17/look-at-me-im...</td>\n",
       "      <td>normal</td>\n",
       "      <td>...</td>\n",
       "      <td>[]</td>\n",
       "      <td>[]</td>\n",
       "      <td>[]</td>\n",
       "      <td>As Look at Me, I'm R&amp;D enters the battlefield,...</td>\n",
       "      <td>Enchantment</td>\n",
       "      <td>[Enchantment]</td>\n",
       "      <td>0184a86d-2713-58f3-90b6-cc05c96fd861</td>\n",
       "      <td>not ranked</td>\n",
       "      <td>unusable</td>\n",
       "      <td>{'mtgo': {}, 'mtgoFoil': {}, 'paper': {'2019-1...</td>\n",
       "    </tr>\n",
       "  </tbody>\n",
       "</table>\n",
       "<p>1 rows × 64 columns</p>\n",
       "</div>"
      ],
      "text/plain": [
       "      object                                    id  \\\n",
       "17120   card  c1f9c8f9-dbb4-408f-835a-4b6c6abfdc74   \n",
       "\n",
       "                                  oracle_id multiverse_ids  \\\n",
       "17120  464daad1-5877-4612-8eb5-7e581317f03d        [74360]   \n",
       "\n",
       "                      name lang released_at  \\\n",
       "17120  Look at Me, I'm R&D   en  2004-11-19   \n",
       "\n",
       "                                                     uri  \\\n",
       "17120  https://api.scryfall.com/cards/c1f9c8f9-dbb4-4...   \n",
       "\n",
       "                                            scryfall_uri  layout  ...  \\\n",
       "17120  https://scryfall.com/card/unh/17/look-at-me-im...  normal  ...   \n",
       "\n",
       "       rulings subtypes supertypes  \\\n",
       "17120       []       []         []   \n",
       "\n",
       "                                                    text         type  \\\n",
       "17120  As Look at Me, I'm R&D enters the battlefield,...  Enchantment   \n",
       "\n",
       "               types                                  uuid  edhrecRank  \\\n",
       "17120  [Enchantment]  0184a86d-2713-58f3-90b6-cc05c96fd861  not ranked   \n",
       "\n",
       "      leadershipSkills                                             prices  \n",
       "17120         unusable  {'mtgo': {}, 'mtgoFoil': {}, 'paper': {'2019-1...  \n",
       "\n",
       "[1 rows x 64 columns]"
      ]
     },
     "execution_count": 428,
     "metadata": {},
     "output_type": "execute_result"
    }
   ],
   "source": [
    "final_df[final_df.artist_ids.isna() == True]"
   ]
  },
  {
   "cell_type": "code",
   "execution_count": 429,
   "metadata": {},
   "outputs": [
    {
     "data": {
      "text/plain": [
       "Series([], Name: artist_ids, dtype: object)"
      ]
     },
     "execution_count": 429,
     "metadata": {},
     "output_type": "execute_result"
    }
   ],
   "source": [
    "final_df[final_df.artist_ids.str.len() == 0].artist_ids"
   ]
  },
  {
   "cell_type": "code",
   "execution_count": 430,
   "metadata": {},
   "outputs": [
    {
     "data": {
      "text/plain": [
       "0        [1eced451-4da5-42bc-b49d-70c41246581f]\n",
       "1        [ce98f39c-7cdd-47e6-a520-6c50443bb4c2]\n",
       "2        [74986d28-0001-4a78-827c-e490b325d0e3]\n",
       "3        [465e38b8-7eed-4d22-a6d2-d3603ee0c00b]\n",
       "4        [fa058291-5283-4b33-a65e-d4911cb319bb]\n",
       "                          ...                  \n",
       "24294    [14a1de4b-1237-4e7b-8868-b71e87c9a46e]\n",
       "24295    [059bba56-5feb-42e4-8c2e-e2f1e6ba11f9]\n",
       "24296    [596b3aac-b331-4e1e-ae41-9ec2d3b653e1]\n",
       "24297    [059bba56-5feb-42e4-8c2e-e2f1e6ba11f9]\n",
       "24298    [a9ddb513-51c7-455c-ab8f-5b90aae9f75b]\n",
       "Name: artist_ids, Length: 24299, dtype: object"
      ]
     },
     "execution_count": 430,
     "metadata": {},
     "output_type": "execute_result"
    }
   ],
   "source": [
    "#final_df.artist_ids = final_df.artist_ids.apply(lambda y: ['no artist_id'] if len(y)==0 else y)\n",
    "final_df.artist_ids.fillna('no artist id')"
   ]
  },
  {
   "cell_type": "code",
   "execution_count": 431,
   "metadata": {},
   "outputs": [
    {
     "data": {
      "text/plain": [
       "float"
      ]
     },
     "execution_count": 431,
     "metadata": {},
     "output_type": "execute_result"
    }
   ],
   "source": [
    "#replace loyalty\n",
    "type(final_df.loyalty[0])"
   ]
  },
  {
   "cell_type": "code",
   "execution_count": 432,
   "metadata": {},
   "outputs": [
    {
     "data": {
      "text/html": [
       "<div>\n",
       "<style scoped>\n",
       "    .dataframe tbody tr th:only-of-type {\n",
       "        vertical-align: middle;\n",
       "    }\n",
       "\n",
       "    .dataframe tbody tr th {\n",
       "        vertical-align: top;\n",
       "    }\n",
       "\n",
       "    .dataframe thead th {\n",
       "        text-align: right;\n",
       "    }\n",
       "</style>\n",
       "<table border=\"1\" class=\"dataframe\">\n",
       "  <thead>\n",
       "    <tr style=\"text-align: right;\">\n",
       "      <th></th>\n",
       "      <th>object</th>\n",
       "      <th>id</th>\n",
       "      <th>oracle_id</th>\n",
       "      <th>multiverse_ids</th>\n",
       "      <th>name</th>\n",
       "      <th>lang</th>\n",
       "      <th>released_at</th>\n",
       "      <th>uri</th>\n",
       "      <th>scryfall_uri</th>\n",
       "      <th>layout</th>\n",
       "      <th>...</th>\n",
       "      <th>rulings</th>\n",
       "      <th>subtypes</th>\n",
       "      <th>supertypes</th>\n",
       "      <th>text</th>\n",
       "      <th>type</th>\n",
       "      <th>types</th>\n",
       "      <th>uuid</th>\n",
       "      <th>edhrecRank</th>\n",
       "      <th>leadershipSkills</th>\n",
       "      <th>prices</th>\n",
       "    </tr>\n",
       "  </thead>\n",
       "  <tbody>\n",
       "    <tr>\n",
       "      <th>0</th>\n",
       "      <td>card</td>\n",
       "      <td>dbcdbf7a-9294-47ad-9f93-c16b78c7463a</td>\n",
       "      <td>cd6250ae-9079-4a62-8a70-0d94fbac21bc</td>\n",
       "      <td>[no image]</td>\n",
       "      <td>Earthshaker Giant</td>\n",
       "      <td>en</td>\n",
       "      <td>2019-11-15</td>\n",
       "      <td>https://api.scryfall.com/cards/dbcdbf7a-9294-4...</td>\n",
       "      <td>https://scryfall.com/card/gn2/5/earthshaker-gi...</td>\n",
       "      <td>normal</td>\n",
       "      <td>...</td>\n",
       "      <td>[]</td>\n",
       "      <td>[Giant, Druid]</td>\n",
       "      <td>[]</td>\n",
       "      <td>Trample\\nWhen Earthshaker Giant enters the bat...</td>\n",
       "      <td>Creature — Giant Druid</td>\n",
       "      <td>[Creature]</td>\n",
       "      <td>d77da7e3-b017-559f-8081-eb56d48da8a2</td>\n",
       "      <td>not ranked</td>\n",
       "      <td>unusable</td>\n",
       "      <td>{'mtgo': {}, 'mtgoFoil': {}, 'paper': {}, 'pap...</td>\n",
       "    </tr>\n",
       "    <tr>\n",
       "      <th>1</th>\n",
       "      <td>card</td>\n",
       "      <td>acb3ce9b-ee4f-410a-8db3-e87aeb0a4444</td>\n",
       "      <td>ab0dfae5-b9d4-417b-8a0d-2525ae3a73b9</td>\n",
       "      <td>[no image]</td>\n",
       "      <td>Fiendish Duo</td>\n",
       "      <td>en</td>\n",
       "      <td>2019-11-15</td>\n",
       "      <td>https://api.scryfall.com/cards/acb3ce9b-ee4f-4...</td>\n",
       "      <td>https://scryfall.com/card/gn2/4/fiendish-duo?u...</td>\n",
       "      <td>normal</td>\n",
       "      <td>...</td>\n",
       "      <td>[]</td>\n",
       "      <td>[Devil]</td>\n",
       "      <td>[]</td>\n",
       "      <td>First strike\\nIf a source would deal damage to...</td>\n",
       "      <td>Creature — Devil</td>\n",
       "      <td>[Creature]</td>\n",
       "      <td>dcb1e7e2-bd48-5d9b-a872-7386e81bbac4</td>\n",
       "      <td>not ranked</td>\n",
       "      <td>unusable</td>\n",
       "      <td>{'mtgo': {}, 'mtgoFoil': {}, 'paper': {}, 'pap...</td>\n",
       "    </tr>\n",
       "    <tr>\n",
       "      <th>2</th>\n",
       "      <td>card</td>\n",
       "      <td>17b2ed72-d0f0-4d8d-bb5e-dce08d157466</td>\n",
       "      <td>7264d3b3-fd46-4ea3-a85d-f0b068c331ad</td>\n",
       "      <td>[no image]</td>\n",
       "      <td>Calculating Lich</td>\n",
       "      <td>en</td>\n",
       "      <td>2019-11-15</td>\n",
       "      <td>https://api.scryfall.com/cards/17b2ed72-d0f0-4...</td>\n",
       "      <td>https://scryfall.com/card/gn2/3/calculating-li...</td>\n",
       "      <td>normal</td>\n",
       "      <td>...</td>\n",
       "      <td>[]</td>\n",
       "      <td>[Zombie, Wizard]</td>\n",
       "      <td>[]</td>\n",
       "      <td>Menace\\nWhenever a creature attacks one of you...</td>\n",
       "      <td>Creature — Zombie Wizard</td>\n",
       "      <td>[Creature]</td>\n",
       "      <td>aedff6d1-7901-5619-9ff6-b3dd9c43b896</td>\n",
       "      <td>not ranked</td>\n",
       "      <td>unusable</td>\n",
       "      <td>{'mtgo': {}, 'mtgoFoil': {}, 'paper': {}, 'pap...</td>\n",
       "    </tr>\n",
       "    <tr>\n",
       "      <th>3</th>\n",
       "      <td>card</td>\n",
       "      <td>0faa9eea-fbf1-41f7-9def-1ec3d5134a53</td>\n",
       "      <td>e6284fb3-7cf8-4730-b156-10085b70b0e8</td>\n",
       "      <td>[no image]</td>\n",
       "      <td>Sphinx of Enlightenment</td>\n",
       "      <td>en</td>\n",
       "      <td>2019-11-15</td>\n",
       "      <td>https://api.scryfall.com/cards/0faa9eea-fbf1-4...</td>\n",
       "      <td>https://scryfall.com/card/gn2/2/sphinx-of-enli...</td>\n",
       "      <td>normal</td>\n",
       "      <td>...</td>\n",
       "      <td>[]</td>\n",
       "      <td>[Sphinx]</td>\n",
       "      <td>[]</td>\n",
       "      <td>Flying\\nWhen Sphinx of Enlightenment enters th...</td>\n",
       "      <td>Creature — Sphinx</td>\n",
       "      <td>[Creature]</td>\n",
       "      <td>5c885aa6-c991-5eec-b140-d43a70428566</td>\n",
       "      <td>not ranked</td>\n",
       "      <td>unusable</td>\n",
       "      <td>{'mtgo': {}, 'mtgoFoil': {}, 'paper': {}, 'pap...</td>\n",
       "    </tr>\n",
       "    <tr>\n",
       "      <th>4</th>\n",
       "      <td>card</td>\n",
       "      <td>ecbeac44-9392-4522-8ff5-87079386bd0a</td>\n",
       "      <td>43296f8b-58d9-446e-a538-1c4921552c41</td>\n",
       "      <td>[no image]</td>\n",
       "      <td>Highcliff Felidar</td>\n",
       "      <td>en</td>\n",
       "      <td>2019-11-15</td>\n",
       "      <td>https://api.scryfall.com/cards/ecbeac44-9392-4...</td>\n",
       "      <td>https://scryfall.com/card/gn2/1/highcliff-feli...</td>\n",
       "      <td>normal</td>\n",
       "      <td>...</td>\n",
       "      <td>[]</td>\n",
       "      <td>[Cat, Beast]</td>\n",
       "      <td>[]</td>\n",
       "      <td>Vigilance\\nWhen Highcliff Felidar enters the b...</td>\n",
       "      <td>Creature — Cat Beast</td>\n",
       "      <td>[Creature]</td>\n",
       "      <td>a9bf68a1-7eb7-5387-a651-5c0ede8d86ec</td>\n",
       "      <td>not ranked</td>\n",
       "      <td>unusable</td>\n",
       "      <td>{'mtgo': {}, 'mtgoFoil': {}, 'paper': {}, 'pap...</td>\n",
       "    </tr>\n",
       "    <tr>\n",
       "      <th>...</th>\n",
       "      <td>...</td>\n",
       "      <td>...</td>\n",
       "      <td>...</td>\n",
       "      <td>...</td>\n",
       "      <td>...</td>\n",
       "      <td>...</td>\n",
       "      <td>...</td>\n",
       "      <td>...</td>\n",
       "      <td>...</td>\n",
       "      <td>...</td>\n",
       "      <td>...</td>\n",
       "      <td>...</td>\n",
       "      <td>...</td>\n",
       "      <td>...</td>\n",
       "      <td>...</td>\n",
       "      <td>...</td>\n",
       "      <td>...</td>\n",
       "      <td>...</td>\n",
       "      <td>...</td>\n",
       "      <td>...</td>\n",
       "      <td>...</td>\n",
       "    </tr>\n",
       "    <tr>\n",
       "      <th>24294</th>\n",
       "      <td>card</td>\n",
       "      <td>d2379f78-c03f-447f-b3c9-10a918d556e9</td>\n",
       "      <td>4627691c-4ed4-4add-9cc3-2e019be2f9fd</td>\n",
       "      <td>[245]</td>\n",
       "      <td>Consecrate Land</td>\n",
       "      <td>en</td>\n",
       "      <td>1993-08-05</td>\n",
       "      <td>https://api.scryfall.com/cards/d2379f78-c03f-4...</td>\n",
       "      <td>https://scryfall.com/card/lea/14/consecrate-la...</td>\n",
       "      <td>normal</td>\n",
       "      <td>...</td>\n",
       "      <td>[{'date': '2005-04-01', 'text': 'The land can ...</td>\n",
       "      <td>[Aura]</td>\n",
       "      <td>[]</td>\n",
       "      <td>Enchant land\\nEnchanted land has indestructibl...</td>\n",
       "      <td>Enchantment — Aura</td>\n",
       "      <td>[Enchantment]</td>\n",
       "      <td>71185011-e055-5986-8825-4acac9041b4f</td>\n",
       "      <td>13595</td>\n",
       "      <td>unusable</td>\n",
       "      <td>{'mtgo': {}, 'mtgoFoil': {}, 'paper': {'2019-1...</td>\n",
       "    </tr>\n",
       "    <tr>\n",
       "      <th>24295</th>\n",
       "      <td>card</td>\n",
       "      <td>93f9f0f2-e1cc-4740-888c-1336c6de0a27</td>\n",
       "      <td>fc0bf1d0-46a2-4305-ab2e-466d79d60ab2</td>\n",
       "      <td>[239]</td>\n",
       "      <td>Blue Ward</td>\n",
       "      <td>en</td>\n",
       "      <td>1993-08-05</td>\n",
       "      <td>https://api.scryfall.com/cards/93f9f0f2-e1cc-4...</td>\n",
       "      <td>https://scryfall.com/card/lea/8/blue-ward?utm_...</td>\n",
       "      <td>normal</td>\n",
       "      <td>...</td>\n",
       "      <td>[]</td>\n",
       "      <td>[Aura]</td>\n",
       "      <td>[]</td>\n",
       "      <td>Enchant creature\\nEnchanted creature has prote...</td>\n",
       "      <td>Enchantment — Aura</td>\n",
       "      <td>[Enchantment]</td>\n",
       "      <td>cbde4259-23f6-5ee8-89a9-0d73647e49e0</td>\n",
       "      <td>12313</td>\n",
       "      <td>unusable</td>\n",
       "      <td>{'mtgo': {}, 'mtgoFoil': {}, 'paper': {}, 'pap...</td>\n",
       "    </tr>\n",
       "    <tr>\n",
       "      <th>24296</th>\n",
       "      <td>card</td>\n",
       "      <td>98fba951-c5bb-497c-9292-ce1b2a1e1247</td>\n",
       "      <td>b330ac89-790e-4cc9-96a5-532c48252088</td>\n",
       "      <td>[237]</td>\n",
       "      <td>Blaze of Glory</td>\n",
       "      <td>en</td>\n",
       "      <td>1993-08-05</td>\n",
       "      <td>https://api.scryfall.com/cards/98fba951-c5bb-4...</td>\n",
       "      <td>https://scryfall.com/card/lea/6/blaze-of-glory...</td>\n",
       "      <td>normal</td>\n",
       "      <td>...</td>\n",
       "      <td>[{'date': '2004-10-04', 'text': 'Does not allo...</td>\n",
       "      <td>[]</td>\n",
       "      <td>[]</td>\n",
       "      <td>Cast this spell only during combat before bloc...</td>\n",
       "      <td>Instant</td>\n",
       "      <td>[Instant]</td>\n",
       "      <td>68549548-8ec2-5232-984f-1064ae9ff59b</td>\n",
       "      <td>16228</td>\n",
       "      <td>unusable</td>\n",
       "      <td>{'mtgo': {}, 'mtgoFoil': {}, 'paper': {'2019-1...</td>\n",
       "    </tr>\n",
       "    <tr>\n",
       "      <th>24297</th>\n",
       "      <td>card</td>\n",
       "      <td>15967a39-303f-457d-bcde-51837c8d63e1</td>\n",
       "      <td>7861ac9b-3024-4935-804c-2ca4c5a46bf4</td>\n",
       "      <td>[236]</td>\n",
       "      <td>Black Ward</td>\n",
       "      <td>en</td>\n",
       "      <td>1993-08-05</td>\n",
       "      <td>https://api.scryfall.com/cards/15967a39-303f-4...</td>\n",
       "      <td>https://scryfall.com/card/lea/5/black-ward?utm...</td>\n",
       "      <td>normal</td>\n",
       "      <td>...</td>\n",
       "      <td>[]</td>\n",
       "      <td>[Aura]</td>\n",
       "      <td>[]</td>\n",
       "      <td>Enchant creature\\nEnchanted creature has prote...</td>\n",
       "      <td>Enchantment — Aura</td>\n",
       "      <td>[Enchantment]</td>\n",
       "      <td>0233d7b9-6a09-533a-8a04-68032198b81b</td>\n",
       "      <td>12255</td>\n",
       "      <td>unusable</td>\n",
       "      <td>{'mtgo': {}, 'mtgoFoil': {}, 'paper': {}, 'pap...</td>\n",
       "    </tr>\n",
       "    <tr>\n",
       "      <th>24298</th>\n",
       "      <td>card</td>\n",
       "      <td>11600105-56c6-4073-a4a6-8469030b39c9</td>\n",
       "      <td>4c81cfb7-8765-4e28-ae33-4287fa9a86cc</td>\n",
       "      <td>[235]</td>\n",
       "      <td>Benalish Hero</td>\n",
       "      <td>en</td>\n",
       "      <td>1993-08-05</td>\n",
       "      <td>https://api.scryfall.com/cards/11600105-56c6-4...</td>\n",
       "      <td>https://scryfall.com/card/lea/4/benalish-hero?...</td>\n",
       "      <td>normal</td>\n",
       "      <td>...</td>\n",
       "      <td>[{'date': '2008-10-01', 'text': 'If a creature...</td>\n",
       "      <td>[Human, Soldier]</td>\n",
       "      <td>[]</td>\n",
       "      <td>Banding (Any creatures with banding, and up to...</td>\n",
       "      <td>Creature — Human Soldier</td>\n",
       "      <td>[Creature]</td>\n",
       "      <td>11c64455-eeef-5884-b97f-aefed5140279</td>\n",
       "      <td>14576</td>\n",
       "      <td>unusable</td>\n",
       "      <td>{'mtgo': {}, 'mtgoFoil': {}, 'paper': {}, 'pap...</td>\n",
       "    </tr>\n",
       "  </tbody>\n",
       "</table>\n",
       "<p>23983 rows × 64 columns</p>\n",
       "</div>"
      ],
      "text/plain": [
       "      object                                    id  \\\n",
       "0       card  dbcdbf7a-9294-47ad-9f93-c16b78c7463a   \n",
       "1       card  acb3ce9b-ee4f-410a-8db3-e87aeb0a4444   \n",
       "2       card  17b2ed72-d0f0-4d8d-bb5e-dce08d157466   \n",
       "3       card  0faa9eea-fbf1-41f7-9def-1ec3d5134a53   \n",
       "4       card  ecbeac44-9392-4522-8ff5-87079386bd0a   \n",
       "...      ...                                   ...   \n",
       "24294   card  d2379f78-c03f-447f-b3c9-10a918d556e9   \n",
       "24295   card  93f9f0f2-e1cc-4740-888c-1336c6de0a27   \n",
       "24296   card  98fba951-c5bb-497c-9292-ce1b2a1e1247   \n",
       "24297   card  15967a39-303f-457d-bcde-51837c8d63e1   \n",
       "24298   card  11600105-56c6-4073-a4a6-8469030b39c9   \n",
       "\n",
       "                                  oracle_id multiverse_ids  \\\n",
       "0      cd6250ae-9079-4a62-8a70-0d94fbac21bc     [no image]   \n",
       "1      ab0dfae5-b9d4-417b-8a0d-2525ae3a73b9     [no image]   \n",
       "2      7264d3b3-fd46-4ea3-a85d-f0b068c331ad     [no image]   \n",
       "3      e6284fb3-7cf8-4730-b156-10085b70b0e8     [no image]   \n",
       "4      43296f8b-58d9-446e-a538-1c4921552c41     [no image]   \n",
       "...                                     ...            ...   \n",
       "24294  4627691c-4ed4-4add-9cc3-2e019be2f9fd          [245]   \n",
       "24295  fc0bf1d0-46a2-4305-ab2e-466d79d60ab2          [239]   \n",
       "24296  b330ac89-790e-4cc9-96a5-532c48252088          [237]   \n",
       "24297  7861ac9b-3024-4935-804c-2ca4c5a46bf4          [236]   \n",
       "24298  4c81cfb7-8765-4e28-ae33-4287fa9a86cc          [235]   \n",
       "\n",
       "                          name lang released_at  \\\n",
       "0            Earthshaker Giant   en  2019-11-15   \n",
       "1                 Fiendish Duo   en  2019-11-15   \n",
       "2             Calculating Lich   en  2019-11-15   \n",
       "3      Sphinx of Enlightenment   en  2019-11-15   \n",
       "4            Highcliff Felidar   en  2019-11-15   \n",
       "...                        ...  ...         ...   \n",
       "24294          Consecrate Land   en  1993-08-05   \n",
       "24295                Blue Ward   en  1993-08-05   \n",
       "24296           Blaze of Glory   en  1993-08-05   \n",
       "24297               Black Ward   en  1993-08-05   \n",
       "24298            Benalish Hero   en  1993-08-05   \n",
       "\n",
       "                                                     uri  \\\n",
       "0      https://api.scryfall.com/cards/dbcdbf7a-9294-4...   \n",
       "1      https://api.scryfall.com/cards/acb3ce9b-ee4f-4...   \n",
       "2      https://api.scryfall.com/cards/17b2ed72-d0f0-4...   \n",
       "3      https://api.scryfall.com/cards/0faa9eea-fbf1-4...   \n",
       "4      https://api.scryfall.com/cards/ecbeac44-9392-4...   \n",
       "...                                                  ...   \n",
       "24294  https://api.scryfall.com/cards/d2379f78-c03f-4...   \n",
       "24295  https://api.scryfall.com/cards/93f9f0f2-e1cc-4...   \n",
       "24296  https://api.scryfall.com/cards/98fba951-c5bb-4...   \n",
       "24297  https://api.scryfall.com/cards/15967a39-303f-4...   \n",
       "24298  https://api.scryfall.com/cards/11600105-56c6-4...   \n",
       "\n",
       "                                            scryfall_uri  layout  ...  \\\n",
       "0      https://scryfall.com/card/gn2/5/earthshaker-gi...  normal  ...   \n",
       "1      https://scryfall.com/card/gn2/4/fiendish-duo?u...  normal  ...   \n",
       "2      https://scryfall.com/card/gn2/3/calculating-li...  normal  ...   \n",
       "3      https://scryfall.com/card/gn2/2/sphinx-of-enli...  normal  ...   \n",
       "4      https://scryfall.com/card/gn2/1/highcliff-feli...  normal  ...   \n",
       "...                                                  ...     ...  ...   \n",
       "24294  https://scryfall.com/card/lea/14/consecrate-la...  normal  ...   \n",
       "24295  https://scryfall.com/card/lea/8/blue-ward?utm_...  normal  ...   \n",
       "24296  https://scryfall.com/card/lea/6/blaze-of-glory...  normal  ...   \n",
       "24297  https://scryfall.com/card/lea/5/black-ward?utm...  normal  ...   \n",
       "24298  https://scryfall.com/card/lea/4/benalish-hero?...  normal  ...   \n",
       "\n",
       "                                                 rulings          subtypes  \\\n",
       "0                                                     []    [Giant, Druid]   \n",
       "1                                                     []           [Devil]   \n",
       "2                                                     []  [Zombie, Wizard]   \n",
       "3                                                     []          [Sphinx]   \n",
       "4                                                     []      [Cat, Beast]   \n",
       "...                                                  ...               ...   \n",
       "24294  [{'date': '2005-04-01', 'text': 'The land can ...            [Aura]   \n",
       "24295                                                 []            [Aura]   \n",
       "24296  [{'date': '2004-10-04', 'text': 'Does not allo...                []   \n",
       "24297                                                 []            [Aura]   \n",
       "24298  [{'date': '2008-10-01', 'text': 'If a creature...  [Human, Soldier]   \n",
       "\n",
       "      supertypes                                               text  \\\n",
       "0             []  Trample\\nWhen Earthshaker Giant enters the bat...   \n",
       "1             []  First strike\\nIf a source would deal damage to...   \n",
       "2             []  Menace\\nWhenever a creature attacks one of you...   \n",
       "3             []  Flying\\nWhen Sphinx of Enlightenment enters th...   \n",
       "4             []  Vigilance\\nWhen Highcliff Felidar enters the b...   \n",
       "...          ...                                                ...   \n",
       "24294         []  Enchant land\\nEnchanted land has indestructibl...   \n",
       "24295         []  Enchant creature\\nEnchanted creature has prote...   \n",
       "24296         []  Cast this spell only during combat before bloc...   \n",
       "24297         []  Enchant creature\\nEnchanted creature has prote...   \n",
       "24298         []  Banding (Any creatures with banding, and up to...   \n",
       "\n",
       "                           type          types  \\\n",
       "0        Creature — Giant Druid     [Creature]   \n",
       "1              Creature — Devil     [Creature]   \n",
       "2      Creature — Zombie Wizard     [Creature]   \n",
       "3             Creature — Sphinx     [Creature]   \n",
       "4          Creature — Cat Beast     [Creature]   \n",
       "...                         ...            ...   \n",
       "24294        Enchantment — Aura  [Enchantment]   \n",
       "24295        Enchantment — Aura  [Enchantment]   \n",
       "24296                   Instant      [Instant]   \n",
       "24297        Enchantment — Aura  [Enchantment]   \n",
       "24298  Creature — Human Soldier     [Creature]   \n",
       "\n",
       "                                       uuid  edhrecRank leadershipSkills  \\\n",
       "0      d77da7e3-b017-559f-8081-eb56d48da8a2  not ranked         unusable   \n",
       "1      dcb1e7e2-bd48-5d9b-a872-7386e81bbac4  not ranked         unusable   \n",
       "2      aedff6d1-7901-5619-9ff6-b3dd9c43b896  not ranked         unusable   \n",
       "3      5c885aa6-c991-5eec-b140-d43a70428566  not ranked         unusable   \n",
       "4      a9bf68a1-7eb7-5387-a651-5c0ede8d86ec  not ranked         unusable   \n",
       "...                                     ...         ...              ...   \n",
       "24294  71185011-e055-5986-8825-4acac9041b4f       13595         unusable   \n",
       "24295  cbde4259-23f6-5ee8-89a9-0d73647e49e0       12313         unusable   \n",
       "24296  68549548-8ec2-5232-984f-1064ae9ff59b       16228         unusable   \n",
       "24297  0233d7b9-6a09-533a-8a04-68032198b81b       12255         unusable   \n",
       "24298  11c64455-eeef-5884-b97f-aefed5140279       14576         unusable   \n",
       "\n",
       "                                                  prices  \n",
       "0      {'mtgo': {}, 'mtgoFoil': {}, 'paper': {}, 'pap...  \n",
       "1      {'mtgo': {}, 'mtgoFoil': {}, 'paper': {}, 'pap...  \n",
       "2      {'mtgo': {}, 'mtgoFoil': {}, 'paper': {}, 'pap...  \n",
       "3      {'mtgo': {}, 'mtgoFoil': {}, 'paper': {}, 'pap...  \n",
       "4      {'mtgo': {}, 'mtgoFoil': {}, 'paper': {}, 'pap...  \n",
       "...                                                  ...  \n",
       "24294  {'mtgo': {}, 'mtgoFoil': {}, 'paper': {'2019-1...  \n",
       "24295  {'mtgo': {}, 'mtgoFoil': {}, 'paper': {}, 'pap...  \n",
       "24296  {'mtgo': {}, 'mtgoFoil': {}, 'paper': {'2019-1...  \n",
       "24297  {'mtgo': {}, 'mtgoFoil': {}, 'paper': {}, 'pap...  \n",
       "24298  {'mtgo': {}, 'mtgoFoil': {}, 'paper': {}, 'pap...  \n",
       "\n",
       "[23983 rows x 64 columns]"
      ]
     },
     "execution_count": 432,
     "metadata": {},
     "output_type": "execute_result"
    }
   ],
   "source": [
    "final_df[final_df.loyalty.isna() == True]"
   ]
  },
  {
   "cell_type": "code",
   "execution_count": 433,
   "metadata": {},
   "outputs": [],
   "source": [
    "\n",
    "final_df.loyalty.fillna('no loyalty', inplace = True)"
   ]
  },
  {
   "cell_type": "code",
   "execution_count": 434,
   "metadata": {},
   "outputs": [],
   "source": [
    "#foreignData la droppo non cosi utile #ATTENZIONE\n",
    "final_df.drop('foreignData', axis=1, inplace=True)"
   ]
  },
  {
   "cell_type": "code",
   "execution_count": 435,
   "metadata": {},
   "outputs": [
    {
     "data": {
      "text/plain": [
       "list"
      ]
     },
     "execution_count": 435,
     "metadata": {},
     "output_type": "execute_result"
    }
   ],
   "source": [
    "#replace empty rulling\n",
    "type(final_df.rulings[0])"
   ]
  },
  {
   "cell_type": "code",
   "execution_count": 436,
   "metadata": {},
   "outputs": [
    {
     "data": {
      "text/plain": [
       "[]"
      ]
     },
     "execution_count": 436,
     "metadata": {},
     "output_type": "execute_result"
    }
   ],
   "source": [
    "final_df.rulings[0]"
   ]
  },
  {
   "cell_type": "code",
   "execution_count": 437,
   "metadata": {},
   "outputs": [
    {
     "data": {
      "text/plain": [
       "0         True\n",
       "1         True\n",
       "2         True\n",
       "3         True\n",
       "4         True\n",
       "         ...  \n",
       "24294    False\n",
       "24295     True\n",
       "24296    False\n",
       "24297     True\n",
       "24298    False\n",
       "Name: rulings, Length: 24299, dtype: bool"
      ]
     },
     "execution_count": 437,
     "metadata": {},
     "output_type": "execute_result"
    }
   ],
   "source": [
    "final_df.rulings.str.len()==0"
   ]
  },
  {
   "cell_type": "code",
   "execution_count": 438,
   "metadata": {},
   "outputs": [],
   "source": [
    "final_df.rulings = final_df.rulings.apply(lambda y: ['no additional rules'] if len(y)==0 else y)"
   ]
  },
  {
   "cell_type": "code",
   "execution_count": 439,
   "metadata": {},
   "outputs": [
    {
     "data": {
      "text/plain": [
       "list"
      ]
     },
     "execution_count": 439,
     "metadata": {},
     "output_type": "execute_result"
    }
   ],
   "source": [
    "#replace empty subtype\n",
    "type(final_df.subtypes[0])"
   ]
  },
  {
   "cell_type": "code",
   "execution_count": 440,
   "metadata": {},
   "outputs": [
    {
     "data": {
      "text/plain": [
       "['Giant', 'Druid']"
      ]
     },
     "execution_count": 440,
     "metadata": {},
     "output_type": "execute_result"
    }
   ],
   "source": [
    "final_df.subtypes[0]"
   ]
  },
  {
   "cell_type": "code",
   "execution_count": 441,
   "metadata": {},
   "outputs": [
    {
     "data": {
      "text/plain": [
       "0        False\n",
       "1        False\n",
       "2        False\n",
       "3        False\n",
       "4        False\n",
       "         ...  \n",
       "24294    False\n",
       "24295    False\n",
       "24296     True\n",
       "24297    False\n",
       "24298    False\n",
       "Name: subtypes, Length: 24299, dtype: bool"
      ]
     },
     "execution_count": 441,
     "metadata": {},
     "output_type": "execute_result"
    }
   ],
   "source": [
    "final_df.subtypes.str.len() == 0"
   ]
  },
  {
   "cell_type": "code",
   "execution_count": 442,
   "metadata": {},
   "outputs": [],
   "source": [
    "final_df.subtypes = final_df.subtypes.apply(lambda y: ['no subtypes'] if len(y)==0 else y)"
   ]
  },
  {
   "cell_type": "code",
   "execution_count": 443,
   "metadata": {},
   "outputs": [
    {
     "data": {
      "text/plain": [
       "list"
      ]
     },
     "execution_count": 443,
     "metadata": {},
     "output_type": "execute_result"
    }
   ],
   "source": [
    "#replace supertypes\n",
    "type(final_df.supertypes[0])"
   ]
  },
  {
   "cell_type": "code",
   "execution_count": 444,
   "metadata": {},
   "outputs": [
    {
     "data": {
      "text/plain": [
       "0        []\n",
       "1        []\n",
       "2        []\n",
       "3        []\n",
       "4        []\n",
       "         ..\n",
       "24294    []\n",
       "24295    []\n",
       "24296    []\n",
       "24297    []\n",
       "24298    []\n",
       "Name: supertypes, Length: 21694, dtype: object"
      ]
     },
     "execution_count": 444,
     "metadata": {},
     "output_type": "execute_result"
    }
   ],
   "source": [
    "final_df[final_df.supertypes.str.len() == 0].supertypes"
   ]
  },
  {
   "cell_type": "code",
   "execution_count": 445,
   "metadata": {},
   "outputs": [],
   "source": [
    "final_df.supertypes = final_df.supertypes.apply(lambda y: ['no supertypes'] if len(y)==0 else y)"
   ]
  },
  {
   "cell_type": "code",
   "execution_count": 446,
   "metadata": {},
   "outputs": [],
   "source": [
    "#PRICE, PENSARE SE FARLO DIVENTARE SOLO CON I COSI DI PAPER, QUINDI NON PIù DIZIONARIO"
   ]
  },
  {
   "cell_type": "markdown",
   "metadata": {},
   "source": [
    "# salvo il data set pulito"
   ]
  },
  {
   "cell_type": "code",
   "execution_count": 447,
   "metadata": {},
   "outputs": [],
   "source": [
    "final_clean_df = final_df"
   ]
  },
  {
   "cell_type": "code",
   "execution_count": 448,
   "metadata": {},
   "outputs": [
    {
     "name": "stdout",
     "output_type": "stream",
     "text": [
      "<class 'pandas.core.frame.DataFrame'>\n",
      "RangeIndex: 24299 entries, 0 to 24298\n",
      "Data columns (total 63 columns):\n",
      " #   Column             Non-Null Count  Dtype         \n",
      "---  ------             --------------  -----         \n",
      " 0   object             24299 non-null  object        \n",
      " 1   id                 24299 non-null  object        \n",
      " 2   oracle_id          24299 non-null  object        \n",
      " 3   multiverse_ids     24299 non-null  object        \n",
      " 4   name               24299 non-null  object        \n",
      " 5   lang               24299 non-null  object        \n",
      " 6   released_at        24299 non-null  datetime64[ns]\n",
      " 7   uri                24299 non-null  object        \n",
      " 8   scryfall_uri       24299 non-null  object        \n",
      " 9   layout             24299 non-null  object        \n",
      " 10  highres_image      24299 non-null  bool          \n",
      " 11  image_uris         24299 non-null  object        \n",
      " 12  mana_cost          24299 non-null  object        \n",
      " 13  cmc                24299 non-null  float64       \n",
      " 14  power              24299 non-null  object        \n",
      " 15  toughness          24299 non-null  object        \n",
      " 16  colors             24299 non-null  object        \n",
      " 17  color_identity     24299 non-null  object        \n",
      " 18  legalities         24299 non-null  object        \n",
      " 19  games              24299 non-null  object        \n",
      " 20  reserved           24299 non-null  bool          \n",
      " 21  foil               24299 non-null  bool          \n",
      " 22  nonfoil            24299 non-null  bool          \n",
      " 23  oversized          24299 non-null  bool          \n",
      " 24  promo              24299 non-null  bool          \n",
      " 25  reprint            24299 non-null  bool          \n",
      " 26  variation          24299 non-null  bool          \n",
      " 27  set                24299 non-null  object        \n",
      " 28  set_name           24299 non-null  object        \n",
      " 29  set_type           24299 non-null  object        \n",
      " 30  set_uri            24299 non-null  object        \n",
      " 31  set_search_uri     24299 non-null  object        \n",
      " 32  scryfall_set_uri   24299 non-null  object        \n",
      " 33  rulings_uri        24299 non-null  object        \n",
      " 34  prints_search_uri  24299 non-null  object        \n",
      " 35  collector_number   24299 non-null  object        \n",
      " 36  digital            24299 non-null  bool          \n",
      " 37  rarity             24299 non-null  object        \n",
      " 38  flavor_text        24299 non-null  object        \n",
      " 39  card_back_id       24299 non-null  object        \n",
      " 40  artist             24299 non-null  object        \n",
      " 41  artist_ids         24298 non-null  object        \n",
      " 42  illustration_id    24299 non-null  object        \n",
      " 43  border_color       24299 non-null  object        \n",
      " 44  frame              24299 non-null  object        \n",
      " 45  full_art           24299 non-null  bool          \n",
      " 46  textless           24299 non-null  bool          \n",
      " 47  booster            24299 non-null  bool          \n",
      " 48  story_spotlight    24299 non-null  bool          \n",
      " 49  related_uris       24299 non-null  object        \n",
      " 50  all_parts          24299 non-null  object        \n",
      " 51  loyalty            24299 non-null  object        \n",
      " 52  printings          24299 non-null  object        \n",
      " 53  rulings            24299 non-null  object        \n",
      " 54  subtypes           24299 non-null  object        \n",
      " 55  supertypes         24299 non-null  object        \n",
      " 56  text               24299 non-null  object        \n",
      " 57  type               24299 non-null  object        \n",
      " 58  types              24299 non-null  object        \n",
      " 59  uuid               24299 non-null  object        \n",
      " 60  edhrecRank         24299 non-null  object        \n",
      " 61  leadershipSkills   24299 non-null  object        \n",
      " 62  prices             24299 non-null  object        \n",
      "dtypes: bool(13), datetime64[ns](1), float64(1), object(48)\n",
      "memory usage: 9.6+ MB\n"
     ]
    },
    {
     "data": {
      "text/plain": [
       "artist              0\n",
       "artist_ids          1\n",
       "illustration_id     0\n",
       "border_color        0\n",
       "frame               0\n",
       "full_art            0\n",
       "textless            0\n",
       "booster             0\n",
       "story_spotlight     0\n",
       "related_uris        0\n",
       "all_parts           0\n",
       "loyalty             0\n",
       "printings           0\n",
       "rulings             0\n",
       "subtypes            0\n",
       "supertypes          0\n",
       "text                0\n",
       "type                0\n",
       "types               0\n",
       "uuid                0\n",
       "edhrecRank          0\n",
       "leadershipSkills    0\n",
       "prices              0\n",
       "dtype: int64"
      ]
     },
     "execution_count": 448,
     "metadata": {},
     "output_type": "execute_result"
    }
   ],
   "source": [
    "final_clean_df.info()\n",
    "final_clean_df.isna().sum()[40:]"
   ]
  },
  {
   "cell_type": "code",
   "execution_count": 449,
   "metadata": {},
   "outputs": [
    {
     "name": "stdout",
     "output_type": "stream",
     "text": [
      "Stored 'final_clean_df' (DataFrame)\n"
     ]
    }
   ],
   "source": [
    "%store final_clean_df"
   ]
  },
  {
   "cell_type": "code",
   "execution_count": 450,
   "metadata": {},
   "outputs": [
    {
     "data": {
      "text/plain": [
       "Index(['object', 'id', 'oracle_id', 'multiverse_ids', 'name', 'lang',\n",
       "       'released_at', 'uri', 'scryfall_uri', 'layout', 'highres_image',\n",
       "       'image_uris', 'mana_cost', 'cmc', 'power', 'toughness', 'colors',\n",
       "       'color_identity', 'legalities', 'games', 'reserved', 'foil', 'nonfoil',\n",
       "       'oversized', 'promo', 'reprint', 'variation', 'set', 'set_name',\n",
       "       'set_type', 'set_uri', 'set_search_uri', 'scryfall_set_uri',\n",
       "       'rulings_uri', 'prints_search_uri', 'collector_number', 'digital',\n",
       "       'rarity', 'flavor_text', 'card_back_id', 'artist', 'artist_ids',\n",
       "       'illustration_id', 'border_color', 'frame', 'full_art', 'textless',\n",
       "       'booster', 'story_spotlight', 'related_uris', 'all_parts', 'loyalty',\n",
       "       'printings', 'rulings', 'subtypes', 'supertypes', 'text', 'type',\n",
       "       'types', 'uuid', 'edhrecRank', 'leadershipSkills', 'prices'],\n",
       "      dtype='object')"
      ]
     },
     "execution_count": 450,
     "metadata": {},
     "output_type": "execute_result"
    }
   ],
   "source": [
    "final_clean_df.columns"
   ]
  },
  {
   "cell_type": "code",
   "execution_count": 1,
   "metadata": {},
   "outputs": [
    {
     "ename": "NameError",
     "evalue": "name 'final_clean_df' is not defined",
     "output_type": "error",
     "traceback": [
      "\u001b[1;31m---------------------------------------------------------------------------\u001b[0m",
      "\u001b[1;31mNameError\u001b[0m                                 Traceback (most recent call last)",
      "Cell \u001b[1;32mIn[1], line 3\u001b[0m\n\u001b[0;32m      1\u001b[0m \u001b[38;5;66;03m#provo a salvare il dataframe finito\u001b[39;00m\n\u001b[0;32m      2\u001b[0m \u001b[38;5;66;03m#final_clean_df.to_csv('final.csv',sep='|',index=False)\u001b[39;00m\n\u001b[1;32m----> 3\u001b[0m \u001b[43mfinal_clean_df\u001b[49m\u001b[38;5;241m.\u001b[39mto_json(\u001b[38;5;124m'\u001b[39m\u001b[38;5;124mfinal_json.json\u001b[39m\u001b[38;5;124m'\u001b[39m,)\n",
      "\u001b[1;31mNameError\u001b[0m: name 'final_clean_df' is not defined"
     ]
    }
   ],
   "source": [
    "#provo a salvare il dataframe finito\n",
    "#final_clean_df.to_csv('final.csv',sep='|',index=False)\n",
    "final_clean_df.to_json('final_json.json',)"
   ]
  },
  {
   "cell_type": "code",
   "execution_count": 453,
   "metadata": {},
   "outputs": [
    {
     "data": {
      "text/plain": [
       "list"
      ]
     },
     "execution_count": 453,
     "metadata": {},
     "output_type": "execute_result"
    }
   ],
   "source": [
    "type(final_clean_df.multiverse_ids[6])"
   ]
  },
  {
   "cell_type": "code",
   "execution_count": 454,
   "metadata": {},
   "outputs": [
    {
     "data": {
      "text/html": [
       "<div>\n",
       "<style scoped>\n",
       "    .dataframe tbody tr th:only-of-type {\n",
       "        vertical-align: middle;\n",
       "    }\n",
       "\n",
       "    .dataframe tbody tr th {\n",
       "        vertical-align: top;\n",
       "    }\n",
       "\n",
       "    .dataframe thead th {\n",
       "        text-align: right;\n",
       "    }\n",
       "</style>\n",
       "<table border=\"1\" class=\"dataframe\">\n",
       "  <thead>\n",
       "    <tr style=\"text-align: right;\">\n",
       "      <th></th>\n",
       "      <th>object</th>\n",
       "      <th>id</th>\n",
       "      <th>oracle_id</th>\n",
       "      <th>multiverse_ids</th>\n",
       "      <th>name</th>\n",
       "      <th>lang</th>\n",
       "      <th>released_at</th>\n",
       "      <th>uri</th>\n",
       "      <th>scryfall_uri</th>\n",
       "      <th>layout</th>\n",
       "      <th>...</th>\n",
       "      <th>rulings</th>\n",
       "      <th>subtypes</th>\n",
       "      <th>supertypes</th>\n",
       "      <th>text</th>\n",
       "      <th>type</th>\n",
       "      <th>types</th>\n",
       "      <th>uuid</th>\n",
       "      <th>edhrecRank</th>\n",
       "      <th>leadershipSkills</th>\n",
       "      <th>prices</th>\n",
       "    </tr>\n",
       "  </thead>\n",
       "  <tbody>\n",
       "    <tr>\n",
       "      <th>0</th>\n",
       "      <td>card</td>\n",
       "      <td>dbcdbf7a-9294-47ad-9f93-c16b78c7463a</td>\n",
       "      <td>cd6250ae-9079-4a62-8a70-0d94fbac21bc</td>\n",
       "      <td>[no image]</td>\n",
       "      <td>Earthshaker Giant</td>\n",
       "      <td>en</td>\n",
       "      <td>2019-11-15</td>\n",
       "      <td>https://api.scryfall.com/cards/dbcdbf7a-9294-4...</td>\n",
       "      <td>https://scryfall.com/card/gn2/5/earthshaker-gi...</td>\n",
       "      <td>normal</td>\n",
       "      <td>...</td>\n",
       "      <td>[no additional rules]</td>\n",
       "      <td>[Giant, Druid]</td>\n",
       "      <td>[no supertypes]</td>\n",
       "      <td>Trample\\nWhen Earthshaker Giant enters the bat...</td>\n",
       "      <td>Creature — Giant Druid</td>\n",
       "      <td>[Creature]</td>\n",
       "      <td>d77da7e3-b017-559f-8081-eb56d48da8a2</td>\n",
       "      <td>not ranked</td>\n",
       "      <td>unusable</td>\n",
       "      <td>{'mtgo': {}, 'mtgoFoil': {}, 'paper': {}, 'pap...</td>\n",
       "    </tr>\n",
       "    <tr>\n",
       "      <th>1</th>\n",
       "      <td>card</td>\n",
       "      <td>acb3ce9b-ee4f-410a-8db3-e87aeb0a4444</td>\n",
       "      <td>ab0dfae5-b9d4-417b-8a0d-2525ae3a73b9</td>\n",
       "      <td>[no image]</td>\n",
       "      <td>Fiendish Duo</td>\n",
       "      <td>en</td>\n",
       "      <td>2019-11-15</td>\n",
       "      <td>https://api.scryfall.com/cards/acb3ce9b-ee4f-4...</td>\n",
       "      <td>https://scryfall.com/card/gn2/4/fiendish-duo?u...</td>\n",
       "      <td>normal</td>\n",
       "      <td>...</td>\n",
       "      <td>[no additional rules]</td>\n",
       "      <td>[Devil]</td>\n",
       "      <td>[no supertypes]</td>\n",
       "      <td>First strike\\nIf a source would deal damage to...</td>\n",
       "      <td>Creature — Devil</td>\n",
       "      <td>[Creature]</td>\n",
       "      <td>dcb1e7e2-bd48-5d9b-a872-7386e81bbac4</td>\n",
       "      <td>not ranked</td>\n",
       "      <td>unusable</td>\n",
       "      <td>{'mtgo': {}, 'mtgoFoil': {}, 'paper': {}, 'pap...</td>\n",
       "    </tr>\n",
       "    <tr>\n",
       "      <th>2</th>\n",
       "      <td>card</td>\n",
       "      <td>17b2ed72-d0f0-4d8d-bb5e-dce08d157466</td>\n",
       "      <td>7264d3b3-fd46-4ea3-a85d-f0b068c331ad</td>\n",
       "      <td>[no image]</td>\n",
       "      <td>Calculating Lich</td>\n",
       "      <td>en</td>\n",
       "      <td>2019-11-15</td>\n",
       "      <td>https://api.scryfall.com/cards/17b2ed72-d0f0-4...</td>\n",
       "      <td>https://scryfall.com/card/gn2/3/calculating-li...</td>\n",
       "      <td>normal</td>\n",
       "      <td>...</td>\n",
       "      <td>[no additional rules]</td>\n",
       "      <td>[Zombie, Wizard]</td>\n",
       "      <td>[no supertypes]</td>\n",
       "      <td>Menace\\nWhenever a creature attacks one of you...</td>\n",
       "      <td>Creature — Zombie Wizard</td>\n",
       "      <td>[Creature]</td>\n",
       "      <td>aedff6d1-7901-5619-9ff6-b3dd9c43b896</td>\n",
       "      <td>not ranked</td>\n",
       "      <td>unusable</td>\n",
       "      <td>{'mtgo': {}, 'mtgoFoil': {}, 'paper': {}, 'pap...</td>\n",
       "    </tr>\n",
       "    <tr>\n",
       "      <th>3</th>\n",
       "      <td>card</td>\n",
       "      <td>0faa9eea-fbf1-41f7-9def-1ec3d5134a53</td>\n",
       "      <td>e6284fb3-7cf8-4730-b156-10085b70b0e8</td>\n",
       "      <td>[no image]</td>\n",
       "      <td>Sphinx of Enlightenment</td>\n",
       "      <td>en</td>\n",
       "      <td>2019-11-15</td>\n",
       "      <td>https://api.scryfall.com/cards/0faa9eea-fbf1-4...</td>\n",
       "      <td>https://scryfall.com/card/gn2/2/sphinx-of-enli...</td>\n",
       "      <td>normal</td>\n",
       "      <td>...</td>\n",
       "      <td>[no additional rules]</td>\n",
       "      <td>[Sphinx]</td>\n",
       "      <td>[no supertypes]</td>\n",
       "      <td>Flying\\nWhen Sphinx of Enlightenment enters th...</td>\n",
       "      <td>Creature — Sphinx</td>\n",
       "      <td>[Creature]</td>\n",
       "      <td>5c885aa6-c991-5eec-b140-d43a70428566</td>\n",
       "      <td>not ranked</td>\n",
       "      <td>unusable</td>\n",
       "      <td>{'mtgo': {}, 'mtgoFoil': {}, 'paper': {}, 'pap...</td>\n",
       "    </tr>\n",
       "    <tr>\n",
       "      <th>4</th>\n",
       "      <td>card</td>\n",
       "      <td>ecbeac44-9392-4522-8ff5-87079386bd0a</td>\n",
       "      <td>43296f8b-58d9-446e-a538-1c4921552c41</td>\n",
       "      <td>[no image]</td>\n",
       "      <td>Highcliff Felidar</td>\n",
       "      <td>en</td>\n",
       "      <td>2019-11-15</td>\n",
       "      <td>https://api.scryfall.com/cards/ecbeac44-9392-4...</td>\n",
       "      <td>https://scryfall.com/card/gn2/1/highcliff-feli...</td>\n",
       "      <td>normal</td>\n",
       "      <td>...</td>\n",
       "      <td>[no additional rules]</td>\n",
       "      <td>[Cat, Beast]</td>\n",
       "      <td>[no supertypes]</td>\n",
       "      <td>Vigilance\\nWhen Highcliff Felidar enters the b...</td>\n",
       "      <td>Creature — Cat Beast</td>\n",
       "      <td>[Creature]</td>\n",
       "      <td>a9bf68a1-7eb7-5387-a651-5c0ede8d86ec</td>\n",
       "      <td>not ranked</td>\n",
       "      <td>unusable</td>\n",
       "      <td>{'mtgo': {}, 'mtgoFoil': {}, 'paper': {}, 'pap...</td>\n",
       "    </tr>\n",
       "    <tr>\n",
       "      <th>5</th>\n",
       "      <td>card</td>\n",
       "      <td>2b8285b7-bd88-4a6c-bd2e-9798a1c661f8</td>\n",
       "      <td>0677f49e-f8bf-4349-af52-2ccde9287c2e</td>\n",
       "      <td>[no image]</td>\n",
       "      <td>Mox Jet</td>\n",
       "      <td>en</td>\n",
       "      <td>2019-11-03</td>\n",
       "      <td>https://api.scryfall.com/cards/2b8285b7-bd88-4...</td>\n",
       "      <td>https://scryfall.com/card/ovnt/2019NA/mox-jet?...</td>\n",
       "      <td>normal</td>\n",
       "      <td>...</td>\n",
       "      <td>[no additional rules]</td>\n",
       "      <td>[no subtypes]</td>\n",
       "      <td>[no supertypes]</td>\n",
       "      <td>{T}: Add {B}.</td>\n",
       "      <td>Artifact</td>\n",
       "      <td>[Artifact]</td>\n",
       "      <td>911999c5-131c-56f3-8180-379b3b8d43da</td>\n",
       "      <td>19159</td>\n",
       "      <td>unusable</td>\n",
       "      <td>{'mtgo': {}, 'mtgoFoil': {}, 'paper': {'2019-1...</td>\n",
       "    </tr>\n",
       "    <tr>\n",
       "      <th>6</th>\n",
       "      <td>card</td>\n",
       "      <td>1f5a1578-d5fe-4b31-bb71-3253be8775a1</td>\n",
       "      <td>0677f49e-f8bf-4349-af52-2ccde9287c2e</td>\n",
       "      <td>[no image]</td>\n",
       "      <td>Mox Jet</td>\n",
       "      <td>en</td>\n",
       "      <td>2016-10-23</td>\n",
       "      <td>https://api.scryfall.com/cards/1f5a1578-d5fe-4...</td>\n",
       "      <td>https://scryfall.com/card/ovnt/2016EU/mox-jet?...</td>\n",
       "      <td>normal</td>\n",
       "      <td>...</td>\n",
       "      <td>[no additional rules]</td>\n",
       "      <td>[no subtypes]</td>\n",
       "      <td>[no supertypes]</td>\n",
       "      <td>{T}: Add {B}.</td>\n",
       "      <td>Artifact</td>\n",
       "      <td>[Artifact]</td>\n",
       "      <td>911999c5-131c-56f3-8180-379b3b8d43da</td>\n",
       "      <td>19159</td>\n",
       "      <td>unusable</td>\n",
       "      <td>{'mtgo': {}, 'mtgoFoil': {}, 'paper': {'2019-1...</td>\n",
       "    </tr>\n",
       "    <tr>\n",
       "      <th>7</th>\n",
       "      <td>card</td>\n",
       "      <td>5f6927e1-c580-483a-8e2a-6e2deb74800e</td>\n",
       "      <td>0677f49e-f8bf-4349-af52-2ccde9287c2e</td>\n",
       "      <td>[383020]</td>\n",
       "      <td>Mox Jet</td>\n",
       "      <td>en</td>\n",
       "      <td>2014-06-16</td>\n",
       "      <td>https://api.scryfall.com/cards/5f6927e1-c580-4...</td>\n",
       "      <td>https://scryfall.com/card/vma/6/mox-jet?utm_so...</td>\n",
       "      <td>normal</td>\n",
       "      <td>...</td>\n",
       "      <td>[no additional rules]</td>\n",
       "      <td>[no subtypes]</td>\n",
       "      <td>[no supertypes]</td>\n",
       "      <td>{T}: Add {B}.</td>\n",
       "      <td>Artifact</td>\n",
       "      <td>[Artifact]</td>\n",
       "      <td>911999c5-131c-56f3-8180-379b3b8d43da</td>\n",
       "      <td>19159</td>\n",
       "      <td>unusable</td>\n",
       "      <td>{'mtgo': {}, 'mtgoFoil': {}, 'paper': {'2019-1...</td>\n",
       "    </tr>\n",
       "    <tr>\n",
       "      <th>8</th>\n",
       "      <td>card</td>\n",
       "      <td>92bcd1ce-19b1-4d78-8b09-95242ca08d76</td>\n",
       "      <td>0677f49e-f8bf-4349-af52-2ccde9287c2e</td>\n",
       "      <td>[33]</td>\n",
       "      <td>Mox Jet</td>\n",
       "      <td>en</td>\n",
       "      <td>1993-08-05</td>\n",
       "      <td>https://api.scryfall.com/cards/92bcd1ce-19b1-4...</td>\n",
       "      <td>https://scryfall.com/card/lea/262/mox-jet?utm_...</td>\n",
       "      <td>normal</td>\n",
       "      <td>...</td>\n",
       "      <td>[no additional rules]</td>\n",
       "      <td>[no subtypes]</td>\n",
       "      <td>[no supertypes]</td>\n",
       "      <td>{T}: Add {B}.</td>\n",
       "      <td>Artifact</td>\n",
       "      <td>[Artifact]</td>\n",
       "      <td>911999c5-131c-56f3-8180-379b3b8d43da</td>\n",
       "      <td>19159</td>\n",
       "      <td>unusable</td>\n",
       "      <td>{'mtgo': {}, 'mtgoFoil': {}, 'paper': {'2019-1...</td>\n",
       "    </tr>\n",
       "    <tr>\n",
       "      <th>9</th>\n",
       "      <td>card</td>\n",
       "      <td>4c19926a-7792-4e0f-8418-a44f0cf5eeea</td>\n",
       "      <td>f161111d-9747-47b3-bb10-3c8bded32e21</td>\n",
       "      <td>[no image]</td>\n",
       "      <td>City of Traitors</td>\n",
       "      <td>en</td>\n",
       "      <td>2019-11-03</td>\n",
       "      <td>https://api.scryfall.com/cards/4c19926a-7792-4...</td>\n",
       "      <td>https://scryfall.com/card/olgc/2019NA/city-of-...</td>\n",
       "      <td>normal</td>\n",
       "      <td>...</td>\n",
       "      <td>[{'date': '2004-10-04', 'text': 'City of Trait...</td>\n",
       "      <td>[no subtypes]</td>\n",
       "      <td>[no supertypes]</td>\n",
       "      <td>When you play another land, sacrifice City of ...</td>\n",
       "      <td>Land</td>\n",
       "      <td>[Land]</td>\n",
       "      <td>7f852bb5-840e-56dc-a862-f09cd4d1e8b7</td>\n",
       "      <td>4535</td>\n",
       "      <td>unusable</td>\n",
       "      <td>{'mtgo': {'2019-11-10': 28.77}, 'mtgoFoil': {'...</td>\n",
       "    </tr>\n",
       "  </tbody>\n",
       "</table>\n",
       "<p>10 rows × 63 columns</p>\n",
       "</div>"
      ],
      "text/plain": [
       "  object                                    id  \\\n",
       "0   card  dbcdbf7a-9294-47ad-9f93-c16b78c7463a   \n",
       "1   card  acb3ce9b-ee4f-410a-8db3-e87aeb0a4444   \n",
       "2   card  17b2ed72-d0f0-4d8d-bb5e-dce08d157466   \n",
       "3   card  0faa9eea-fbf1-41f7-9def-1ec3d5134a53   \n",
       "4   card  ecbeac44-9392-4522-8ff5-87079386bd0a   \n",
       "5   card  2b8285b7-bd88-4a6c-bd2e-9798a1c661f8   \n",
       "6   card  1f5a1578-d5fe-4b31-bb71-3253be8775a1   \n",
       "7   card  5f6927e1-c580-483a-8e2a-6e2deb74800e   \n",
       "8   card  92bcd1ce-19b1-4d78-8b09-95242ca08d76   \n",
       "9   card  4c19926a-7792-4e0f-8418-a44f0cf5eeea   \n",
       "\n",
       "                              oracle_id multiverse_ids  \\\n",
       "0  cd6250ae-9079-4a62-8a70-0d94fbac21bc     [no image]   \n",
       "1  ab0dfae5-b9d4-417b-8a0d-2525ae3a73b9     [no image]   \n",
       "2  7264d3b3-fd46-4ea3-a85d-f0b068c331ad     [no image]   \n",
       "3  e6284fb3-7cf8-4730-b156-10085b70b0e8     [no image]   \n",
       "4  43296f8b-58d9-446e-a538-1c4921552c41     [no image]   \n",
       "5  0677f49e-f8bf-4349-af52-2ccde9287c2e     [no image]   \n",
       "6  0677f49e-f8bf-4349-af52-2ccde9287c2e     [no image]   \n",
       "7  0677f49e-f8bf-4349-af52-2ccde9287c2e       [383020]   \n",
       "8  0677f49e-f8bf-4349-af52-2ccde9287c2e           [33]   \n",
       "9  f161111d-9747-47b3-bb10-3c8bded32e21     [no image]   \n",
       "\n",
       "                      name lang released_at  \\\n",
       "0        Earthshaker Giant   en  2019-11-15   \n",
       "1             Fiendish Duo   en  2019-11-15   \n",
       "2         Calculating Lich   en  2019-11-15   \n",
       "3  Sphinx of Enlightenment   en  2019-11-15   \n",
       "4        Highcliff Felidar   en  2019-11-15   \n",
       "5                  Mox Jet   en  2019-11-03   \n",
       "6                  Mox Jet   en  2016-10-23   \n",
       "7                  Mox Jet   en  2014-06-16   \n",
       "8                  Mox Jet   en  1993-08-05   \n",
       "9         City of Traitors   en  2019-11-03   \n",
       "\n",
       "                                                 uri  \\\n",
       "0  https://api.scryfall.com/cards/dbcdbf7a-9294-4...   \n",
       "1  https://api.scryfall.com/cards/acb3ce9b-ee4f-4...   \n",
       "2  https://api.scryfall.com/cards/17b2ed72-d0f0-4...   \n",
       "3  https://api.scryfall.com/cards/0faa9eea-fbf1-4...   \n",
       "4  https://api.scryfall.com/cards/ecbeac44-9392-4...   \n",
       "5  https://api.scryfall.com/cards/2b8285b7-bd88-4...   \n",
       "6  https://api.scryfall.com/cards/1f5a1578-d5fe-4...   \n",
       "7  https://api.scryfall.com/cards/5f6927e1-c580-4...   \n",
       "8  https://api.scryfall.com/cards/92bcd1ce-19b1-4...   \n",
       "9  https://api.scryfall.com/cards/4c19926a-7792-4...   \n",
       "\n",
       "                                        scryfall_uri  layout  ...  \\\n",
       "0  https://scryfall.com/card/gn2/5/earthshaker-gi...  normal  ...   \n",
       "1  https://scryfall.com/card/gn2/4/fiendish-duo?u...  normal  ...   \n",
       "2  https://scryfall.com/card/gn2/3/calculating-li...  normal  ...   \n",
       "3  https://scryfall.com/card/gn2/2/sphinx-of-enli...  normal  ...   \n",
       "4  https://scryfall.com/card/gn2/1/highcliff-feli...  normal  ...   \n",
       "5  https://scryfall.com/card/ovnt/2019NA/mox-jet?...  normal  ...   \n",
       "6  https://scryfall.com/card/ovnt/2016EU/mox-jet?...  normal  ...   \n",
       "7  https://scryfall.com/card/vma/6/mox-jet?utm_so...  normal  ...   \n",
       "8  https://scryfall.com/card/lea/262/mox-jet?utm_...  normal  ...   \n",
       "9  https://scryfall.com/card/olgc/2019NA/city-of-...  normal  ...   \n",
       "\n",
       "                                             rulings          subtypes  \\\n",
       "0                              [no additional rules]    [Giant, Druid]   \n",
       "1                              [no additional rules]           [Devil]   \n",
       "2                              [no additional rules]  [Zombie, Wizard]   \n",
       "3                              [no additional rules]          [Sphinx]   \n",
       "4                              [no additional rules]      [Cat, Beast]   \n",
       "5                              [no additional rules]     [no subtypes]   \n",
       "6                              [no additional rules]     [no subtypes]   \n",
       "7                              [no additional rules]     [no subtypes]   \n",
       "8                              [no additional rules]     [no subtypes]   \n",
       "9  [{'date': '2004-10-04', 'text': 'City of Trait...     [no subtypes]   \n",
       "\n",
       "        supertypes                                               text  \\\n",
       "0  [no supertypes]  Trample\\nWhen Earthshaker Giant enters the bat...   \n",
       "1  [no supertypes]  First strike\\nIf a source would deal damage to...   \n",
       "2  [no supertypes]  Menace\\nWhenever a creature attacks one of you...   \n",
       "3  [no supertypes]  Flying\\nWhen Sphinx of Enlightenment enters th...   \n",
       "4  [no supertypes]  Vigilance\\nWhen Highcliff Felidar enters the b...   \n",
       "5  [no supertypes]                                      {T}: Add {B}.   \n",
       "6  [no supertypes]                                      {T}: Add {B}.   \n",
       "7  [no supertypes]                                      {T}: Add {B}.   \n",
       "8  [no supertypes]                                      {T}: Add {B}.   \n",
       "9  [no supertypes]  When you play another land, sacrifice City of ...   \n",
       "\n",
       "                       type       types                                  uuid  \\\n",
       "0    Creature — Giant Druid  [Creature]  d77da7e3-b017-559f-8081-eb56d48da8a2   \n",
       "1          Creature — Devil  [Creature]  dcb1e7e2-bd48-5d9b-a872-7386e81bbac4   \n",
       "2  Creature — Zombie Wizard  [Creature]  aedff6d1-7901-5619-9ff6-b3dd9c43b896   \n",
       "3         Creature — Sphinx  [Creature]  5c885aa6-c991-5eec-b140-d43a70428566   \n",
       "4      Creature — Cat Beast  [Creature]  a9bf68a1-7eb7-5387-a651-5c0ede8d86ec   \n",
       "5                  Artifact  [Artifact]  911999c5-131c-56f3-8180-379b3b8d43da   \n",
       "6                  Artifact  [Artifact]  911999c5-131c-56f3-8180-379b3b8d43da   \n",
       "7                  Artifact  [Artifact]  911999c5-131c-56f3-8180-379b3b8d43da   \n",
       "8                  Artifact  [Artifact]  911999c5-131c-56f3-8180-379b3b8d43da   \n",
       "9                      Land      [Land]  7f852bb5-840e-56dc-a862-f09cd4d1e8b7   \n",
       "\n",
       "   edhrecRank leadershipSkills  \\\n",
       "0  not ranked         unusable   \n",
       "1  not ranked         unusable   \n",
       "2  not ranked         unusable   \n",
       "3  not ranked         unusable   \n",
       "4  not ranked         unusable   \n",
       "5       19159         unusable   \n",
       "6       19159         unusable   \n",
       "7       19159         unusable   \n",
       "8       19159         unusable   \n",
       "9        4535         unusable   \n",
       "\n",
       "                                              prices  \n",
       "0  {'mtgo': {}, 'mtgoFoil': {}, 'paper': {}, 'pap...  \n",
       "1  {'mtgo': {}, 'mtgoFoil': {}, 'paper': {}, 'pap...  \n",
       "2  {'mtgo': {}, 'mtgoFoil': {}, 'paper': {}, 'pap...  \n",
       "3  {'mtgo': {}, 'mtgoFoil': {}, 'paper': {}, 'pap...  \n",
       "4  {'mtgo': {}, 'mtgoFoil': {}, 'paper': {}, 'pap...  \n",
       "5  {'mtgo': {}, 'mtgoFoil': {}, 'paper': {'2019-1...  \n",
       "6  {'mtgo': {}, 'mtgoFoil': {}, 'paper': {'2019-1...  \n",
       "7  {'mtgo': {}, 'mtgoFoil': {}, 'paper': {'2019-1...  \n",
       "8  {'mtgo': {}, 'mtgoFoil': {}, 'paper': {'2019-1...  \n",
       "9  {'mtgo': {'2019-11-10': 28.77}, 'mtgoFoil': {'...  \n",
       "\n",
       "[10 rows x 63 columns]"
      ]
     },
     "execution_count": 454,
     "metadata": {},
     "output_type": "execute_result"
    }
   ],
   "source": [
    "final_clean_df.head(10)"
   ]
  },
  {
   "cell_type": "code",
   "execution_count": null,
   "metadata": {},
   "outputs": [],
   "source": []
  }
 ],
 "metadata": {
  "kernelspec": {
   "display_name": ".venv",
   "language": "python",
   "name": "python3"
  },
  "language_info": {
   "codemirror_mode": {
    "name": "ipython",
    "version": 3
   },
   "file_extension": ".py",
   "mimetype": "text/x-python",
   "name": "python",
   "nbconvert_exporter": "python",
   "pygments_lexer": "ipython3",
   "version": "3.12.1"
  }
 },
 "nbformat": 4,
 "nbformat_minor": 2
}
