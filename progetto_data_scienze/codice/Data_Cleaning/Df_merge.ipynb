{
 "cells": [
  {
   "cell_type": "code",
   "execution_count": 1,
   "metadata": {},
   "outputs": [],
   "source": [
    "import numpy as np\n",
    "import matplotlib.pyplot as plt\n",
    "import pandas as pd"
   ]
  },
  {
   "cell_type": "code",
   "execution_count": 2,
   "metadata": {},
   "outputs": [],
   "source": [
    "%store -r final_df"
   ]
  },
  {
   "cell_type": "markdown",
   "metadata": {},
   "source": [
    "# Value null and column"
   ]
  },
  {
   "cell_type": "code",
   "execution_count": 3,
   "metadata": {},
   "outputs": [],
   "source": [
    "final_df_bu = final_df"
   ]
  },
  {
   "cell_type": "code",
   "execution_count": 4,
   "metadata": {},
   "outputs": [
    {
     "data": {
      "text/html": [
       "<div>\n",
       "<style scoped>\n",
       "    .dataframe tbody tr th:only-of-type {\n",
       "        vertical-align: middle;\n",
       "    }\n",
       "\n",
       "    .dataframe tbody tr th {\n",
       "        vertical-align: top;\n",
       "    }\n",
       "\n",
       "    .dataframe thead th {\n",
       "        text-align: right;\n",
       "    }\n",
       "</style>\n",
       "<table border=\"1\" class=\"dataframe\">\n",
       "  <thead>\n",
       "    <tr style=\"text-align: right;\">\n",
       "      <th></th>\n",
       "      <th>name_x</th>\n",
       "      <th>name_y</th>\n",
       "    </tr>\n",
       "  </thead>\n",
       "  <tbody>\n",
       "    <tr>\n",
       "      <th>13</th>\n",
       "      <td>Nightmare Moon // Princess Luna</td>\n",
       "      <td>Nightmare Moon</td>\n",
       "    </tr>\n",
       "    <tr>\n",
       "      <th>14</th>\n",
       "      <td>Nightmare Moon // Princess Luna</td>\n",
       "      <td>Princess Luna</td>\n",
       "    </tr>\n",
       "    <tr>\n",
       "      <th>58</th>\n",
       "      <td>Oakhame Ranger // Bring Back</td>\n",
       "      <td>Bring Back</td>\n",
       "    </tr>\n",
       "    <tr>\n",
       "      <th>59</th>\n",
       "      <td>Oakhame Ranger // Bring Back</td>\n",
       "      <td>Bring Back</td>\n",
       "    </tr>\n",
       "    <tr>\n",
       "      <th>60</th>\n",
       "      <td>Oakhame Ranger // Bring Back</td>\n",
       "      <td>Bring Back</td>\n",
       "    </tr>\n",
       "    <tr>\n",
       "      <th>...</th>\n",
       "      <td>...</td>\n",
       "      <td>...</td>\n",
       "    </tr>\n",
       "    <tr>\n",
       "      <th>20712</th>\n",
       "      <td>Spite // Malice</td>\n",
       "      <td>Malice</td>\n",
       "    </tr>\n",
       "    <tr>\n",
       "      <th>20713</th>\n",
       "      <td>Spite // Malice</td>\n",
       "      <td>Spite</td>\n",
       "    </tr>\n",
       "    <tr>\n",
       "      <th>20714</th>\n",
       "      <td>Stand // Deliver</td>\n",
       "      <td>Deliver</td>\n",
       "    </tr>\n",
       "    <tr>\n",
       "      <th>20715</th>\n",
       "      <td>Stand // Deliver</td>\n",
       "      <td>Stand</td>\n",
       "    </tr>\n",
       "    <tr>\n",
       "      <th>22238</th>\n",
       "      <td>B.F.M. (Big Furry Monster)</td>\n",
       "      <td>B.F.M. (Big Furry Monster) (b)</td>\n",
       "    </tr>\n",
       "  </tbody>\n",
       "</table>\n",
       "<p>685 rows × 2 columns</p>\n",
       "</div>"
      ],
      "text/plain": [
       "                                name_x                          name_y\n",
       "13     Nightmare Moon // Princess Luna                  Nightmare Moon\n",
       "14     Nightmare Moon // Princess Luna                   Princess Luna\n",
       "58        Oakhame Ranger // Bring Back                      Bring Back\n",
       "59        Oakhame Ranger // Bring Back                      Bring Back\n",
       "60        Oakhame Ranger // Bring Back                      Bring Back\n",
       "...                                ...                             ...\n",
       "20712                  Spite // Malice                          Malice\n",
       "20713                  Spite // Malice                           Spite\n",
       "20714                 Stand // Deliver                         Deliver\n",
       "20715                 Stand // Deliver                           Stand\n",
       "22238       B.F.M. (Big Furry Monster)  B.F.M. (Big Furry Monster) (b)\n",
       "\n",
       "[685 rows x 2 columns]"
      ]
     },
     "execution_count": 4,
     "metadata": {},
     "output_type": "execute_result"
    }
   ],
   "source": [
    "prova = final_df[final_df.name_x != final_df.name_y] #ci sono delle righe che hanno nomi diversi\n",
    "#prova.loc[:'name_x':'name_y']\n",
    "prova[['name_x','name_y']]  #ok il problema è con le carte con doppia faccia; LE RIMUOVO TUTTE (685)"
   ]
  },
  {
   "cell_type": "markdown",
   "metadata": {},
   "source": [
    "droppo le righe che hanno name_x e name_y diversi"
   ]
  },
  {
   "cell_type": "code",
   "execution_count": 5,
   "metadata": {},
   "outputs": [],
   "source": [
    "final_df.drop(final_df[final_df.name_x != final_df.name_y].index, inplace=True)"
   ]
  },
  {
   "cell_type": "markdown",
   "metadata": {},
   "source": [
    "testo e tolgo le colonne con _y"
   ]
  },
  {
   "cell_type": "code",
   "execution_count": 6,
   "metadata": {},
   "outputs": [
    {
     "data": {
      "text/plain": [
       "Index(['object', 'id', 'oracle_id', 'multiverse_ids', 'name_x', 'lang',\n",
       "       'released_at', 'uri', 'scryfall_uri', 'layout_x', 'highres_image',\n",
       "       'image_uris', 'mana_cost', 'cmc', 'type_line', 'oracle_text', 'power_x',\n",
       "       'toughness_x', 'colors_x', 'color_identity', 'legalities_x', 'games',\n",
       "       'reserved', 'foil', 'nonfoil', 'oversized', 'promo', 'reprint',\n",
       "       'variation', 'set', 'set_name', 'set_type', 'set_uri', 'set_search_uri',\n",
       "       'scryfall_set_uri', 'rulings_uri', 'prints_search_uri',\n",
       "       'collector_number', 'digital', 'rarity', 'flavor_text', 'card_back_id',\n",
       "       'artist', 'artist_ids', 'illustration_id', 'border_color', 'frame',\n",
       "       'full_art', 'textless', 'booster', 'story_spotlight', 'related_uris',\n",
       "       'edhrec_rank', 'card_faces', 'all_parts', 'loyalty_x', 'colorIdentity',\n",
       "       'colors_y', 'convertedManaCost', 'foreignData', 'layout_y',\n",
       "       'legalities_y', 'manaCost', 'name_y', 'printings', 'rulings',\n",
       "       'scryfallOracleId', 'subtypes', 'supertypes', 'text', 'type', 'types',\n",
       "       'uuid', 'edhrecRank', 'power_y', 'toughness_y', 'isReserved',\n",
       "       'leadershipSkills', 'loyalty_y', 'prices'],\n",
       "      dtype='object')"
      ]
     },
     "execution_count": 6,
     "metadata": {},
     "output_type": "execute_result"
    }
   ],
   "source": [
    "final_df.columns"
   ]
  },
  {
   "cell_type": "code",
   "execution_count": 7,
   "metadata": {},
   "outputs": [
    {
     "data": {
      "text/html": [
       "<div>\n",
       "<style scoped>\n",
       "    .dataframe tbody tr th:only-of-type {\n",
       "        vertical-align: middle;\n",
       "    }\n",
       "\n",
       "    .dataframe tbody tr th {\n",
       "        vertical-align: top;\n",
       "    }\n",
       "\n",
       "    .dataframe thead th {\n",
       "        text-align: right;\n",
       "    }\n",
       "</style>\n",
       "<table border=\"1\" class=\"dataframe\">\n",
       "  <thead>\n",
       "    <tr style=\"text-align: right;\">\n",
       "      <th></th>\n",
       "      <th>object</th>\n",
       "      <th>id</th>\n",
       "      <th>oracle_id</th>\n",
       "      <th>multiverse_ids</th>\n",
       "      <th>name_x</th>\n",
       "      <th>lang</th>\n",
       "      <th>released_at</th>\n",
       "      <th>uri</th>\n",
       "      <th>scryfall_uri</th>\n",
       "      <th>layout_x</th>\n",
       "      <th>...</th>\n",
       "      <th>type</th>\n",
       "      <th>types</th>\n",
       "      <th>uuid</th>\n",
       "      <th>edhrecRank</th>\n",
       "      <th>power_y</th>\n",
       "      <th>toughness_y</th>\n",
       "      <th>isReserved</th>\n",
       "      <th>leadershipSkills</th>\n",
       "      <th>loyalty_y</th>\n",
       "      <th>prices</th>\n",
       "    </tr>\n",
       "  </thead>\n",
       "  <tbody>\n",
       "  </tbody>\n",
       "</table>\n",
       "<p>0 rows × 80 columns</p>\n",
       "</div>"
      ],
      "text/plain": [
       "Empty DataFrame\n",
       "Columns: [object, id, oracle_id, multiverse_ids, name_x, lang, released_at, uri, scryfall_uri, layout_x, highres_image, image_uris, mana_cost, cmc, type_line, oracle_text, power_x, toughness_x, colors_x, color_identity, legalities_x, games, reserved, foil, nonfoil, oversized, promo, reprint, variation, set, set_name, set_type, set_uri, set_search_uri, scryfall_set_uri, rulings_uri, prints_search_uri, collector_number, digital, rarity, flavor_text, card_back_id, artist, artist_ids, illustration_id, border_color, frame, full_art, textless, booster, story_spotlight, related_uris, edhrec_rank, card_faces, all_parts, loyalty_x, colorIdentity, colors_y, convertedManaCost, foreignData, layout_y, legalities_y, manaCost, name_y, printings, rulings, scryfallOracleId, subtypes, supertypes, text, type, types, uuid, edhrecRank, power_y, toughness_y, isReserved, leadershipSkills, loyalty_y, prices]\n",
       "Index: []\n",
       "\n",
       "[0 rows x 80 columns]"
      ]
     },
     "execution_count": 7,
     "metadata": {},
     "output_type": "execute_result"
    }
   ],
   "source": [
    "final_df[final_df.name_x != final_df.name_y]"
   ]
  },
  {
   "cell_type": "code",
   "execution_count": 8,
   "metadata": {},
   "outputs": [],
   "source": [
    "final_df.drop('name_y',axis=1,inplace=True)"
   ]
  },
  {
   "cell_type": "code",
   "execution_count": 9,
   "metadata": {},
   "outputs": [
    {
     "data": {
      "text/html": [
       "<div>\n",
       "<style scoped>\n",
       "    .dataframe tbody tr th:only-of-type {\n",
       "        vertical-align: middle;\n",
       "    }\n",
       "\n",
       "    .dataframe tbody tr th {\n",
       "        vertical-align: top;\n",
       "    }\n",
       "\n",
       "    .dataframe thead th {\n",
       "        text-align: right;\n",
       "    }\n",
       "</style>\n",
       "<table border=\"1\" class=\"dataframe\">\n",
       "  <thead>\n",
       "    <tr style=\"text-align: right;\">\n",
       "      <th></th>\n",
       "      <th>object</th>\n",
       "      <th>id</th>\n",
       "      <th>oracle_id</th>\n",
       "      <th>multiverse_ids</th>\n",
       "      <th>name_x</th>\n",
       "      <th>lang</th>\n",
       "      <th>released_at</th>\n",
       "      <th>uri</th>\n",
       "      <th>scryfall_uri</th>\n",
       "      <th>layout_x</th>\n",
       "      <th>...</th>\n",
       "      <th>type</th>\n",
       "      <th>types</th>\n",
       "      <th>uuid</th>\n",
       "      <th>edhrecRank</th>\n",
       "      <th>power_y</th>\n",
       "      <th>toughness_y</th>\n",
       "      <th>isReserved</th>\n",
       "      <th>leadershipSkills</th>\n",
       "      <th>loyalty_y</th>\n",
       "      <th>prices</th>\n",
       "    </tr>\n",
       "  </thead>\n",
       "  <tbody>\n",
       "  </tbody>\n",
       "</table>\n",
       "<p>0 rows × 79 columns</p>\n",
       "</div>"
      ],
      "text/plain": [
       "Empty DataFrame\n",
       "Columns: [object, id, oracle_id, multiverse_ids, name_x, lang, released_at, uri, scryfall_uri, layout_x, highres_image, image_uris, mana_cost, cmc, type_line, oracle_text, power_x, toughness_x, colors_x, color_identity, legalities_x, games, reserved, foil, nonfoil, oversized, promo, reprint, variation, set, set_name, set_type, set_uri, set_search_uri, scryfall_set_uri, rulings_uri, prints_search_uri, collector_number, digital, rarity, flavor_text, card_back_id, artist, artist_ids, illustration_id, border_color, frame, full_art, textless, booster, story_spotlight, related_uris, edhrec_rank, card_faces, all_parts, loyalty_x, colorIdentity, colors_y, convertedManaCost, foreignData, layout_y, legalities_y, manaCost, printings, rulings, scryfallOracleId, subtypes, supertypes, text, type, types, uuid, edhrecRank, power_y, toughness_y, isReserved, leadershipSkills, loyalty_y, prices]\n",
       "Index: []\n",
       "\n",
       "[0 rows x 79 columns]"
      ]
     },
     "execution_count": 9,
     "metadata": {},
     "output_type": "execute_result"
    }
   ],
   "source": [
    "final_df[final_df.layout_x != final_df.layout_y]"
   ]
  },
  {
   "cell_type": "code",
   "execution_count": 10,
   "metadata": {},
   "outputs": [],
   "source": [
    "final_df.drop('layout_y',axis=1,inplace=True)"
   ]
  },
  {
   "cell_type": "code",
   "execution_count": 11,
   "metadata": {},
   "outputs": [
    {
     "data": {
      "text/html": [
       "<div>\n",
       "<style scoped>\n",
       "    .dataframe tbody tr th:only-of-type {\n",
       "        vertical-align: middle;\n",
       "    }\n",
       "\n",
       "    .dataframe tbody tr th {\n",
       "        vertical-align: top;\n",
       "    }\n",
       "\n",
       "    .dataframe thead th {\n",
       "        text-align: right;\n",
       "    }\n",
       "</style>\n",
       "<table border=\"1\" class=\"dataframe\">\n",
       "  <thead>\n",
       "    <tr style=\"text-align: right;\">\n",
       "      <th></th>\n",
       "      <th>power_x</th>\n",
       "      <th>power_y</th>\n",
       "    </tr>\n",
       "  </thead>\n",
       "  <tbody>\n",
       "    <tr>\n",
       "      <th>5</th>\n",
       "      <td>NaN</td>\n",
       "      <td>NaN</td>\n",
       "    </tr>\n",
       "    <tr>\n",
       "      <th>6</th>\n",
       "      <td>NaN</td>\n",
       "      <td>NaN</td>\n",
       "    </tr>\n",
       "    <tr>\n",
       "      <th>7</th>\n",
       "      <td>NaN</td>\n",
       "      <td>NaN</td>\n",
       "    </tr>\n",
       "    <tr>\n",
       "      <th>8</th>\n",
       "      <td>NaN</td>\n",
       "      <td>NaN</td>\n",
       "    </tr>\n",
       "    <tr>\n",
       "      <th>9</th>\n",
       "      <td>NaN</td>\n",
       "      <td>NaN</td>\n",
       "    </tr>\n",
       "    <tr>\n",
       "      <th>...</th>\n",
       "      <td>...</td>\n",
       "      <td>...</td>\n",
       "    </tr>\n",
       "    <tr>\n",
       "      <th>24978</th>\n",
       "      <td>NaN</td>\n",
       "      <td>NaN</td>\n",
       "    </tr>\n",
       "    <tr>\n",
       "      <th>24979</th>\n",
       "      <td>NaN</td>\n",
       "      <td>NaN</td>\n",
       "    </tr>\n",
       "    <tr>\n",
       "      <th>24980</th>\n",
       "      <td>NaN</td>\n",
       "      <td>NaN</td>\n",
       "    </tr>\n",
       "    <tr>\n",
       "      <th>24981</th>\n",
       "      <td>NaN</td>\n",
       "      <td>NaN</td>\n",
       "    </tr>\n",
       "    <tr>\n",
       "      <th>24982</th>\n",
       "      <td>NaN</td>\n",
       "      <td>NaN</td>\n",
       "    </tr>\n",
       "  </tbody>\n",
       "</table>\n",
       "<p>12577 rows × 2 columns</p>\n",
       "</div>"
      ],
      "text/plain": [
       "      power_x power_y\n",
       "5         NaN     NaN\n",
       "6         NaN     NaN\n",
       "7         NaN     NaN\n",
       "8         NaN     NaN\n",
       "9         NaN     NaN\n",
       "...       ...     ...\n",
       "24978     NaN     NaN\n",
       "24979     NaN     NaN\n",
       "24980     NaN     NaN\n",
       "24981     NaN     NaN\n",
       "24982     NaN     NaN\n",
       "\n",
       "[12577 rows x 2 columns]"
      ]
     },
     "execution_count": 11,
     "metadata": {},
     "output_type": "execute_result"
    }
   ],
   "source": [
    "prova = final_df[final_df.power_x != final_df.power_y] #OK SONO SOLO NAN\n",
    "prova[['power_x','power_y']]"
   ]
  },
  {
   "cell_type": "code",
   "execution_count": 12,
   "metadata": {},
   "outputs": [],
   "source": [
    "final_df.drop('power_y',axis=1,inplace=True)"
   ]
  },
  {
   "cell_type": "code",
   "execution_count": 13,
   "metadata": {},
   "outputs": [
    {
     "data": {
      "text/html": [
       "<div>\n",
       "<style scoped>\n",
       "    .dataframe tbody tr th:only-of-type {\n",
       "        vertical-align: middle;\n",
       "    }\n",
       "\n",
       "    .dataframe tbody tr th {\n",
       "        vertical-align: top;\n",
       "    }\n",
       "\n",
       "    .dataframe thead th {\n",
       "        text-align: right;\n",
       "    }\n",
       "</style>\n",
       "<table border=\"1\" class=\"dataframe\">\n",
       "  <thead>\n",
       "    <tr style=\"text-align: right;\">\n",
       "      <th></th>\n",
       "      <th>toughness_x</th>\n",
       "      <th>toughness_y</th>\n",
       "    </tr>\n",
       "  </thead>\n",
       "  <tbody>\n",
       "    <tr>\n",
       "      <th>5</th>\n",
       "      <td>NaN</td>\n",
       "      <td>NaN</td>\n",
       "    </tr>\n",
       "    <tr>\n",
       "      <th>6</th>\n",
       "      <td>NaN</td>\n",
       "      <td>NaN</td>\n",
       "    </tr>\n",
       "    <tr>\n",
       "      <th>7</th>\n",
       "      <td>NaN</td>\n",
       "      <td>NaN</td>\n",
       "    </tr>\n",
       "    <tr>\n",
       "      <th>8</th>\n",
       "      <td>NaN</td>\n",
       "      <td>NaN</td>\n",
       "    </tr>\n",
       "    <tr>\n",
       "      <th>9</th>\n",
       "      <td>NaN</td>\n",
       "      <td>NaN</td>\n",
       "    </tr>\n",
       "    <tr>\n",
       "      <th>...</th>\n",
       "      <td>...</td>\n",
       "      <td>...</td>\n",
       "    </tr>\n",
       "    <tr>\n",
       "      <th>24978</th>\n",
       "      <td>NaN</td>\n",
       "      <td>NaN</td>\n",
       "    </tr>\n",
       "    <tr>\n",
       "      <th>24979</th>\n",
       "      <td>NaN</td>\n",
       "      <td>NaN</td>\n",
       "    </tr>\n",
       "    <tr>\n",
       "      <th>24980</th>\n",
       "      <td>NaN</td>\n",
       "      <td>NaN</td>\n",
       "    </tr>\n",
       "    <tr>\n",
       "      <th>24981</th>\n",
       "      <td>NaN</td>\n",
       "      <td>NaN</td>\n",
       "    </tr>\n",
       "    <tr>\n",
       "      <th>24982</th>\n",
       "      <td>NaN</td>\n",
       "      <td>NaN</td>\n",
       "    </tr>\n",
       "  </tbody>\n",
       "</table>\n",
       "<p>12577 rows × 2 columns</p>\n",
       "</div>"
      ],
      "text/plain": [
       "      toughness_x toughness_y\n",
       "5             NaN         NaN\n",
       "6             NaN         NaN\n",
       "7             NaN         NaN\n",
       "8             NaN         NaN\n",
       "9             NaN         NaN\n",
       "...           ...         ...\n",
       "24978         NaN         NaN\n",
       "24979         NaN         NaN\n",
       "24980         NaN         NaN\n",
       "24981         NaN         NaN\n",
       "24982         NaN         NaN\n",
       "\n",
       "[12577 rows x 2 columns]"
      ]
     },
     "execution_count": 13,
     "metadata": {},
     "output_type": "execute_result"
    }
   ],
   "source": [
    "prova = final_df[final_df.toughness_x != final_df.toughness_y] #OK SONO SOLO NAN\n",
    "prova[['toughness_x','toughness_y']]"
   ]
  },
  {
   "cell_type": "code",
   "execution_count": 14,
   "metadata": {},
   "outputs": [],
   "source": [
    "final_df.drop('toughness_y',axis=1,inplace=True)"
   ]
  },
  {
   "cell_type": "code",
   "execution_count": 15,
   "metadata": {},
   "outputs": [
    {
     "data": {
      "text/html": [
       "<div>\n",
       "<style scoped>\n",
       "    .dataframe tbody tr th:only-of-type {\n",
       "        vertical-align: middle;\n",
       "    }\n",
       "\n",
       "    .dataframe tbody tr th {\n",
       "        vertical-align: top;\n",
       "    }\n",
       "\n",
       "    .dataframe thead th {\n",
       "        text-align: right;\n",
       "    }\n",
       "</style>\n",
       "<table border=\"1\" class=\"dataframe\">\n",
       "  <thead>\n",
       "    <tr style=\"text-align: right;\">\n",
       "      <th></th>\n",
       "      <th>object</th>\n",
       "      <th>id</th>\n",
       "      <th>oracle_id</th>\n",
       "      <th>multiverse_ids</th>\n",
       "      <th>name_x</th>\n",
       "      <th>lang</th>\n",
       "      <th>released_at</th>\n",
       "      <th>uri</th>\n",
       "      <th>scryfall_uri</th>\n",
       "      <th>layout_x</th>\n",
       "      <th>...</th>\n",
       "      <th>supertypes</th>\n",
       "      <th>text</th>\n",
       "      <th>type</th>\n",
       "      <th>types</th>\n",
       "      <th>uuid</th>\n",
       "      <th>edhrecRank</th>\n",
       "      <th>isReserved</th>\n",
       "      <th>leadershipSkills</th>\n",
       "      <th>loyalty_y</th>\n",
       "      <th>prices</th>\n",
       "    </tr>\n",
       "  </thead>\n",
       "  <tbody>\n",
       "  </tbody>\n",
       "</table>\n",
       "<p>0 rows × 76 columns</p>\n",
       "</div>"
      ],
      "text/plain": [
       "Empty DataFrame\n",
       "Columns: [object, id, oracle_id, multiverse_ids, name_x, lang, released_at, uri, scryfall_uri, layout_x, highres_image, image_uris, mana_cost, cmc, type_line, oracle_text, power_x, toughness_x, colors_x, color_identity, legalities_x, games, reserved, foil, nonfoil, oversized, promo, reprint, variation, set, set_name, set_type, set_uri, set_search_uri, scryfall_set_uri, rulings_uri, prints_search_uri, collector_number, digital, rarity, flavor_text, card_back_id, artist, artist_ids, illustration_id, border_color, frame, full_art, textless, booster, story_spotlight, related_uris, edhrec_rank, card_faces, all_parts, loyalty_x, colorIdentity, colors_y, convertedManaCost, foreignData, legalities_y, manaCost, printings, rulings, scryfallOracleId, subtypes, supertypes, text, type, types, uuid, edhrecRank, isReserved, leadershipSkills, loyalty_y, prices]\n",
       "Index: []\n",
       "\n",
       "[0 rows x 76 columns]"
      ]
     },
     "execution_count": 15,
     "metadata": {},
     "output_type": "execute_result"
    }
   ],
   "source": [
    "final_df[final_df.colors_x != final_df.colors_y]"
   ]
  },
  {
   "cell_type": "code",
   "execution_count": 16,
   "metadata": {},
   "outputs": [],
   "source": [
    "final_df.drop('colors_y',axis=1,inplace=True)"
   ]
  },
  {
   "cell_type": "code",
   "execution_count": 17,
   "metadata": {},
   "outputs": [
    {
     "data": {
      "text/html": [
       "<div>\n",
       "<style scoped>\n",
       "    .dataframe tbody tr th:only-of-type {\n",
       "        vertical-align: middle;\n",
       "    }\n",
       "\n",
       "    .dataframe tbody tr th {\n",
       "        vertical-align: top;\n",
       "    }\n",
       "\n",
       "    .dataframe thead th {\n",
       "        text-align: right;\n",
       "    }\n",
       "</style>\n",
       "<table border=\"1\" class=\"dataframe\">\n",
       "  <thead>\n",
       "    <tr style=\"text-align: right;\">\n",
       "      <th></th>\n",
       "      <th>legalities_x</th>\n",
       "      <th>legalities_y</th>\n",
       "    </tr>\n",
       "  </thead>\n",
       "  <tbody>\n",
       "    <tr>\n",
       "      <th>0</th>\n",
       "      <td>{'standard': 'not_legal', 'future': 'not_legal...</td>\n",
       "      <td>{}</td>\n",
       "    </tr>\n",
       "    <tr>\n",
       "      <th>1</th>\n",
       "      <td>{'standard': 'not_legal', 'future': 'not_legal...</td>\n",
       "      <td>{}</td>\n",
       "    </tr>\n",
       "    <tr>\n",
       "      <th>2</th>\n",
       "      <td>{'standard': 'not_legal', 'future': 'not_legal...</td>\n",
       "      <td>{}</td>\n",
       "    </tr>\n",
       "    <tr>\n",
       "      <th>3</th>\n",
       "      <td>{'standard': 'not_legal', 'future': 'not_legal...</td>\n",
       "      <td>{}</td>\n",
       "    </tr>\n",
       "    <tr>\n",
       "      <th>4</th>\n",
       "      <td>{'standard': 'not_legal', 'future': 'not_legal...</td>\n",
       "      <td>{}</td>\n",
       "    </tr>\n",
       "    <tr>\n",
       "      <th>...</th>\n",
       "      <td>...</td>\n",
       "      <td>...</td>\n",
       "    </tr>\n",
       "    <tr>\n",
       "      <th>24979</th>\n",
       "      <td>{'standard': 'not_legal', 'future': 'not_legal...</td>\n",
       "      <td>{'commander': 'Legal', 'duel': 'Legal', 'legac...</td>\n",
       "    </tr>\n",
       "    <tr>\n",
       "      <th>24980</th>\n",
       "      <td>{'standard': 'not_legal', 'future': 'not_legal...</td>\n",
       "      <td>{'commander': 'Legal', 'duel': 'Legal', 'legac...</td>\n",
       "    </tr>\n",
       "    <tr>\n",
       "      <th>24981</th>\n",
       "      <td>{'standard': 'not_legal', 'future': 'not_legal...</td>\n",
       "      <td>{'commander': 'Legal', 'duel': 'Legal', 'legac...</td>\n",
       "    </tr>\n",
       "    <tr>\n",
       "      <th>24982</th>\n",
       "      <td>{'standard': 'not_legal', 'future': 'not_legal...</td>\n",
       "      <td>{'commander': 'Legal', 'duel': 'Legal', 'legac...</td>\n",
       "    </tr>\n",
       "    <tr>\n",
       "      <th>24983</th>\n",
       "      <td>{'standard': 'not_legal', 'future': 'not_legal...</td>\n",
       "      <td>{'commander': 'Legal', 'duel': 'Legal', 'legac...</td>\n",
       "    </tr>\n",
       "  </tbody>\n",
       "</table>\n",
       "<p>24299 rows × 2 columns</p>\n",
       "</div>"
      ],
      "text/plain": [
       "                                            legalities_x  \\\n",
       "0      {'standard': 'not_legal', 'future': 'not_legal...   \n",
       "1      {'standard': 'not_legal', 'future': 'not_legal...   \n",
       "2      {'standard': 'not_legal', 'future': 'not_legal...   \n",
       "3      {'standard': 'not_legal', 'future': 'not_legal...   \n",
       "4      {'standard': 'not_legal', 'future': 'not_legal...   \n",
       "...                                                  ...   \n",
       "24979  {'standard': 'not_legal', 'future': 'not_legal...   \n",
       "24980  {'standard': 'not_legal', 'future': 'not_legal...   \n",
       "24981  {'standard': 'not_legal', 'future': 'not_legal...   \n",
       "24982  {'standard': 'not_legal', 'future': 'not_legal...   \n",
       "24983  {'standard': 'not_legal', 'future': 'not_legal...   \n",
       "\n",
       "                                            legalities_y  \n",
       "0                                                     {}  \n",
       "1                                                     {}  \n",
       "2                                                     {}  \n",
       "3                                                     {}  \n",
       "4                                                     {}  \n",
       "...                                                  ...  \n",
       "24979  {'commander': 'Legal', 'duel': 'Legal', 'legac...  \n",
       "24980  {'commander': 'Legal', 'duel': 'Legal', 'legac...  \n",
       "24981  {'commander': 'Legal', 'duel': 'Legal', 'legac...  \n",
       "24982  {'commander': 'Legal', 'duel': 'Legal', 'legac...  \n",
       "24983  {'commander': 'Legal', 'duel': 'Legal', 'legac...  \n",
       "\n",
       "[24299 rows x 2 columns]"
      ]
     },
     "execution_count": 17,
     "metadata": {},
     "output_type": "execute_result"
    }
   ],
   "source": [
    "prova = final_df[final_df.legalities_x != final_df.legalities_y] #praticamente tutti, perchè??\n",
    "prova[['legalities_x','legalities_y']]\n",
    "#ok, sono strutturati in maniera diversa, tengo solo legalities_x"
   ]
  },
  {
   "cell_type": "code",
   "execution_count": 18,
   "metadata": {},
   "outputs": [
    {
     "data": {
      "text/plain": [
       "legalities_x    {'standard': 'legal', 'future': 'legal', 'hist...\n",
       "legalities_y    {'brawl': 'Legal', 'commander': 'Legal', 'duel...\n",
       "Name: 32, dtype: object"
      ]
     },
     "execution_count": 18,
     "metadata": {},
     "output_type": "execute_result"
    }
   ],
   "source": [
    "final_df[['legalities_x','legalities_y']].iloc[30]"
   ]
  },
  {
   "cell_type": "code",
   "execution_count": 19,
   "metadata": {},
   "outputs": [],
   "source": [
    "final_df.drop('legalities_y',axis=1,inplace=True)"
   ]
  },
  {
   "cell_type": "code",
   "execution_count": 20,
   "metadata": {},
   "outputs": [
    {
     "data": {
      "text/html": [
       "<div>\n",
       "<style scoped>\n",
       "    .dataframe tbody tr th:only-of-type {\n",
       "        vertical-align: middle;\n",
       "    }\n",
       "\n",
       "    .dataframe tbody tr th {\n",
       "        vertical-align: top;\n",
       "    }\n",
       "\n",
       "    .dataframe thead th {\n",
       "        text-align: right;\n",
       "    }\n",
       "</style>\n",
       "<table border=\"1\" class=\"dataframe\">\n",
       "  <thead>\n",
       "    <tr style=\"text-align: right;\">\n",
       "      <th></th>\n",
       "      <th>loyalty_x</th>\n",
       "      <th>loyalty_y</th>\n",
       "    </tr>\n",
       "  </thead>\n",
       "  <tbody>\n",
       "    <tr>\n",
       "      <th>0</th>\n",
       "      <td>NaN</td>\n",
       "      <td>NaN</td>\n",
       "    </tr>\n",
       "    <tr>\n",
       "      <th>1</th>\n",
       "      <td>NaN</td>\n",
       "      <td>NaN</td>\n",
       "    </tr>\n",
       "    <tr>\n",
       "      <th>2</th>\n",
       "      <td>NaN</td>\n",
       "      <td>NaN</td>\n",
       "    </tr>\n",
       "    <tr>\n",
       "      <th>3</th>\n",
       "      <td>NaN</td>\n",
       "      <td>NaN</td>\n",
       "    </tr>\n",
       "    <tr>\n",
       "      <th>4</th>\n",
       "      <td>NaN</td>\n",
       "      <td>NaN</td>\n",
       "    </tr>\n",
       "    <tr>\n",
       "      <th>...</th>\n",
       "      <td>...</td>\n",
       "      <td>...</td>\n",
       "    </tr>\n",
       "    <tr>\n",
       "      <th>24979</th>\n",
       "      <td>NaN</td>\n",
       "      <td>NaN</td>\n",
       "    </tr>\n",
       "    <tr>\n",
       "      <th>24980</th>\n",
       "      <td>NaN</td>\n",
       "      <td>NaN</td>\n",
       "    </tr>\n",
       "    <tr>\n",
       "      <th>24981</th>\n",
       "      <td>NaN</td>\n",
       "      <td>NaN</td>\n",
       "    </tr>\n",
       "    <tr>\n",
       "      <th>24982</th>\n",
       "      <td>NaN</td>\n",
       "      <td>NaN</td>\n",
       "    </tr>\n",
       "    <tr>\n",
       "      <th>24983</th>\n",
       "      <td>NaN</td>\n",
       "      <td>NaN</td>\n",
       "    </tr>\n",
       "  </tbody>\n",
       "</table>\n",
       "<p>23983 rows × 2 columns</p>\n",
       "</div>"
      ],
      "text/plain": [
       "      loyalty_x loyalty_y\n",
       "0           NaN       NaN\n",
       "1           NaN       NaN\n",
       "2           NaN       NaN\n",
       "3           NaN       NaN\n",
       "4           NaN       NaN\n",
       "...         ...       ...\n",
       "24979       NaN       NaN\n",
       "24980       NaN       NaN\n",
       "24981       NaN       NaN\n",
       "24982       NaN       NaN\n",
       "24983       NaN       NaN\n",
       "\n",
       "[23983 rows x 2 columns]"
      ]
     },
     "execution_count": 20,
     "metadata": {},
     "output_type": "execute_result"
    }
   ],
   "source": [
    "prova = final_df[final_df.loyalty_x != final_df.loyalty_y] #sono quasi tutti diversi\n",
    "prova[['loyalty_x','loyalty_y']] #ok sono tutti i Nan"
   ]
  },
  {
   "cell_type": "code",
   "execution_count": 21,
   "metadata": {},
   "outputs": [],
   "source": [
    "final_df.drop('loyalty_y',axis = 1, inplace = True)"
   ]
  },
  {
   "cell_type": "code",
   "execution_count": 22,
   "metadata": {},
   "outputs": [
    {
     "data": {
      "text/plain": [
       "flavor_text              0\n",
       "card_back_id             0\n",
       "artist                   0\n",
       "artist_ids               1\n",
       "illustration_id          0\n",
       "border_color             0\n",
       "frame                    0\n",
       "full_art                 0\n",
       "textless                 0\n",
       "booster                  0\n",
       "story_spotlight          0\n",
       "related_uris             0\n",
       "edhrec_rank              0\n",
       "card_faces           24299\n",
       "all_parts                0\n",
       "loyalty_x            23983\n",
       "colorIdentity            0\n",
       "convertedManaCost        0\n",
       "foreignData              0\n",
       "manaCost              2415\n",
       "printings                0\n",
       "rulings                  0\n",
       "scryfallOracleId         0\n",
       "subtypes                 0\n",
       "supertypes               0\n",
       "text                     0\n",
       "type                     0\n",
       "types                    0\n",
       "uuid                     0\n",
       "edhrecRank               0\n",
       "isReserved               0\n",
       "leadershipSkills         0\n",
       "prices                   0\n",
       "dtype: int64"
      ]
     },
     "execution_count": 22,
     "metadata": {},
     "output_type": "execute_result"
    }
   ],
   "source": [
    "final_df.isna().sum()[40:]"
   ]
  },
  {
   "cell_type": "markdown",
   "metadata": {},
   "source": [
    "# tolgo le colonne doppie es: edhrec_rank e edhrecRank"
   ]
  },
  {
   "cell_type": "code",
   "execution_count": 23,
   "metadata": {},
   "outputs": [
    {
     "data": {
      "text/html": [
       "<div>\n",
       "<style scoped>\n",
       "    .dataframe tbody tr th:only-of-type {\n",
       "        vertical-align: middle;\n",
       "    }\n",
       "\n",
       "    .dataframe tbody tr th {\n",
       "        vertical-align: top;\n",
       "    }\n",
       "\n",
       "    .dataframe thead th {\n",
       "        text-align: right;\n",
       "    }\n",
       "</style>\n",
       "<table border=\"1\" class=\"dataframe\">\n",
       "  <thead>\n",
       "    <tr style=\"text-align: right;\">\n",
       "      <th></th>\n",
       "      <th>manaCost</th>\n",
       "      <th>mana_cost</th>\n",
       "    </tr>\n",
       "  </thead>\n",
       "  <tbody>\n",
       "    <tr>\n",
       "      <th>9</th>\n",
       "      <td>NaN</td>\n",
       "      <td></td>\n",
       "    </tr>\n",
       "    <tr>\n",
       "      <th>10</th>\n",
       "      <td>NaN</td>\n",
       "      <td></td>\n",
       "    </tr>\n",
       "    <tr>\n",
       "      <th>21</th>\n",
       "      <td>NaN</td>\n",
       "      <td></td>\n",
       "    </tr>\n",
       "    <tr>\n",
       "      <th>22</th>\n",
       "      <td>NaN</td>\n",
       "      <td></td>\n",
       "    </tr>\n",
       "    <tr>\n",
       "      <th>23</th>\n",
       "      <td>NaN</td>\n",
       "      <td></td>\n",
       "    </tr>\n",
       "    <tr>\n",
       "      <th>...</th>\n",
       "      <td>...</td>\n",
       "      <td>...</td>\n",
       "    </tr>\n",
       "    <tr>\n",
       "      <th>24550</th>\n",
       "      <td>NaN</td>\n",
       "      <td></td>\n",
       "    </tr>\n",
       "    <tr>\n",
       "      <th>24840</th>\n",
       "      <td>NaN</td>\n",
       "      <td></td>\n",
       "    </tr>\n",
       "    <tr>\n",
       "      <th>24841</th>\n",
       "      <td>NaN</td>\n",
       "      <td></td>\n",
       "    </tr>\n",
       "    <tr>\n",
       "      <th>24842</th>\n",
       "      <td>NaN</td>\n",
       "      <td></td>\n",
       "    </tr>\n",
       "    <tr>\n",
       "      <th>24843</th>\n",
       "      <td>NaN</td>\n",
       "      <td></td>\n",
       "    </tr>\n",
       "  </tbody>\n",
       "</table>\n",
       "<p>2415 rows × 2 columns</p>\n",
       "</div>"
      ],
      "text/plain": [
       "      manaCost mana_cost\n",
       "9          NaN          \n",
       "10         NaN          \n",
       "21         NaN          \n",
       "22         NaN          \n",
       "23         NaN          \n",
       "...        ...       ...\n",
       "24550      NaN          \n",
       "24840      NaN          \n",
       "24841      NaN          \n",
       "24842      NaN          \n",
       "24843      NaN          \n",
       "\n",
       "[2415 rows x 2 columns]"
      ]
     },
     "execution_count": 23,
     "metadata": {},
     "output_type": "execute_result"
    }
   ],
   "source": [
    "#mana_cost con manaCost\n",
    "final_df[['mana_cost','manaCost']] #ok, sono scritti nello stesso modo (str)\n",
    "#cerco se ce ne sono di diversi\n",
    "final_df[final_df.mana_cost != final_df.manaCost] #è uguale al numero dei valori nulli\n",
    "#testo\n",
    "prova = final_df[final_df.mana_cost != final_df.manaCost]\n",
    "prova[['manaCost','mana_cost']] #ok sono solo Nan"
   ]
  },
  {
   "cell_type": "code",
   "execution_count": 24,
   "metadata": {},
   "outputs": [],
   "source": [
    "final_df.drop('manaCost',axis=1,inplace=True)"
   ]
  },
  {
   "cell_type": "code",
   "execution_count": 25,
   "metadata": {},
   "outputs": [
    {
     "data": {
      "text/html": [
       "<div>\n",
       "<style scoped>\n",
       "    .dataframe tbody tr th:only-of-type {\n",
       "        vertical-align: middle;\n",
       "    }\n",
       "\n",
       "    .dataframe tbody tr th {\n",
       "        vertical-align: top;\n",
       "    }\n",
       "\n",
       "    .dataframe thead th {\n",
       "        text-align: right;\n",
       "    }\n",
       "</style>\n",
       "<table border=\"1\" class=\"dataframe\">\n",
       "  <thead>\n",
       "    <tr style=\"text-align: right;\">\n",
       "      <th></th>\n",
       "      <th>object</th>\n",
       "      <th>id</th>\n",
       "      <th>oracle_id</th>\n",
       "      <th>multiverse_ids</th>\n",
       "      <th>name_x</th>\n",
       "      <th>lang</th>\n",
       "      <th>released_at</th>\n",
       "      <th>uri</th>\n",
       "      <th>scryfall_uri</th>\n",
       "      <th>layout_x</th>\n",
       "      <th>...</th>\n",
       "      <th>subtypes</th>\n",
       "      <th>supertypes</th>\n",
       "      <th>text</th>\n",
       "      <th>type</th>\n",
       "      <th>types</th>\n",
       "      <th>uuid</th>\n",
       "      <th>edhrecRank</th>\n",
       "      <th>isReserved</th>\n",
       "      <th>leadershipSkills</th>\n",
       "      <th>prices</th>\n",
       "    </tr>\n",
       "  </thead>\n",
       "  <tbody>\n",
       "  </tbody>\n",
       "</table>\n",
       "<p>0 rows × 72 columns</p>\n",
       "</div>"
      ],
      "text/plain": [
       "Empty DataFrame\n",
       "Columns: [object, id, oracle_id, multiverse_ids, name_x, lang, released_at, uri, scryfall_uri, layout_x, highres_image, image_uris, mana_cost, cmc, type_line, oracle_text, power_x, toughness_x, colors_x, color_identity, legalities_x, games, reserved, foil, nonfoil, oversized, promo, reprint, variation, set, set_name, set_type, set_uri, set_search_uri, scryfall_set_uri, rulings_uri, prints_search_uri, collector_number, digital, rarity, flavor_text, card_back_id, artist, artist_ids, illustration_id, border_color, frame, full_art, textless, booster, story_spotlight, related_uris, edhrec_rank, card_faces, all_parts, loyalty_x, colorIdentity, convertedManaCost, foreignData, printings, rulings, scryfallOracleId, subtypes, supertypes, text, type, types, uuid, edhrecRank, isReserved, leadershipSkills, prices]\n",
       "Index: []\n",
       "\n",
       "[0 rows x 72 columns]"
      ]
     },
     "execution_count": 25,
     "metadata": {},
     "output_type": "execute_result"
    }
   ],
   "source": [
    "#cmc con convertedManaCost\n",
    "final_df[final_df.cmc != final_df.convertedManaCost]"
   ]
  },
  {
   "cell_type": "code",
   "execution_count": 26,
   "metadata": {},
   "outputs": [],
   "source": [
    "final_df.drop('convertedManaCost',axis=1,inplace=True)"
   ]
  },
  {
   "cell_type": "code",
   "execution_count": 27,
   "metadata": {},
   "outputs": [
    {
     "data": {
      "text/html": [
       "<div>\n",
       "<style scoped>\n",
       "    .dataframe tbody tr th:only-of-type {\n",
       "        vertical-align: middle;\n",
       "    }\n",
       "\n",
       "    .dataframe tbody tr th {\n",
       "        vertical-align: top;\n",
       "    }\n",
       "\n",
       "    .dataframe thead th {\n",
       "        text-align: right;\n",
       "    }\n",
       "</style>\n",
       "<table border=\"1\" class=\"dataframe\">\n",
       "  <thead>\n",
       "    <tr style=\"text-align: right;\">\n",
       "      <th></th>\n",
       "      <th>object</th>\n",
       "      <th>id</th>\n",
       "      <th>oracle_id</th>\n",
       "      <th>multiverse_ids</th>\n",
       "      <th>name_x</th>\n",
       "      <th>lang</th>\n",
       "      <th>released_at</th>\n",
       "      <th>uri</th>\n",
       "      <th>scryfall_uri</th>\n",
       "      <th>layout_x</th>\n",
       "      <th>...</th>\n",
       "      <th>subtypes</th>\n",
       "      <th>supertypes</th>\n",
       "      <th>text</th>\n",
       "      <th>type</th>\n",
       "      <th>types</th>\n",
       "      <th>uuid</th>\n",
       "      <th>edhrecRank</th>\n",
       "      <th>isReserved</th>\n",
       "      <th>leadershipSkills</th>\n",
       "      <th>prices</th>\n",
       "    </tr>\n",
       "  </thead>\n",
       "  <tbody>\n",
       "  </tbody>\n",
       "</table>\n",
       "<p>0 rows × 71 columns</p>\n",
       "</div>"
      ],
      "text/plain": [
       "Empty DataFrame\n",
       "Columns: [object, id, oracle_id, multiverse_ids, name_x, lang, released_at, uri, scryfall_uri, layout_x, highres_image, image_uris, mana_cost, cmc, type_line, oracle_text, power_x, toughness_x, colors_x, color_identity, legalities_x, games, reserved, foil, nonfoil, oversized, promo, reprint, variation, set, set_name, set_type, set_uri, set_search_uri, scryfall_set_uri, rulings_uri, prints_search_uri, collector_number, digital, rarity, flavor_text, card_back_id, artist, artist_ids, illustration_id, border_color, frame, full_art, textless, booster, story_spotlight, related_uris, edhrec_rank, card_faces, all_parts, loyalty_x, colorIdentity, foreignData, printings, rulings, scryfallOracleId, subtypes, supertypes, text, type, types, uuid, edhrecRank, isReserved, leadershipSkills, prices]\n",
       "Index: []\n",
       "\n",
       "[0 rows x 71 columns]"
      ]
     },
     "execution_count": 27,
     "metadata": {},
     "output_type": "execute_result"
    }
   ],
   "source": [
    "#oracle_id con scryfallOracleId , quello utilizzato per merge scry e allcards\n",
    "final_df[final_df.oracle_id != final_df.scryfallOracleId]"
   ]
  },
  {
   "cell_type": "code",
   "execution_count": 28,
   "metadata": {},
   "outputs": [],
   "source": [
    "final_df.drop('scryfallOracleId',axis=1,inplace=True)"
   ]
  },
  {
   "cell_type": "code",
   "execution_count": 29,
   "metadata": {},
   "outputs": [
    {
     "data": {
      "text/html": [
       "<div>\n",
       "<style scoped>\n",
       "    .dataframe tbody tr th:only-of-type {\n",
       "        vertical-align: middle;\n",
       "    }\n",
       "\n",
       "    .dataframe tbody tr th {\n",
       "        vertical-align: top;\n",
       "    }\n",
       "\n",
       "    .dataframe thead th {\n",
       "        text-align: right;\n",
       "    }\n",
       "</style>\n",
       "<table border=\"1\" class=\"dataframe\">\n",
       "  <thead>\n",
       "    <tr style=\"text-align: right;\">\n",
       "      <th></th>\n",
       "      <th>text</th>\n",
       "      <th>oracle_text</th>\n",
       "    </tr>\n",
       "  </thead>\n",
       "  <tbody>\n",
       "    <tr>\n",
       "      <th>49</th>\n",
       "      <td>[+1]: Put two +1/+1 counters on up to one targ...</td>\n",
       "      <td>+1: Put two +1/+1 counters on up to one target...</td>\n",
       "    </tr>\n",
       "    <tr>\n",
       "      <th>56</th>\n",
       "      <td>[+1]: Up to one target creature gets +3/+0 and...</td>\n",
       "      <td>+1: Up to one target creature gets +3/+0 and g...</td>\n",
       "    </tr>\n",
       "    <tr>\n",
       "      <th>180</th>\n",
       "      <td>[+1]: Draw a card, then discard a card.\\n[+1]:...</td>\n",
       "      <td>+1: Draw a card, then discard a card.\\n+1: Tar...</td>\n",
       "    </tr>\n",
       "    <tr>\n",
       "      <th>181</th>\n",
       "      <td>[+1]: Draw a card, then discard a card.\\n[+1]:...</td>\n",
       "      <td>+1: Draw a card, then discard a card.\\n+1: Tar...</td>\n",
       "    </tr>\n",
       "    <tr>\n",
       "      <th>182</th>\n",
       "      <td>[+2]: Create a Food token. (It's an artifact w...</td>\n",
       "      <td>+2: Create a Food token. (It's an artifact wit...</td>\n",
       "    </tr>\n",
       "    <tr>\n",
       "      <th>...</th>\n",
       "      <td>...</td>\n",
       "      <td>...</td>\n",
       "    </tr>\n",
       "    <tr>\n",
       "      <th>24771</th>\n",
       "      <td>no text</td>\n",
       "      <td></td>\n",
       "    </tr>\n",
       "    <tr>\n",
       "      <th>24893</th>\n",
       "      <td>no text</td>\n",
       "      <td></td>\n",
       "    </tr>\n",
       "    <tr>\n",
       "      <th>24929</th>\n",
       "      <td>no text</td>\n",
       "      <td></td>\n",
       "    </tr>\n",
       "    <tr>\n",
       "      <th>24930</th>\n",
       "      <td>no text</td>\n",
       "      <td></td>\n",
       "    </tr>\n",
       "    <tr>\n",
       "      <th>24953</th>\n",
       "      <td>no text</td>\n",
       "      <td></td>\n",
       "    </tr>\n",
       "  </tbody>\n",
       "</table>\n",
       "<p>698 rows × 2 columns</p>\n",
       "</div>"
      ],
      "text/plain": [
       "                                                    text  \\\n",
       "49     [+1]: Put two +1/+1 counters on up to one targ...   \n",
       "56     [+1]: Up to one target creature gets +3/+0 and...   \n",
       "180    [+1]: Draw a card, then discard a card.\\n[+1]:...   \n",
       "181    [+1]: Draw a card, then discard a card.\\n[+1]:...   \n",
       "182    [+2]: Create a Food token. (It's an artifact w...   \n",
       "...                                                  ...   \n",
       "24771                                            no text   \n",
       "24893                                            no text   \n",
       "24929                                            no text   \n",
       "24930                                            no text   \n",
       "24953                                            no text   \n",
       "\n",
       "                                             oracle_text  \n",
       "49     +1: Put two +1/+1 counters on up to one target...  \n",
       "56     +1: Up to one target creature gets +3/+0 and g...  \n",
       "180    +1: Draw a card, then discard a card.\\n+1: Tar...  \n",
       "181    +1: Draw a card, then discard a card.\\n+1: Tar...  \n",
       "182    +2: Create a Food token. (It's an artifact wit...  \n",
       "...                                                  ...  \n",
       "24771                                                     \n",
       "24893                                                     \n",
       "24929                                                     \n",
       "24930                                                     \n",
       "24953                                                     \n",
       "\n",
       "[698 rows x 2 columns]"
      ]
     },
     "execution_count": 29,
     "metadata": {},
     "output_type": "execute_result"
    }
   ],
   "source": [
    "#text con oracle_text\n",
    "final_df[final_df.text != final_df.oracle_text] #ok alcuni sono diversi, capiamo\n",
    "prova = final_df[final_df.text != final_df.oracle_text]\n",
    "prova[['text', 'oracle_text']] #ok sono 'uguali' cambia la stringa per i plainswalker (in text ce [+loyalty] e non solo +loyalty), e i valori no text con Nan\n",
    "#tengo text"
   ]
  },
  {
   "cell_type": "code",
   "execution_count": 30,
   "metadata": {},
   "outputs": [],
   "source": [
    "final_df.drop('oracle_text',axis=1,inplace=True)"
   ]
  },
  {
   "cell_type": "code",
   "execution_count": 31,
   "metadata": {},
   "outputs": [
    {
     "data": {
      "text/html": [
       "<div>\n",
       "<style scoped>\n",
       "    .dataframe tbody tr th:only-of-type {\n",
       "        vertical-align: middle;\n",
       "    }\n",
       "\n",
       "    .dataframe tbody tr th {\n",
       "        vertical-align: top;\n",
       "    }\n",
       "\n",
       "    .dataframe thead th {\n",
       "        text-align: right;\n",
       "    }\n",
       "</style>\n",
       "<table border=\"1\" class=\"dataframe\">\n",
       "  <thead>\n",
       "    <tr style=\"text-align: right;\">\n",
       "      <th></th>\n",
       "      <th>object</th>\n",
       "      <th>id</th>\n",
       "      <th>oracle_id</th>\n",
       "      <th>multiverse_ids</th>\n",
       "      <th>name_x</th>\n",
       "      <th>lang</th>\n",
       "      <th>released_at</th>\n",
       "      <th>uri</th>\n",
       "      <th>scryfall_uri</th>\n",
       "      <th>layout_x</th>\n",
       "      <th>...</th>\n",
       "      <th>subtypes</th>\n",
       "      <th>supertypes</th>\n",
       "      <th>text</th>\n",
       "      <th>type</th>\n",
       "      <th>types</th>\n",
       "      <th>uuid</th>\n",
       "      <th>edhrecRank</th>\n",
       "      <th>isReserved</th>\n",
       "      <th>leadershipSkills</th>\n",
       "      <th>prices</th>\n",
       "    </tr>\n",
       "  </thead>\n",
       "  <tbody>\n",
       "  </tbody>\n",
       "</table>\n",
       "<p>0 rows × 69 columns</p>\n",
       "</div>"
      ],
      "text/plain": [
       "Empty DataFrame\n",
       "Columns: [object, id, oracle_id, multiverse_ids, name_x, lang, released_at, uri, scryfall_uri, layout_x, highres_image, image_uris, mana_cost, cmc, type_line, power_x, toughness_x, colors_x, color_identity, legalities_x, games, reserved, foil, nonfoil, oversized, promo, reprint, variation, set, set_name, set_type, set_uri, set_search_uri, scryfall_set_uri, rulings_uri, prints_search_uri, collector_number, digital, rarity, flavor_text, card_back_id, artist, artist_ids, illustration_id, border_color, frame, full_art, textless, booster, story_spotlight, related_uris, edhrec_rank, card_faces, all_parts, loyalty_x, colorIdentity, foreignData, printings, rulings, subtypes, supertypes, text, type, types, uuid, edhrecRank, isReserved, leadershipSkills, prices]\n",
       "Index: []\n",
       "\n",
       "[0 rows x 69 columns]"
      ]
     },
     "execution_count": 31,
     "metadata": {},
     "output_type": "execute_result"
    }
   ],
   "source": [
    "#type_line con type (in ogni caso tengo types che è type sotto forma fi lista)\n",
    "final_df[final_df.type_line != final_df.type]"
   ]
  },
  {
   "cell_type": "code",
   "execution_count": 32,
   "metadata": {},
   "outputs": [],
   "source": [
    "final_df.drop('type_line',axis=1,inplace=True)"
   ]
  },
  {
   "cell_type": "code",
   "execution_count": 33,
   "metadata": {},
   "outputs": [
    {
     "data": {
      "text/html": [
       "<div>\n",
       "<style scoped>\n",
       "    .dataframe tbody tr th:only-of-type {\n",
       "        vertical-align: middle;\n",
       "    }\n",
       "\n",
       "    .dataframe tbody tr th {\n",
       "        vertical-align: top;\n",
       "    }\n",
       "\n",
       "    .dataframe thead th {\n",
       "        text-align: right;\n",
       "    }\n",
       "</style>\n",
       "<table border=\"1\" class=\"dataframe\">\n",
       "  <thead>\n",
       "    <tr style=\"text-align: right;\">\n",
       "      <th></th>\n",
       "      <th>edhrec_rank</th>\n",
       "      <th>edhrecRank</th>\n",
       "    </tr>\n",
       "  </thead>\n",
       "  <tbody>\n",
       "    <tr>\n",
       "      <th>5</th>\n",
       "      <td>19267.0</td>\n",
       "      <td>19159</td>\n",
       "    </tr>\n",
       "    <tr>\n",
       "      <th>6</th>\n",
       "      <td>19267.0</td>\n",
       "      <td>19159</td>\n",
       "    </tr>\n",
       "    <tr>\n",
       "      <th>7</th>\n",
       "      <td>19267.0</td>\n",
       "      <td>19159</td>\n",
       "    </tr>\n",
       "    <tr>\n",
       "      <th>8</th>\n",
       "      <td>19267.0</td>\n",
       "      <td>19159</td>\n",
       "    </tr>\n",
       "    <tr>\n",
       "      <th>9</th>\n",
       "      <td>4474.0</td>\n",
       "      <td>4535</td>\n",
       "    </tr>\n",
       "    <tr>\n",
       "      <th>...</th>\n",
       "      <td>...</td>\n",
       "      <td>...</td>\n",
       "    </tr>\n",
       "    <tr>\n",
       "      <th>24979</th>\n",
       "      <td>13440.0</td>\n",
       "      <td>13595</td>\n",
       "    </tr>\n",
       "    <tr>\n",
       "      <th>24980</th>\n",
       "      <td>12617.0</td>\n",
       "      <td>12313</td>\n",
       "    </tr>\n",
       "    <tr>\n",
       "      <th>24981</th>\n",
       "      <td>15645.0</td>\n",
       "      <td>16228</td>\n",
       "    </tr>\n",
       "    <tr>\n",
       "      <th>24982</th>\n",
       "      <td>12500.0</td>\n",
       "      <td>12255</td>\n",
       "    </tr>\n",
       "    <tr>\n",
       "      <th>24983</th>\n",
       "      <td>13755.0</td>\n",
       "      <td>14576</td>\n",
       "    </tr>\n",
       "  </tbody>\n",
       "</table>\n",
       "<p>22243 rows × 2 columns</p>\n",
       "</div>"
      ],
      "text/plain": [
       "      edhrec_rank edhrecRank\n",
       "5         19267.0      19159\n",
       "6         19267.0      19159\n",
       "7         19267.0      19159\n",
       "8         19267.0      19159\n",
       "9          4474.0       4535\n",
       "...           ...        ...\n",
       "24979     13440.0      13595\n",
       "24980     12617.0      12313\n",
       "24981     15645.0      16228\n",
       "24982     12500.0      12255\n",
       "24983     13755.0      14576\n",
       "\n",
       "[22243 rows x 2 columns]"
      ]
     },
     "execution_count": 33,
     "metadata": {},
     "output_type": "execute_result"
    }
   ],
   "source": [
    "#edhrec_rank con edhrecRank\n",
    "final_df[final_df.edhrec_rank != final_df.edhrecRank] #ok, tanti diversi, capiamo\n",
    "prova = final_df[final_df.edhrec_rank != final_df.edhrecRank]\n",
    "prova[['edhrec_rank','edhrecRank']] #AIUTO, NON SO QUALE SIA PIù RECENTE, DEVO CHIEDERE!!!!\n",
    "#DA FINIRE"
   ]
  },
  {
   "cell_type": "code",
   "execution_count": 34,
   "metadata": {},
   "outputs": [
    {
     "data": {
      "text/html": [
       "<div>\n",
       "<style scoped>\n",
       "    .dataframe tbody tr th:only-of-type {\n",
       "        vertical-align: middle;\n",
       "    }\n",
       "\n",
       "    .dataframe tbody tr th {\n",
       "        vertical-align: top;\n",
       "    }\n",
       "\n",
       "    .dataframe thead th {\n",
       "        text-align: right;\n",
       "    }\n",
       "</style>\n",
       "<table border=\"1\" class=\"dataframe\">\n",
       "  <thead>\n",
       "    <tr style=\"text-align: right;\">\n",
       "      <th></th>\n",
       "      <th>reserved</th>\n",
       "      <th>isReserved</th>\n",
       "    </tr>\n",
       "  </thead>\n",
       "  <tbody>\n",
       "    <tr>\n",
       "      <th>0</th>\n",
       "      <td>False</td>\n",
       "      <td>false</td>\n",
       "    </tr>\n",
       "    <tr>\n",
       "      <th>1</th>\n",
       "      <td>False</td>\n",
       "      <td>false</td>\n",
       "    </tr>\n",
       "    <tr>\n",
       "      <th>2</th>\n",
       "      <td>False</td>\n",
       "      <td>false</td>\n",
       "    </tr>\n",
       "    <tr>\n",
       "      <th>3</th>\n",
       "      <td>False</td>\n",
       "      <td>false</td>\n",
       "    </tr>\n",
       "    <tr>\n",
       "      <th>4</th>\n",
       "      <td>False</td>\n",
       "      <td>false</td>\n",
       "    </tr>\n",
       "    <tr>\n",
       "      <th>...</th>\n",
       "      <td>...</td>\n",
       "      <td>...</td>\n",
       "    </tr>\n",
       "    <tr>\n",
       "      <th>24978</th>\n",
       "      <td>False</td>\n",
       "      <td>false</td>\n",
       "    </tr>\n",
       "    <tr>\n",
       "      <th>24979</th>\n",
       "      <td>False</td>\n",
       "      <td>false</td>\n",
       "    </tr>\n",
       "    <tr>\n",
       "      <th>24980</th>\n",
       "      <td>False</td>\n",
       "      <td>false</td>\n",
       "    </tr>\n",
       "    <tr>\n",
       "      <th>24982</th>\n",
       "      <td>False</td>\n",
       "      <td>false</td>\n",
       "    </tr>\n",
       "    <tr>\n",
       "      <th>24983</th>\n",
       "      <td>False</td>\n",
       "      <td>false</td>\n",
       "    </tr>\n",
       "  </tbody>\n",
       "</table>\n",
       "<p>23650 rows × 2 columns</p>\n",
       "</div>"
      ],
      "text/plain": [
       "       reserved isReserved\n",
       "0         False      false\n",
       "1         False      false\n",
       "2         False      false\n",
       "3         False      false\n",
       "4         False      false\n",
       "...         ...        ...\n",
       "24978     False      false\n",
       "24979     False      false\n",
       "24980     False      false\n",
       "24982     False      false\n",
       "24983     False      false\n",
       "\n",
       "[23650 rows x 2 columns]"
      ]
     },
     "execution_count": 34,
     "metadata": {},
     "output_type": "execute_result"
    }
   ],
   "source": [
    "#reserved con isReserved\n",
    "final_df[final_df.reserved != final_df.isReserved] #ok, sono tanti, capiamo\n",
    "prova= final_df[final_df.reserved != final_df.isReserved]\n",
    "prova[['reserved','isReserved']] #ok è solo scritto in maniera diversa\n",
    "#tendo reserved (bool)"
   ]
  },
  {
   "cell_type": "code",
   "execution_count": 35,
   "metadata": {},
   "outputs": [],
   "source": [
    "final_df.drop('isReserved',axis=1,inplace=True)"
   ]
  },
  {
   "cell_type": "code",
   "execution_count": 36,
   "metadata": {},
   "outputs": [
    {
     "data": {
      "text/plain": [
       "0                                                       []\n",
       "1                                                       []\n",
       "2                                                       []\n",
       "3                                                       []\n",
       "4                                                       []\n",
       "                               ...                        \n",
       "24979    [{'date': '2005-04-01', 'text': 'The land can ...\n",
       "24980                                                   []\n",
       "24981    [{'date': '2004-10-04', 'text': 'Does not allo...\n",
       "24982                                                   []\n",
       "24983    [{'date': '2008-10-01', 'text': 'If a creature...\n",
       "Name: rulings, Length: 24299, dtype: object"
      ]
     },
     "execution_count": 36,
     "metadata": {},
     "output_type": "execute_result"
    }
   ],
   "source": [
    "final_df.rulings[final_df.rulings != '']\n",
    "final_df.rulings #ok "
   ]
  },
  {
   "cell_type": "code",
   "execution_count": 37,
   "metadata": {},
   "outputs": [
    {
     "data": {
      "text/html": [
       "<div>\n",
       "<style scoped>\n",
       "    .dataframe tbody tr th:only-of-type {\n",
       "        vertical-align: middle;\n",
       "    }\n",
       "\n",
       "    .dataframe tbody tr th {\n",
       "        vertical-align: top;\n",
       "    }\n",
       "\n",
       "    .dataframe thead th {\n",
       "        text-align: right;\n",
       "    }\n",
       "</style>\n",
       "<table border=\"1\" class=\"dataframe\">\n",
       "  <thead>\n",
       "    <tr style=\"text-align: right;\">\n",
       "      <th></th>\n",
       "      <th>object</th>\n",
       "      <th>id</th>\n",
       "      <th>oracle_id</th>\n",
       "      <th>multiverse_ids</th>\n",
       "      <th>name_x</th>\n",
       "      <th>lang</th>\n",
       "      <th>released_at</th>\n",
       "      <th>uri</th>\n",
       "      <th>scryfall_uri</th>\n",
       "      <th>layout_x</th>\n",
       "      <th>...</th>\n",
       "      <th>rulings</th>\n",
       "      <th>subtypes</th>\n",
       "      <th>supertypes</th>\n",
       "      <th>text</th>\n",
       "      <th>type</th>\n",
       "      <th>types</th>\n",
       "      <th>uuid</th>\n",
       "      <th>edhrecRank</th>\n",
       "      <th>leadershipSkills</th>\n",
       "      <th>prices</th>\n",
       "    </tr>\n",
       "  </thead>\n",
       "  <tbody>\n",
       "  </tbody>\n",
       "</table>\n",
       "<p>0 rows × 67 columns</p>\n",
       "</div>"
      ],
      "text/plain": [
       "Empty DataFrame\n",
       "Columns: [object, id, oracle_id, multiverse_ids, name_x, lang, released_at, uri, scryfall_uri, layout_x, highres_image, image_uris, mana_cost, cmc, power_x, toughness_x, colors_x, color_identity, legalities_x, games, reserved, foil, nonfoil, oversized, promo, reprint, variation, set, set_name, set_type, set_uri, set_search_uri, scryfall_set_uri, rulings_uri, prints_search_uri, collector_number, digital, rarity, flavor_text, card_back_id, artist, artist_ids, illustration_id, border_color, frame, full_art, textless, booster, story_spotlight, related_uris, edhrec_rank, card_faces, all_parts, loyalty_x, colorIdentity, foreignData, printings, rulings, subtypes, supertypes, text, type, types, uuid, edhrecRank, leadershipSkills, prices]\n",
       "Index: []\n",
       "\n",
       "[0 rows x 67 columns]"
      ]
     },
     "execution_count": 37,
     "metadata": {},
     "output_type": "execute_result"
    }
   ],
   "source": [
    "#color_identity con colorIdentity\n",
    "final_df[final_df.color_identity != final_df.colorIdentity]"
   ]
  },
  {
   "cell_type": "code",
   "execution_count": 38,
   "metadata": {},
   "outputs": [],
   "source": [
    "final_df.drop('colorIdentity',axis=1,inplace=True)"
   ]
  },
  {
   "cell_type": "code",
   "execution_count": 39,
   "metadata": {},
   "outputs": [
    {
     "data": {
      "text/plain": [
       "Index(['object', 'id', 'oracle_id', 'multiverse_ids', 'name_x', 'lang',\n",
       "       'released_at', 'uri', 'scryfall_uri', 'layout_x', 'highres_image',\n",
       "       'image_uris', 'mana_cost', 'cmc', 'power_x', 'toughness_x', 'colors_x',\n",
       "       'color_identity', 'legalities_x', 'games', 'reserved', 'foil',\n",
       "       'nonfoil', 'oversized', 'promo', 'reprint', 'variation', 'set',\n",
       "       'set_name', 'set_type', 'set_uri', 'set_search_uri', 'scryfall_set_uri',\n",
       "       'rulings_uri', 'prints_search_uri', 'collector_number', 'digital',\n",
       "       'rarity', 'flavor_text', 'card_back_id', 'artist', 'artist_ids',\n",
       "       'illustration_id', 'border_color', 'frame', 'full_art', 'textless',\n",
       "       'booster', 'story_spotlight', 'related_uris', 'edhrec_rank',\n",
       "       'card_faces', 'all_parts', 'loyalty_x', 'foreignData', 'printings',\n",
       "       'rulings', 'subtypes', 'supertypes', 'text', 'type', 'types', 'uuid',\n",
       "       'edhrecRank', 'leadershipSkills', 'prices'],\n",
       "      dtype='object')"
      ]
     },
     "execution_count": 39,
     "metadata": {},
     "output_type": "execute_result"
    }
   ],
   "source": [
    "final_df.columns"
   ]
  },
  {
   "cell_type": "code",
   "execution_count": 40,
   "metadata": {},
   "outputs": [],
   "source": [
    "#printing e set sono simili, printing contiene dove la carta è stata anche ristampata"
   ]
  },
  {
   "cell_type": "code",
   "execution_count": 41,
   "metadata": {},
   "outputs": [],
   "source": [
    "#cardfaces lo elimino\n",
    "final_df.drop('card_faces',axis=1,inplace=True)"
   ]
  },
  {
   "cell_type": "markdown",
   "metadata": {},
   "source": [
    "modifico le colonne, tolgo la _x"
   ]
  },
  {
   "cell_type": "code",
   "execution_count": 42,
   "metadata": {},
   "outputs": [
    {
     "data": {
      "text/plain": [
       "Index(['object', 'id', 'oracle_id', 'multiverse_ids', 'name_x', 'lang',\n",
       "       'released_at', 'uri', 'scryfall_uri', 'layout_x', 'highres_image',\n",
       "       'image_uris', 'mana_cost', 'cmc', 'power_x', 'toughness_x', 'colors_x',\n",
       "       'color_identity', 'legalities_x', 'games', 'reserved', 'foil',\n",
       "       'nonfoil', 'oversized', 'promo', 'reprint', 'variation', 'set',\n",
       "       'set_name', 'set_type', 'set_uri', 'set_search_uri', 'scryfall_set_uri',\n",
       "       'rulings_uri', 'prints_search_uri', 'collector_number', 'digital',\n",
       "       'rarity', 'flavor_text', 'card_back_id', 'artist', 'artist_ids',\n",
       "       'illustration_id', 'border_color', 'frame', 'full_art', 'textless',\n",
       "       'booster', 'story_spotlight', 'related_uris', 'edhrec_rank',\n",
       "       'all_parts', 'loyalty_x', 'foreignData', 'printings', 'rulings',\n",
       "       'subtypes', 'supertypes', 'text', 'type', 'types', 'uuid', 'edhrecRank',\n",
       "       'leadershipSkills', 'prices'],\n",
       "      dtype='object')"
      ]
     },
     "execution_count": 42,
     "metadata": {},
     "output_type": "execute_result"
    }
   ],
   "source": [
    "final_df.columns"
   ]
  },
  {
   "cell_type": "code",
   "execution_count": 43,
   "metadata": {},
   "outputs": [
    {
     "data": {
      "text/plain": [
       "['object',\n",
       " 'id',\n",
       " 'oracle_id',\n",
       " 'multiverse_ids',\n",
       " 'name',\n",
       " 'lang',\n",
       " 'released_at',\n",
       " 'uri',\n",
       " 'scryfall_uri',\n",
       " 'layout',\n",
       " 'highres_image',\n",
       " 'image_uris',\n",
       " 'mana_cost',\n",
       " 'cmc',\n",
       " 'power',\n",
       " 'toughness',\n",
       " 'colors',\n",
       " 'color_identity',\n",
       " 'legalities',\n",
       " 'games',\n",
       " 'reserved',\n",
       " 'foil',\n",
       " 'nonfoil',\n",
       " 'oversized',\n",
       " 'promo',\n",
       " 'reprint',\n",
       " 'variation',\n",
       " 'set',\n",
       " 'set_name',\n",
       " 'set_type',\n",
       " 'set_uri',\n",
       " 'set_search_uri',\n",
       " 'scryfall_set_uri',\n",
       " 'rulings_uri',\n",
       " 'prints_search_uri',\n",
       " 'collector_number',\n",
       " 'digital',\n",
       " 'rarity',\n",
       " 'flavor_text',\n",
       " 'card_back_id',\n",
       " 'artist',\n",
       " 'artist_ids',\n",
       " 'illustration_id',\n",
       " 'border_color',\n",
       " 'frame',\n",
       " 'full_art',\n",
       " 'textless',\n",
       " 'booster',\n",
       " 'story_spotlight',\n",
       " 'related_uris',\n",
       " 'edhrec_rank',\n",
       " 'all_parts',\n",
       " 'loyalty',\n",
       " 'foreignData',\n",
       " 'printings',\n",
       " 'rulings',\n",
       " 'subtypes',\n",
       " 'supertypes',\n",
       " 'text',\n",
       " 'type',\n",
       " 'types',\n",
       " 'uuid',\n",
       " 'edhrecRank',\n",
       " 'leadershipSkills',\n",
       " 'prices']"
      ]
     },
     "execution_count": 43,
     "metadata": {},
     "output_type": "execute_result"
    }
   ],
   "source": [
    "colonne_originali = final_df.columns\n",
    "#test\n",
    "colonne_nuove = list(map(lambda x : x[:len(x)-2] if x[len(x)-2:] =='_x' else x , colonne_originali))\n",
    "colonne_nuove\n",
    "#tes = colonne_originali[4]\n",
    "#tes[len(tes)-2:]\n",
    "#APPLICARE I NOMI ALLE COLONNE PERFETTO!!!!!!!!!!!!!!"
   ]
  },
  {
   "cell_type": "code",
   "execution_count": 44,
   "metadata": {},
   "outputs": [
    {
     "data": {
      "text/plain": [
       "Index(['object', 'id', 'oracle_id', 'multiverse_ids', 'name_x', 'lang',\n",
       "       'released_at', 'uri', 'scryfall_uri', 'layout_x', 'highres_image',\n",
       "       'image_uris', 'mana_cost', 'cmc', 'power_x', 'toughness_x', 'colors_x',\n",
       "       'color_identity', 'legalities_x', 'games', 'reserved', 'foil',\n",
       "       'nonfoil', 'oversized', 'promo', 'reprint', 'variation', 'set',\n",
       "       'set_name', 'set_type', 'set_uri', 'set_search_uri', 'scryfall_set_uri',\n",
       "       'rulings_uri', 'prints_search_uri', 'collector_number', 'digital',\n",
       "       'rarity', 'flavor_text', 'card_back_id', 'artist', 'artist_ids',\n",
       "       'illustration_id', 'border_color', 'frame', 'full_art', 'textless',\n",
       "       'booster', 'story_spotlight', 'related_uris', 'edhrec_rank',\n",
       "       'all_parts', 'loyalty_x', 'foreignData', 'printings', 'rulings',\n",
       "       'subtypes', 'supertypes', 'text', 'type', 'types', 'uuid', 'edhrecRank',\n",
       "       'leadershipSkills', 'prices'],\n",
       "      dtype='object')"
      ]
     },
     "execution_count": 44,
     "metadata": {},
     "output_type": "execute_result"
    }
   ],
   "source": [
    "final_df.columns"
   ]
  },
  {
   "cell_type": "code",
   "execution_count": 45,
   "metadata": {},
   "outputs": [],
   "source": [
    "final_df.columns = colonne_nuove"
   ]
  },
  {
   "cell_type": "code",
   "execution_count": 46,
   "metadata": {},
   "outputs": [
    {
     "data": {
      "text/plain": [
       "object                                                           card\n",
       "id                               a47357be-9e4b-4581-94f5-0574754e2977\n",
       "oracle_id                        78124cd1-2658-43f3-a339-0755d84154d2\n",
       "multiverse_ids                                                     []\n",
       "name                                                Stonecoil Serpent\n",
       "                                          ...                        \n",
       "types                                            [Artifact, Creature]\n",
       "uuid                             b2f57541-313b-511c-8403-4792e335c042\n",
       "edhrecRank                                                       6925\n",
       "leadershipSkills                                             unusable\n",
       "prices              {'mtgo': {}, 'mtgoFoil': {}, 'paper': {}, 'pap...\n",
       "Name: 17, Length: 65, dtype: object"
      ]
     },
     "execution_count": 46,
     "metadata": {},
     "output_type": "execute_result"
    }
   ],
   "source": [
    "#attenzione forse ce un problema con gli indici capire come si comporta con iloc\n",
    "final_df.iloc[15] #OK INDEX è DIVERSO DALLA POSIZIONE EFFETTIVA, DIREI CHE LI AGGIORno\n",
    "#no elimino la colonna index\n",
    "#final_df.drop('index',axis=1,inplace=True) #ok non è una colonna, semplicemente gli index sono sfasati e se voglio usre iloc mi crea probelmi"
   ]
  },
  {
   "cell_type": "code",
   "execution_count": 47,
   "metadata": {},
   "outputs": [],
   "source": [
    "#final_clean_df = final_df"
   ]
  },
  {
   "cell_type": "code",
   "execution_count": 48,
   "metadata": {},
   "outputs": [
    {
     "data": {
      "text/plain": [
       "Index([0, 1, 2, 3, 4, 5, 6, 7, 8, 9, 10, 11, 12, 15, 16, 17, 18, 19, 20, 21], dtype='int64')"
      ]
     },
     "execution_count": 48,
     "metadata": {},
     "output_type": "execute_result"
    }
   ],
   "source": [
    "final_df.index[:20] #salto tra 12 e 15"
   ]
  },
  {
   "cell_type": "code",
   "execution_count": 49,
   "metadata": {},
   "outputs": [],
   "source": [
    "#test_a = final_df[0:20]\n",
    "#for indice,id in test_a.id.items():\n",
    "#    print(f'indice:{indice}, id:{id}')\n",
    "#    #quidi se faccio iloc[index] mi ritorna un valore diverso da quello che voglio\n",
    "#    print(f'test_a.iloc[{indice}] = {test_a.id.iloc[indice]}') \n",
    "\n",
    "#vedere indice 15 e iloc[15]"
   ]
  },
  {
   "cell_type": "code",
   "execution_count": 50,
   "metadata": {},
   "outputs": [],
   "source": [
    "#resetto gli indici\n",
    "#final_clean_df.columns\n",
    "final_df.reset_index(drop=True,inplace=True)"
   ]
  },
  {
   "cell_type": "code",
   "execution_count": 51,
   "metadata": {},
   "outputs": [
    {
     "name": "stdout",
     "output_type": "stream",
     "text": [
      "indice:0, id:dbcdbf7a-9294-47ad-9f93-c16b78c7463a\n",
      "test_a.iloc[0] = dbcdbf7a-9294-47ad-9f93-c16b78c7463a\n",
      "indice:1, id:acb3ce9b-ee4f-410a-8db3-e87aeb0a4444\n",
      "test_a.iloc[1] = acb3ce9b-ee4f-410a-8db3-e87aeb0a4444\n",
      "indice:2, id:17b2ed72-d0f0-4d8d-bb5e-dce08d157466\n",
      "test_a.iloc[2] = 17b2ed72-d0f0-4d8d-bb5e-dce08d157466\n",
      "indice:3, id:0faa9eea-fbf1-41f7-9def-1ec3d5134a53\n",
      "test_a.iloc[3] = 0faa9eea-fbf1-41f7-9def-1ec3d5134a53\n",
      "indice:4, id:ecbeac44-9392-4522-8ff5-87079386bd0a\n",
      "test_a.iloc[4] = ecbeac44-9392-4522-8ff5-87079386bd0a\n",
      "indice:5, id:2b8285b7-bd88-4a6c-bd2e-9798a1c661f8\n",
      "test_a.iloc[5] = 2b8285b7-bd88-4a6c-bd2e-9798a1c661f8\n",
      "indice:6, id:1f5a1578-d5fe-4b31-bb71-3253be8775a1\n",
      "test_a.iloc[6] = 1f5a1578-d5fe-4b31-bb71-3253be8775a1\n",
      "indice:7, id:5f6927e1-c580-483a-8e2a-6e2deb74800e\n",
      "test_a.iloc[7] = 5f6927e1-c580-483a-8e2a-6e2deb74800e\n",
      "indice:8, id:92bcd1ce-19b1-4d78-8b09-95242ca08d76\n",
      "test_a.iloc[8] = 92bcd1ce-19b1-4d78-8b09-95242ca08d76\n",
      "indice:9, id:4c19926a-7792-4e0f-8418-a44f0cf5eeea\n",
      "test_a.iloc[9] = 4c19926a-7792-4e0f-8418-a44f0cf5eeea\n",
      "indice:10, id:a7a8b6b8-b95f-4014-b17a-a6d44d965995\n",
      "test_a.iloc[10] = a7a8b6b8-b95f-4014-b17a-a6d44d965995\n",
      "indice:11, id:9ad30de4-8299-4252-99f9-866719ec047d\n",
      "test_a.iloc[11] = 9ad30de4-8299-4252-99f9-866719ec047d\n",
      "indice:12, id:9a4e07b3-b095-4335-b636-2d1c34c7db9b\n",
      "test_a.iloc[12] = 9a4e07b3-b095-4335-b636-2d1c34c7db9b\n",
      "indice:13, id:1e3dee73-b220-4da9-82ef-e3f551dccb17\n",
      "test_a.iloc[13] = 1e3dee73-b220-4da9-82ef-e3f551dccb17\n",
      "indice:14, id:ee235810-078e-4208-91e2-b559c277eb86\n",
      "test_a.iloc[14] = ee235810-078e-4208-91e2-b559c277eb86\n",
      "indice:15, id:a47357be-9e4b-4581-94f5-0574754e2977\n",
      "test_a.iloc[15] = a47357be-9e4b-4581-94f5-0574754e2977\n",
      "indice:16, id:d2804de2-5b13-493c-87ac-e59b3bb569a4\n",
      "test_a.iloc[16] = d2804de2-5b13-493c-87ac-e59b3bb569a4\n",
      "indice:17, id:5e66e70e-354e-4c3c-9d5d-90f0bf1b857d\n",
      "test_a.iloc[17] = 5e66e70e-354e-4c3c-9d5d-90f0bf1b857d\n",
      "indice:18, id:35538cb0-813a-46a1-9c2b-0a1eda866ed0\n",
      "test_a.iloc[18] = 35538cb0-813a-46a1-9c2b-0a1eda866ed0\n",
      "indice:19, id:ec1f1041-f667-4b73-b1f2-e5bcae84095e\n",
      "test_a.iloc[19] = ec1f1041-f667-4b73-b1f2-e5bcae84095e\n"
     ]
    }
   ],
   "source": [
    "test_a = final_df[0:20]\n",
    "for indice,id in test_a.id.items():\n",
    "    print(f'indice:{indice}, id:{id}')\n",
    "    #quidi se faccio iloc[index] mi ritorna un valore diverso da quello che voglio\n",
    "    print(f'test_a.iloc[{indice}] = {test_a.id.iloc[indice]}') "
   ]
  },
  {
   "cell_type": "code",
   "execution_count": 52,
   "metadata": {},
   "outputs": [
    {
     "ename": "NameError",
     "evalue": "name 'final_clean_df' is not defined",
     "output_type": "error",
     "traceback": [
      "\u001b[1;31m---------------------------------------------------------------------------\u001b[0m",
      "\u001b[1;31mNameError\u001b[0m                                 Traceback (most recent call last)",
      "Cell \u001b[1;32mIn[52], line 1\u001b[0m\n\u001b[1;32m----> 1\u001b[0m \u001b[38;5;28mtype\u001b[39m(\u001b[43mfinal_clean_df\u001b[49m\u001b[38;5;241m.\u001b[39mpower\u001b[38;5;241m.\u001b[39miloc[\u001b[38;5;241m30\u001b[39m])\n\u001b[0;32m      2\u001b[0m \u001b[38;5;66;03m#ok power è una stringa, per i nan metto, no power!!!\u001b[39;00m\n\u001b[0;32m      3\u001b[0m \u001b[38;5;66;03m#FINIRE\u001b[39;00m\n",
      "\u001b[1;31mNameError\u001b[0m: name 'final_clean_df' is not defined"
     ]
    }
   ],
   "source": [
    "type(final_clean_df.power.iloc[30])\n",
    "#ok power è una stringa, per i nan metto, no power!!!\n",
    "#FINIRE"
   ]
  },
  {
   "cell_type": "code",
   "execution_count": null,
   "metadata": {},
   "outputs": [],
   "source": [
    "#è  E NORMALE CHE ALCUNE CARTE COME LE TERRE NON ABBBIANO (CI SONO ALTRI TIPI DI CARTE)\n",
    "#MANA COST OR COLOR "
   ]
  },
  {
   "cell_type": "code",
   "execution_count": null,
   "metadata": {},
   "outputs": [],
   "source": [
    "#PER SEMPLICITà TRASFORMARE MULTIVERSE_IDS NON COM UNA LISTA MA COME STRINGA"
   ]
  },
  {
   "cell_type": "markdown",
   "metadata": {},
   "source": [
    "# salvo il data set pulito"
   ]
  },
  {
   "cell_type": "code",
   "execution_count": 53,
   "metadata": {},
   "outputs": [],
   "source": [
    "final_clean_df = final_df"
   ]
  },
  {
   "cell_type": "code",
   "execution_count": 54,
   "metadata": {},
   "outputs": [
    {
     "name": "stdout",
     "output_type": "stream",
     "text": [
      "<class 'pandas.core.frame.DataFrame'>\n",
      "RangeIndex: 24299 entries, 0 to 24298\n",
      "Data columns (total 65 columns):\n",
      " #   Column             Non-Null Count  Dtype         \n",
      "---  ------             --------------  -----         \n",
      " 0   object             24299 non-null  object        \n",
      " 1   id                 24299 non-null  object        \n",
      " 2   oracle_id          24299 non-null  object        \n",
      " 3   multiverse_ids     24299 non-null  object        \n",
      " 4   name               24299 non-null  object        \n",
      " 5   lang               24299 non-null  object        \n",
      " 6   released_at        24299 non-null  datetime64[ns]\n",
      " 7   uri                24299 non-null  object        \n",
      " 8   scryfall_uri       24299 non-null  object        \n",
      " 9   layout             24299 non-null  object        \n",
      " 10  highres_image      24299 non-null  bool          \n",
      " 11  image_uris         24299 non-null  object        \n",
      " 12  mana_cost          24299 non-null  object        \n",
      " 13  cmc                24299 non-null  float64       \n",
      " 14  power              11722 non-null  object        \n",
      " 15  toughness          11722 non-null  object        \n",
      " 16  colors             24299 non-null  object        \n",
      " 17  color_identity     24299 non-null  object        \n",
      " 18  legalities         24299 non-null  object        \n",
      " 19  games              24299 non-null  object        \n",
      " 20  reserved           24299 non-null  bool          \n",
      " 21  foil               24299 non-null  bool          \n",
      " 22  nonfoil            24299 non-null  bool          \n",
      " 23  oversized          24299 non-null  bool          \n",
      " 24  promo              24299 non-null  bool          \n",
      " 25  reprint            24299 non-null  bool          \n",
      " 26  variation          24299 non-null  bool          \n",
      " 27  set                24299 non-null  object        \n",
      " 28  set_name           24299 non-null  object        \n",
      " 29  set_type           24299 non-null  object        \n",
      " 30  set_uri            24299 non-null  object        \n",
      " 31  set_search_uri     24299 non-null  object        \n",
      " 32  scryfall_set_uri   24299 non-null  object        \n",
      " 33  rulings_uri        24299 non-null  object        \n",
      " 34  prints_search_uri  24299 non-null  object        \n",
      " 35  collector_number   24299 non-null  object        \n",
      " 36  digital            24299 non-null  bool          \n",
      " 37  rarity             24299 non-null  object        \n",
      " 38  flavor_text        24299 non-null  object        \n",
      " 39  card_back_id       24299 non-null  object        \n",
      " 40  artist             24299 non-null  object        \n",
      " 41  artist_ids         24298 non-null  object        \n",
      " 42  illustration_id    24299 non-null  object        \n",
      " 43  border_color       24299 non-null  object        \n",
      " 44  frame              24299 non-null  object        \n",
      " 45  full_art           24299 non-null  bool          \n",
      " 46  textless           24299 non-null  bool          \n",
      " 47  booster            24299 non-null  bool          \n",
      " 48  story_spotlight    24299 non-null  bool          \n",
      " 49  related_uris       24299 non-null  object        \n",
      " 50  edhrec_rank        24299 non-null  object        \n",
      " 51  all_parts          24299 non-null  object        \n",
      " 52  loyalty            316 non-null    object        \n",
      " 53  foreignData        24299 non-null  object        \n",
      " 54  printings          24299 non-null  object        \n",
      " 55  rulings            24299 non-null  object        \n",
      " 56  subtypes           24299 non-null  object        \n",
      " 57  supertypes         24299 non-null  object        \n",
      " 58  text               24299 non-null  object        \n",
      " 59  type               24299 non-null  object        \n",
      " 60  types              24299 non-null  object        \n",
      " 61  uuid               24299 non-null  object        \n",
      " 62  edhrecRank         24299 non-null  object        \n",
      " 63  leadershipSkills   24299 non-null  object        \n",
      " 64  prices             24299 non-null  object        \n",
      "dtypes: bool(13), datetime64[ns](1), float64(1), object(50)\n",
      "memory usage: 9.9+ MB\n"
     ]
    },
    {
     "data": {
      "text/plain": [
       "artist                  0\n",
       "artist_ids              1\n",
       "illustration_id         0\n",
       "border_color            0\n",
       "frame                   0\n",
       "full_art                0\n",
       "textless                0\n",
       "booster                 0\n",
       "story_spotlight         0\n",
       "related_uris            0\n",
       "edhrec_rank             0\n",
       "all_parts               0\n",
       "loyalty             23983\n",
       "foreignData             0\n",
       "printings               0\n",
       "rulings                 0\n",
       "subtypes                0\n",
       "supertypes              0\n",
       "text                    0\n",
       "type                    0\n",
       "types                   0\n",
       "uuid                    0\n",
       "edhrecRank              0\n",
       "leadershipSkills        0\n",
       "prices                  0\n",
       "dtype: int64"
      ]
     },
     "execution_count": 54,
     "metadata": {},
     "output_type": "execute_result"
    }
   ],
   "source": [
    "final_clean_df.info()\n",
    "final_clean_df.isna().sum()[40:]"
   ]
  },
  {
   "cell_type": "code",
   "execution_count": 55,
   "metadata": {},
   "outputs": [
    {
     "name": "stdout",
     "output_type": "stream",
     "text": [
      "Stored 'final_clean_df' (DataFrame)\n"
     ]
    }
   ],
   "source": [
    "%store final_clean_df"
   ]
  },
  {
   "cell_type": "code",
   "execution_count": 56,
   "metadata": {},
   "outputs": [
    {
     "data": {
      "text/plain": [
       "Index(['object', 'id', 'oracle_id', 'multiverse_ids', 'name', 'lang',\n",
       "       'released_at', 'uri', 'scryfall_uri', 'layout', 'highres_image',\n",
       "       'image_uris', 'mana_cost', 'cmc', 'power', 'toughness', 'colors',\n",
       "       'color_identity', 'legalities', 'games', 'reserved', 'foil', 'nonfoil',\n",
       "       'oversized', 'promo', 'reprint', 'variation', 'set', 'set_name',\n",
       "       'set_type', 'set_uri', 'set_search_uri', 'scryfall_set_uri',\n",
       "       'rulings_uri', 'prints_search_uri', 'collector_number', 'digital',\n",
       "       'rarity', 'flavor_text', 'card_back_id', 'artist', 'artist_ids',\n",
       "       'illustration_id', 'border_color', 'frame', 'full_art', 'textless',\n",
       "       'booster', 'story_spotlight', 'related_uris', 'edhrec_rank',\n",
       "       'all_parts', 'loyalty', 'foreignData', 'printings', 'rulings',\n",
       "       'subtypes', 'supertypes', 'text', 'type', 'types', 'uuid', 'edhrecRank',\n",
       "       'leadershipSkills', 'prices'],\n",
       "      dtype='object')"
      ]
     },
     "execution_count": 56,
     "metadata": {},
     "output_type": "execute_result"
    }
   ],
   "source": [
    "final_clean_df.columns"
   ]
  },
  {
   "cell_type": "code",
   "execution_count": 62,
   "metadata": {},
   "outputs": [],
   "source": [
    "#provo a salvare il dataframe finito\n",
    "#final_clean_df.to_csv('final.csv',sep='|',index=False)\n",
    "final_clean_df.to_json('final_json.json',)"
   ]
  },
  {
   "cell_type": "code",
   "execution_count": null,
   "metadata": {},
   "outputs": [],
   "source": []
  }
 ],
 "metadata": {
  "kernelspec": {
   "display_name": ".venv",
   "language": "python",
   "name": "python3"
  },
  "language_info": {
   "codemirror_mode": {
    "name": "ipython",
    "version": 3
   },
   "file_extension": ".py",
   "mimetype": "text/x-python",
   "name": "python",
   "nbconvert_exporter": "python",
   "pygments_lexer": "ipython3",
   "version": "3.12.1"
  }
 },
 "nbformat": 4,
 "nbformat_minor": 2
}
