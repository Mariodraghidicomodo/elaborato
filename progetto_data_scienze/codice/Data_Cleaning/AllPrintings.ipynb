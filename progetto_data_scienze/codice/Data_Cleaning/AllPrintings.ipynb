{
 "cells": [
  {
   "cell_type": "markdown",
   "metadata": {},
   "source": [
    "#FORSE NON LO USO, POCO MATERIALE"
   ]
  },
  {
   "cell_type": "code",
   "execution_count": 1,
   "metadata": {},
   "outputs": [],
   "source": [
    "#IMPORTANTE\n",
    "#import os\n",
    "#os.chdir('C:/Users/elped/OneDrive/Desktop/git_vs_code/prova-elab-ing/progetto_data_scienze') #pycache"
   ]
  },
  {
   "cell_type": "code",
   "execution_count": 2,
   "metadata": {},
   "outputs": [],
   "source": [
    "import numpy as np\n",
    "import matplotlib.pyplot as plt\n",
    "import pandas as pd\n",
    "#from codice.EDA_data.open_file import allprintings_df"
   ]
  },
  {
   "cell_type": "markdown",
   "metadata": {},
   "source": [
    "# OPEN FILE"
   ]
  },
  {
   "cell_type": "code",
   "execution_count": 3,
   "metadata": {},
   "outputs": [],
   "source": [
    "percorso = \"C:/Users/elped/OneDrive/Documenti/hello_django/progetto_data_scienze/data_base/mtg/\"\n",
    "# AllPrintings\n",
    "allprintings_df = pd.read_json(percorso + \"AllPrintings.json\").T"
   ]
  },
  {
   "cell_type": "code",
   "execution_count": 4,
   "metadata": {},
   "outputs": [
    {
     "data": {
      "text/plain": [
       "(461, 22)"
      ]
     },
     "execution_count": 4,
     "metadata": {},
     "output_type": "execute_result"
    }
   ],
   "source": [
    "allprintings_df_bu = allprintings_df\n",
    "allprintings_df_bu.shape"
   ]
  },
  {
   "cell_type": "markdown",
   "metadata": {},
   "source": [
    "# VALUE NULL"
   ]
  },
  {
   "cell_type": "code",
   "execution_count": 5,
   "metadata": {},
   "outputs": [
    {
     "data": {
      "text/html": [
       "<div>\n",
       "<style scoped>\n",
       "    .dataframe tbody tr th:only-of-type {\n",
       "        vertical-align: middle;\n",
       "    }\n",
       "\n",
       "    .dataframe tbody tr th {\n",
       "        vertical-align: top;\n",
       "    }\n",
       "\n",
       "    .dataframe thead th {\n",
       "        text-align: right;\n",
       "    }\n",
       "</style>\n",
       "<table border=\"1\" class=\"dataframe\">\n",
       "  <thead>\n",
       "    <tr style=\"text-align: right;\">\n",
       "      <th></th>\n",
       "      <th>baseSetSize</th>\n",
       "      <th>block</th>\n",
       "      <th>boosterV3</th>\n",
       "      <th>cards</th>\n",
       "      <th>code</th>\n",
       "      <th>isFoilOnly</th>\n",
       "      <th>isOnlineOnly</th>\n",
       "      <th>keyruneCode</th>\n",
       "      <th>mcmId</th>\n",
       "      <th>mcmName</th>\n",
       "      <th>...</th>\n",
       "      <th>name</th>\n",
       "      <th>releaseDate</th>\n",
       "      <th>tcgplayerGroupId</th>\n",
       "      <th>tokens</th>\n",
       "      <th>totalSetSize</th>\n",
       "      <th>type</th>\n",
       "      <th>isForeignOnly</th>\n",
       "      <th>parentCode</th>\n",
       "      <th>codeV3</th>\n",
       "      <th>isPartialPreview</th>\n",
       "    </tr>\n",
       "  </thead>\n",
       "  <tbody>\n",
       "    <tr>\n",
       "      <th>10E</th>\n",
       "      <td>383</td>\n",
       "      <td>Core Set</td>\n",
       "      <td>[rare, uncommon, uncommon, uncommon, common, c...</td>\n",
       "      <td>[{'artist': 'Rebecca Guay', 'borderColor': 'bl...</td>\n",
       "      <td>10E</td>\n",
       "      <td>False</td>\n",
       "      <td>False</td>\n",
       "      <td>10E</td>\n",
       "      <td>74</td>\n",
       "      <td>Tenth Edition</td>\n",
       "      <td>...</td>\n",
       "      <td>Tenth Edition</td>\n",
       "      <td>2007-07-13</td>\n",
       "      <td>1</td>\n",
       "      <td>[{'artist': 'Jim Pavelec', 'borderColor': 'bla...</td>\n",
       "      <td>508</td>\n",
       "      <td>core</td>\n",
       "      <td>NaN</td>\n",
       "      <td>NaN</td>\n",
       "      <td>NaN</td>\n",
       "      <td>NaN</td>\n",
       "    </tr>\n",
       "    <tr>\n",
       "      <th>2ED</th>\n",
       "      <td>302</td>\n",
       "      <td>Core Set</td>\n",
       "      <td>[rare, uncommon, uncommon, uncommon, common, c...</td>\n",
       "      <td>[{'artist': 'Richard Thomas', 'borderColor': '...</td>\n",
       "      <td>2ED</td>\n",
       "      <td>False</td>\n",
       "      <td>False</td>\n",
       "      <td>2ED</td>\n",
       "      <td>3</td>\n",
       "      <td>Unlimited</td>\n",
       "      <td>...</td>\n",
       "      <td>Unlimited Edition</td>\n",
       "      <td>1993-12-01</td>\n",
       "      <td>115</td>\n",
       "      <td>[]</td>\n",
       "      <td>302</td>\n",
       "      <td>core</td>\n",
       "      <td>NaN</td>\n",
       "      <td>NaN</td>\n",
       "      <td>NaN</td>\n",
       "      <td>NaN</td>\n",
       "    </tr>\n",
       "    <tr>\n",
       "      <th>3ED</th>\n",
       "      <td>306</td>\n",
       "      <td>Core Set</td>\n",
       "      <td>[rare, uncommon, uncommon, uncommon, common, c...</td>\n",
       "      <td>[{'artist': 'Richard Thomas', 'borderColor': '...</td>\n",
       "      <td>3ED</td>\n",
       "      <td>False</td>\n",
       "      <td>False</td>\n",
       "      <td>3ED</td>\n",
       "      <td>6</td>\n",
       "      <td>Revised</td>\n",
       "      <td>...</td>\n",
       "      <td>Revised Edition</td>\n",
       "      <td>1994-04-01</td>\n",
       "      <td>97</td>\n",
       "      <td>[]</td>\n",
       "      <td>306</td>\n",
       "      <td>core</td>\n",
       "      <td>NaN</td>\n",
       "      <td>NaN</td>\n",
       "      <td>NaN</td>\n",
       "      <td>NaN</td>\n",
       "    </tr>\n",
       "    <tr>\n",
       "      <th>4BB</th>\n",
       "      <td>0</td>\n",
       "      <td>NaN</td>\n",
       "      <td>NaN</td>\n",
       "      <td>[{'artist': 'Mark Tedin', 'borderColor': 'blac...</td>\n",
       "      <td>4BB</td>\n",
       "      <td>False</td>\n",
       "      <td>False</td>\n",
       "      <td>4ED</td>\n",
       "      <td>NaN</td>\n",
       "      <td>NaN</td>\n",
       "      <td>...</td>\n",
       "      <td>Fourth Edition Foreign Black Border</td>\n",
       "      <td>1995-04-01</td>\n",
       "      <td>NaN</td>\n",
       "      <td>[]</td>\n",
       "      <td>378</td>\n",
       "      <td>core</td>\n",
       "      <td>True</td>\n",
       "      <td>NaN</td>\n",
       "      <td>NaN</td>\n",
       "      <td>NaN</td>\n",
       "    </tr>\n",
       "    <tr>\n",
       "      <th>4ED</th>\n",
       "      <td>378</td>\n",
       "      <td>Core Set</td>\n",
       "      <td>[rare, uncommon, uncommon, uncommon, common, c...</td>\n",
       "      <td>[{'artist': 'Mark Tedin', 'borderColor': 'whit...</td>\n",
       "      <td>4ED</td>\n",
       "      <td>False</td>\n",
       "      <td>False</td>\n",
       "      <td>4ED</td>\n",
       "      <td>10</td>\n",
       "      <td>Fourth Edition</td>\n",
       "      <td>...</td>\n",
       "      <td>Fourth Edition</td>\n",
       "      <td>1995-04-01</td>\n",
       "      <td>46</td>\n",
       "      <td>[]</td>\n",
       "      <td>379</td>\n",
       "      <td>core</td>\n",
       "      <td>NaN</td>\n",
       "      <td>NaN</td>\n",
       "      <td>NaN</td>\n",
       "      <td>NaN</td>\n",
       "    </tr>\n",
       "  </tbody>\n",
       "</table>\n",
       "<p>5 rows × 22 columns</p>\n",
       "</div>"
      ],
      "text/plain": [
       "    baseSetSize     block                                          boosterV3  \\\n",
       "10E         383  Core Set  [rare, uncommon, uncommon, uncommon, common, c...   \n",
       "2ED         302  Core Set  [rare, uncommon, uncommon, uncommon, common, c...   \n",
       "3ED         306  Core Set  [rare, uncommon, uncommon, uncommon, common, c...   \n",
       "4BB           0       NaN                                                NaN   \n",
       "4ED         378  Core Set  [rare, uncommon, uncommon, uncommon, common, c...   \n",
       "\n",
       "                                                 cards code isFoilOnly  \\\n",
       "10E  [{'artist': 'Rebecca Guay', 'borderColor': 'bl...  10E      False   \n",
       "2ED  [{'artist': 'Richard Thomas', 'borderColor': '...  2ED      False   \n",
       "3ED  [{'artist': 'Richard Thomas', 'borderColor': '...  3ED      False   \n",
       "4BB  [{'artist': 'Mark Tedin', 'borderColor': 'blac...  4BB      False   \n",
       "4ED  [{'artist': 'Mark Tedin', 'borderColor': 'whit...  4ED      False   \n",
       "\n",
       "    isOnlineOnly keyruneCode mcmId         mcmName  ...  \\\n",
       "10E        False         10E    74   Tenth Edition  ...   \n",
       "2ED        False         2ED     3       Unlimited  ...   \n",
       "3ED        False         3ED     6         Revised  ...   \n",
       "4BB        False         4ED   NaN             NaN  ...   \n",
       "4ED        False         4ED    10  Fourth Edition  ...   \n",
       "\n",
       "                                    name releaseDate tcgplayerGroupId  \\\n",
       "10E                        Tenth Edition  2007-07-13                1   \n",
       "2ED                    Unlimited Edition  1993-12-01              115   \n",
       "3ED                      Revised Edition  1994-04-01               97   \n",
       "4BB  Fourth Edition Foreign Black Border  1995-04-01              NaN   \n",
       "4ED                       Fourth Edition  1995-04-01               46   \n",
       "\n",
       "                                                tokens totalSetSize  type  \\\n",
       "10E  [{'artist': 'Jim Pavelec', 'borderColor': 'bla...          508  core   \n",
       "2ED                                                 []          302  core   \n",
       "3ED                                                 []          306  core   \n",
       "4BB                                                 []          378  core   \n",
       "4ED                                                 []          379  core   \n",
       "\n",
       "    isForeignOnly parentCode codeV3 isPartialPreview  \n",
       "10E           NaN        NaN    NaN              NaN  \n",
       "2ED           NaN        NaN    NaN              NaN  \n",
       "3ED           NaN        NaN    NaN              NaN  \n",
       "4BB          True        NaN    NaN              NaN  \n",
       "4ED           NaN        NaN    NaN              NaN  \n",
       "\n",
       "[5 rows x 22 columns]"
      ]
     },
     "execution_count": 5,
     "metadata": {},
     "output_type": "execute_result"
    }
   ],
   "source": [
    "allprintings_df.head(5)"
   ]
  },
  {
   "cell_type": "code",
   "execution_count": 6,
   "metadata": {},
   "outputs": [
    {
     "data": {
      "text/plain": [
       "baseSetSize           0\n",
       "block               234\n",
       "boosterV3           334\n",
       "cards                 0\n",
       "code                  0\n",
       "isFoilOnly            0\n",
       "isOnlineOnly          0\n",
       "keyruneCode           0\n",
       "mcmId               238\n",
       "mcmName             238\n",
       "meta                  0\n",
       "mtgoCode            310\n",
       "name                  0\n",
       "releaseDate           0\n",
       "tcgplayerGroupId    226\n",
       "tokens                0\n",
       "totalSetSize          0\n",
       "type                  0\n",
       "isForeignOnly       446\n",
       "parentCode          371\n",
       "codeV3              456\n",
       "isPartialPreview    460\n",
       "dtype: int64"
      ]
     },
     "execution_count": 6,
     "metadata": {},
     "output_type": "execute_result"
    }
   ],
   "source": [
    "allprintings_df.isna().sum()"
   ]
  },
  {
   "cell_type": "markdown",
   "metadata": {},
   "source": [
    "# REMOVE / FILLNA"
   ]
  },
  {
   "cell_type": "markdown",
   "metadata": {},
   "source": [
    "REMOVE TCGPLAYERGROUPID"
   ]
  },
  {
   "cell_type": "code",
   "execution_count": 7,
   "metadata": {},
   "outputs": [],
   "source": [
    "allprintings_df.drop('tcgplayerGroupId', axis = 1, inplace=True)"
   ]
  },
  {
   "cell_type": "markdown",
   "metadata": {},
   "source": [
    "REMOVE ISPARTIALPREVIEW"
   ]
  },
  {
   "cell_type": "code",
   "execution_count": 8,
   "metadata": {},
   "outputs": [],
   "source": [
    "allprintings_df.drop('isPartialPreview', axis = 1, inplace=True)"
   ]
  },
  {
   "cell_type": "markdown",
   "metadata": {},
   "source": [
    "REMOVE BLOCK"
   ]
  },
  {
   "cell_type": "code",
   "execution_count": 9,
   "metadata": {},
   "outputs": [
    {
     "data": {
      "text/plain": [
       "block\n",
       "Core Set                  23\n",
       "Judge Gift Cards          22\n",
       "Commander                 20\n",
       "Friday Night Magic        19\n",
       "Theros                    12\n",
       "Magic Player Rewards      11\n",
       "Khans of Tarkir            9\n",
       "Arena League               9\n",
       "Guilds of Ravnica          7\n",
       "Return to Ravnica          6\n",
       "Zendikar                   6\n",
       "Scars of Mirrodin          6\n",
       "Battle for Zendikar        6\n",
       "Innistrad                  6\n",
       "Ixalan                     6\n",
       "Kaladesh                   5\n",
       "Amonkhet                   5\n",
       "Shadows Over Innistrad     4\n",
       "Time Spiral                4\n",
       "Ice Age                    4\n",
       "Onslaught                  3\n",
       "Masques                    3\n",
       "Mirage                     3\n",
       "Urza                       3\n",
       "Odyssey                    3\n",
       "Tempest                    3\n",
       "Mirrodin                   3\n",
       "Ravnica                    3\n",
       "Kamigawa                   3\n",
       "Invasion                   3\n",
       "Alara                      3\n",
       "Lorwyn                     2\n",
       "Shadowmoor                 2\n",
       "Name: count, dtype: int64"
      ]
     },
     "execution_count": 9,
     "metadata": {},
     "output_type": "execute_result"
    }
   ],
   "source": [
    "allprintings_df.block.value_counts()"
   ]
  },
  {
   "cell_type": "code",
   "execution_count": 10,
   "metadata": {},
   "outputs": [],
   "source": [
    "allprintings_df.block.fillna('Unknown Set', inplace=True)"
   ]
  },
  {
   "cell_type": "markdown",
   "metadata": {},
   "source": [
    "BOOSTERV3"
   ]
  },
  {
   "cell_type": "code",
   "execution_count": 11,
   "metadata": {},
   "outputs": [
    {
     "data": {
      "text/plain": [
       "boosterV3\n",
       "[rare, uncommon, uncommon, uncommon, common, common, common, common, common, common, common, common, common, common, common]                                                                                                                                                                                                                                                                                                                                                  42\n",
       "[[rare, mythic rare], uncommon, uncommon, uncommon, common, common, common, common, common, common, common, common, common, common, land, marketing]                                                                                                                                                                                                                                                                                                                          39\n",
       "[rare, uncommon, uncommon, uncommon, common, common, common, common, common, common, common, common, common, common, land]                                                                                                                                                                                                                                                                                                                                                     6\n",
       "[[rare, mythic rare], uncommon, uncommon, uncommon, common, common, common, common, common, common, common, common, common, common, [foil mythic rare, foil rare, foil uncommon, foil common]]                                                                                                                                                                                                                                                                                 6\n",
       "[[rare, uncommon], [rare, uncommon], common, common, common, common, common, common]                                                                                                                                                                                                                                                                                                                                                                                           5\n",
       "[rare, uncommon, uncommon, uncommon, common, common, common, common, common, common, common, common, common, common, common, marketing]                                                                                                                                                                                                                                                                                                                                        4\n",
       "[rare, uncommon, uncommon, uncommon, common, common, common, common, common, common, common, common, common, common, land, marketing]                                                                                                                                                                                                                                                                                                                                          2\n",
       "[[rare, mythic rare], uncommon, uncommon, uncommon, common, common, common, common, common, common, common, common, [common, double faced rare, double faced mythic rare], [double faced common, double faced uncommon], [land, checklist], marketing]                                                                                                                                                                                                                         2\n",
       "[[rare, mythic rare], uncommon, uncommon, uncommon, common, common, common, common, common, common, common, common, common, common, land, token]                                                                                                                                                                                                                                                                                                                               2\n",
       "[[rare, mythic rare], uncommon, uncommon, uncommon, common, common, common, common, common, common, common, common, common, common, land, [marketing, checklist]]                                                                                                                                                                                                                                                                                                              2\n",
       "[[rare, mythic rare], uncommon, uncommon, uncommon, common, common, common, common, common, common, common, common, common, common, draft-matters, marketing]                                                                                                                                                                                                                                                                                                                  2\n",
       "[rare, uncommon, uncommon, uncommon, common, common, common, common, common, common, common, common]                                                                                                                                                                                                                                                                                                                                                                           2\n",
       "[rare, uncommon, uncommon, uncommon, common, common, common, common, common, common, common, common, common, land, land]                                                                                                                                                                                                                                                                                                                                                       1\n",
       "[[rare, mythic rare], uncommon, uncommon, uncommon, common, common, common, common, common, common, common, common, common, common, [land, Steamflogger Boss], token]                                                                                                                                                                                                                                                                                                          1\n",
       "[token, [foil mythic rare, foil rare, foil uncommon, foil common], [rare, mythic rare], uncommon, uncommon, uncommon, common, common, common, common, common, common, common, common, common, common]                                                                                                                                                                                                                                                                          1\n",
       "[rare, uncommon, uncommon, common, common, common, common, common, common, land]                                                                                                                                                                                                                                                                                                                                                                                               1\n",
       "[rare, uncommon, uncommon, uncommon, common, common, common, common, common, common, common, common, common, common, timeshifted purple]                                                                                                                                                                                                                                                                                                                                       1\n",
       "[[rare, mythic rare], uncommon, uncommon, uncommon, common, common, common, common, common, common, common, common, common, common, land]                                                                                                                                                                                                                                                                                                                                      1\n",
       "[[rare, timeshifted rare], [uncommon, timeshifted uncommon], [uncommon, timeshifted uncommon], [uncommon, timeshifted uncommon], [common, timeshifted common], [common, timeshifted common], [common, timeshifted common], [common, timeshifted common], [common, timeshifted common], [common, timeshifted common], [common, timeshifted common], [common, timeshifted common], [common, timeshifted common], [common, timeshifted common], [common, timeshifted common]]     1\n",
       "[rare, uncommon, uncommon, common, common, common, common, common, land, land]                                                                                                                                                                                                                                                                                                                                                                                                 1\n",
       "[rare, uncommon, uncommon, common, common, common, common, common, common, common, common, timeshifted common, timeshifted common, timeshifted common, [timeshifted rare, timeshifted uncommon]]                                                                                                                                                                                                                                                                               1\n",
       "[[rare, mythic rare], uncommon, uncommon, uncommon, common, common, common, common, common, common, common, common, common, common, snow land, token, full art print]                                                                                                                                                                                                                                                                                                          1\n",
       "[rare, uncommon, uncommon, uncommon, common, common, common, common, common, common, common, common, common, common, urza land]                                                                                                                                                                                                                                                                                                                                                1\n",
       "[[rare, mythic rare], uncommon, uncommon, uncommon, common, common, common, common, common, common, common, common, common, [land, checklist], marketing, double faced]                                                                                                                                                                                                                                                                                                        1\n",
       "[[rare, mythic rare], uncommon, uncommon, uncommon, common, common, common, common, common, common, common, common, common, common, [power nine, foil]]                                                                                                                                                                                                                                                                                                                        1\n",
       "Name: count, dtype: int64"
      ]
     },
     "execution_count": 11,
     "metadata": {},
     "output_type": "execute_result"
    }
   ],
   "source": [
    "allprintings_df.boosterV3.value_counts()"
   ]
  },
  {
   "cell_type": "code",
   "execution_count": 12,
   "metadata": {},
   "outputs": [],
   "source": [
    "allprintings_df.drop('boosterV3', axis = 1,inplace=True)"
   ]
  },
  {
   "cell_type": "markdown",
   "metadata": {},
   "source": [
    "MCMID: The Cardmarket card identifier. (non mi interessa)"
   ]
  },
  {
   "cell_type": "code",
   "execution_count": 13,
   "metadata": {},
   "outputs": [
    {
     "data": {
      "text/plain": [
       "10E       74\n",
       "2ED        3\n",
       "3ED        6\n",
       "4BB      NaN\n",
       "4ED       10\n",
       "        ... \n",
       "WC99     NaN\n",
       "WTH       18\n",
       "WWK      118\n",
       "XLN     1812\n",
       "ZEN      114\n",
       "Name: mcmId, Length: 461, dtype: object"
      ]
     },
     "execution_count": 13,
     "metadata": {},
     "output_type": "execute_result"
    }
   ],
   "source": [
    "allprintings_df.mcmId"
   ]
  },
  {
   "cell_type": "code",
   "execution_count": 14,
   "metadata": {},
   "outputs": [],
   "source": [
    "allprintings_df.drop('mcmId',axis=1,inplace=True)"
   ]
  },
  {
   "cell_type": "code",
   "execution_count": 15,
   "metadata": {},
   "outputs": [],
   "source": [
    "allprintings_df.drop('mcmName', axis=1, inplace=True)"
   ]
  },
  {
   "cell_type": "markdown",
   "metadata": {},
   "source": [
    "mtgoCode -> magic online codice, non mi interessa"
   ]
  },
  {
   "cell_type": "code",
   "execution_count": 16,
   "metadata": {},
   "outputs": [],
   "source": [
    "allprintings_df.drop('mtgoCode', axis = 1, inplace=True)"
   ]
  },
  {
   "cell_type": "markdown",
   "metadata": {},
   "source": [
    "isForeignOnly -> versioni solo straniere (True o Nan), sost Nan with False"
   ]
  },
  {
   "cell_type": "code",
   "execution_count": 17,
   "metadata": {},
   "outputs": [
    {
     "data": {
      "text/plain": [
       "isForeignOnly\n",
       "True    15\n",
       "Name: count, dtype: int64"
      ]
     },
     "execution_count": 17,
     "metadata": {},
     "output_type": "execute_result"
    }
   ],
   "source": [
    "allprintings_df.isForeignOnly.value_counts()"
   ]
  },
  {
   "cell_type": "code",
   "execution_count": 18,
   "metadata": {},
   "outputs": [],
   "source": [
    "allprintings_df.isForeignOnly.fillna('False', inplace=True)"
   ]
  },
  {
   "cell_type": "markdown",
   "metadata": {},
   "source": [
    "parentCode: The parent printing set code for set variations like promotions, guild kits, etc."
   ]
  },
  {
   "cell_type": "code",
   "execution_count": 19,
   "metadata": {},
   "outputs": [
    {
     "data": {
      "text/plain": [
       "parentCode\n",
       "M15    3\n",
       "THS    3\n",
       "FRF    3\n",
       "BNG    3\n",
       "BFZ    3\n",
       "      ..\n",
       "DKA    1\n",
       "DOM    1\n",
       "EMN    1\n",
       "GTC    1\n",
       "TSP    1\n",
       "Name: count, Length: 64, dtype: int64"
      ]
     },
     "execution_count": 19,
     "metadata": {},
     "output_type": "execute_result"
    }
   ],
   "source": [
    "allprintings_df.parentCode.value_counts()"
   ]
  },
  {
   "cell_type": "code",
   "execution_count": 20,
   "metadata": {},
   "outputs": [],
   "source": [
    "allprintings_df.drop('parentCode', axis=1, inplace=True)"
   ]
  },
  {
   "cell_type": "markdown",
   "metadata": {},
   "source": [
    "codeV3 : The alternate printing set code Wizards of the Coast uses for a select few duel deck sets."
   ]
  },
  {
   "cell_type": "code",
   "execution_count": 21,
   "metadata": {},
   "outputs": [],
   "source": [
    "allprintings_df.drop('codeV3', axis = 1, inplace=True)"
   ]
  },
  {
   "cell_type": "markdown",
   "metadata": {},
   "source": [
    "# SALVA DATA FRAME PULITO"
   ]
  },
  {
   "cell_type": "code",
   "execution_count": 22,
   "metadata": {},
   "outputs": [],
   "source": [
    "allprintings_clean_df = allprintings_df"
   ]
  },
  {
   "cell_type": "code",
   "execution_count": 23,
   "metadata": {},
   "outputs": [
    {
     "name": "stdout",
     "output_type": "stream",
     "text": [
      "Stored 'allprintings_clean_df' (DataFrame)\n"
     ]
    }
   ],
   "source": [
    "%store allprintings_clean_df"
   ]
  }
 ],
 "metadata": {
  "kernelspec": {
   "display_name": ".venv",
   "language": "python",
   "name": "python3"
  },
  "language_info": {
   "codemirror_mode": {
    "name": "ipython",
    "version": 3
   },
   "file_extension": ".py",
   "mimetype": "text/x-python",
   "name": "python",
   "nbconvert_exporter": "python",
   "pygments_lexer": "ipython3",
   "version": "3.12.1"
  }
 },
 "nbformat": 4,
 "nbformat_minor": 2
}
