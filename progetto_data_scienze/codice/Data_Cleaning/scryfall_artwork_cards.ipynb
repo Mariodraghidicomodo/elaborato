{
 "cells": [
  {
   "cell_type": "code",
   "execution_count": 1,
   "metadata": {},
   "outputs": [],
   "source": [
    "import numpy as np\n",
    "import matplotlib.pyplot as plt\n",
    "import pandas as pd\n",
    "#from codice.EDA_data.open_file import artwork_cards_df"
   ]
  },
  {
   "cell_type": "markdown",
   "metadata": {},
   "source": [
    "# OPEN PROVVISSORIO"
   ]
  },
  {
   "cell_type": "code",
   "execution_count": 2,
   "metadata": {},
   "outputs": [],
   "source": [
    "#aggiunto per permettermi di usare %store fino a quando non capisco dove mi salva le cose (%store)\n",
    "# scryfall-artwork-cards\n",
    "\n",
    "artwork_cards_df = pd.read_json(\"scryfall-artwork-cards.json\")"
   ]
  },
  {
   "cell_type": "code",
   "execution_count": 4,
   "metadata": {},
   "outputs": [],
   "source": [
    "artwork_cards_df_bu = artwork_cards_df"
   ]
  },
  {
   "cell_type": "code",
   "execution_count": 3,
   "metadata": {},
   "outputs": [
    {
     "data": {
      "text/plain": [
       "(25292, 71)"
      ]
     },
     "execution_count": 3,
     "metadata": {},
     "output_type": "execute_result"
    }
   ],
   "source": [
    "artwork_cards_df.shape"
   ]
  },
  {
   "cell_type": "markdown",
   "metadata": {},
   "source": [
    "# VALUE NULL"
   ]
  },
  {
   "cell_type": "code",
   "execution_count": 6,
   "metadata": {},
   "outputs": [
    {
     "data": {
      "text/html": [
       "<div>\n",
       "<style scoped>\n",
       "    .dataframe tbody tr th:only-of-type {\n",
       "        vertical-align: middle;\n",
       "    }\n",
       "\n",
       "    .dataframe tbody tr th {\n",
       "        vertical-align: top;\n",
       "    }\n",
       "\n",
       "    .dataframe thead th {\n",
       "        text-align: right;\n",
       "    }\n",
       "</style>\n",
       "<table border=\"1\" class=\"dataframe\">\n",
       "  <thead>\n",
       "    <tr style=\"text-align: right;\">\n",
       "      <th></th>\n",
       "      <th>object</th>\n",
       "      <th>id</th>\n",
       "      <th>oracle_id</th>\n",
       "      <th>multiverse_ids</th>\n",
       "      <th>tcgplayer_id</th>\n",
       "      <th>name</th>\n",
       "      <th>lang</th>\n",
       "      <th>released_at</th>\n",
       "      <th>uri</th>\n",
       "      <th>scryfall_uri</th>\n",
       "      <th>...</th>\n",
       "      <th>loyalty</th>\n",
       "      <th>mtgo_id</th>\n",
       "      <th>color_indicator</th>\n",
       "      <th>printed_name</th>\n",
       "      <th>printed_type_line</th>\n",
       "      <th>printed_text</th>\n",
       "      <th>mtgo_foil_id</th>\n",
       "      <th>life_modifier</th>\n",
       "      <th>hand_modifier</th>\n",
       "      <th>variation_of</th>\n",
       "    </tr>\n",
       "  </thead>\n",
       "  <tbody>\n",
       "    <tr>\n",
       "      <th>0</th>\n",
       "      <td>card</td>\n",
       "      <td>dbcdbf7a-9294-47ad-9f93-c16b78c7463a</td>\n",
       "      <td>cd6250ae-9079-4a62-8a70-0d94fbac21bc</td>\n",
       "      <td>[]</td>\n",
       "      <td>200607.0</td>\n",
       "      <td>Earthshaker Giant</td>\n",
       "      <td>en</td>\n",
       "      <td>2019-11-15</td>\n",
       "      <td>https://api.scryfall.com/cards/dbcdbf7a-9294-4...</td>\n",
       "      <td>https://scryfall.com/card/gn2/5/earthshaker-gi...</td>\n",
       "      <td>...</td>\n",
       "      <td>NaN</td>\n",
       "      <td>NaN</td>\n",
       "      <td>NaN</td>\n",
       "      <td>NaN</td>\n",
       "      <td>NaN</td>\n",
       "      <td>NaN</td>\n",
       "      <td>NaN</td>\n",
       "      <td>NaN</td>\n",
       "      <td>NaN</td>\n",
       "      <td>NaN</td>\n",
       "    </tr>\n",
       "    <tr>\n",
       "      <th>1</th>\n",
       "      <td>card</td>\n",
       "      <td>acb3ce9b-ee4f-410a-8db3-e87aeb0a4444</td>\n",
       "      <td>ab0dfae5-b9d4-417b-8a0d-2525ae3a73b9</td>\n",
       "      <td>[]</td>\n",
       "      <td>200606.0</td>\n",
       "      <td>Fiendish Duo</td>\n",
       "      <td>en</td>\n",
       "      <td>2019-11-15</td>\n",
       "      <td>https://api.scryfall.com/cards/acb3ce9b-ee4f-4...</td>\n",
       "      <td>https://scryfall.com/card/gn2/4/fiendish-duo?u...</td>\n",
       "      <td>...</td>\n",
       "      <td>NaN</td>\n",
       "      <td>NaN</td>\n",
       "      <td>NaN</td>\n",
       "      <td>NaN</td>\n",
       "      <td>NaN</td>\n",
       "      <td>NaN</td>\n",
       "      <td>NaN</td>\n",
       "      <td>NaN</td>\n",
       "      <td>NaN</td>\n",
       "      <td>NaN</td>\n",
       "    </tr>\n",
       "    <tr>\n",
       "      <th>2</th>\n",
       "      <td>card</td>\n",
       "      <td>17b2ed72-d0f0-4d8d-bb5e-dce08d157466</td>\n",
       "      <td>7264d3b3-fd46-4ea3-a85d-f0b068c331ad</td>\n",
       "      <td>[]</td>\n",
       "      <td>200605.0</td>\n",
       "      <td>Calculating Lich</td>\n",
       "      <td>en</td>\n",
       "      <td>2019-11-15</td>\n",
       "      <td>https://api.scryfall.com/cards/17b2ed72-d0f0-4...</td>\n",
       "      <td>https://scryfall.com/card/gn2/3/calculating-li...</td>\n",
       "      <td>...</td>\n",
       "      <td>NaN</td>\n",
       "      <td>NaN</td>\n",
       "      <td>NaN</td>\n",
       "      <td>NaN</td>\n",
       "      <td>NaN</td>\n",
       "      <td>NaN</td>\n",
       "      <td>NaN</td>\n",
       "      <td>NaN</td>\n",
       "      <td>NaN</td>\n",
       "      <td>NaN</td>\n",
       "    </tr>\n",
       "    <tr>\n",
       "      <th>3</th>\n",
       "      <td>card</td>\n",
       "      <td>0faa9eea-fbf1-41f7-9def-1ec3d5134a53</td>\n",
       "      <td>e6284fb3-7cf8-4730-b156-10085b70b0e8</td>\n",
       "      <td>[]</td>\n",
       "      <td>200604.0</td>\n",
       "      <td>Sphinx of Enlightenment</td>\n",
       "      <td>en</td>\n",
       "      <td>2019-11-15</td>\n",
       "      <td>https://api.scryfall.com/cards/0faa9eea-fbf1-4...</td>\n",
       "      <td>https://scryfall.com/card/gn2/2/sphinx-of-enli...</td>\n",
       "      <td>...</td>\n",
       "      <td>NaN</td>\n",
       "      <td>NaN</td>\n",
       "      <td>NaN</td>\n",
       "      <td>NaN</td>\n",
       "      <td>NaN</td>\n",
       "      <td>NaN</td>\n",
       "      <td>NaN</td>\n",
       "      <td>NaN</td>\n",
       "      <td>NaN</td>\n",
       "      <td>NaN</td>\n",
       "    </tr>\n",
       "    <tr>\n",
       "      <th>4</th>\n",
       "      <td>card</td>\n",
       "      <td>ecbeac44-9392-4522-8ff5-87079386bd0a</td>\n",
       "      <td>43296f8b-58d9-446e-a538-1c4921552c41</td>\n",
       "      <td>[]</td>\n",
       "      <td>200603.0</td>\n",
       "      <td>Highcliff Felidar</td>\n",
       "      <td>en</td>\n",
       "      <td>2019-11-15</td>\n",
       "      <td>https://api.scryfall.com/cards/ecbeac44-9392-4...</td>\n",
       "      <td>https://scryfall.com/card/gn2/1/highcliff-feli...</td>\n",
       "      <td>...</td>\n",
       "      <td>NaN</td>\n",
       "      <td>NaN</td>\n",
       "      <td>NaN</td>\n",
       "      <td>NaN</td>\n",
       "      <td>NaN</td>\n",
       "      <td>NaN</td>\n",
       "      <td>NaN</td>\n",
       "      <td>NaN</td>\n",
       "      <td>NaN</td>\n",
       "      <td>NaN</td>\n",
       "    </tr>\n",
       "  </tbody>\n",
       "</table>\n",
       "<p>5 rows × 71 columns</p>\n",
       "</div>"
      ],
      "text/plain": [
       "  object                                    id  \\\n",
       "0   card  dbcdbf7a-9294-47ad-9f93-c16b78c7463a   \n",
       "1   card  acb3ce9b-ee4f-410a-8db3-e87aeb0a4444   \n",
       "2   card  17b2ed72-d0f0-4d8d-bb5e-dce08d157466   \n",
       "3   card  0faa9eea-fbf1-41f7-9def-1ec3d5134a53   \n",
       "4   card  ecbeac44-9392-4522-8ff5-87079386bd0a   \n",
       "\n",
       "                              oracle_id multiverse_ids  tcgplayer_id  \\\n",
       "0  cd6250ae-9079-4a62-8a70-0d94fbac21bc             []      200607.0   \n",
       "1  ab0dfae5-b9d4-417b-8a0d-2525ae3a73b9             []      200606.0   \n",
       "2  7264d3b3-fd46-4ea3-a85d-f0b068c331ad             []      200605.0   \n",
       "3  e6284fb3-7cf8-4730-b156-10085b70b0e8             []      200604.0   \n",
       "4  43296f8b-58d9-446e-a538-1c4921552c41             []      200603.0   \n",
       "\n",
       "                      name lang released_at  \\\n",
       "0        Earthshaker Giant   en  2019-11-15   \n",
       "1             Fiendish Duo   en  2019-11-15   \n",
       "2         Calculating Lich   en  2019-11-15   \n",
       "3  Sphinx of Enlightenment   en  2019-11-15   \n",
       "4        Highcliff Felidar   en  2019-11-15   \n",
       "\n",
       "                                                 uri  \\\n",
       "0  https://api.scryfall.com/cards/dbcdbf7a-9294-4...   \n",
       "1  https://api.scryfall.com/cards/acb3ce9b-ee4f-4...   \n",
       "2  https://api.scryfall.com/cards/17b2ed72-d0f0-4...   \n",
       "3  https://api.scryfall.com/cards/0faa9eea-fbf1-4...   \n",
       "4  https://api.scryfall.com/cards/ecbeac44-9392-4...   \n",
       "\n",
       "                                        scryfall_uri  ... loyalty  mtgo_id  \\\n",
       "0  https://scryfall.com/card/gn2/5/earthshaker-gi...  ...     NaN      NaN   \n",
       "1  https://scryfall.com/card/gn2/4/fiendish-duo?u...  ...     NaN      NaN   \n",
       "2  https://scryfall.com/card/gn2/3/calculating-li...  ...     NaN      NaN   \n",
       "3  https://scryfall.com/card/gn2/2/sphinx-of-enli...  ...     NaN      NaN   \n",
       "4  https://scryfall.com/card/gn2/1/highcliff-feli...  ...     NaN      NaN   \n",
       "\n",
       "  color_indicator printed_name  printed_type_line printed_text mtgo_foil_id  \\\n",
       "0             NaN          NaN                NaN          NaN          NaN   \n",
       "1             NaN          NaN                NaN          NaN          NaN   \n",
       "2             NaN          NaN                NaN          NaN          NaN   \n",
       "3             NaN          NaN                NaN          NaN          NaN   \n",
       "4             NaN          NaN                NaN          NaN          NaN   \n",
       "\n",
       "  life_modifier hand_modifier variation_of  \n",
       "0           NaN           NaN          NaN  \n",
       "1           NaN           NaN          NaN  \n",
       "2           NaN           NaN          NaN  \n",
       "3           NaN           NaN          NaN  \n",
       "4           NaN           NaN          NaN  \n",
       "\n",
       "[5 rows x 71 columns]"
      ]
     },
     "execution_count": 6,
     "metadata": {},
     "output_type": "execute_result"
    }
   ],
   "source": [
    "artwork_cards_df.head(5)"
   ]
  },
  {
   "cell_type": "code",
   "execution_count": 7,
   "metadata": {},
   "outputs": [
    {
     "data": {
      "text/plain": [
       "booster                  0\n",
       "story_spotlight          0\n",
       "related_uris             0\n",
       "edhrec_rank           2582\n",
       "watermark            22556\n",
       "frame_effects        24530\n",
       "card_faces           24920\n",
       "preview              24171\n",
       "arena_id             22012\n",
       "all_parts            23597\n",
       "promo_types          23644\n",
       "loyalty              24976\n",
       "mtgo_id               5771\n",
       "color_indicator      25261\n",
       "printed_name         25232\n",
       "printed_type_line    25250\n",
       "printed_text         25250\n",
       "mtgo_foil_id          8480\n",
       "life_modifier        25175\n",
       "hand_modifier        25175\n",
       "dtype: int64"
      ]
     },
     "execution_count": 7,
     "metadata": {},
     "output_type": "execute_result"
    }
   ],
   "source": [
    "artwork_cards_df.isna().sum()[50:70]"
   ]
  },
  {
   "cell_type": "markdown",
   "metadata": {},
   "source": [
    "# REMOVE / FILLNA"
   ]
  },
  {
   "cell_type": "markdown",
   "metadata": {},
   "source": [
    "TCGPLAYER_ID NON MI INTERESSA ID DI UN STORE ONLINE"
   ]
  },
  {
   "cell_type": "code",
   "execution_count": 8,
   "metadata": {},
   "outputs": [],
   "source": [
    "artwork_cards_df.drop(columns='tcgplayer_id', inplace=True)"
   ]
  },
  {
   "cell_type": "markdown",
   "metadata": {},
   "source": [
    "oracle_text -> card text; fillna with no oracle text"
   ]
  },
  {
   "cell_type": "code",
   "execution_count": 9,
   "metadata": {},
   "outputs": [],
   "source": [
    "artwork_cards_df.oracle_text.fillna('No oracle text',inplace=True)"
   ]
  },
  {
   "cell_type": "markdown",
   "metadata": {},
   "source": [
    "power             12958 -> card sorcery,instant,enchantment and etc.\n",
    "\n",
    "toughness         12958 -> card sorcery,instant,enchantment and etc.\n",
    "\n",
    "i dont't update the Nan"
   ]
  },
  {
   "cell_type": "markdown",
   "metadata": {},
   "source": [
    "flavor_text -> card lore \n",
    "\n",
    "fillna -> No flavor text"
   ]
  },
  {
   "cell_type": "code",
   "execution_count": 10,
   "metadata": {},
   "outputs": [],
   "source": [
    "artwork_cards_df.flavor_text.fillna('No flavor text', inplace=True)"
   ]
  },
  {
   "cell_type": "markdown",
   "metadata": {},
   "source": [
    "illustration_id -> The unique identifier generated by Scryfall for the card artwork that remains consistent across reprints. Newly previewed cards may not have this property yet."
   ]
  },
  {
   "cell_type": "markdown",
   "metadata": {},
   "source": [
    "edhrec_rank -> rank for commander format"
   ]
  },
  {
   "cell_type": "code",
   "execution_count": 11,
   "metadata": {},
   "outputs": [
    {
     "name": "stderr",
     "output_type": "stream",
     "text": [
      "C:\\Users\\elped\\AppData\\Local\\Temp\\ipykernel_15452\\243432457.py:1: FutureWarning: Setting an item of incompatible dtype is deprecated and will raise in a future error of pandas. Value 'not ranked' has dtype incompatible with float64, please explicitly cast to a compatible dtype first.\n",
      "  artwork_cards_df.edhrec_rank.fillna(str('not ranked'), inplace=True)\n"
     ]
    }
   ],
   "source": [
    "artwork_cards_df.edhrec_rank.fillna(str('not ranked'), inplace=True)"
   ]
  },
  {
   "cell_type": "markdown",
   "metadata": {},
   "source": [
    "Watermark ->The name of the watermark on the card."
   ]
  },
  {
   "cell_type": "code",
   "execution_count": 12,
   "metadata": {},
   "outputs": [],
   "source": [
    "artwork_cards_df.drop(columns='watermark',inplace=True)"
   ]
  },
  {
   "cell_type": "markdown",
   "metadata": {},
   "source": [
    "(25292, 71)\n",
    "\n",
    "REMOVE\n",
    "\n",
    "column -> Nan value\n",
    "\n",
    "frame_effects        24530 -> design card (remove)\n",
    "\n",
    "card_faces           24920 -> CAPIRE\n",
    "\n",
    "preview              24171 -> dove hanno mostrato per la prima volta la carta (remove)\n",
    "\n",
    "arena_id             22012 -> id per mtg arena (remove)\n",
    "\n",
    "all_parts            23597 -> tutte le carte per una combo (CAPIRE) fillna -> no combo\n",
    "\n",
    "promo_types          23644 -> carte promo (remove)\n",
    "\n",
    "loyalty              24976 -> plainswalker stats (CAPIRE) importante per plain\n",
    "\n",
    "mtgo_id               5771 -> id per magic online (remove)\n",
    "\n",
    "color_indicator      25261 -> color indicatore usually for double face (remove)\n",
    "\n",
    "printed_name         25232 -> (remove)\n",
    "\n",
    "printed_type_line    25250 -> (remove)\n",
    "\n",
    "printed_text         25250 -> (remove)\n",
    "\n",
    "mtgo_foil_id          8480 -> id foil card magic online (remove)\n",
    "\n",
    "life_modifier        25175 -> (remove) The starting life total modifier. A + or - character precedes a number. Used only on cards with \"Vanguard\" in its types.\n",
    "\n",
    "hand_modifier        25175 -> (remove) The starting maximum hand size total modifier. A + or - character precedes a number. Used only on cards with \"Vanguard\" in its types.\n",
    "\n",
    "variation_of         25282 -> (remove) A list of card uuid's of this card with alternate printings in the same set, excluding Un‑sets.\n"
   ]
  },
  {
   "cell_type": "code",
   "execution_count": 13,
   "metadata": {},
   "outputs": [],
   "source": [
    "artwork_cards_df.drop(['frame_effects','preview','promo_types','mtgo_id','color_indicator','printed_name','printed_type_line','printed_text','mtgo_foil_id','life_modifier','hand_modifier','variation_of','arena_id'], axis=1, inplace = True)"
   ]
  },
  {
   "cell_type": "code",
   "execution_count": 14,
   "metadata": {},
   "outputs": [],
   "source": [
    "artwork_cards_df.all_parts.fillna('no combo',inplace=True)"
   ]
  },
  {
   "cell_type": "code",
   "execution_count": 15,
   "metadata": {},
   "outputs": [
    {
     "name": "stdout",
     "output_type": "stream",
     "text": [
      "<class 'pandas.core.frame.DataFrame'>\n",
      "RangeIndex: 25292 entries, 0 to 25291\n",
      "Data columns (total 56 columns):\n",
      " #   Column             Non-Null Count  Dtype         \n",
      "---  ------             --------------  -----         \n",
      " 0   object             25292 non-null  object        \n",
      " 1   id                 25292 non-null  object        \n",
      " 2   oracle_id          25292 non-null  object        \n",
      " 3   multiverse_ids     25292 non-null  object        \n",
      " 4   name               25292 non-null  object        \n",
      " 5   lang               25292 non-null  object        \n",
      " 6   released_at        25292 non-null  datetime64[ns]\n",
      " 7   uri                25292 non-null  object        \n",
      " 8   scryfall_uri       25292 non-null  object        \n",
      " 9   layout             25292 non-null  object        \n",
      " 10  highres_image      25292 non-null  bool          \n",
      " 11  image_uris         25095 non-null  object        \n",
      " 12  mana_cost          25095 non-null  object        \n",
      " 13  cmc                25292 non-null  float64       \n",
      " 14  type_line          25292 non-null  object        \n",
      " 15  oracle_text        25292 non-null  object        \n",
      " 16  power              12334 non-null  object        \n",
      " 17  toughness          12334 non-null  object        \n",
      " 18  colors             25095 non-null  object        \n",
      " 19  color_identity     25292 non-null  object        \n",
      " 20  legalities         25292 non-null  object        \n",
      " 21  games              25292 non-null  object        \n",
      " 22  reserved           25292 non-null  bool          \n",
      " 23  foil               25292 non-null  bool          \n",
      " 24  nonfoil            25292 non-null  bool          \n",
      " 25  oversized          25292 non-null  bool          \n",
      " 26  promo              25292 non-null  bool          \n",
      " 27  reprint            25292 non-null  bool          \n",
      " 28  variation          25292 non-null  bool          \n",
      " 29  set                25292 non-null  object        \n",
      " 30  set_name           25292 non-null  object        \n",
      " 31  set_type           25292 non-null  object        \n",
      " 32  set_uri            25292 non-null  object        \n",
      " 33  set_search_uri     25292 non-null  object        \n",
      " 34  scryfall_set_uri   25292 non-null  object        \n",
      " 35  rulings_uri        25292 non-null  object        \n",
      " 36  prints_search_uri  25292 non-null  object        \n",
      " 37  collector_number   25292 non-null  object        \n",
      " 38  digital            25292 non-null  bool          \n",
      " 39  rarity             25292 non-null  object        \n",
      " 40  flavor_text        25292 non-null  object        \n",
      " 41  card_back_id       25292 non-null  object        \n",
      " 42  artist             25292 non-null  object        \n",
      " 43  artist_ids         25291 non-null  object        \n",
      " 44  illustration_id    25095 non-null  object        \n",
      " 45  border_color       25292 non-null  object        \n",
      " 46  frame              25292 non-null  object        \n",
      " 47  full_art           25292 non-null  bool          \n",
      " 48  textless           25292 non-null  bool          \n",
      " 49  booster            25292 non-null  bool          \n",
      " 50  story_spotlight    25292 non-null  bool          \n",
      " 51  related_uris       25292 non-null  object        \n",
      " 52  edhrec_rank        25292 non-null  object        \n",
      " 53  card_faces         372 non-null    object        \n",
      " 54  all_parts          25292 non-null  object        \n",
      " 55  loyalty            316 non-null    object        \n",
      "dtypes: bool(13), datetime64[ns](1), float64(1), object(41)\n",
      "memory usage: 8.6+ MB\n"
     ]
    }
   ],
   "source": [
    "artwork_cards_df.info()"
   ]
  },
  {
   "cell_type": "code",
   "execution_count": 16,
   "metadata": {},
   "outputs": [
    {
     "data": {
      "text/plain": [
       "[{'object': 'related_card',\n",
       "  'id': '867e245b-6153-479c-9e09-682afb017ff3',\n",
       "  'component': 'combo_piece',\n",
       "  'name': 'Gluttonous Troll',\n",
       "  'type_line': 'Creature — Troll',\n",
       "  'uri': 'https://api.scryfall.com/cards/867e245b-6153-479c-9e09-682afb017ff3'},\n",
       " {'object': 'related_card',\n",
       "  'id': '13e8f518-1c0d-4c01-a397-71481839d02b',\n",
       "  'component': 'token',\n",
       "  'name': 'Food',\n",
       "  'type_line': 'Token Artifact — Food',\n",
       "  'uri': 'https://api.scryfall.com/cards/13e8f518-1c0d-4c01-a397-71481839d02b'}]"
      ]
     },
     "execution_count": 16,
     "metadata": {},
     "output_type": "execute_result"
    }
   ],
   "source": [
    "artwork_cards_df.all_parts[artwork_cards_df.all_parts != 'no combo'].iloc[0]"
   ]
  },
  {
   "cell_type": "code",
   "execution_count": 17,
   "metadata": {},
   "outputs": [],
   "source": [
    "artwork_cards_clean_df = artwork_cards_df"
   ]
  },
  {
   "cell_type": "code",
   "execution_count": 18,
   "metadata": {},
   "outputs": [
    {
     "name": "stdout",
     "output_type": "stream",
     "text": [
      "<class 'pandas.core.frame.DataFrame'>\n",
      "RangeIndex: 25292 entries, 0 to 25291\n",
      "Data columns (total 56 columns):\n",
      " #   Column             Non-Null Count  Dtype         \n",
      "---  ------             --------------  -----         \n",
      " 0   object             25292 non-null  object        \n",
      " 1   id                 25292 non-null  object        \n",
      " 2   oracle_id          25292 non-null  object        \n",
      " 3   multiverse_ids     25292 non-null  object        \n",
      " 4   name               25292 non-null  object        \n",
      " 5   lang               25292 non-null  object        \n",
      " 6   released_at        25292 non-null  datetime64[ns]\n",
      " 7   uri                25292 non-null  object        \n",
      " 8   scryfall_uri       25292 non-null  object        \n",
      " 9   layout             25292 non-null  object        \n",
      " 10  highres_image      25292 non-null  bool          \n",
      " 11  image_uris         25095 non-null  object        \n",
      " 12  mana_cost          25095 non-null  object        \n",
      " 13  cmc                25292 non-null  float64       \n",
      " 14  type_line          25292 non-null  object        \n",
      " 15  oracle_text        25292 non-null  object        \n",
      " 16  power              12334 non-null  object        \n",
      " 17  toughness          12334 non-null  object        \n",
      " 18  colors             25095 non-null  object        \n",
      " 19  color_identity     25292 non-null  object        \n",
      " 20  legalities         25292 non-null  object        \n",
      " 21  games              25292 non-null  object        \n",
      " 22  reserved           25292 non-null  bool          \n",
      " 23  foil               25292 non-null  bool          \n",
      " 24  nonfoil            25292 non-null  bool          \n",
      " 25  oversized          25292 non-null  bool          \n",
      " 26  promo              25292 non-null  bool          \n",
      " 27  reprint            25292 non-null  bool          \n",
      " 28  variation          25292 non-null  bool          \n",
      " 29  set                25292 non-null  object        \n",
      " 30  set_name           25292 non-null  object        \n",
      " 31  set_type           25292 non-null  object        \n",
      " 32  set_uri            25292 non-null  object        \n",
      " 33  set_search_uri     25292 non-null  object        \n",
      " 34  scryfall_set_uri   25292 non-null  object        \n",
      " 35  rulings_uri        25292 non-null  object        \n",
      " 36  prints_search_uri  25292 non-null  object        \n",
      " 37  collector_number   25292 non-null  object        \n",
      " 38  digital            25292 non-null  bool          \n",
      " 39  rarity             25292 non-null  object        \n",
      " 40  flavor_text        25292 non-null  object        \n",
      " 41  card_back_id       25292 non-null  object        \n",
      " 42  artist             25292 non-null  object        \n",
      " 43  artist_ids         25291 non-null  object        \n",
      " 44  illustration_id    25095 non-null  object        \n",
      " 45  border_color       25292 non-null  object        \n",
      " 46  frame              25292 non-null  object        \n",
      " 47  full_art           25292 non-null  bool          \n",
      " 48  textless           25292 non-null  bool          \n",
      " 49  booster            25292 non-null  bool          \n",
      " 50  story_spotlight    25292 non-null  bool          \n",
      " 51  related_uris       25292 non-null  object        \n",
      " 52  edhrec_rank        25292 non-null  object        \n",
      " 53  card_faces         372 non-null    object        \n",
      " 54  all_parts          25292 non-null  object        \n",
      " 55  loyalty            316 non-null    object        \n",
      "dtypes: bool(13), datetime64[ns](1), float64(1), object(41)\n",
      "memory usage: 8.6+ MB\n"
     ]
    }
   ],
   "source": [
    "artwork_cards_clean_df.info()"
   ]
  },
  {
   "cell_type": "markdown",
   "metadata": {},
   "source": [
    "# SALVO DATA SET PULITO"
   ]
  },
  {
   "cell_type": "code",
   "execution_count": 19,
   "metadata": {},
   "outputs": [
    {
     "name": "stdout",
     "output_type": "stream",
     "text": [
      "Stored 'artwork_cards_clean_df' (DataFrame)\n"
     ]
    }
   ],
   "source": [
    "%store artwork_cards_clean_df"
   ]
  }
 ],
 "metadata": {
  "kernelspec": {
   "display_name": ".venv",
   "language": "python",
   "name": "python3"
  },
  "language_info": {
   "codemirror_mode": {
    "name": "ipython",
    "version": 3
   },
   "file_extension": ".py",
   "mimetype": "text/x-python",
   "name": "python",
   "nbconvert_exporter": "python",
   "pygments_lexer": "ipython3",
   "version": "3.12.1"
  }
 },
 "nbformat": 4,
 "nbformat_minor": 2
}
