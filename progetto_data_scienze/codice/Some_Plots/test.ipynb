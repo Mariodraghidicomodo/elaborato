{
 "cells": [
  {
   "cell_type": "code",
   "execution_count": 1,
   "metadata": {},
   "outputs": [],
   "source": [
    "import matplotlib.pyplot as plt "
   ]
  },
  {
   "cell_type": "code",
   "execution_count": 2,
   "metadata": {},
   "outputs": [
    {
     "name": "stdout",
     "output_type": "stream",
     "text": [
      "\u001b[1;31mSignature:\u001b[0m\n",
      "\u001b[0mplt\u001b[0m\u001b[1;33m.\u001b[0m\u001b[0mautoscale\u001b[0m\u001b[1;33m(\u001b[0m\u001b[1;33m\n",
      "\u001b[0m    \u001b[0menable\u001b[0m\u001b[1;33m:\u001b[0m \u001b[1;34m'bool'\u001b[0m \u001b[1;33m=\u001b[0m \u001b[1;32mTrue\u001b[0m\u001b[1;33m,\u001b[0m\u001b[1;33m\n",
      "\u001b[0m    \u001b[0maxis\u001b[0m\u001b[1;33m:\u001b[0m \u001b[1;34m\"Literal['both', 'x', 'y']\"\u001b[0m \u001b[1;33m=\u001b[0m \u001b[1;34m'both'\u001b[0m\u001b[1;33m,\u001b[0m\u001b[1;33m\n",
      "\u001b[0m    \u001b[0mtight\u001b[0m\u001b[1;33m:\u001b[0m \u001b[1;34m'bool | None'\u001b[0m \u001b[1;33m=\u001b[0m \u001b[1;32mNone\u001b[0m\u001b[1;33m,\u001b[0m\u001b[1;33m\n",
      "\u001b[0m\u001b[1;33m)\u001b[0m \u001b[1;33m->\u001b[0m \u001b[1;34m'None'\u001b[0m\u001b[1;33m\u001b[0m\u001b[1;33m\u001b[0m\u001b[0m\n",
      "\u001b[1;31mDocstring:\u001b[0m\n",
      "Autoscale the axis view to the data (toggle).\n",
      "\n",
      "Convenience method for simple axis view autoscaling.\n",
      "It turns autoscaling on or off, and then,\n",
      "if autoscaling for either axis is on, it performs\n",
      "the autoscaling on the specified axis or Axes.\n",
      "\n",
      "Parameters\n",
      "----------\n",
      "enable : bool or None, default: True\n",
      "    True turns autoscaling on, False turns it off.\n",
      "    None leaves the autoscaling state unchanged.\n",
      "axis : {'both', 'x', 'y'}, default: 'both'\n",
      "    The axis on which to operate.  (For 3D Axes, *axis* can also be set\n",
      "    to 'z', and 'both' refers to all three axes.)\n",
      "tight : bool or None, default: None\n",
      "    If True, first set the margins to zero.  Then, this argument is\n",
      "    forwarded to `~.axes.Axes.autoscale_view` (regardless of\n",
      "    its value); see the description of its behavior there.\n",
      "\u001b[1;31mFile:\u001b[0m      c:\\users\\elped\\onedrive\\desktop\\git_vs_code\\prova-elab-ing\\.venv\\lib\\site-packages\\matplotlib\\pyplot.py\n",
      "\u001b[1;31mType:\u001b[0m      function"
     ]
    }
   ],
   "source": [
    "plt.autoscale?"
   ]
  },
  {
   "cell_type": "code",
   "execution_count": null,
   "metadata": {},
   "outputs": [],
   "source": []
  }
 ],
 "metadata": {
  "kernelspec": {
   "display_name": ".venv",
   "language": "python",
   "name": "python3"
  },
  "language_info": {
   "codemirror_mode": {
    "name": "ipython",
    "version": 3
   },
   "file_extension": ".py",
   "mimetype": "text/x-python",
   "name": "python",
   "nbconvert_exporter": "python",
   "pygments_lexer": "ipython3",
   "version": "3.12.1"
  }
 },
 "nbformat": 4,
 "nbformat_minor": 2
}
