{
 "cells": [
  {
   "cell_type": "code",
   "execution_count": 2,
   "metadata": {},
   "outputs": [],
   "source": [
    "#IMPORTANTE\n",
    "#import os\n",
    "#os.chdir('C:/Users/elped/OneDrive/Desktop/git_vs_code/prova-elab-ing/progetto_data_scienze') #pycache"
   ]
  },
  {
   "cell_type": "code",
   "execution_count": 3,
   "metadata": {},
   "outputs": [],
   "source": [
    "import numpy as np\n",
    "import matplotlib.pyplot as plt\n",
    "import pandas as pd\n",
    "#from codice.Data_Cleaning.scryfall_artwork_cards_df import artwork_cards_df"
   ]
  },
  {
   "cell_type": "code",
   "execution_count": 4,
   "metadata": {},
   "outputs": [],
   "source": [
    "#scryfall-artwork-cards.artwork_cards_df.columns"
   ]
  },
  {
   "cell_type": "code",
   "execution_count": 5,
   "metadata": {},
   "outputs": [],
   "source": [
    "#%store -r artwork_cards_df"
   ]
  },
  {
   "cell_type": "code",
   "execution_count": 6,
   "metadata": {},
   "outputs": [],
   "source": [
    "#from ipynb.fs.full.scryfall_artwork_cards import *"
   ]
  },
  {
   "cell_type": "code",
   "execution_count": 7,
   "metadata": {},
   "outputs": [],
   "source": [
    "#import sys\n",
    "#sys.path.insert(0, 'C:/Users/elped/OneDrive/Desktop/git_vs_code/prova-elab-ing/progetto_data_scienze')\n",
    "#C:/Users/elped/OneDrive/Desktop/git_vs_code/prova-elab-ing/progetto_data_scienze/codice/Data_Cleaning"
   ]
  },
  {
   "cell_type": "code",
   "execution_count": 8,
   "metadata": {},
   "outputs": [],
   "source": [
    "#from ipynb.fs.full.scryfall_artwork_cards import *\n",
    "#import ipynb.fs.full.scryfall_artwork_cards as scry"
   ]
  },
  {
   "cell_type": "code",
   "execution_count": 9,
   "metadata": {},
   "outputs": [
    {
     "name": "stdout",
     "output_type": "stream",
     "text": [
      "no stored variable or alias #adesso\n",
      "no stored variable or alias funziona\n",
      "no stored variable or alias perchè\n",
      "no stored variable or alias in\n",
      "no stored variable or alias dataclean/scry\n",
      "no stored variable or alias ho\n",
      "no stored variable or alias tolto\n",
      "no stored variable or alias import\n",
      "no stored variable or alias os\n"
     ]
    }
   ],
   "source": [
    "%store -r artwork_cards_clean_df \n",
    "#adesso funziona perchè in dataclean/scry ho tolto import os"
   ]
  },
  {
   "cell_type": "code",
   "execution_count": 10,
   "metadata": {},
   "outputs": [],
   "source": [
    "#%store -r your_variable #ok il problema è import os nel file dove avviene lo store, non ho idea di dove venga salvato!!!"
   ]
  },
  {
   "cell_type": "code",
   "execution_count": 11,
   "metadata": {},
   "outputs": [
    {
     "data": {
      "text/html": [
       "<div>\n",
       "<style scoped>\n",
       "    .dataframe tbody tr th:only-of-type {\n",
       "        vertical-align: middle;\n",
       "    }\n",
       "\n",
       "    .dataframe tbody tr th {\n",
       "        vertical-align: top;\n",
       "    }\n",
       "\n",
       "    .dataframe thead th {\n",
       "        text-align: right;\n",
       "    }\n",
       "</style>\n",
       "<table border=\"1\" class=\"dataframe\">\n",
       "  <thead>\n",
       "    <tr style=\"text-align: right;\">\n",
       "      <th></th>\n",
       "      <th>object</th>\n",
       "      <th>id</th>\n",
       "      <th>oracle_id</th>\n",
       "      <th>multiverse_ids</th>\n",
       "      <th>name</th>\n",
       "      <th>lang</th>\n",
       "      <th>released_at</th>\n",
       "      <th>uri</th>\n",
       "      <th>scryfall_uri</th>\n",
       "      <th>layout</th>\n",
       "      <th>...</th>\n",
       "      <th>frame</th>\n",
       "      <th>full_art</th>\n",
       "      <th>textless</th>\n",
       "      <th>booster</th>\n",
       "      <th>story_spotlight</th>\n",
       "      <th>related_uris</th>\n",
       "      <th>edhrec_rank</th>\n",
       "      <th>card_faces</th>\n",
       "      <th>all_parts</th>\n",
       "      <th>loyalty</th>\n",
       "    </tr>\n",
       "  </thead>\n",
       "  <tbody>\n",
       "    <tr>\n",
       "      <th>0</th>\n",
       "      <td>card</td>\n",
       "      <td>dbcdbf7a-9294-47ad-9f93-c16b78c7463a</td>\n",
       "      <td>cd6250ae-9079-4a62-8a70-0d94fbac21bc</td>\n",
       "      <td>[]</td>\n",
       "      <td>Earthshaker Giant</td>\n",
       "      <td>en</td>\n",
       "      <td>2019-11-15</td>\n",
       "      <td>https://api.scryfall.com/cards/dbcdbf7a-9294-4...</td>\n",
       "      <td>https://scryfall.com/card/gn2/5/earthshaker-gi...</td>\n",
       "      <td>normal</td>\n",
       "      <td>...</td>\n",
       "      <td>2015</td>\n",
       "      <td>False</td>\n",
       "      <td>False</td>\n",
       "      <td>False</td>\n",
       "      <td>False</td>\n",
       "      <td>{'tcgplayer_decks': 'https://decks.tcgplayer.c...</td>\n",
       "      <td>not ranked</td>\n",
       "      <td>NaN</td>\n",
       "      <td>no combo</td>\n",
       "      <td>NaN</td>\n",
       "    </tr>\n",
       "    <tr>\n",
       "      <th>1</th>\n",
       "      <td>card</td>\n",
       "      <td>acb3ce9b-ee4f-410a-8db3-e87aeb0a4444</td>\n",
       "      <td>ab0dfae5-b9d4-417b-8a0d-2525ae3a73b9</td>\n",
       "      <td>[]</td>\n",
       "      <td>Fiendish Duo</td>\n",
       "      <td>en</td>\n",
       "      <td>2019-11-15</td>\n",
       "      <td>https://api.scryfall.com/cards/acb3ce9b-ee4f-4...</td>\n",
       "      <td>https://scryfall.com/card/gn2/4/fiendish-duo?u...</td>\n",
       "      <td>normal</td>\n",
       "      <td>...</td>\n",
       "      <td>2015</td>\n",
       "      <td>False</td>\n",
       "      <td>False</td>\n",
       "      <td>False</td>\n",
       "      <td>False</td>\n",
       "      <td>{'tcgplayer_decks': 'https://decks.tcgplayer.c...</td>\n",
       "      <td>not ranked</td>\n",
       "      <td>NaN</td>\n",
       "      <td>no combo</td>\n",
       "      <td>NaN</td>\n",
       "    </tr>\n",
       "    <tr>\n",
       "      <th>2</th>\n",
       "      <td>card</td>\n",
       "      <td>17b2ed72-d0f0-4d8d-bb5e-dce08d157466</td>\n",
       "      <td>7264d3b3-fd46-4ea3-a85d-f0b068c331ad</td>\n",
       "      <td>[]</td>\n",
       "      <td>Calculating Lich</td>\n",
       "      <td>en</td>\n",
       "      <td>2019-11-15</td>\n",
       "      <td>https://api.scryfall.com/cards/17b2ed72-d0f0-4...</td>\n",
       "      <td>https://scryfall.com/card/gn2/3/calculating-li...</td>\n",
       "      <td>normal</td>\n",
       "      <td>...</td>\n",
       "      <td>2015</td>\n",
       "      <td>False</td>\n",
       "      <td>False</td>\n",
       "      <td>False</td>\n",
       "      <td>False</td>\n",
       "      <td>{'tcgplayer_decks': 'https://decks.tcgplayer.c...</td>\n",
       "      <td>not ranked</td>\n",
       "      <td>NaN</td>\n",
       "      <td>no combo</td>\n",
       "      <td>NaN</td>\n",
       "    </tr>\n",
       "    <tr>\n",
       "      <th>3</th>\n",
       "      <td>card</td>\n",
       "      <td>0faa9eea-fbf1-41f7-9def-1ec3d5134a53</td>\n",
       "      <td>e6284fb3-7cf8-4730-b156-10085b70b0e8</td>\n",
       "      <td>[]</td>\n",
       "      <td>Sphinx of Enlightenment</td>\n",
       "      <td>en</td>\n",
       "      <td>2019-11-15</td>\n",
       "      <td>https://api.scryfall.com/cards/0faa9eea-fbf1-4...</td>\n",
       "      <td>https://scryfall.com/card/gn2/2/sphinx-of-enli...</td>\n",
       "      <td>normal</td>\n",
       "      <td>...</td>\n",
       "      <td>2015</td>\n",
       "      <td>False</td>\n",
       "      <td>False</td>\n",
       "      <td>False</td>\n",
       "      <td>False</td>\n",
       "      <td>{'tcgplayer_decks': 'https://decks.tcgplayer.c...</td>\n",
       "      <td>not ranked</td>\n",
       "      <td>NaN</td>\n",
       "      <td>no combo</td>\n",
       "      <td>NaN</td>\n",
       "    </tr>\n",
       "    <tr>\n",
       "      <th>4</th>\n",
       "      <td>card</td>\n",
       "      <td>ecbeac44-9392-4522-8ff5-87079386bd0a</td>\n",
       "      <td>43296f8b-58d9-446e-a538-1c4921552c41</td>\n",
       "      <td>[]</td>\n",
       "      <td>Highcliff Felidar</td>\n",
       "      <td>en</td>\n",
       "      <td>2019-11-15</td>\n",
       "      <td>https://api.scryfall.com/cards/ecbeac44-9392-4...</td>\n",
       "      <td>https://scryfall.com/card/gn2/1/highcliff-feli...</td>\n",
       "      <td>normal</td>\n",
       "      <td>...</td>\n",
       "      <td>2015</td>\n",
       "      <td>False</td>\n",
       "      <td>False</td>\n",
       "      <td>False</td>\n",
       "      <td>False</td>\n",
       "      <td>{'tcgplayer_decks': 'https://decks.tcgplayer.c...</td>\n",
       "      <td>not ranked</td>\n",
       "      <td>NaN</td>\n",
       "      <td>no combo</td>\n",
       "      <td>NaN</td>\n",
       "    </tr>\n",
       "  </tbody>\n",
       "</table>\n",
       "<p>5 rows × 56 columns</p>\n",
       "</div>"
      ],
      "text/plain": [
       "  object                                    id  \\\n",
       "0   card  dbcdbf7a-9294-47ad-9f93-c16b78c7463a   \n",
       "1   card  acb3ce9b-ee4f-410a-8db3-e87aeb0a4444   \n",
       "2   card  17b2ed72-d0f0-4d8d-bb5e-dce08d157466   \n",
       "3   card  0faa9eea-fbf1-41f7-9def-1ec3d5134a53   \n",
       "4   card  ecbeac44-9392-4522-8ff5-87079386bd0a   \n",
       "\n",
       "                              oracle_id multiverse_ids  \\\n",
       "0  cd6250ae-9079-4a62-8a70-0d94fbac21bc             []   \n",
       "1  ab0dfae5-b9d4-417b-8a0d-2525ae3a73b9             []   \n",
       "2  7264d3b3-fd46-4ea3-a85d-f0b068c331ad             []   \n",
       "3  e6284fb3-7cf8-4730-b156-10085b70b0e8             []   \n",
       "4  43296f8b-58d9-446e-a538-1c4921552c41             []   \n",
       "\n",
       "                      name lang released_at  \\\n",
       "0        Earthshaker Giant   en  2019-11-15   \n",
       "1             Fiendish Duo   en  2019-11-15   \n",
       "2         Calculating Lich   en  2019-11-15   \n",
       "3  Sphinx of Enlightenment   en  2019-11-15   \n",
       "4        Highcliff Felidar   en  2019-11-15   \n",
       "\n",
       "                                                 uri  \\\n",
       "0  https://api.scryfall.com/cards/dbcdbf7a-9294-4...   \n",
       "1  https://api.scryfall.com/cards/acb3ce9b-ee4f-4...   \n",
       "2  https://api.scryfall.com/cards/17b2ed72-d0f0-4...   \n",
       "3  https://api.scryfall.com/cards/0faa9eea-fbf1-4...   \n",
       "4  https://api.scryfall.com/cards/ecbeac44-9392-4...   \n",
       "\n",
       "                                        scryfall_uri  layout  ...  frame  \\\n",
       "0  https://scryfall.com/card/gn2/5/earthshaker-gi...  normal  ...   2015   \n",
       "1  https://scryfall.com/card/gn2/4/fiendish-duo?u...  normal  ...   2015   \n",
       "2  https://scryfall.com/card/gn2/3/calculating-li...  normal  ...   2015   \n",
       "3  https://scryfall.com/card/gn2/2/sphinx-of-enli...  normal  ...   2015   \n",
       "4  https://scryfall.com/card/gn2/1/highcliff-feli...  normal  ...   2015   \n",
       "\n",
       "  full_art textless  booster story_spotlight  \\\n",
       "0    False    False    False           False   \n",
       "1    False    False    False           False   \n",
       "2    False    False    False           False   \n",
       "3    False    False    False           False   \n",
       "4    False    False    False           False   \n",
       "\n",
       "                                        related_uris edhrec_rank card_faces  \\\n",
       "0  {'tcgplayer_decks': 'https://decks.tcgplayer.c...  not ranked        NaN   \n",
       "1  {'tcgplayer_decks': 'https://decks.tcgplayer.c...  not ranked        NaN   \n",
       "2  {'tcgplayer_decks': 'https://decks.tcgplayer.c...  not ranked        NaN   \n",
       "3  {'tcgplayer_decks': 'https://decks.tcgplayer.c...  not ranked        NaN   \n",
       "4  {'tcgplayer_decks': 'https://decks.tcgplayer.c...  not ranked        NaN   \n",
       "\n",
       "  all_parts loyalty  \n",
       "0  no combo     NaN  \n",
       "1  no combo     NaN  \n",
       "2  no combo     NaN  \n",
       "3  no combo     NaN  \n",
       "4  no combo     NaN  \n",
       "\n",
       "[5 rows x 56 columns]"
      ]
     },
     "execution_count": 11,
     "metadata": {},
     "output_type": "execute_result"
    }
   ],
   "source": [
    "artwork_cards_clean_df.head(5)"
   ]
  },
  {
   "cell_type": "markdown",
   "metadata": {},
   "source": [
    "quante carte escono per periodo?"
   ]
  },
  {
   "cell_type": "code",
   "execution_count": 12,
   "metadata": {},
   "outputs": [
    {
     "data": {
      "text/plain": [
       "released_at\n",
       "1995-06-01    378\n",
       "2017-04-28    362\n",
       "2001-10-01    349\n",
       "2002-10-07    347\n",
       "1996-10-08    346\n",
       "             ... \n",
       "2006-12-01      1\n",
       "2006-10-20      1\n",
       "2017-09-08      1\n",
       "2006-09-23      1\n",
       "2008-04-01      1\n",
       "Name: count, Length: 413, dtype: int64"
      ]
     },
     "execution_count": 12,
     "metadata": {},
     "output_type": "execute_result"
    }
   ],
   "source": [
    "artwork_cards_clean_df.released_at.value_counts()"
   ]
  },
  {
   "cell_type": "code",
   "execution_count": 13,
   "metadata": {},
   "outputs": [
    {
     "data": {
      "image/png": "[encoded data removed]",
      "text/plain": [
       "<Figure size 640x480 with 1 Axes>"
      ]
     },
     "metadata": {},
     "output_type": "display_data"
    }
   ],
   "source": [
    "plt.figure()\n",
    "plt.bar(artwork_cards_clean_df.released_at.value_counts().index,artwork_cards_clean_df.released_at.value_counts())\n",
    "plt.show()"
   ]
  },
  {
   "cell_type": "markdown",
   "metadata": {},
   "source": [
    "#layout -> quanti tipi di layout ci sono"
   ]
  },
  {
   "cell_type": "code",
   "execution_count": 15,
   "metadata": {},
   "outputs": [
    {
     "data": {
      "text/plain": [
       "layout\n",
       "normal                23951\n",
       "token                   552\n",
       "transform               129\n",
       "vanguard                117\n",
       "split                    93\n",
       "planar                   86\n",
       "scheme                   70\n",
       "emblem                   62\n",
       "adventure                61\n",
       "art_series               54\n",
       "leveler                  27\n",
       "flip                     21\n",
       "host                     19\n",
       "saga                     14\n",
       "double_faced_token       14\n",
       "augment                  13\n",
       "meld                      9\n",
       "Name: count, dtype: int64"
      ]
     },
     "execution_count": 15,
     "metadata": {},
     "output_type": "execute_result"
    }
   ],
   "source": [
    "artwork_cards_clean_df.layout.value_counts()"
   ]
  },
  {
   "cell_type": "code",
   "execution_count": 21,
   "metadata": {},
   "outputs": [
    {
     "data": {
      "image/png": "[encoded data removed]",
      "text/plain": [
       "<Figure size 2000x500 with 1 Axes>"
      ]
     },
     "metadata": {},
     "output_type": "display_data"
    }
   ],
   "source": [
    "#CAPIRE COME FARE TRONCARE NORMALE, TROPPO GRANDE\n",
    "plt.figure(figsize=(20,5))\n",
    "#plt.pie(artwork_cards_clean_df.layout.value_counts())\n",
    "plt.bar(artwork_cards_clean_df.layout.value_counts().index,artwork_cards_clean_df.layout.value_counts())\n",
    "plt.show()"
   ]
  },
  {
   "cell_type": "markdown",
   "metadata": {},
   "source": [
    "#mana cost: quanti tipi ci sono e quantità"
   ]
  },
  {
   "cell_type": "code",
   "execution_count": 22,
   "metadata": {},
   "outputs": [
    {
     "data": {
      "text/plain": [
       "mana_cost\n",
       "                         3031\n",
       "{1}{W}                    764\n",
       "{1}{U}                    680\n",
       "{2}{R}                    650\n",
       "{2}{U}                    635\n",
       "                         ... \n",
       "{X}{W}{W}{B}{B}             1\n",
       "{X}{2}{U}{B}                1\n",
       "{3}{G} // {W}               1\n",
       "{1}{R} // {3}{G}            1\n",
       "{2}{G}{G}{W}{W}{U}{U}       1\n",
       "Name: count, Length: 785, dtype: int64"
      ]
     },
     "execution_count": 22,
     "metadata": {},
     "output_type": "execute_result"
    }
   ],
   "source": [
    "artwork_cards_clean_df.mana_cost.value_counts()"
   ]
  },
  {
   "cell_type": "code",
   "execution_count": 27,
   "metadata": {},
   "outputs": [
    {
     "data": {
      "text/plain": [
       "' 4  R  R '"
      ]
     },
     "execution_count": 27,
     "metadata": {},
     "output_type": "execute_result"
    }
   ],
   "source": [
    "#OK SONO TANTI E NON CREDO CI SIANO MODI SEMPLICI PER RAPPRESENTARLI \n",
    "#SE NON SEPARARLI PER COSTO TOTALE: 1,2,3,4,5,6,ETC:\n",
    "#E IN BASE A QUELLO CAPIRE I COLORI PIù FREQUENTI\n",
    "prova = artwork_cards_clean_df.mana_cost.iloc[1]\n",
    "type(prova)\n",
    "prova[0]\n",
    "#ok sono stringhe, grave\n",
    "prova.replace('{',' ').replace('}',' ')\n",
    "#attenzione tenere conto die // es: {1}{R} // {3}{G}\n",
    "\n",
    "#allora il mana è compost da: generico sempre un numero e poi "
   ]
  },
  {
   "cell_type": "code",
   "execution_count": null,
   "metadata": {},
   "outputs": [],
   "source": []
  }
 ],
 "metadata": {
  "kernelspec": {
   "display_name": ".venv",
   "language": "python",
   "name": "python3"
  },
  "language_info": {
   "codemirror_mode": {
    "name": "ipython",
    "version": 3
   },
   "file_extension": ".py",
   "mimetype": "text/x-python",
   "name": "python",
   "nbconvert_exporter": "python",
   "pygments_lexer": "ipython3",
   "version": "3.12.1"
  }
 },
 "nbformat": 4,
 "nbformat_minor": 2
}
