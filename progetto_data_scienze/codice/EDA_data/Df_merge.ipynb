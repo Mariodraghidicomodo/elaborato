{
 "cells": [
  {
   "cell_type": "markdown",
   "metadata": {},
   "source": [
    "# possible merge between allcards, scryfall artwork, allprices"
   ]
  },
  {
   "cell_type": "code",
   "execution_count": 1,
   "metadata": {},
   "outputs": [],
   "source": [
    "import numpy as np\n",
    "import matplotlib.pyplot as plt\n",
    "import pandas as pd"
   ]
  },
  {
   "cell_type": "code",
   "execution_count": 7,
   "metadata": {},
   "outputs": [],
   "source": [
    "%store -r allcards_clean_df\n",
    "%store -r artwork_cards_clean_df\n",
    "%store -r allprices_clean_df\n",
    "%store -r allprintings_clean_df "
   ]
  },
  {
   "cell_type": "markdown",
   "metadata": {},
   "source": [
    "# id in comune"
   ]
  },
  {
   "cell_type": "code",
   "execution_count": null,
   "metadata": {},
   "outputs": [],
   "source": [
    "#controllo se sono presenti gli id di allcards in artwork\n",
    "#maskera scryfall id\n",
    "mask_scry_id = artwork_cards_clean_df.oracle_id.isin(allcards_clean_df.scryfallOracleId)\n",
    "mask_scry_id.value_counts()\n",
    "artwork_cards_clean_df[mask_scry_id]\n",
    "#allora scry e allcards -> oracleid e scryoracleid in comune"
   ]
  },
  {
   "cell_type": "code",
   "execution_count": 13,
   "metadata": {},
   "outputs": [
    {
     "data": {
      "text/plain": [
       "id\n",
       "False    25292\n",
       "Name: count, dtype: int64"
      ]
     },
     "execution_count": 13,
     "metadata": {},
     "output_type": "execute_result"
    }
   ],
   "source": [
    "#test 1 -> scry allprices\n",
    "mask_price_id = artwork_cards_clean_df.id.isin(allprices_clean_df.index)\n",
    "mask_price_id.value_counts()\n",
    "#artwork_cards_clean_df[mask_price_id]"
   ]
  },
  {
   "cell_type": "code",
   "execution_count": 15,
   "metadata": {},
   "outputs": [
    {
     "data": {
      "text/html": [
       "<div>\n",
       "<style scoped>\n",
       "    .dataframe tbody tr th:only-of-type {\n",
       "        vertical-align: middle;\n",
       "    }\n",
       "\n",
       "    .dataframe tbody tr th {\n",
       "        vertical-align: top;\n",
       "    }\n",
       "\n",
       "    .dataframe thead th {\n",
       "        text-align: right;\n",
       "    }\n",
       "</style>\n",
       "<table border=\"1\" class=\"dataframe\">\n",
       "  <thead>\n",
       "    <tr style=\"text-align: right;\">\n",
       "      <th></th>\n",
       "      <th>object</th>\n",
       "      <th>id</th>\n",
       "      <th>oracle_id</th>\n",
       "      <th>multiverse_ids</th>\n",
       "      <th>name</th>\n",
       "      <th>lang</th>\n",
       "      <th>released_at</th>\n",
       "      <th>uri</th>\n",
       "      <th>scryfall_uri</th>\n",
       "      <th>layout</th>\n",
       "      <th>...</th>\n",
       "      <th>frame</th>\n",
       "      <th>full_art</th>\n",
       "      <th>textless</th>\n",
       "      <th>booster</th>\n",
       "      <th>story_spotlight</th>\n",
       "      <th>related_uris</th>\n",
       "      <th>edhrec_rank</th>\n",
       "      <th>card_faces</th>\n",
       "      <th>all_parts</th>\n",
       "      <th>loyalty</th>\n",
       "    </tr>\n",
       "  </thead>\n",
       "  <tbody>\n",
       "  </tbody>\n",
       "</table>\n",
       "<p>0 rows × 56 columns</p>\n",
       "</div>"
      ],
      "text/plain": [
       "Empty DataFrame\n",
       "Columns: [object, id, oracle_id, multiverse_ids, name, lang, released_at, uri, scryfall_uri, layout, highres_image, image_uris, mana_cost, cmc, type_line, oracle_text, power, toughness, colors, color_identity, legalities, games, reserved, foil, nonfoil, oversized, promo, reprint, variation, set, set_name, set_type, set_uri, set_search_uri, scryfall_set_uri, rulings_uri, prints_search_uri, collector_number, digital, rarity, flavor_text, card_back_id, artist, artist_ids, illustration_id, border_color, frame, full_art, textless, booster, story_spotlight, related_uris, edhrec_rank, card_faces, all_parts, loyalty]\n",
       "Index: []\n",
       "\n",
       "[0 rows x 56 columns]"
      ]
     },
     "execution_count": 15,
     "metadata": {},
     "output_type": "execute_result"
    }
   ],
   "source": [
    "#test 2 -> provo a cercare un singolo id\n",
    "artwork_cards_clean_df[artwork_cards_clean_df.oracle_id == '000031ff-f095-52c5-98a1-35bdb5e18a5b']"
   ]
  },
  {
   "cell_type": "code",
   "execution_count": 18,
   "metadata": {},
   "outputs": [
    {
     "data": {
      "text/html": [
       "<div>\n",
       "<style scoped>\n",
       "    .dataframe tbody tr th:only-of-type {\n",
       "        vertical-align: middle;\n",
       "    }\n",
       "\n",
       "    .dataframe tbody tr th {\n",
       "        vertical-align: top;\n",
       "    }\n",
       "\n",
       "    .dataframe thead th {\n",
       "        text-align: right;\n",
       "    }\n",
       "</style>\n",
       "<table border=\"1\" class=\"dataframe\">\n",
       "  <thead>\n",
       "    <tr style=\"text-align: right;\">\n",
       "      <th></th>\n",
       "      <th>colorIdentity</th>\n",
       "      <th>colors</th>\n",
       "      <th>convertedManaCost</th>\n",
       "      <th>foreignData</th>\n",
       "      <th>layout</th>\n",
       "      <th>legalities</th>\n",
       "      <th>manaCost</th>\n",
       "      <th>name</th>\n",
       "      <th>printings</th>\n",
       "      <th>rulings</th>\n",
       "      <th>...</th>\n",
       "      <th>text</th>\n",
       "      <th>type</th>\n",
       "      <th>types</th>\n",
       "      <th>uuid</th>\n",
       "      <th>edhrecRank</th>\n",
       "      <th>power</th>\n",
       "      <th>toughness</th>\n",
       "      <th>isReserved</th>\n",
       "      <th>leadershipSkills</th>\n",
       "      <th>loyalty</th>\n",
       "    </tr>\n",
       "  </thead>\n",
       "  <tbody>\n",
       "  </tbody>\n",
       "</table>\n",
       "<p>0 rows × 23 columns</p>\n",
       "</div>"
      ],
      "text/plain": [
       "Empty DataFrame\n",
       "Columns: [colorIdentity, colors, convertedManaCost, foreignData, layout, legalities, manaCost, name, printings, rulings, scryfallOracleId, subtypes, supertypes, text, type, types, uuid, edhrecRank, power, toughness, isReserved, leadershipSkills, loyalty]\n",
       "Index: []\n",
       "\n",
       "[0 rows x 23 columns]"
      ]
     },
     "execution_count": 18,
     "metadata": {},
     "output_type": "execute_result"
    }
   ],
   "source": [
    "#test 3 -> provo a cercare id di price in all cards, se lo trovo riporto annche la colonna dell id\n",
    "allcards_clean_df[allcards_clean_df.scryfallOracleId == '000031ff-f095-52c5-98a1-35bdb5e18a5b']"
   ]
  },
  {
   "cell_type": "code",
   "execution_count": null,
   "metadata": {},
   "outputs": [],
   "source": []
  }
 ],
 "metadata": {
  "kernelspec": {
   "display_name": ".venv",
   "language": "python",
   "name": "python3"
  },
  "language_info": {
   "codemirror_mode": {
    "name": "ipython",
    "version": 3
   },
   "file_extension": ".py",
   "mimetype": "text/x-python",
   "name": "python",
   "nbconvert_exporter": "python",
   "pygments_lexer": "ipython3",
   "version": "3.12.1"
  }
 },
 "nbformat": 4,
 "nbformat_minor": 2
}
