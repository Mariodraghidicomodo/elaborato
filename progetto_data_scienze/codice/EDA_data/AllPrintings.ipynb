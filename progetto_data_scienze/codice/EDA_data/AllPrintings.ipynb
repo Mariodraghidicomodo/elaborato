{
 "cells": [
  {
   "cell_type": "code",
   "execution_count": 1,
   "metadata": {},
   "outputs": [],
   "source": [
    "import numpy as np\n",
    "import matplotlib.pyplot as plt\n",
    "import pandas as pd"
   ]
  },
  {
   "cell_type": "markdown",
   "metadata": {},
   "source": [
    "OPEN FILE"
   ]
  },
  {
   "cell_type": "code",
   "execution_count": 3,
   "metadata": {},
   "outputs": [],
   "source": [
    "#import dataset\n",
    "from open_file import allprintings_df"
   ]
  },
  {
   "cell_type": "markdown",
   "metadata": {},
   "source": [
    "EDA"
   ]
  },
  {
   "cell_type": "code",
   "execution_count": 4,
   "metadata": {},
   "outputs": [
    {
     "data": {
      "text/html": [
       "<div>\n",
       "<style scoped>\n",
       "    .dataframe tbody tr th:only-of-type {\n",
       "        vertical-align: middle;\n",
       "    }\n",
       "\n",
       "    .dataframe tbody tr th {\n",
       "        vertical-align: top;\n",
       "    }\n",
       "\n",
       "    .dataframe thead th {\n",
       "        text-align: right;\n",
       "    }\n",
       "</style>\n",
       "<table border=\"1\" class=\"dataframe\">\n",
       "  <thead>\n",
       "    <tr style=\"text-align: right;\">\n",
       "      <th></th>\n",
       "      <th>baseSetSize</th>\n",
       "      <th>block</th>\n",
       "      <th>boosterV3</th>\n",
       "      <th>cards</th>\n",
       "      <th>code</th>\n",
       "      <th>isFoilOnly</th>\n",
       "      <th>isOnlineOnly</th>\n",
       "      <th>keyruneCode</th>\n",
       "      <th>mcmId</th>\n",
       "      <th>mcmName</th>\n",
       "      <th>...</th>\n",
       "      <th>name</th>\n",
       "      <th>releaseDate</th>\n",
       "      <th>tcgplayerGroupId</th>\n",
       "      <th>tokens</th>\n",
       "      <th>totalSetSize</th>\n",
       "      <th>type</th>\n",
       "      <th>isForeignOnly</th>\n",
       "      <th>parentCode</th>\n",
       "      <th>codeV3</th>\n",
       "      <th>isPartialPreview</th>\n",
       "    </tr>\n",
       "  </thead>\n",
       "  <tbody>\n",
       "    <tr>\n",
       "      <th>10E</th>\n",
       "      <td>383</td>\n",
       "      <td>Core Set</td>\n",
       "      <td>[rare, uncommon, uncommon, uncommon, common, c...</td>\n",
       "      <td>[{'artist': 'Rebecca Guay', 'borderColor': 'bl...</td>\n",
       "      <td>10E</td>\n",
       "      <td>False</td>\n",
       "      <td>False</td>\n",
       "      <td>10E</td>\n",
       "      <td>74</td>\n",
       "      <td>Tenth Edition</td>\n",
       "      <td>...</td>\n",
       "      <td>Tenth Edition</td>\n",
       "      <td>2007-07-13</td>\n",
       "      <td>1</td>\n",
       "      <td>[{'artist': 'Jim Pavelec', 'borderColor': 'bla...</td>\n",
       "      <td>508</td>\n",
       "      <td>core</td>\n",
       "      <td>NaN</td>\n",
       "      <td>NaN</td>\n",
       "      <td>NaN</td>\n",
       "      <td>NaN</td>\n",
       "    </tr>\n",
       "    <tr>\n",
       "      <th>2ED</th>\n",
       "      <td>302</td>\n",
       "      <td>Core Set</td>\n",
       "      <td>[rare, uncommon, uncommon, uncommon, common, c...</td>\n",
       "      <td>[{'artist': 'Richard Thomas', 'borderColor': '...</td>\n",
       "      <td>2ED</td>\n",
       "      <td>False</td>\n",
       "      <td>False</td>\n",
       "      <td>2ED</td>\n",
       "      <td>3</td>\n",
       "      <td>Unlimited</td>\n",
       "      <td>...</td>\n",
       "      <td>Unlimited Edition</td>\n",
       "      <td>1993-12-01</td>\n",
       "      <td>115</td>\n",
       "      <td>[]</td>\n",
       "      <td>302</td>\n",
       "      <td>core</td>\n",
       "      <td>NaN</td>\n",
       "      <td>NaN</td>\n",
       "      <td>NaN</td>\n",
       "      <td>NaN</td>\n",
       "    </tr>\n",
       "    <tr>\n",
       "      <th>3ED</th>\n",
       "      <td>306</td>\n",
       "      <td>Core Set</td>\n",
       "      <td>[rare, uncommon, uncommon, uncommon, common, c...</td>\n",
       "      <td>[{'artist': 'Richard Thomas', 'borderColor': '...</td>\n",
       "      <td>3ED</td>\n",
       "      <td>False</td>\n",
       "      <td>False</td>\n",
       "      <td>3ED</td>\n",
       "      <td>6</td>\n",
       "      <td>Revised</td>\n",
       "      <td>...</td>\n",
       "      <td>Revised Edition</td>\n",
       "      <td>1994-04-01</td>\n",
       "      <td>97</td>\n",
       "      <td>[]</td>\n",
       "      <td>306</td>\n",
       "      <td>core</td>\n",
       "      <td>NaN</td>\n",
       "      <td>NaN</td>\n",
       "      <td>NaN</td>\n",
       "      <td>NaN</td>\n",
       "    </tr>\n",
       "    <tr>\n",
       "      <th>4BB</th>\n",
       "      <td>0</td>\n",
       "      <td>NaN</td>\n",
       "      <td>NaN</td>\n",
       "      <td>[{'artist': 'Mark Tedin', 'borderColor': 'blac...</td>\n",
       "      <td>4BB</td>\n",
       "      <td>False</td>\n",
       "      <td>False</td>\n",
       "      <td>4ED</td>\n",
       "      <td>NaN</td>\n",
       "      <td>NaN</td>\n",
       "      <td>...</td>\n",
       "      <td>Fourth Edition Foreign Black Border</td>\n",
       "      <td>1995-04-01</td>\n",
       "      <td>NaN</td>\n",
       "      <td>[]</td>\n",
       "      <td>378</td>\n",
       "      <td>core</td>\n",
       "      <td>True</td>\n",
       "      <td>NaN</td>\n",
       "      <td>NaN</td>\n",
       "      <td>NaN</td>\n",
       "    </tr>\n",
       "    <tr>\n",
       "      <th>4ED</th>\n",
       "      <td>378</td>\n",
       "      <td>Core Set</td>\n",
       "      <td>[rare, uncommon, uncommon, uncommon, common, c...</td>\n",
       "      <td>[{'artist': 'Mark Tedin', 'borderColor': 'whit...</td>\n",
       "      <td>4ED</td>\n",
       "      <td>False</td>\n",
       "      <td>False</td>\n",
       "      <td>4ED</td>\n",
       "      <td>10</td>\n",
       "      <td>Fourth Edition</td>\n",
       "      <td>...</td>\n",
       "      <td>Fourth Edition</td>\n",
       "      <td>1995-04-01</td>\n",
       "      <td>46</td>\n",
       "      <td>[]</td>\n",
       "      <td>379</td>\n",
       "      <td>core</td>\n",
       "      <td>NaN</td>\n",
       "      <td>NaN</td>\n",
       "      <td>NaN</td>\n",
       "      <td>NaN</td>\n",
       "    </tr>\n",
       "  </tbody>\n",
       "</table>\n",
       "<p>5 rows × 22 columns</p>\n",
       "</div>"
      ],
      "text/plain": [
       "    baseSetSize     block                                          boosterV3  \\\n",
       "10E         383  Core Set  [rare, uncommon, uncommon, uncommon, common, c...   \n",
       "2ED         302  Core Set  [rare, uncommon, uncommon, uncommon, common, c...   \n",
       "3ED         306  Core Set  [rare, uncommon, uncommon, uncommon, common, c...   \n",
       "4BB           0       NaN                                                NaN   \n",
       "4ED         378  Core Set  [rare, uncommon, uncommon, uncommon, common, c...   \n",
       "\n",
       "                                                 cards code isFoilOnly  \\\n",
       "10E  [{'artist': 'Rebecca Guay', 'borderColor': 'bl...  10E      False   \n",
       "2ED  [{'artist': 'Richard Thomas', 'borderColor': '...  2ED      False   \n",
       "3ED  [{'artist': 'Richard Thomas', 'borderColor': '...  3ED      False   \n",
       "4BB  [{'artist': 'Mark Tedin', 'borderColor': 'blac...  4BB      False   \n",
       "4ED  [{'artist': 'Mark Tedin', 'borderColor': 'whit...  4ED      False   \n",
       "\n",
       "    isOnlineOnly keyruneCode mcmId         mcmName  ...  \\\n",
       "10E        False         10E    74   Tenth Edition  ...   \n",
       "2ED        False         2ED     3       Unlimited  ...   \n",
       "3ED        False         3ED     6         Revised  ...   \n",
       "4BB        False         4ED   NaN             NaN  ...   \n",
       "4ED        False         4ED    10  Fourth Edition  ...   \n",
       "\n",
       "                                    name releaseDate tcgplayerGroupId  \\\n",
       "10E                        Tenth Edition  2007-07-13                1   \n",
       "2ED                    Unlimited Edition  1993-12-01              115   \n",
       "3ED                      Revised Edition  1994-04-01               97   \n",
       "4BB  Fourth Edition Foreign Black Border  1995-04-01              NaN   \n",
       "4ED                       Fourth Edition  1995-04-01               46   \n",
       "\n",
       "                                                tokens totalSetSize  type  \\\n",
       "10E  [{'artist': 'Jim Pavelec', 'borderColor': 'bla...          508  core   \n",
       "2ED                                                 []          302  core   \n",
       "3ED                                                 []          306  core   \n",
       "4BB                                                 []          378  core   \n",
       "4ED                                                 []          379  core   \n",
       "\n",
       "    isForeignOnly parentCode codeV3 isPartialPreview  \n",
       "10E           NaN        NaN    NaN              NaN  \n",
       "2ED           NaN        NaN    NaN              NaN  \n",
       "3ED           NaN        NaN    NaN              NaN  \n",
       "4BB          True        NaN    NaN              NaN  \n",
       "4ED           NaN        NaN    NaN              NaN  \n",
       "\n",
       "[5 rows x 22 columns]"
      ]
     },
     "execution_count": 4,
     "metadata": {},
     "output_type": "execute_result"
    }
   ],
   "source": [
    "allprintings_df.head(5)"
   ]
  },
  {
   "cell_type": "code",
   "execution_count": 5,
   "metadata": {},
   "outputs": [
    {
     "name": "stdout",
     "output_type": "stream",
     "text": [
      "<class 'pandas.core.frame.DataFrame'>\n",
      "Index: 461 entries, 10E to ZEN\n",
      "Data columns (total 22 columns):\n",
      " #   Column            Non-Null Count  Dtype \n",
      "---  ------            --------------  ----- \n",
      " 0   baseSetSize       461 non-null    object\n",
      " 1   block             227 non-null    object\n",
      " 2   boosterV3         127 non-null    object\n",
      " 3   cards             461 non-null    object\n",
      " 4   code              461 non-null    object\n",
      " 5   isFoilOnly        461 non-null    object\n",
      " 6   isOnlineOnly      461 non-null    object\n",
      " 7   keyruneCode       461 non-null    object\n",
      " 8   mcmId             223 non-null    object\n",
      " 9   mcmName           223 non-null    object\n",
      " 10  meta              461 non-null    object\n",
      " 11  mtgoCode          151 non-null    object\n",
      " 12  name              461 non-null    object\n",
      " 13  releaseDate       461 non-null    object\n",
      " 14  tcgplayerGroupId  235 non-null    object\n",
      " 15  tokens            461 non-null    object\n",
      " 16  totalSetSize      461 non-null    object\n",
      " 17  type              461 non-null    object\n",
      " 18  isForeignOnly     15 non-null     object\n",
      " 19  parentCode        90 non-null     object\n",
      " 20  codeV3            5 non-null      object\n",
      " 21  isPartialPreview  1 non-null      object\n",
      "dtypes: object(22)\n",
      "memory usage: 99.0+ KB\n"
     ]
    }
   ],
   "source": [
    "allprintings_df.info()"
   ]
  },
  {
   "cell_type": "code",
   "execution_count": 6,
   "metadata": {},
   "outputs": [],
   "source": [
    "#describe\n",
    "#allprintings_df.describe().T"
   ]
  },
  {
   "cell_type": "code",
   "execution_count": 7,
   "metadata": {},
   "outputs": [
    {
     "data": {
      "text/plain": [
       "(461, 22)"
      ]
     },
     "execution_count": 7,
     "metadata": {},
     "output_type": "execute_result"
    }
   ],
   "source": [
    "allprintings_df.shape"
   ]
  },
  {
   "cell_type": "code",
   "execution_count": 8,
   "metadata": {},
   "outputs": [
    {
     "data": {
      "text/plain": [
       "Index(['baseSetSize', 'block', 'boosterV3', 'cards', 'code', 'isFoilOnly',\n",
       "       'isOnlineOnly', 'keyruneCode', 'mcmId', 'mcmName', 'meta', 'mtgoCode',\n",
       "       'name', 'releaseDate', 'tcgplayerGroupId', 'tokens', 'totalSetSize',\n",
       "       'type', 'isForeignOnly', 'parentCode', 'codeV3', 'isPartialPreview'],\n",
       "      dtype='object')"
      ]
     },
     "execution_count": 8,
     "metadata": {},
     "output_type": "execute_result"
    }
   ],
   "source": [
    "allprintings_df.columns"
   ]
  },
  {
   "cell_type": "markdown",
   "metadata": {},
   "source": [
    "VALUE NULL"
   ]
  },
  {
   "cell_type": "code",
   "execution_count": 9,
   "metadata": {},
   "outputs": [
    {
     "data": {
      "text/plain": [
       "baseSetSize           0\n",
       "block               234\n",
       "boosterV3           334\n",
       "cards                 0\n",
       "code                  0\n",
       "isFoilOnly            0\n",
       "isOnlineOnly          0\n",
       "keyruneCode           0\n",
       "mcmId               238\n",
       "mcmName             238\n",
       "meta                  0\n",
       "mtgoCode            310\n",
       "name                  0\n",
       "releaseDate           0\n",
       "tcgplayerGroupId    226\n",
       "tokens                0\n",
       "totalSetSize          0\n",
       "type                  0\n",
       "isForeignOnly       446\n",
       "parentCode          371\n",
       "codeV3              456\n",
       "isPartialPreview    460\n",
       "dtype: int64"
      ]
     },
     "execution_count": 9,
     "metadata": {},
     "output_type": "execute_result"
    }
   ],
   "source": [
    "allprintings_df.isna().sum()"
   ]
  },
  {
   "cell_type": "markdown",
   "metadata": {},
   "source": [
    "UNDERSTAND SOME VALEUS"
   ]
  },
  {
   "cell_type": "code",
   "execution_count": null,
   "metadata": {},
   "outputs": [],
   "source": []
  }
 ],
 "metadata": {
  "kernelspec": {
   "display_name": ".venv",
   "language": "python",
   "name": "python3"
  },
  "language_info": {
   "codemirror_mode": {
    "name": "ipython",
    "version": 3
   },
   "file_extension": ".py",
   "mimetype": "text/x-python",
   "name": "python",
   "nbconvert_exporter": "python",
   "pygments_lexer": "ipython3",
   "version": "3.12.1"
  }
 },
 "nbformat": 4,
 "nbformat_minor": 2
}
