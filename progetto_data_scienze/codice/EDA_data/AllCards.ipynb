{
 "cells": [
  {
   "cell_type": "code",
   "execution_count": 1,
   "metadata": {},
   "outputs": [],
   "source": [
    "import numpy as np\n",
    "import matplotlib.pyplot as plt\n",
    "import pandas as pd"
   ]
  },
  {
   "cell_type": "markdown",
   "metadata": {},
   "source": [
    "OPEN FILE"
   ]
  },
  {
   "cell_type": "code",
   "execution_count": 2,
   "metadata": {},
   "outputs": [],
   "source": [
    "#importo il dataset \n",
    "allcards_df = pd.read_json(\"AllCards.json\").T"
   ]
  },
  {
   "cell_type": "markdown",
   "metadata": {},
   "source": [
    "EDA"
   ]
  },
  {
   "cell_type": "code",
   "execution_count": 3,
   "metadata": {},
   "outputs": [
    {
     "data": {
      "text/html": [
       "<div>\n",
       "<style scoped>\n",
       "    .dataframe tbody tr th:only-of-type {\n",
       "        vertical-align: middle;\n",
       "    }\n",
       "\n",
       "    .dataframe tbody tr th {\n",
       "        vertical-align: top;\n",
       "    }\n",
       "\n",
       "    .dataframe thead th {\n",
       "        text-align: right;\n",
       "    }\n",
       "</style>\n",
       "<table border=\"1\" class=\"dataframe\">\n",
       "  <thead>\n",
       "    <tr style=\"text-align: right;\">\n",
       "      <th></th>\n",
       "      <th>colorIdentity</th>\n",
       "      <th>colors</th>\n",
       "      <th>convertedManaCost</th>\n",
       "      <th>foreignData</th>\n",
       "      <th>layout</th>\n",
       "      <th>legalities</th>\n",
       "      <th>manaCost</th>\n",
       "      <th>name</th>\n",
       "      <th>printings</th>\n",
       "      <th>purchaseUrls</th>\n",
       "      <th>...</th>\n",
       "      <th>faceConvertedManaCost</th>\n",
       "      <th>names</th>\n",
       "      <th>side</th>\n",
       "      <th>isReserved</th>\n",
       "      <th>leadershipSkills</th>\n",
       "      <th>loyalty</th>\n",
       "      <th>hand</th>\n",
       "      <th>life</th>\n",
       "      <th>colorIndicator</th>\n",
       "      <th>hasNoDeckLimit</th>\n",
       "    </tr>\n",
       "  </thead>\n",
       "  <tbody>\n",
       "    <tr>\n",
       "      <th>\"Ach! Hans, Run!\"</th>\n",
       "      <td>[G, R]</td>\n",
       "      <td>[G, R]</td>\n",
       "      <td>6.0</td>\n",
       "      <td>[]</td>\n",
       "      <td>normal</td>\n",
       "      <td>{}</td>\n",
       "      <td>{2}{R}{R}{G}{G}</td>\n",
       "      <td>\"Ach! Hans, Run!\"</td>\n",
       "      <td>[UNH]</td>\n",
       "      <td>{'cardmarket': 'https://mtgjson.com/links/6227...</td>\n",
       "      <td>...</td>\n",
       "      <td>NaN</td>\n",
       "      <td>NaN</td>\n",
       "      <td>NaN</td>\n",
       "      <td>NaN</td>\n",
       "      <td>NaN</td>\n",
       "      <td>NaN</td>\n",
       "      <td>NaN</td>\n",
       "      <td>NaN</td>\n",
       "      <td>NaN</td>\n",
       "      <td>NaN</td>\n",
       "    </tr>\n",
       "    <tr>\n",
       "      <th>\"Rumors of My Death . . .\"</th>\n",
       "      <td>[B]</td>\n",
       "      <td>[B]</td>\n",
       "      <td>3.0</td>\n",
       "      <td>[]</td>\n",
       "      <td>normal</td>\n",
       "      <td>{}</td>\n",
       "      <td>{2}{B}</td>\n",
       "      <td>\"Rumors of My Death . . .\"</td>\n",
       "      <td>[UST]</td>\n",
       "      <td>{'cardmarket': 'https://mtgjson.com/links/371e...</td>\n",
       "      <td>...</td>\n",
       "      <td>NaN</td>\n",
       "      <td>NaN</td>\n",
       "      <td>NaN</td>\n",
       "      <td>NaN</td>\n",
       "      <td>NaN</td>\n",
       "      <td>NaN</td>\n",
       "      <td>NaN</td>\n",
       "      <td>NaN</td>\n",
       "      <td>NaN</td>\n",
       "      <td>NaN</td>\n",
       "    </tr>\n",
       "    <tr>\n",
       "      <th>1996 World Champion</th>\n",
       "      <td>[B, G, R, U, W]</td>\n",
       "      <td>[B, G, R, U, W]</td>\n",
       "      <td>5.0</td>\n",
       "      <td>[]</td>\n",
       "      <td>normal</td>\n",
       "      <td>{}</td>\n",
       "      <td>{W}{U}{B}{R}{G}</td>\n",
       "      <td>1996 World Champion</td>\n",
       "      <td>[PCEL]</td>\n",
       "      <td>NaN</td>\n",
       "      <td>...</td>\n",
       "      <td>NaN</td>\n",
       "      <td>NaN</td>\n",
       "      <td>NaN</td>\n",
       "      <td>NaN</td>\n",
       "      <td>NaN</td>\n",
       "      <td>NaN</td>\n",
       "      <td>NaN</td>\n",
       "      <td>NaN</td>\n",
       "      <td>NaN</td>\n",
       "      <td>NaN</td>\n",
       "    </tr>\n",
       "    <tr>\n",
       "      <th>A Display of My Dark Power</th>\n",
       "      <td>[]</td>\n",
       "      <td>[]</td>\n",
       "      <td>0.0</td>\n",
       "      <td>[]</td>\n",
       "      <td>scheme</td>\n",
       "      <td>{}</td>\n",
       "      <td>NaN</td>\n",
       "      <td>A Display of My Dark Power</td>\n",
       "      <td>[OARC]</td>\n",
       "      <td>NaN</td>\n",
       "      <td>...</td>\n",
       "      <td>NaN</td>\n",
       "      <td>NaN</td>\n",
       "      <td>NaN</td>\n",
       "      <td>NaN</td>\n",
       "      <td>NaN</td>\n",
       "      <td>NaN</td>\n",
       "      <td>NaN</td>\n",
       "      <td>NaN</td>\n",
       "      <td>NaN</td>\n",
       "      <td>NaN</td>\n",
       "    </tr>\n",
       "    <tr>\n",
       "      <th>A Good Thing</th>\n",
       "      <td>[B, W]</td>\n",
       "      <td>[B, W]</td>\n",
       "      <td>6.0</td>\n",
       "      <td>[]</td>\n",
       "      <td>normal</td>\n",
       "      <td>{}</td>\n",
       "      <td>{4}{W}{B}</td>\n",
       "      <td>A Good Thing</td>\n",
       "      <td>[MYSTPT]</td>\n",
       "      <td>NaN</td>\n",
       "      <td>...</td>\n",
       "      <td>NaN</td>\n",
       "      <td>NaN</td>\n",
       "      <td>NaN</td>\n",
       "      <td>NaN</td>\n",
       "      <td>NaN</td>\n",
       "      <td>NaN</td>\n",
       "      <td>NaN</td>\n",
       "      <td>NaN</td>\n",
       "      <td>NaN</td>\n",
       "      <td>NaN</td>\n",
       "    </tr>\n",
       "  </tbody>\n",
       "</table>\n",
       "<p>5 rows × 34 columns</p>\n",
       "</div>"
      ],
      "text/plain": [
       "                              colorIdentity           colors  \\\n",
       "\"Ach! Hans, Run!\"                    [G, R]           [G, R]   \n",
       "\"Rumors of My Death . . .\"              [B]              [B]   \n",
       "1996 World Champion         [B, G, R, U, W]  [B, G, R, U, W]   \n",
       "A Display of My Dark Power               []               []   \n",
       "A Good Thing                         [B, W]           [B, W]   \n",
       "\n",
       "                           convertedManaCost foreignData  layout legalities  \\\n",
       "\"Ach! Hans, Run!\"                        6.0          []  normal         {}   \n",
       "\"Rumors of My Death . . .\"               3.0          []  normal         {}   \n",
       "1996 World Champion                      5.0          []  normal         {}   \n",
       "A Display of My Dark Power               0.0          []  scheme         {}   \n",
       "A Good Thing                             6.0          []  normal         {}   \n",
       "\n",
       "                                   manaCost                        name  \\\n",
       "\"Ach! Hans, Run!\"           {2}{R}{R}{G}{G}           \"Ach! Hans, Run!\"   \n",
       "\"Rumors of My Death . . .\"           {2}{B}  \"Rumors of My Death . . .\"   \n",
       "1996 World Champion         {W}{U}{B}{R}{G}         1996 World Champion   \n",
       "A Display of My Dark Power              NaN  A Display of My Dark Power   \n",
       "A Good Thing                      {4}{W}{B}                A Good Thing   \n",
       "\n",
       "                           printings  \\\n",
       "\"Ach! Hans, Run!\"              [UNH]   \n",
       "\"Rumors of My Death . . .\"     [UST]   \n",
       "1996 World Champion           [PCEL]   \n",
       "A Display of My Dark Power    [OARC]   \n",
       "A Good Thing                [MYSTPT]   \n",
       "\n",
       "                                                                 purchaseUrls  \\\n",
       "\"Ach! Hans, Run!\"           {'cardmarket': 'https://mtgjson.com/links/6227...   \n",
       "\"Rumors of My Death . . .\"  {'cardmarket': 'https://mtgjson.com/links/371e...   \n",
       "1996 World Champion                                                       NaN   \n",
       "A Display of My Dark Power                                                NaN   \n",
       "A Good Thing                                                              NaN   \n",
       "\n",
       "                            ... faceConvertedManaCost names side isReserved  \\\n",
       "\"Ach! Hans, Run!\"           ...                   NaN   NaN  NaN        NaN   \n",
       "\"Rumors of My Death . . .\"  ...                   NaN   NaN  NaN        NaN   \n",
       "1996 World Champion         ...                   NaN   NaN  NaN        NaN   \n",
       "A Display of My Dark Power  ...                   NaN   NaN  NaN        NaN   \n",
       "A Good Thing                ...                   NaN   NaN  NaN        NaN   \n",
       "\n",
       "                           leadershipSkills loyalty hand life colorIndicator  \\\n",
       "\"Ach! Hans, Run!\"                       NaN     NaN  NaN  NaN            NaN   \n",
       "\"Rumors of My Death . . .\"              NaN     NaN  NaN  NaN            NaN   \n",
       "1996 World Champion                     NaN     NaN  NaN  NaN            NaN   \n",
       "A Display of My Dark Power              NaN     NaN  NaN  NaN            NaN   \n",
       "A Good Thing                            NaN     NaN  NaN  NaN            NaN   \n",
       "\n",
       "                           hasNoDeckLimit  \n",
       "\"Ach! Hans, Run!\"                     NaN  \n",
       "\"Rumors of My Death . . .\"            NaN  \n",
       "1996 World Champion                   NaN  \n",
       "A Display of My Dark Power            NaN  \n",
       "A Good Thing                          NaN  \n",
       "\n",
       "[5 rows x 34 columns]"
      ]
     },
     "execution_count": 3,
     "metadata": {},
     "output_type": "execute_result"
    }
   ],
   "source": [
    "allcards_df.head(5)"
   ]
  },
  {
   "cell_type": "code",
   "execution_count": 4,
   "metadata": {},
   "outputs": [
    {
     "name": "stdout",
     "output_type": "stream",
     "text": [
      "<class 'pandas.core.frame.DataFrame'>\n",
      "Index: 20478 entries, \"Ach! Hans, Run!\" to capital offense\n",
      "Data columns (total 34 columns):\n",
      " #   Column                 Non-Null Count  Dtype \n",
      "---  ------                 --------------  ----- \n",
      " 0   colorIdentity          20478 non-null  object\n",
      " 1   colors                 20478 non-null  object\n",
      " 2   convertedManaCost      20478 non-null  object\n",
      " 3   foreignData            20478 non-null  object\n",
      " 4   layout                 20478 non-null  object\n",
      " 5   legalities             20478 non-null  object\n",
      " 6   manaCost               19270 non-null  object\n",
      " 7   name                   20478 non-null  object\n",
      " 8   printings              20478 non-null  object\n",
      " 9   purchaseUrls           18423 non-null  object\n",
      " 10  rulings                20478 non-null  object\n",
      " 11  scryfallOracleId       20478 non-null  object\n",
      " 12  subtypes               20478 non-null  object\n",
      " 13  supertypes             20478 non-null  object\n",
      " 14  text                   20151 non-null  object\n",
      " 15  type                   20478 non-null  object\n",
      " 16  types                  20478 non-null  object\n",
      " 17  uuid                   20478 non-null  object\n",
      " 18  edhrecRank             19305 non-null  object\n",
      " 19  mtgoFoilId             12622 non-null  object\n",
      " 20  mtgoId                 14963 non-null  object\n",
      " 21  mtgArenaId             2682 non-null   object\n",
      " 22  power                  10747 non-null  object\n",
      " 23  toughness              10747 non-null  object\n",
      " 24  faceConvertedManaCost  447 non-null    object\n",
      " 25  names                  1476 non-null   object\n",
      " 26  side                   493 non-null    object\n",
      " 27  isReserved             571 non-null    object\n",
      " 28  leadershipSkills       1117 non-null   object\n",
      " 29  loyalty                204 non-null    object\n",
      " 30  hand                   107 non-null    object\n",
      " 31  life                   107 non-null    object\n",
      " 32  colorIndicator         98 non-null     object\n",
      " 33  hasNoDeckLimit         4 non-null      object\n",
      "dtypes: object(34)\n",
      "memory usage: 6.0+ MB\n"
     ]
    }
   ],
   "source": [
    "allcards_df.info()"
   ]
  },
  {
   "cell_type": "code",
   "execution_count": 5,
   "metadata": {},
   "outputs": [],
   "source": [
    "#describe non ci provo\n",
    "#allcards_df.describe().T"
   ]
  },
  {
   "cell_type": "code",
   "execution_count": 6,
   "metadata": {},
   "outputs": [
    {
     "data": {
      "text/plain": [
       "(20478, 34)"
      ]
     },
     "execution_count": 6,
     "metadata": {},
     "output_type": "execute_result"
    }
   ],
   "source": [
    "allcards_df.shape"
   ]
  },
  {
   "cell_type": "code",
   "execution_count": 7,
   "metadata": {},
   "outputs": [
    {
     "data": {
      "text/plain": [
       "Index(['colorIdentity', 'colors', 'convertedManaCost', 'foreignData', 'layout',\n",
       "       'legalities', 'manaCost', 'name', 'printings', 'purchaseUrls',\n",
       "       'rulings', 'scryfallOracleId', 'subtypes', 'supertypes', 'text', 'type',\n",
       "       'types', 'uuid', 'edhrecRank', 'mtgoFoilId', 'mtgoId', 'mtgArenaId',\n",
       "       'power', 'toughness', 'faceConvertedManaCost', 'names', 'side',\n",
       "       'isReserved', 'leadershipSkills', 'loyalty', 'hand', 'life',\n",
       "       'colorIndicator', 'hasNoDeckLimit'],\n",
       "      dtype='object')"
      ]
     },
     "execution_count": 7,
     "metadata": {},
     "output_type": "execute_result"
    }
   ],
   "source": [
    "allcards_df.columns"
   ]
  },
  {
   "cell_type": "markdown",
   "metadata": {},
   "source": [
    "VALUE NULL"
   ]
  },
  {
   "cell_type": "code",
   "execution_count": 8,
   "metadata": {},
   "outputs": [
    {
     "data": {
      "text/plain": [
       "colorIdentity                0\n",
       "colors                       0\n",
       "convertedManaCost            0\n",
       "foreignData                  0\n",
       "layout                       0\n",
       "legalities                   0\n",
       "manaCost                  1208\n",
       "name                         0\n",
       "printings                    0\n",
       "purchaseUrls              2055\n",
       "rulings                      0\n",
       "scryfallOracleId             0\n",
       "subtypes                     0\n",
       "supertypes                   0\n",
       "text                       327\n",
       "type                         0\n",
       "types                        0\n",
       "uuid                         0\n",
       "edhrecRank                1173\n",
       "mtgoFoilId                7856\n",
       "mtgoId                    5515\n",
       "mtgArenaId               17796\n",
       "power                     9731\n",
       "toughness                 9731\n",
       "faceConvertedManaCost    20031\n",
       "names                    19002\n",
       "side                     19985\n",
       "isReserved               19907\n",
       "leadershipSkills         19361\n",
       "loyalty                  20274\n",
       "hand                     20371\n",
       "life                     20371\n",
       "colorIndicator           20380\n",
       "hasNoDeckLimit           20474\n",
       "dtype: int64"
      ]
     },
     "execution_count": 8,
     "metadata": {},
     "output_type": "execute_result"
    }
   ],
   "source": [
    "allcards_df.isna().sum()"
   ]
  },
  {
   "cell_type": "markdown",
   "metadata": {},
   "source": [
    "UNDERSTANDING THE VALUES"
   ]
  },
  {
   "cell_type": "markdown",
   "metadata": {},
   "source": [
    "TEST IF UUID IS IN ALLPRICES"
   ]
  },
  {
   "cell_type": "code",
   "execution_count": null,
   "metadata": {},
   "outputs": [],
   "source": []
  }
 ],
 "metadata": {
  "kernelspec": {
   "display_name": ".venv",
   "language": "python",
   "name": "python3"
  },
  "language_info": {
   "codemirror_mode": {
    "name": "ipython",
    "version": 3
   },
   "file_extension": ".py",
   "mimetype": "text/x-python",
   "name": "python",
   "nbconvert_exporter": "python",
   "pygments_lexer": "ipython3",
   "version": "3.12.1"
  }
 },
 "nbformat": 4,
 "nbformat_minor": 2
}
