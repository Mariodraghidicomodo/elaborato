{
 "cells": [
  {
   "cell_type": "code",
   "execution_count": 1,
   "metadata": {},
   "outputs": [],
   "source": [
    "import numpy as np\n",
    "import matplotlib.pyplot as plt\n",
    "import pandas as pd"
   ]
  },
  {
   "cell_type": "markdown",
   "metadata": {},
   "source": [
    "OPEN FILE"
   ]
  },
  {
   "cell_type": "code",
   "execution_count": 2,
   "metadata": {},
   "outputs": [],
   "source": [
    "#import dataset\n",
    "artwork_cards_df = pd.read_json(\"scryfall-artwork-cards.json\")"
   ]
  },
  {
   "cell_type": "markdown",
   "metadata": {},
   "source": [
    "EDA"
   ]
  },
  {
   "cell_type": "code",
   "execution_count": 3,
   "metadata": {},
   "outputs": [
    {
     "data": {
      "text/html": [
       "<div>\n",
       "<style scoped>\n",
       "    .dataframe tbody tr th:only-of-type {\n",
       "        vertical-align: middle;\n",
       "    }\n",
       "\n",
       "    .dataframe tbody tr th {\n",
       "        vertical-align: top;\n",
       "    }\n",
       "\n",
       "    .dataframe thead th {\n",
       "        text-align: right;\n",
       "    }\n",
       "</style>\n",
       "<table border=\"1\" class=\"dataframe\">\n",
       "  <thead>\n",
       "    <tr style=\"text-align: right;\">\n",
       "      <th></th>\n",
       "      <th>object</th>\n",
       "      <th>id</th>\n",
       "      <th>oracle_id</th>\n",
       "      <th>multiverse_ids</th>\n",
       "      <th>tcgplayer_id</th>\n",
       "      <th>name</th>\n",
       "      <th>lang</th>\n",
       "      <th>released_at</th>\n",
       "      <th>uri</th>\n",
       "      <th>scryfall_uri</th>\n",
       "      <th>...</th>\n",
       "      <th>loyalty</th>\n",
       "      <th>mtgo_id</th>\n",
       "      <th>color_indicator</th>\n",
       "      <th>printed_name</th>\n",
       "      <th>printed_type_line</th>\n",
       "      <th>printed_text</th>\n",
       "      <th>mtgo_foil_id</th>\n",
       "      <th>life_modifier</th>\n",
       "      <th>hand_modifier</th>\n",
       "      <th>variation_of</th>\n",
       "    </tr>\n",
       "  </thead>\n",
       "  <tbody>\n",
       "    <tr>\n",
       "      <th>0</th>\n",
       "      <td>card</td>\n",
       "      <td>dbcdbf7a-9294-47ad-9f93-c16b78c7463a</td>\n",
       "      <td>cd6250ae-9079-4a62-8a70-0d94fbac21bc</td>\n",
       "      <td>[]</td>\n",
       "      <td>200607.0</td>\n",
       "      <td>Earthshaker Giant</td>\n",
       "      <td>en</td>\n",
       "      <td>2019-11-15</td>\n",
       "      <td>https://api.scryfall.com/cards/dbcdbf7a-9294-4...</td>\n",
       "      <td>https://scryfall.com/card/gn2/5/earthshaker-gi...</td>\n",
       "      <td>...</td>\n",
       "      <td>NaN</td>\n",
       "      <td>NaN</td>\n",
       "      <td>NaN</td>\n",
       "      <td>NaN</td>\n",
       "      <td>NaN</td>\n",
       "      <td>NaN</td>\n",
       "      <td>NaN</td>\n",
       "      <td>NaN</td>\n",
       "      <td>NaN</td>\n",
       "      <td>NaN</td>\n",
       "    </tr>\n",
       "    <tr>\n",
       "      <th>1</th>\n",
       "      <td>card</td>\n",
       "      <td>acb3ce9b-ee4f-410a-8db3-e87aeb0a4444</td>\n",
       "      <td>ab0dfae5-b9d4-417b-8a0d-2525ae3a73b9</td>\n",
       "      <td>[]</td>\n",
       "      <td>200606.0</td>\n",
       "      <td>Fiendish Duo</td>\n",
       "      <td>en</td>\n",
       "      <td>2019-11-15</td>\n",
       "      <td>https://api.scryfall.com/cards/acb3ce9b-ee4f-4...</td>\n",
       "      <td>https://scryfall.com/card/gn2/4/fiendish-duo?u...</td>\n",
       "      <td>...</td>\n",
       "      <td>NaN</td>\n",
       "      <td>NaN</td>\n",
       "      <td>NaN</td>\n",
       "      <td>NaN</td>\n",
       "      <td>NaN</td>\n",
       "      <td>NaN</td>\n",
       "      <td>NaN</td>\n",
       "      <td>NaN</td>\n",
       "      <td>NaN</td>\n",
       "      <td>NaN</td>\n",
       "    </tr>\n",
       "    <tr>\n",
       "      <th>2</th>\n",
       "      <td>card</td>\n",
       "      <td>17b2ed72-d0f0-4d8d-bb5e-dce08d157466</td>\n",
       "      <td>7264d3b3-fd46-4ea3-a85d-f0b068c331ad</td>\n",
       "      <td>[]</td>\n",
       "      <td>200605.0</td>\n",
       "      <td>Calculating Lich</td>\n",
       "      <td>en</td>\n",
       "      <td>2019-11-15</td>\n",
       "      <td>https://api.scryfall.com/cards/17b2ed72-d0f0-4...</td>\n",
       "      <td>https://scryfall.com/card/gn2/3/calculating-li...</td>\n",
       "      <td>...</td>\n",
       "      <td>NaN</td>\n",
       "      <td>NaN</td>\n",
       "      <td>NaN</td>\n",
       "      <td>NaN</td>\n",
       "      <td>NaN</td>\n",
       "      <td>NaN</td>\n",
       "      <td>NaN</td>\n",
       "      <td>NaN</td>\n",
       "      <td>NaN</td>\n",
       "      <td>NaN</td>\n",
       "    </tr>\n",
       "    <tr>\n",
       "      <th>3</th>\n",
       "      <td>card</td>\n",
       "      <td>0faa9eea-fbf1-41f7-9def-1ec3d5134a53</td>\n",
       "      <td>e6284fb3-7cf8-4730-b156-10085b70b0e8</td>\n",
       "      <td>[]</td>\n",
       "      <td>200604.0</td>\n",
       "      <td>Sphinx of Enlightenment</td>\n",
       "      <td>en</td>\n",
       "      <td>2019-11-15</td>\n",
       "      <td>https://api.scryfall.com/cards/0faa9eea-fbf1-4...</td>\n",
       "      <td>https://scryfall.com/card/gn2/2/sphinx-of-enli...</td>\n",
       "      <td>...</td>\n",
       "      <td>NaN</td>\n",
       "      <td>NaN</td>\n",
       "      <td>NaN</td>\n",
       "      <td>NaN</td>\n",
       "      <td>NaN</td>\n",
       "      <td>NaN</td>\n",
       "      <td>NaN</td>\n",
       "      <td>NaN</td>\n",
       "      <td>NaN</td>\n",
       "      <td>NaN</td>\n",
       "    </tr>\n",
       "    <tr>\n",
       "      <th>4</th>\n",
       "      <td>card</td>\n",
       "      <td>ecbeac44-9392-4522-8ff5-87079386bd0a</td>\n",
       "      <td>43296f8b-58d9-446e-a538-1c4921552c41</td>\n",
       "      <td>[]</td>\n",
       "      <td>200603.0</td>\n",
       "      <td>Highcliff Felidar</td>\n",
       "      <td>en</td>\n",
       "      <td>2019-11-15</td>\n",
       "      <td>https://api.scryfall.com/cards/ecbeac44-9392-4...</td>\n",
       "      <td>https://scryfall.com/card/gn2/1/highcliff-feli...</td>\n",
       "      <td>...</td>\n",
       "      <td>NaN</td>\n",
       "      <td>NaN</td>\n",
       "      <td>NaN</td>\n",
       "      <td>NaN</td>\n",
       "      <td>NaN</td>\n",
       "      <td>NaN</td>\n",
       "      <td>NaN</td>\n",
       "      <td>NaN</td>\n",
       "      <td>NaN</td>\n",
       "      <td>NaN</td>\n",
       "    </tr>\n",
       "  </tbody>\n",
       "</table>\n",
       "<p>5 rows × 71 columns</p>\n",
       "</div>"
      ],
      "text/plain": [
       "  object                                    id  \\\n",
       "0   card  dbcdbf7a-9294-47ad-9f93-c16b78c7463a   \n",
       "1   card  acb3ce9b-ee4f-410a-8db3-e87aeb0a4444   \n",
       "2   card  17b2ed72-d0f0-4d8d-bb5e-dce08d157466   \n",
       "3   card  0faa9eea-fbf1-41f7-9def-1ec3d5134a53   \n",
       "4   card  ecbeac44-9392-4522-8ff5-87079386bd0a   \n",
       "\n",
       "                              oracle_id multiverse_ids  tcgplayer_id  \\\n",
       "0  cd6250ae-9079-4a62-8a70-0d94fbac21bc             []      200607.0   \n",
       "1  ab0dfae5-b9d4-417b-8a0d-2525ae3a73b9             []      200606.0   \n",
       "2  7264d3b3-fd46-4ea3-a85d-f0b068c331ad             []      200605.0   \n",
       "3  e6284fb3-7cf8-4730-b156-10085b70b0e8             []      200604.0   \n",
       "4  43296f8b-58d9-446e-a538-1c4921552c41             []      200603.0   \n",
       "\n",
       "                      name lang released_at  \\\n",
       "0        Earthshaker Giant   en  2019-11-15   \n",
       "1             Fiendish Duo   en  2019-11-15   \n",
       "2         Calculating Lich   en  2019-11-15   \n",
       "3  Sphinx of Enlightenment   en  2019-11-15   \n",
       "4        Highcliff Felidar   en  2019-11-15   \n",
       "\n",
       "                                                 uri  \\\n",
       "0  https://api.scryfall.com/cards/dbcdbf7a-9294-4...   \n",
       "1  https://api.scryfall.com/cards/acb3ce9b-ee4f-4...   \n",
       "2  https://api.scryfall.com/cards/17b2ed72-d0f0-4...   \n",
       "3  https://api.scryfall.com/cards/0faa9eea-fbf1-4...   \n",
       "4  https://api.scryfall.com/cards/ecbeac44-9392-4...   \n",
       "\n",
       "                                        scryfall_uri  ... loyalty  mtgo_id  \\\n",
       "0  https://scryfall.com/card/gn2/5/earthshaker-gi...  ...     NaN      NaN   \n",
       "1  https://scryfall.com/card/gn2/4/fiendish-duo?u...  ...     NaN      NaN   \n",
       "2  https://scryfall.com/card/gn2/3/calculating-li...  ...     NaN      NaN   \n",
       "3  https://scryfall.com/card/gn2/2/sphinx-of-enli...  ...     NaN      NaN   \n",
       "4  https://scryfall.com/card/gn2/1/highcliff-feli...  ...     NaN      NaN   \n",
       "\n",
       "  color_indicator printed_name  printed_type_line printed_text mtgo_foil_id  \\\n",
       "0             NaN          NaN                NaN          NaN          NaN   \n",
       "1             NaN          NaN                NaN          NaN          NaN   \n",
       "2             NaN          NaN                NaN          NaN          NaN   \n",
       "3             NaN          NaN                NaN          NaN          NaN   \n",
       "4             NaN          NaN                NaN          NaN          NaN   \n",
       "\n",
       "  life_modifier hand_modifier variation_of  \n",
       "0           NaN           NaN          NaN  \n",
       "1           NaN           NaN          NaN  \n",
       "2           NaN           NaN          NaN  \n",
       "3           NaN           NaN          NaN  \n",
       "4           NaN           NaN          NaN  \n",
       "\n",
       "[5 rows x 71 columns]"
      ]
     },
     "execution_count": 3,
     "metadata": {},
     "output_type": "execute_result"
    }
   ],
   "source": [
    "artwork_cards_df.head(5)"
   ]
  },
  {
   "cell_type": "code",
   "execution_count": 4,
   "metadata": {},
   "outputs": [
    {
     "name": "stdout",
     "output_type": "stream",
     "text": [
      "<class 'pandas.core.frame.DataFrame'>\n",
      "RangeIndex: 25292 entries, 0 to 25291\n",
      "Data columns (total 71 columns):\n",
      " #   Column             Non-Null Count  Dtype         \n",
      "---  ------             --------------  -----         \n",
      " 0   object             25292 non-null  object        \n",
      " 1   id                 25292 non-null  object        \n",
      " 2   oracle_id          25292 non-null  object        \n",
      " 3   multiverse_ids     25292 non-null  object        \n",
      " 4   tcgplayer_id       24755 non-null  float64       \n",
      " 5   name               25292 non-null  object        \n",
      " 6   lang               25292 non-null  object        \n",
      " 7   released_at        25292 non-null  datetime64[ns]\n",
      " 8   uri                25292 non-null  object        \n",
      " 9   scryfall_uri       25292 non-null  object        \n",
      " 10  layout             25292 non-null  object        \n",
      " 11  highres_image      25292 non-null  bool          \n",
      " 12  image_uris         25095 non-null  object        \n",
      " 13  mana_cost          25095 non-null  object        \n",
      " 14  cmc                25292 non-null  float64       \n",
      " 15  type_line          25292 non-null  object        \n",
      " 16  oracle_text        24920 non-null  object        \n",
      " 17  power              12334 non-null  object        \n",
      " 18  toughness          12334 non-null  object        \n",
      " 19  colors             25095 non-null  object        \n",
      " 20  color_identity     25292 non-null  object        \n",
      " 21  legalities         25292 non-null  object        \n",
      " 22  games              25292 non-null  object        \n",
      " 23  reserved           25292 non-null  bool          \n",
      " 24  foil               25292 non-null  bool          \n",
      " 25  nonfoil            25292 non-null  bool          \n",
      " 26  oversized          25292 non-null  bool          \n",
      " 27  promo              25292 non-null  bool          \n",
      " 28  reprint            25292 non-null  bool          \n",
      " 29  variation          25292 non-null  bool          \n",
      " 30  set                25292 non-null  object        \n",
      " 31  set_name           25292 non-null  object        \n",
      " 32  set_type           25292 non-null  object        \n",
      " 33  set_uri            25292 non-null  object        \n",
      " 34  set_search_uri     25292 non-null  object        \n",
      " 35  scryfall_set_uri   25292 non-null  object        \n",
      " 36  rulings_uri        25292 non-null  object        \n",
      " 37  prints_search_uri  25292 non-null  object        \n",
      " 38  collector_number   25292 non-null  object        \n",
      " 39  digital            25292 non-null  bool          \n",
      " 40  rarity             25292 non-null  object        \n",
      " 41  flavor_text        15050 non-null  object        \n",
      " 42  card_back_id       25292 non-null  object        \n",
      " 43  artist             25292 non-null  object        \n",
      " 44  artist_ids         25291 non-null  object        \n",
      " 45  illustration_id    25095 non-null  object        \n",
      " 46  border_color       25292 non-null  object        \n",
      " 47  frame              25292 non-null  object        \n",
      " 48  full_art           25292 non-null  bool          \n",
      " 49  textless           25292 non-null  bool          \n",
      " 50  booster            25292 non-null  bool          \n",
      " 51  story_spotlight    25292 non-null  bool          \n",
      " 52  related_uris       25292 non-null  object        \n",
      " 53  edhrec_rank        22710 non-null  float64       \n",
      " 54  watermark          2736 non-null   object        \n",
      " 55  frame_effects      762 non-null    object        \n",
      " 56  card_faces         372 non-null    object        \n",
      " 57  preview            1121 non-null   object        \n",
      " 58  arena_id           3280 non-null   float64       \n",
      " 59  all_parts          1695 non-null   object        \n",
      " 60  promo_types        1648 non-null   object        \n",
      " 61  loyalty            316 non-null    object        \n",
      " 62  mtgo_id            19521 non-null  float64       \n",
      " 63  color_indicator    31 non-null     object        \n",
      " 64  printed_name       60 non-null     object        \n",
      " 65  printed_type_line  42 non-null     object        \n",
      " 66  printed_text       42 non-null     object        \n",
      " 67  mtgo_foil_id       16812 non-null  float64       \n",
      " 68  life_modifier      117 non-null    float64       \n",
      " 69  hand_modifier      117 non-null    float64       \n",
      " 70  variation_of       10 non-null     object        \n",
      "dtypes: bool(13), datetime64[ns](1), float64(8), object(49)\n",
      "memory usage: 11.5+ MB\n"
     ]
    }
   ],
   "source": [
    "artwork_cards_df.info()"
   ]
  },
  {
   "cell_type": "code",
   "execution_count": 5,
   "metadata": {},
   "outputs": [],
   "source": [
    "#describe non ci provo\n",
    "#artwork_cards_df.describe().T"
   ]
  },
  {
   "cell_type": "code",
   "execution_count": 6,
   "metadata": {},
   "outputs": [
    {
     "data": {
      "text/plain": [
       "(25292, 71)"
      ]
     },
     "execution_count": 6,
     "metadata": {},
     "output_type": "execute_result"
    }
   ],
   "source": [
    "artwork_cards_df.shape"
   ]
  },
  {
   "cell_type": "code",
   "execution_count": 7,
   "metadata": {},
   "outputs": [
    {
     "data": {
      "text/plain": [
       "Index(['object', 'id', 'oracle_id', 'multiverse_ids', 'tcgplayer_id', 'name',\n",
       "       'lang', 'released_at', 'uri', 'scryfall_uri', 'layout', 'highres_image',\n",
       "       'image_uris', 'mana_cost', 'cmc', 'type_line', 'oracle_text', 'power',\n",
       "       'toughness', 'colors', 'color_identity', 'legalities', 'games',\n",
       "       'reserved', 'foil', 'nonfoil', 'oversized', 'promo', 'reprint',\n",
       "       'variation', 'set', 'set_name', 'set_type', 'set_uri', 'set_search_uri',\n",
       "       'scryfall_set_uri', 'rulings_uri', 'prints_search_uri',\n",
       "       'collector_number', 'digital', 'rarity', 'flavor_text', 'card_back_id',\n",
       "       'artist', 'artist_ids', 'illustration_id', 'border_color', 'frame',\n",
       "       'full_art', 'textless', 'booster', 'story_spotlight', 'related_uris',\n",
       "       'edhrec_rank', 'watermark', 'frame_effects', 'card_faces', 'preview',\n",
       "       'arena_id', 'all_parts', 'promo_types', 'loyalty', 'mtgo_id',\n",
       "       'color_indicator', 'printed_name', 'printed_type_line', 'printed_text',\n",
       "       'mtgo_foil_id', 'life_modifier', 'hand_modifier', 'variation_of'],\n",
       "      dtype='object')"
      ]
     },
     "execution_count": 7,
     "metadata": {},
     "output_type": "execute_result"
    }
   ],
   "source": [
    "artwork_cards_df.columns"
   ]
  },
  {
   "cell_type": "markdown",
   "metadata": {},
   "source": [
    "VALUE NULL"
   ]
  },
  {
   "cell_type": "code",
   "execution_count": 8,
   "metadata": {},
   "outputs": [
    {
     "data": {
      "text/plain": [
       "object                0\n",
       "id                    0\n",
       "oracle_id             0\n",
       "multiverse_ids        0\n",
       "tcgplayer_id        537\n",
       "                  ...  \n",
       "printed_text      25250\n",
       "mtgo_foil_id       8480\n",
       "life_modifier     25175\n",
       "hand_modifier     25175\n",
       "variation_of      25282\n",
       "Length: 71, dtype: int64"
      ]
     },
     "execution_count": 8,
     "metadata": {},
     "output_type": "execute_result"
    }
   ],
   "source": [
    "artwork_cards_df.isna().sum()"
   ]
  },
  {
   "cell_type": "markdown",
   "metadata": {},
   "source": [
    "CAPIRE ALCUNI VALORI"
   ]
  },
  {
   "cell_type": "code",
   "execution_count": null,
   "metadata": {},
   "outputs": [],
   "source": []
  }
 ],
 "metadata": {
  "kernelspec": {
   "display_name": ".venv",
   "language": "python",
   "name": "python3"
  },
  "language_info": {
   "codemirror_mode": {
    "name": "ipython",
    "version": 3
   },
   "file_extension": ".py",
   "mimetype": "text/x-python",
   "name": "python",
   "nbconvert_exporter": "python",
   "pygments_lexer": "ipython3",
   "version": "3.12.1"
  }
 },
 "nbformat": 4,
 "nbformat_minor": 2
}
