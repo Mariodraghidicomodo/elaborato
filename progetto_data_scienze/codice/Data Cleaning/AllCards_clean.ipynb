{
 "cells": [
  {
   "cell_type": "code",
   "execution_count": 1,
   "metadata": {},
   "outputs": [],
   "source": [
    "#IMPORTANTE\n",
    "import os\n",
    "os.chdir('C:/Users/elped/OneDrive/Desktop/git_vs_code/prova-elab-ing/progetto_data_scienze') #pycache"
   ]
  },
  {
   "cell_type": "code",
   "execution_count": 2,
   "metadata": {},
   "outputs": [],
   "source": [
    "import numpy as np\n",
    "import matplotlib.pyplot as plt\n",
    "import pandas as pd\n",
    "from codice.EDA_data.open_file import allcards_df"
   ]
  },
  {
   "cell_type": "code",
   "execution_count": 3,
   "metadata": {},
   "outputs": [],
   "source": [
    "allcards_df_bu = allcards_df"
   ]
  },
  {
   "cell_type": "markdown",
   "metadata": {},
   "source": [
    "VALUE NULL"
   ]
  },
  {
   "cell_type": "code",
   "execution_count": 4,
   "metadata": {},
   "outputs": [
    {
     "data": {
      "text/html": [
       "<div>\n",
       "<style scoped>\n",
       "    .dataframe tbody tr th:only-of-type {\n",
       "        vertical-align: middle;\n",
       "    }\n",
       "\n",
       "    .dataframe tbody tr th {\n",
       "        vertical-align: top;\n",
       "    }\n",
       "\n",
       "    .dataframe thead th {\n",
       "        text-align: right;\n",
       "    }\n",
       "</style>\n",
       "<table border=\"1\" class=\"dataframe\">\n",
       "  <thead>\n",
       "    <tr style=\"text-align: right;\">\n",
       "      <th></th>\n",
       "      <th>colorIdentity</th>\n",
       "      <th>colors</th>\n",
       "      <th>convertedManaCost</th>\n",
       "      <th>foreignData</th>\n",
       "      <th>layout</th>\n",
       "      <th>legalities</th>\n",
       "      <th>manaCost</th>\n",
       "      <th>name</th>\n",
       "      <th>printings</th>\n",
       "      <th>purchaseUrls</th>\n",
       "      <th>...</th>\n",
       "      <th>faceConvertedManaCost</th>\n",
       "      <th>names</th>\n",
       "      <th>side</th>\n",
       "      <th>isReserved</th>\n",
       "      <th>leadershipSkills</th>\n",
       "      <th>loyalty</th>\n",
       "      <th>hand</th>\n",
       "      <th>life</th>\n",
       "      <th>colorIndicator</th>\n",
       "      <th>hasNoDeckLimit</th>\n",
       "    </tr>\n",
       "  </thead>\n",
       "  <tbody>\n",
       "    <tr>\n",
       "      <th>\"Ach! Hans, Run!\"</th>\n",
       "      <td>[G, R]</td>\n",
       "      <td>[G, R]</td>\n",
       "      <td>6.0</td>\n",
       "      <td>[]</td>\n",
       "      <td>normal</td>\n",
       "      <td>{}</td>\n",
       "      <td>{2}{R}{R}{G}{G}</td>\n",
       "      <td>\"Ach! Hans, Run!\"</td>\n",
       "      <td>[UNH]</td>\n",
       "      <td>{'cardmarket': 'https://mtgjson.com/links/6227...</td>\n",
       "      <td>...</td>\n",
       "      <td>NaN</td>\n",
       "      <td>NaN</td>\n",
       "      <td>NaN</td>\n",
       "      <td>NaN</td>\n",
       "      <td>NaN</td>\n",
       "      <td>NaN</td>\n",
       "      <td>NaN</td>\n",
       "      <td>NaN</td>\n",
       "      <td>NaN</td>\n",
       "      <td>NaN</td>\n",
       "    </tr>\n",
       "    <tr>\n",
       "      <th>\"Rumors of My Death . . .\"</th>\n",
       "      <td>[B]</td>\n",
       "      <td>[B]</td>\n",
       "      <td>3.0</td>\n",
       "      <td>[]</td>\n",
       "      <td>normal</td>\n",
       "      <td>{}</td>\n",
       "      <td>{2}{B}</td>\n",
       "      <td>\"Rumors of My Death . . .\"</td>\n",
       "      <td>[UST]</td>\n",
       "      <td>{'cardmarket': 'https://mtgjson.com/links/371e...</td>\n",
       "      <td>...</td>\n",
       "      <td>NaN</td>\n",
       "      <td>NaN</td>\n",
       "      <td>NaN</td>\n",
       "      <td>NaN</td>\n",
       "      <td>NaN</td>\n",
       "      <td>NaN</td>\n",
       "      <td>NaN</td>\n",
       "      <td>NaN</td>\n",
       "      <td>NaN</td>\n",
       "      <td>NaN</td>\n",
       "    </tr>\n",
       "    <tr>\n",
       "      <th>1996 World Champion</th>\n",
       "      <td>[B, G, R, U, W]</td>\n",
       "      <td>[B, G, R, U, W]</td>\n",
       "      <td>5.0</td>\n",
       "      <td>[]</td>\n",
       "      <td>normal</td>\n",
       "      <td>{}</td>\n",
       "      <td>{W}{U}{B}{R}{G}</td>\n",
       "      <td>1996 World Champion</td>\n",
       "      <td>[PCEL]</td>\n",
       "      <td>NaN</td>\n",
       "      <td>...</td>\n",
       "      <td>NaN</td>\n",
       "      <td>NaN</td>\n",
       "      <td>NaN</td>\n",
       "      <td>NaN</td>\n",
       "      <td>NaN</td>\n",
       "      <td>NaN</td>\n",
       "      <td>NaN</td>\n",
       "      <td>NaN</td>\n",
       "      <td>NaN</td>\n",
       "      <td>NaN</td>\n",
       "    </tr>\n",
       "    <tr>\n",
       "      <th>A Display of My Dark Power</th>\n",
       "      <td>[]</td>\n",
       "      <td>[]</td>\n",
       "      <td>0.0</td>\n",
       "      <td>[]</td>\n",
       "      <td>scheme</td>\n",
       "      <td>{}</td>\n",
       "      <td>NaN</td>\n",
       "      <td>A Display of My Dark Power</td>\n",
       "      <td>[OARC]</td>\n",
       "      <td>NaN</td>\n",
       "      <td>...</td>\n",
       "      <td>NaN</td>\n",
       "      <td>NaN</td>\n",
       "      <td>NaN</td>\n",
       "      <td>NaN</td>\n",
       "      <td>NaN</td>\n",
       "      <td>NaN</td>\n",
       "      <td>NaN</td>\n",
       "      <td>NaN</td>\n",
       "      <td>NaN</td>\n",
       "      <td>NaN</td>\n",
       "    </tr>\n",
       "    <tr>\n",
       "      <th>A Good Thing</th>\n",
       "      <td>[B, W]</td>\n",
       "      <td>[B, W]</td>\n",
       "      <td>6.0</td>\n",
       "      <td>[]</td>\n",
       "      <td>normal</td>\n",
       "      <td>{}</td>\n",
       "      <td>{4}{W}{B}</td>\n",
       "      <td>A Good Thing</td>\n",
       "      <td>[MYSTPT]</td>\n",
       "      <td>NaN</td>\n",
       "      <td>...</td>\n",
       "      <td>NaN</td>\n",
       "      <td>NaN</td>\n",
       "      <td>NaN</td>\n",
       "      <td>NaN</td>\n",
       "      <td>NaN</td>\n",
       "      <td>NaN</td>\n",
       "      <td>NaN</td>\n",
       "      <td>NaN</td>\n",
       "      <td>NaN</td>\n",
       "      <td>NaN</td>\n",
       "    </tr>\n",
       "  </tbody>\n",
       "</table>\n",
       "<p>5 rows × 34 columns</p>\n",
       "</div>"
      ],
      "text/plain": [
       "                              colorIdentity           colors  \\\n",
       "\"Ach! Hans, Run!\"                    [G, R]           [G, R]   \n",
       "\"Rumors of My Death . . .\"              [B]              [B]   \n",
       "1996 World Champion         [B, G, R, U, W]  [B, G, R, U, W]   \n",
       "A Display of My Dark Power               []               []   \n",
       "A Good Thing                         [B, W]           [B, W]   \n",
       "\n",
       "                           convertedManaCost foreignData  layout legalities  \\\n",
       "\"Ach! Hans, Run!\"                        6.0          []  normal         {}   \n",
       "\"Rumors of My Death . . .\"               3.0          []  normal         {}   \n",
       "1996 World Champion                      5.0          []  normal         {}   \n",
       "A Display of My Dark Power               0.0          []  scheme         {}   \n",
       "A Good Thing                             6.0          []  normal         {}   \n",
       "\n",
       "                                   manaCost                        name  \\\n",
       "\"Ach! Hans, Run!\"           {2}{R}{R}{G}{G}           \"Ach! Hans, Run!\"   \n",
       "\"Rumors of My Death . . .\"           {2}{B}  \"Rumors of My Death . . .\"   \n",
       "1996 World Champion         {W}{U}{B}{R}{G}         1996 World Champion   \n",
       "A Display of My Dark Power              NaN  A Display of My Dark Power   \n",
       "A Good Thing                      {4}{W}{B}                A Good Thing   \n",
       "\n",
       "                           printings  \\\n",
       "\"Ach! Hans, Run!\"              [UNH]   \n",
       "\"Rumors of My Death . . .\"     [UST]   \n",
       "1996 World Champion           [PCEL]   \n",
       "A Display of My Dark Power    [OARC]   \n",
       "A Good Thing                [MYSTPT]   \n",
       "\n",
       "                                                                 purchaseUrls  \\\n",
       "\"Ach! Hans, Run!\"           {'cardmarket': 'https://mtgjson.com/links/6227...   \n",
       "\"Rumors of My Death . . .\"  {'cardmarket': 'https://mtgjson.com/links/371e...   \n",
       "1996 World Champion                                                       NaN   \n",
       "A Display of My Dark Power                                                NaN   \n",
       "A Good Thing                                                              NaN   \n",
       "\n",
       "                            ... faceConvertedManaCost names side isReserved  \\\n",
       "\"Ach! Hans, Run!\"           ...                   NaN   NaN  NaN        NaN   \n",
       "\"Rumors of My Death . . .\"  ...                   NaN   NaN  NaN        NaN   \n",
       "1996 World Champion         ...                   NaN   NaN  NaN        NaN   \n",
       "A Display of My Dark Power  ...                   NaN   NaN  NaN        NaN   \n",
       "A Good Thing                ...                   NaN   NaN  NaN        NaN   \n",
       "\n",
       "                           leadershipSkills loyalty hand life colorIndicator  \\\n",
       "\"Ach! Hans, Run!\"                       NaN     NaN  NaN  NaN            NaN   \n",
       "\"Rumors of My Death . . .\"              NaN     NaN  NaN  NaN            NaN   \n",
       "1996 World Champion                     NaN     NaN  NaN  NaN            NaN   \n",
       "A Display of My Dark Power              NaN     NaN  NaN  NaN            NaN   \n",
       "A Good Thing                            NaN     NaN  NaN  NaN            NaN   \n",
       "\n",
       "                           hasNoDeckLimit  \n",
       "\"Ach! Hans, Run!\"                     NaN  \n",
       "\"Rumors of My Death . . .\"            NaN  \n",
       "1996 World Champion                   NaN  \n",
       "A Display of My Dark Power            NaN  \n",
       "A Good Thing                          NaN  \n",
       "\n",
       "[5 rows x 34 columns]"
      ]
     },
     "execution_count": 4,
     "metadata": {},
     "output_type": "execute_result"
    }
   ],
   "source": [
    "allcards_df.head(5)"
   ]
  },
  {
   "cell_type": "code",
   "execution_count": 5,
   "metadata": {},
   "outputs": [
    {
     "data": {
      "text/plain": [
       "colorIdentity                0\n",
       "colors                       0\n",
       "convertedManaCost            0\n",
       "foreignData                  0\n",
       "layout                       0\n",
       "legalities                   0\n",
       "manaCost                  1208\n",
       "name                         0\n",
       "printings                    0\n",
       "purchaseUrls              2055\n",
       "rulings                      0\n",
       "scryfallOracleId             0\n",
       "subtypes                     0\n",
       "supertypes                   0\n",
       "text                       327\n",
       "type                         0\n",
       "types                        0\n",
       "uuid                         0\n",
       "edhrecRank                1173\n",
       "mtgoFoilId                7856\n",
       "mtgoId                    5515\n",
       "mtgArenaId               17796\n",
       "power                     9731\n",
       "toughness                 9731\n",
       "faceConvertedManaCost    20031\n",
       "names                    19002\n",
       "side                     19985\n",
       "isReserved               19907\n",
       "leadershipSkills         19361\n",
       "loyalty                  20274\n",
       "hand                     20371\n",
       "life                     20371\n",
       "colorIndicator           20380\n",
       "hasNoDeckLimit           20474\n",
       "dtype: int64"
      ]
     },
     "execution_count": 5,
     "metadata": {},
     "output_type": "execute_result"
    }
   ],
   "source": [
    "allcards_df.isna().sum()"
   ]
  },
  {
   "cell_type": "markdown",
   "metadata": {},
   "source": [
    "REMOVE THE COLUMN HASNODECKLIMIT BECOUSE IS USELESS"
   ]
  },
  {
   "cell_type": "code",
   "execution_count": 6,
   "metadata": {},
   "outputs": [],
   "source": [
    "allcards_df.drop('hasNoDeckLimit',axis=1,inplace=True)"
   ]
  },
  {
   "cell_type": "markdown",
   "metadata": {},
   "source": [
    "REMOVE MTGARENAID -> USEFULL (id for the pc game, i want to work only with paper version)"
   ]
  },
  {
   "cell_type": "code",
   "execution_count": 7,
   "metadata": {},
   "outputs": [],
   "source": [
    "allcards_df.drop('mtgArenaId',axis=1, inplace=True)"
   ]
  },
  {
   "cell_type": "markdown",
   "metadata": {},
   "source": [
    "ISRESERVED REPLACE NAN WITH FALSE"
   ]
  },
  {
   "cell_type": "code",
   "execution_count": 8,
   "metadata": {},
   "outputs": [],
   "source": [
    "#Revserved -> change Nan with false\n",
    "allcards_df.isReserved.fillna('false',inplace=True)"
   ]
  },
  {
   "cell_type": "markdown",
   "metadata": {},
   "source": [
    "MTGOLD REMOVE ->magic online"
   ]
  },
  {
   "cell_type": "code",
   "execution_count": 9,
   "metadata": {},
   "outputs": [],
   "source": [
    "allcards_df.drop('mtgoId', axis = 1, inplace=True)"
   ]
  },
  {
   "cell_type": "markdown",
   "metadata": {},
   "source": [
    "MTGOFOILID REMOVE -> magic online id foil card"
   ]
  },
  {
   "cell_type": "code",
   "execution_count": 10,
   "metadata": {},
   "outputs": [],
   "source": [
    "allcards_df.drop('mtgoFoilId',axis = 1, inplace=True)"
   ]
  },
  {
   "cell_type": "markdown",
   "metadata": {},
   "source": [
    "TEXT -> nan to no text"
   ]
  },
  {
   "cell_type": "code",
   "execution_count": 11,
   "metadata": {},
   "outputs": [],
   "source": [
    "allcards_df.text.fillna('no text', inplace=True)"
   ]
  },
  {
   "cell_type": "markdown",
   "metadata": {},
   "source": [
    "EDHRECRANCK -> if nan is not in the rank"
   ]
  },
  {
   "cell_type": "code",
   "execution_count": 12,
   "metadata": {},
   "outputs": [],
   "source": [
    "allcards_df.edhrecRank.fillna('not ranked', inplace=True)"
   ]
  },
  {
   "cell_type": "markdown",
   "metadata": {},
   "source": [
    "POWER\n",
    "TOUGHNESS \n",
    "if they are nan it is mean that the type is not a creature"
   ]
  },
  {
   "cell_type": "code",
   "execution_count": 13,
   "metadata": {},
   "outputs": [
    {
     "name": "stderr",
     "output_type": "stream",
     "text": [
      "C:\\Users\\elped\\AppData\\Local\\Temp\\ipykernel_10620\\3635732685.py:1: FutureWarning: Series.__getitem__ treating keys as positions is deprecated. In a future version, integer keys will always be treated as labels (consistent with DataFrame behavior). To access a value by position, use `ser.iloc[pos]`\n",
      "  type(allcards_df.types[0])\n"
     ]
    },
    {
     "data": {
      "text/plain": [
       "list"
      ]
     },
     "execution_count": 13,
     "metadata": {},
     "output_type": "execute_result"
    }
   ],
   "source": [
    "type(allcards_df.types[0])"
   ]
  },
  {
   "cell_type": "markdown",
   "metadata": {},
   "source": [
    "import pandas as pd\n",
    "\n",
    "\n",
    "df = pd.DataFrame({'fruit': ['apple', 'banana', 'pear', 'kiwi', 'orange']})\n",
    "\n",
    "\n",
    "fruits_to_check = ['apple', 'banana', 'orange']\n",
    "\n",
    "\n",
    "mask = df['fruit'].isin(fruits_to_check)\n",
    "\n",
    "\n",
    "print(df[mask])"
   ]
  },
  {
   "cell_type": "code",
   "execution_count": 14,
   "metadata": {},
   "outputs": [],
   "source": [
    "#test if there is a creatture with power or toughness nan \n",
    "allcards_df[allcards_df.power.isna() & allcards_df.type.str.contains('Creature')]\n",
    "#ok ci sono 3 creature senza dati\n",
    "#ho trovato le carte\n",
    "#B.F.M. (Big Furry Monster)\tlo elimino, sono due carte\n",
    "#Gunk Slug\n",
    "#Squidnapper\n",
    "\n",
    "#allcards_df[allcards_df.name == 'Gunk Slug'].power = 2\n",
    "#allcards_df[allcards_df.name == 'Gunk Slug'].toughness = 3\n",
    "\n",
    "allcards_df.loc[allcards_df[(allcards_df.name == 'Gunk Slug')].index, 'power'] = 2\n",
    "allcards_df.loc[allcards_df[(allcards_df.name == 'Gunk Slug')].index, 'toughness'] = 3\n",
    "\n",
    "\n",
    "allcards_df.loc[allcards_df[(allcards_df.name == 'Squidnapper')].index, 'power'] = 3\n",
    "allcards_df.loc[allcards_df[(allcards_df.name == 'Squidnapper')].index, 'toughness'] = 4\n",
    "\n",
    "allcards_df.drop(['B.F.M. (Big Furry Monster)'], inplace=True)\n",
    "\n",
    "#allcards_df[allcards_df.name == 'B.F.M. (Big Furry Monster)'].index\n",
    "#allcards_df.loc[['B.F.M. (Big Furry Monster)']]"
   ]
  },
  {
   "cell_type": "markdown",
   "metadata": {},
   "source": [
    "PURCHASEURLS CAPIAMO"
   ]
  },
  {
   "cell_type": "code",
   "execution_count": 15,
   "metadata": {},
   "outputs": [],
   "source": [
    "allcards_df.purchaseUrls.iloc[6] #PURTROPPO I LINK NON FUNZIONANO PIù\n",
    "#QUINDI LI RIMUOVO\n",
    "allcards_df.drop('purchaseUrls',axis=1,inplace=True)"
   ]
  },
  {
   "cell_type": "markdown",
   "metadata": {},
   "source": [
    "LEADERSHIPSKILLS CAPIAMO -> The Leadership Skills Data Model describes the properties of formats that a card is legal to be your Commander in play formats that utilize Commanders."
   ]
  },
  {
   "cell_type": "code",
   "execution_count": 16,
   "metadata": {},
   "outputs": [],
   "source": [
    "allcards_df.leadershipSkills.iloc[5260]\n",
    "#rimepio i nan\n",
    "#allcards_df.leadershipSkills.isna().sum()\n",
    "allcards_df.leadershipSkills.iloc[0]\n",
    "#se è nan significa che non puù essere utilizzata nei seguenti formati commander, brawl, oathbreak\n",
    "allcards_df.leadershipSkills.fillna('unusable', inplace=True)"
   ]
  },
  {
   "cell_type": "markdown",
   "metadata": {},
   "source": [
    "COLOR INDICATOR REPLACE OR DELATE"
   ]
  },
  {
   "cell_type": "markdown",
   "metadata": {},
   "source": [
    "The color indicator ({CI_W}, {CI_U}, {CI_B}, {CI_R}, {CI_G}) is a characteristic of an object. It is printed to the left of the type line directly below the illustration. It consists of a circular symbol filled in with typically one but sometimes more colors. A color indicator is usually found on cards without a mana cost that however have to convey color information."
   ]
  },
  {
   "cell_type": "markdown",
   "metadata": {},
   "source": [
    "The color indicator was introduced with Innistrad to define the colors of the back faces of double-faced cards without resorting to characteristic-defining abilities."
   ]
  },
  {
   "cell_type": "code",
   "execution_count": 17,
   "metadata": {},
   "outputs": [],
   "source": [
    "#UNDERSTAND IF COLOR INDICATOR IS RELATED TO DUOBLEFACE O BACKFACE\n",
    "#rimuovo le colonne\n",
    "allcards_df.drop('colorIndicator', axis = 1, inplace=True)"
   ]
  },
  {
   "cell_type": "markdown",
   "metadata": {},
   "source": [
    "HAND"
   ]
  },
  {
   "cell_type": "code",
   "execution_count": 18,
   "metadata": {},
   "outputs": [],
   "source": [
    "allcards_df.drop('hand',axis=1,inplace=True)"
   ]
  },
  {
   "cell_type": "markdown",
   "metadata": {},
   "source": [
    "LIFE"
   ]
  },
  {
   "cell_type": "code",
   "execution_count": 19,
   "metadata": {},
   "outputs": [],
   "source": [
    "allcards_df.drop('life',axis = 1, inplace=True)"
   ]
  },
  {
   "cell_type": "markdown",
   "metadata": {},
   "source": [
    "REMOVE -> non sono ancora sicuro\n",
    "\n",
    "FACECONVERTEDMANACOST\n",
    "\n",
    "NAMES\n",
    "\n",
    "SIDE"
   ]
  },
  {
   "cell_type": "code",
   "execution_count": 20,
   "metadata": {},
   "outputs": [],
   "source": [
    "#faceConvertedManaCost    20030\n",
    "#names                    19001\n",
    "#side                     19984\n",
    "allcards_df.drop(['faceConvertedManaCost','names','side'], axis = 1, inplace=True)"
   ]
  }
 ],
 "metadata": {
  "kernelspec": {
   "display_name": ".venv",
   "language": "python",
   "name": "python3"
  },
  "language_info": {
   "codemirror_mode": {
    "name": "ipython",
    "version": 3
   },
   "file_extension": ".py",
   "mimetype": "text/x-python",
   "name": "python",
   "nbconvert_exporter": "python",
   "pygments_lexer": "ipython3",
   "version": "3.12.1"
  }
 },
 "nbformat": 4,
 "nbformat_minor": 2
}
