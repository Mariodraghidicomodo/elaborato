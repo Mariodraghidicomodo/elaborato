{
 "cells": [
  {
   "cell_type": "code",
   "execution_count": 1,
   "metadata": {},
   "outputs": [],
   "source": [
    "import os\n",
    "os.chdir('C:/Users/elped/OneDrive/Desktop/git_vs_code/prova-elab-ing/progetto_data_scienze') #pycache"
   ]
  },
  {
   "cell_type": "code",
   "execution_count": 2,
   "metadata": {},
   "outputs": [],
   "source": [
    "import numpy as np\n",
    "import matplotlib.pyplot as plt\n",
    "import pandas as pd\n",
    "from codice.EDA_data.open_file import allprices_df"
   ]
  },
  {
   "cell_type": "code",
   "execution_count": 3,
   "metadata": {},
   "outputs": [],
   "source": [
    "allprices_df_bu = allprices_df"
   ]
  },
  {
   "cell_type": "markdown",
   "metadata": {},
   "source": [
    "VALUE NULL"
   ]
  },
  {
   "cell_type": "code",
   "execution_count": 4,
   "metadata": {},
   "outputs": [
    {
     "data": {
      "text/html": [
       "<div>\n",
       "<style scoped>\n",
       "    .dataframe tbody tr th:only-of-type {\n",
       "        vertical-align: middle;\n",
       "    }\n",
       "\n",
       "    .dataframe tbody tr th {\n",
       "        vertical-align: top;\n",
       "    }\n",
       "\n",
       "    .dataframe thead th {\n",
       "        text-align: right;\n",
       "    }\n",
       "</style>\n",
       "<table border=\"1\" class=\"dataframe\">\n",
       "  <thead>\n",
       "    <tr style=\"text-align: right;\">\n",
       "      <th></th>\n",
       "      <th>prices</th>\n",
       "    </tr>\n",
       "  </thead>\n",
       "  <tbody>\n",
       "    <tr>\n",
       "      <th>000031ff-f095-52c5-98a1-35bdb5e18a5b</th>\n",
       "      <td>{'mtgo': {}, 'mtgoFoil': {}, 'paper': {}, 'pap...</td>\n",
       "    </tr>\n",
       "    <tr>\n",
       "      <th>0001fc69-3a61-51e3-aa17-19abb29803f2</th>\n",
       "      <td>{'mtgo': {}, 'mtgoFoil': {}, 'paper': {}, 'pap...</td>\n",
       "    </tr>\n",
       "    <tr>\n",
       "      <th>00028782-6ec2-54fe-8633-2c906d8f1076</th>\n",
       "      <td>{'mtgo': {}, 'mtgoFoil': {}, 'paper': {'2019-1...</td>\n",
       "    </tr>\n",
       "    <tr>\n",
       "      <th>00040b50-3b84-5cea-b663-70038b87fa08</th>\n",
       "      <td>{'mtgo': {'2019-11-10': 0.01}, 'mtgoFoil': {'2...</td>\n",
       "    </tr>\n",
       "    <tr>\n",
       "      <th>000473fc-c380-58ef-a52e-c745b880b0c2</th>\n",
       "      <td>{'mtgo': {}, 'mtgoFoil': {}, 'paper': {}, 'pap...</td>\n",
       "    </tr>\n",
       "  </tbody>\n",
       "</table>\n",
       "</div>"
      ],
      "text/plain": [
       "                                                                                 prices\n",
       "000031ff-f095-52c5-98a1-35bdb5e18a5b  {'mtgo': {}, 'mtgoFoil': {}, 'paper': {}, 'pap...\n",
       "0001fc69-3a61-51e3-aa17-19abb29803f2  {'mtgo': {}, 'mtgoFoil': {}, 'paper': {}, 'pap...\n",
       "00028782-6ec2-54fe-8633-2c906d8f1076  {'mtgo': {}, 'mtgoFoil': {}, 'paper': {'2019-1...\n",
       "00040b50-3b84-5cea-b663-70038b87fa08  {'mtgo': {'2019-11-10': 0.01}, 'mtgoFoil': {'2...\n",
       "000473fc-c380-58ef-a52e-c745b880b0c2  {'mtgo': {}, 'mtgoFoil': {}, 'paper': {}, 'pap..."
      ]
     },
     "execution_count": 4,
     "metadata": {},
     "output_type": "execute_result"
    }
   ],
   "source": [
    "allprices_df.head(5)"
   ]
  },
  {
   "cell_type": "code",
   "execution_count": 5,
   "metadata": {},
   "outputs": [
    {
     "data": {
      "text/plain": [
       "prices    0\n",
       "dtype: int64"
      ]
     },
     "execution_count": 5,
     "metadata": {},
     "output_type": "execute_result"
    }
   ],
   "source": [
    "allprices_df.isna().sum()"
   ]
  },
  {
   "cell_type": "markdown",
   "metadata": {},
   "source": [
    "#NO NULL VALUE"
   ]
  }
 ],
 "metadata": {
  "kernelspec": {
   "display_name": ".venv",
   "language": "python",
   "name": "python3"
  },
  "language_info": {
   "codemirror_mode": {
    "name": "ipython",
    "version": 3
   },
   "file_extension": ".py",
   "mimetype": "text/x-python",
   "name": "python",
   "nbconvert_exporter": "python",
   "pygments_lexer": "ipython3",
   "version": "3.12.1"
  }
 },
 "nbformat": 4,
 "nbformat_minor": 2
}
